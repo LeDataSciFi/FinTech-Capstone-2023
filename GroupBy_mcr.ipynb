{
 "cells": [
  {
   "cell_type": "code",
   "execution_count": 1,
   "id": "0b3213f8-6280-44d3-9a6d-a20abb71c771",
   "metadata": {},
   "outputs": [],
   "source": [
    "import pandas as pd \n",
    "import pandas_profiling\n",
    "from pandas_profiling import ProfileReport"
   ]
  },
  {
   "cell_type": "code",
   "execution_count": 2,
   "id": "fa6bcfd5-2716-4bdd-8386-0762ff82d35b",
   "metadata": {},
   "outputs": [],
   "source": [
    "url = \"https://github.com/SebastianStoneham/seb/raw/main/lei_3Y4U8VZURTYWI1W2K376-QOT5WN9RBKQTFRVKEV31_state_CA.csv\"\n",
    "hmda_df = pd.read_csv(url)  "
   ]
  },
  {
   "cell_type": "markdown",
   "id": "7bb45ad7-5d59-488d-bb93-e88fd1a0e891",
   "metadata": {},
   "source": [
    "### applicant income variable\n",
    "\n",
    "aggregates the applicant income data by grouping on the lei and census_tract columns. It calculates the sum, mean and median of the applicant income.\n",
    "- FFIEC Median family income in dollars for the MSA/MD in which the tract is located (adjusted annually by FFIEC)"
   ]
  },
  {
   "cell_type": "code",
   "execution_count": 3,
   "id": "70afa3c1-46a4-41d3-927a-22aba6a7ee37",
   "metadata": {},
   "outputs": [
    {
     "name": "stdout",
     "output_type": "stream",
     "text": [
      "                                   income_sum  income_mean  income_median\n",
      "lei                  census_tract                                        \n",
      "3Y4U8VZURTYWI1W2K376 6001400100        125600     125600.0       125600.0\n",
      "                     6001400700        125600     125600.0       125600.0\n",
      "                     6001401000        125600     125600.0       125600.0\n",
      "                     6001403800        125600     125600.0       125600.0\n",
      "                     6001403900        125600     125600.0       125600.0\n",
      "...                                       ...          ...            ...\n",
      "QOT5WN9RBKQTFRVKEV31 6115040400         66800      66800.0        66800.0\n",
      "                     6115040500         66800      66800.0        66800.0\n",
      "                     6115040600        200400      66800.0        66800.0\n",
      "                     6115040700        334000      66800.0        66800.0\n",
      "                     6115041100         66800      66800.0        66800.0\n",
      "\n",
      "[5839 rows x 3 columns]\n"
     ]
    }
   ],
   "source": [
    "income_agg = hmda_df.groupby(['lei', 'census_tract'])['ffiec_msa_md_median_family_income'].agg(\n",
    "income_sum='sum',\n",
    "income_mean='mean',\n",
    "income_median='median'\n",
    ")\n",
    "print(income_agg)"
   ]
  },
  {
   "cell_type": "markdown",
   "id": "75c75f1b-2d35-4dac-8afd-c5d99b9e4be7",
   "metadata": {},
   "source": [
    "### Aggregate applicant_ethnicity\n",
    "aggregates the applicant ethnicity data by grouping on the lei and census_tract columns. It calculates the percentage of applicants who are of ethnicity 2.\n"
   ]
  },
  {
   "cell_type": "code",
   "execution_count": 13,
   "id": "7ee98ec1-6764-4f2c-b459-7c3cbad45b0c",
   "metadata": {},
   "outputs": [
    {
     "name": "stdout",
     "output_type": "stream",
     "text": [
      "                                   hispanic_percent  mexican_percent  \\\n",
      "lei                  census_tract                                      \n",
      "3Y4U8VZURTYWI1W2K376 6001400100                 0.0              0.0   \n",
      "                     6001400700                 0.0              0.0   \n",
      "                     6001401000                 0.0              0.0   \n",
      "                     6001403800                 0.0              0.0   \n",
      "                     6001403900                 0.0              0.0   \n",
      "...                                             ...              ...   \n",
      "QOT5WN9RBKQTFRVKEV31 6115040400                 0.0              0.0   \n",
      "                     6115040500                 0.0            100.0   \n",
      "                     6115040600                 0.0              0.0   \n",
      "                     6115040700                 0.0              0.0   \n",
      "                     6115041100                 0.0              0.0   \n",
      "\n",
      "                                   puerto_percent  cuban_percent  \\\n",
      "lei                  census_tract                                  \n",
      "3Y4U8VZURTYWI1W2K376 6001400100               0.0            0.0   \n",
      "                     6001400700               0.0            0.0   \n",
      "                     6001401000               0.0            0.0   \n",
      "                     6001403800               0.0            0.0   \n",
      "                     6001403900               0.0            0.0   \n",
      "...                                           ...            ...   \n",
      "QOT5WN9RBKQTFRVKEV31 6115040400               0.0            0.0   \n",
      "                     6115040500               0.0            0.0   \n",
      "                     6115040600               0.0            0.0   \n",
      "                     6115040700               0.0            0.0   \n",
      "                     6115041100               0.0            0.0   \n",
      "\n",
      "                                   otherhisp_percent  nothisp_percent  \\\n",
      "lei                  census_tract                                       \n",
      "3Y4U8VZURTYWI1W2K376 6001400100                  0.0         0.000000   \n",
      "                     6001400700                  0.0         0.000000   \n",
      "                     6001401000                  0.0         0.000000   \n",
      "                     6001403800                  0.0         0.000000   \n",
      "                     6001403900                  0.0       100.000000   \n",
      "...                                              ...              ...   \n",
      "QOT5WN9RBKQTFRVKEV31 6115040400                  0.0         0.000000   \n",
      "                     6115040500                  0.0         0.000000   \n",
      "                     6115040600                  0.0        66.666667   \n",
      "                     6115040700                  0.0        60.000000   \n",
      "                     6115041100                  0.0       100.000000   \n",
      "\n",
      "                                   noinfo_percent  NA_percent  \n",
      "lei                  census_tract                              \n",
      "3Y4U8VZURTYWI1W2K376 6001400100               0.0    0.000000  \n",
      "                     6001400700               0.0    0.000000  \n",
      "                     6001401000               0.0    0.000000  \n",
      "                     6001403800               0.0    0.000000  \n",
      "                     6001403900               0.0  100.000000  \n",
      "...                                           ...         ...  \n",
      "QOT5WN9RBKQTFRVKEV31 6115040400               0.0    0.000000  \n",
      "                     6115040500               0.0    0.000000  \n",
      "                     6115040600               0.0   66.666667  \n",
      "                     6115040700              40.0   60.000000  \n",
      "                     6115041100               0.0  100.000000  \n",
      "\n",
      "[5839 rows x 8 columns]\n"
     ]
    }
   ],
   "source": [
    "ethnicity_agg = hmda_df.groupby(['lei', 'census_tract'])['applicant_ethnicity-1'].agg(\n",
    "hispanic_percent=lambda x: (x == 1).mean() * 100,\n",
    "    mexican_percent=lambda x: (x == 11).mean() * 100,\n",
    "    puerto_percent=lambda x: (x == 12).mean() * 100,\n",
    "    cuban_percent=lambda x: (x == 13).mean() * 100,\n",
    "    otherhisp_percent=lambda x: (x == 14).mean() * 100,\n",
    "    nothisp_percent=lambda x: (x == 2).mean() * 100,\n",
    "    noinfo_percent=lambda x: (x == 3).mean() * 100,\n",
    "    NA_percent=lambda x: (x == 2).mean() * 100\n",
    ")\n",
    "print(ethnicity_agg)"
   ]
  },
  {
   "cell_type": "markdown",
   "id": "d0c296ad-7aaa-42f2-8da8-b2423120ae3d",
   "metadata": {},
   "source": [
    "### Aggregate property_type\n",
    "aggregates the property type data by grouping on the lei and census_tract columns. It calculates the percentage of properties that are of type 1.\n",
    "- Descriptions: manufactured_home_secured_property_type\n",
    "1. Manufactured home and land\n",
    "2. Manufactured home and not land\n",
    "3. Not applicable\n"
   ]
  },
  {
   "cell_type": "code",
   "execution_count": 11,
   "id": "48a5e2cc-c75a-46a8-9784-fbd19a84aa02",
   "metadata": {},
   "outputs": [
    {
     "name": "stdout",
     "output_type": "stream",
     "text": [
      "                                   property_percent1  property_percent2  \\\n",
      "lei                  census_tract                                         \n",
      "3Y4U8VZURTYWI1W2K376 6001400100                  0.0                0.0   \n",
      "                     6001400700                  0.0                0.0   \n",
      "                     6001401000                  0.0                0.0   \n",
      "                     6001403800                  0.0                0.0   \n",
      "                     6001403900                  0.0                0.0   \n",
      "...                                              ...                ...   \n",
      "QOT5WN9RBKQTFRVKEV31 6115040400                  0.0                0.0   \n",
      "                     6115040500                  0.0                0.0   \n",
      "                     6115040600                  0.0                0.0   \n",
      "                     6115040700                  0.0                0.0   \n",
      "                     6115041100                  0.0                0.0   \n",
      "\n",
      "                                   property_percent3  \n",
      "lei                  census_tract                     \n",
      "3Y4U8VZURTYWI1W2K376 6001400100                100.0  \n",
      "                     6001400700                100.0  \n",
      "                     6001401000                100.0  \n",
      "                     6001403800                100.0  \n",
      "                     6001403900                100.0  \n",
      "...                                              ...  \n",
      "QOT5WN9RBKQTFRVKEV31 6115040400                100.0  \n",
      "                     6115040500                100.0  \n",
      "                     6115040600                100.0  \n",
      "                     6115040700                100.0  \n",
      "                     6115041100                100.0  \n",
      "\n",
      "[5839 rows x 3 columns]\n"
     ]
    }
   ],
   "source": [
    "property_type = hmda_df.groupby(['lei', 'census_tract'])['manufactured_home_secured_property_type'].agg(\n",
    "property_percent1=lambda x: (x == 1).mean() * 100,\n",
    "    property_percent2=lambda x: (x == 2).mean() * 100,\n",
    "    property_percent3=lambda x: (x == 3).mean() * 100\n",
    ")\n",
    "print(property_type)"
   ]
  },
  {
   "cell_type": "markdown",
   "id": "9393b1df-0f85-4bb7-aa07-2602dfa1e6f8",
   "metadata": {},
   "source": [
    "### Aggregate loan_purpose\n",
    "aggregates the loan purpose data by grouping on the lei and census_tract columns. It calculates the percentage of loans that are for purpose 1.\n",
    "- Descriptions: loan_purpose\n",
    "1. Home purchase\n",
    "2. Home improvement\n",
    "31. Refinancing\n",
    "32. Cash-out refinancing\n",
    "4. Other purpose\n",
    "5. Not applicable"
   ]
  },
  {
   "cell_type": "code",
   "execution_count": 8,
   "id": "a0edb2d1-bf8d-405e-a350-6c6291d13dd3",
   "metadata": {},
   "outputs": [
    {
     "name": "stdout",
     "output_type": "stream",
     "text": [
      "                                   purpose_percent\n",
      "lei                  census_tract                 \n",
      "3Y4U8VZURTYWI1W2K376 6001400100              100.0\n",
      "                     6001400700                0.0\n",
      "                     6001401000              100.0\n",
      "                     6001403800                0.0\n",
      "                     6001403900                0.0\n",
      "...                                            ...\n",
      "QOT5WN9RBKQTFRVKEV31 6115040400              100.0\n",
      "                     6115040500              100.0\n",
      "                     6115040600              100.0\n",
      "                     6115040700               20.0\n",
      "                     6115041100                0.0\n",
      "\n",
      "[5839 rows x 1 columns]\n"
     ]
    }
   ],
   "source": [
    "purpose_agg = hmda_df.groupby(['lei', 'census_tract'])['loan_purpose'].agg(\n",
    "purpose_percent=lambda x: (x == 1).mean() * 100\n",
    ")\n",
    "print(purpose_agg)"
   ]
  },
  {
   "cell_type": "code",
   "execution_count": null,
   "id": "4ff13840-f5a8-4a5f-888f-092584e6e54d",
   "metadata": {},
   "outputs": [],
   "source": []
  },
  {
   "cell_type": "code",
   "execution_count": null,
   "id": "9d57085b-526e-4dec-95a6-28b90a2ee2d8",
   "metadata": {},
   "outputs": [],
   "source": []
  }
 ],
 "metadata": {
  "kernelspec": {
   "display_name": "Python 3 (ipykernel)",
   "language": "python",
   "name": "python3"
  },
  "language_info": {
   "codemirror_mode": {
    "name": "ipython",
    "version": 3
   },
   "file_extension": ".py",
   "mimetype": "text/x-python",
   "name": "python",
   "nbconvert_exporter": "python",
   "pygments_lexer": "ipython3",
   "version": "3.9.7"
  }
 },
 "nbformat": 4,
 "nbformat_minor": 5
}
