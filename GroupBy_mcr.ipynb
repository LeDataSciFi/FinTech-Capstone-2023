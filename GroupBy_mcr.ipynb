{
 "cells": [
  {
   "cell_type": "code",
   "execution_count": 6,
   "id": "0b3213f8-6280-44d3-9a6d-a20abb71c771",
   "metadata": {},
   "outputs": [],
   "source": [
    "import pandas as pd \n",
    "import pandas_profiling\n",
    "from pandas_profiling import ProfileReport"
   ]
  },
  {
   "cell_type": "code",
   "execution_count": 2,
   "id": "fa6bcfd5-2716-4bdd-8386-0762ff82d35b",
   "metadata": {},
   "outputs": [],
   "source": [
    "url = \"https://github.com/SebastianStoneham/seb/raw/main/lei_3Y4U8VZURTYWI1W2K376-QOT5WN9RBKQTFRVKEV31_state_CA.csv\"\n",
    "hmda_df = pd.read_csv(url)  "
   ]
  },
  {
   "cell_type": "markdown",
   "id": "7bb45ad7-5d59-488d-bb93-e88fd1a0e891",
   "metadata": {},
   "source": [
    "### applicant income variable\n",
    "\n",
    "aggregates the applicant income data by grouping on the lei and census_tract columns. It calculates the sum, mean and median of the applicant income.\n",
    "- FFIEC Median family income in dollars for the MSA/MD in which the tract is located (adjusted annually by FFIEC)"
   ]
  },
  {
   "cell_type": "code",
   "execution_count": 10,
   "id": "70afa3c1-46a4-41d3-927a-22aba6a7ee37",
   "metadata": {},
   "outputs": [
    {
     "name": "stdout",
     "output_type": "stream",
     "text": [
      "                                   income_sum  income_mean  income_median\n",
      "lei                  census_tract                                        \n",
      "3Y4U8VZURTYWI1W2K376 6001400100        125600     125600.0       125600.0\n",
      "                     6001400700        125600     125600.0       125600.0\n",
      "                     6001401000        125600     125600.0       125600.0\n",
      "                     6001403800        125600     125600.0       125600.0\n",
      "                     6001403900        125600     125600.0       125600.0\n",
      "...                                       ...          ...            ...\n",
      "QOT5WN9RBKQTFRVKEV31 6115040400         66800      66800.0        66800.0\n",
      "                     6115040500         66800      66800.0        66800.0\n",
      "                     6115040600        200400      66800.0        66800.0\n",
      "                     6115040700        334000      66800.0        66800.0\n",
      "                     6115041100         66800      66800.0        66800.0\n",
      "\n",
      "[5839 rows x 3 columns]\n"
     ]
    }
   ],
   "source": [
    "income_agg = hmda_df.groupby(['lei', 'census_tract'])['ffiec_msa_md_median_family_income'].agg(\n",
    "income_sum='sum',\n",
    "income_mean='mean',\n",
    "income_median='median'\n",
    ")\n",
    "print(income_agg)"
   ]
  },
  {
   "cell_type": "markdown",
   "id": "75c75f1b-2d35-4dac-8afd-c5d99b9e4be7",
   "metadata": {},
   "source": [
    "### Aggregate applicant_ethnicity\n",
    "aggregates the applicant ethnicity data by grouping on the lei and census_tract columns. It calculates the percentage of applicants who are of ethnicity 2.\n"
   ]
  },
  {
   "cell_type": "code",
   "execution_count": 17,
   "id": "7ee98ec1-6764-4f2c-b459-7c3cbad45b0c",
   "metadata": {},
   "outputs": [
    {
     "name": "stdout",
     "output_type": "stream",
     "text": [
      "                                   ethnicity_percent\n",
      "lei                  census_tract                   \n",
      "3Y4U8VZURTYWI1W2K376 6001400100             0.000000\n",
      "                     6001400700             0.000000\n",
      "                     6001401000             0.000000\n",
      "                     6001403800             0.000000\n",
      "                     6001403900           100.000000\n",
      "...                                              ...\n",
      "QOT5WN9RBKQTFRVKEV31 6115040400             0.000000\n",
      "                     6115040500             0.000000\n",
      "                     6115040600            66.666667\n",
      "                     6115040700            60.000000\n",
      "                     6115041100           100.000000\n",
      "\n",
      "[5839 rows x 1 columns]\n"
     ]
    }
   ],
   "source": [
    "ethnicity_agg = hmda_df.groupby(['lei', 'census_tract'])['applicant_ethnicity-1'].agg(\n",
    "ethnicity_percent=lambda x: (x == 2).mean() * 100\n",
    ")\n",
    "print(ethnicity_agg)"
   ]
  },
  {
   "cell_type": "markdown",
   "id": "d0c296ad-7aaa-42f2-8da8-b2423120ae3d",
   "metadata": {},
   "source": [
    "### Aggregate property_type\n",
    "aggregates the property type data by grouping on the lei and census_tract columns. It calculates the percentage of properties that are of type 1.\n",
    "- Descriptions: manufactured_home_secured_property_type\n",
    "1. Manufactured home and land\n",
    "2. Manufactured home and not land\n",
    "3. Not applicable\n"
   ]
  },
  {
   "cell_type": "code",
   "execution_count": 23,
   "id": "48a5e2cc-c75a-46a8-9784-fbd19a84aa02",
   "metadata": {},
   "outputs": [
    {
     "name": "stdout",
     "output_type": "stream",
     "text": [
      "                                   property_percent\n",
      "lei                  census_tract                  \n",
      "3Y4U8VZURTYWI1W2K376 6001400100                 0.0\n",
      "                     6001400700                 0.0\n",
      "                     6001401000                 0.0\n",
      "                     6001403800                 0.0\n",
      "                     6001403900                 0.0\n",
      "...                                             ...\n",
      "QOT5WN9RBKQTFRVKEV31 6115040400                 0.0\n",
      "                     6115040500                 0.0\n",
      "                     6115040600                 0.0\n",
      "                     6115040700                 0.0\n",
      "                     6115041100                 0.0\n",
      "\n",
      "[5839 rows x 1 columns]\n"
     ]
    }
   ],
   "source": [
    "property_agg = hmda_df.groupby(['lei', 'census_tract'])['manufactured_home_secured_property_type'].agg(\n",
    "property_percent=lambda x: (x == 1).mean() * 100\n",
    ")\n",
    "print(property_agg)"
   ]
  },
  {
   "cell_type": "markdown",
   "id": "9393b1df-0f85-4bb7-aa07-2602dfa1e6f8",
   "metadata": {},
   "source": [
    "### Aggregate loan_purpose\n",
    "aggregates the loan purpose data by grouping on the lei and census_tract columns. It calculates the percentage of loans that are for purpose 1."
   ]
  },
  {
   "cell_type": "code",
   "execution_count": null,
   "id": "a0edb2d1-bf8d-405e-a350-6c6291d13dd3",
   "metadata": {},
   "outputs": [],
   "source": [
    "purpose_agg = hmda_df.groupby(['lei', 'census_tract'])['loan_purpose'].agg(\n",
    "purpose_percent=lambda x: (x == 1).mean() * 100\n",
    ")"
   ]
  },
  {
   "cell_type": "markdown",
   "id": "1302b2fa-2a17-4527-a2eb-a8f794458832",
   "metadata": {},
   "source": [
    "### Combine aggregated dataframes\n",
    "created by merging the above dataframes together using a left join.\n"
   ]
  },
  {
   "cell_type": "code",
   "execution_count": 14,
   "id": "4ff13840-f5a8-4a5f-888f-092584e6e54d",
   "metadata": {},
   "outputs": [
    {
     "ename": "SyntaxError",
     "evalue": "invalid syntax (1356198276.py, line 2)",
     "output_type": "error",
     "traceback": [
      "\u001b[0;36m  File \u001b[0;32m\"/var/folders/9w/6d_vk6jx69gfc_v6415l0wm80000gn/T/ipykernel_15889/1356198276.py\"\u001b[0;36m, line \u001b[0;32m2\u001b[0m\n\u001b[0;31m    .merge(denial_agg, left_index=True, right_index=True)\u001b[0m\n\u001b[0m    ^\u001b[0m\n\u001b[0;31mSyntaxError\u001b[0m\u001b[0;31m:\u001b[0m invalid syntax\n"
     ]
    }
   ],
   "source": [
    "result = loan_agg.merge(minority_agg, left_index=True, right_index=True)\n",
    ".merge(denial_agg, left_index=True, right_index=True)\n",
    ".merge(fico_agg, left_index=True, right_index=True)\n",
    ".merge(income_agg, left_index=True, right_index=True)\n",
    ".merge(ethnicity_agg, left_index=True, right_index=True)\n",
    ".merge(property_agg, left_index=True, right_index=True)\n",
    ".merge(purpose_agg, left_index=True, right_index=True) describe what these are"
   ]
  },
  {
   "cell_type": "code",
   "execution_count": null,
   "id": "9d57085b-526e-4dec-95a6-28b90a2ee2d8",
   "metadata": {},
   "outputs": [],
   "source": []
  }
 ],
 "metadata": {
  "kernelspec": {
   "display_name": "Python 3 (ipykernel)",
   "language": "python",
   "name": "python3"
  },
  "language_info": {
   "codemirror_mode": {
    "name": "ipython",
    "version": 3
   },
   "file_extension": ".py",
   "mimetype": "text/x-python",
   "name": "python",
   "nbconvert_exporter": "python",
   "pygments_lexer": "ipython3",
   "version": "3.9.7"
  }
 },
 "nbformat": 4,
 "nbformat_minor": 5
}
