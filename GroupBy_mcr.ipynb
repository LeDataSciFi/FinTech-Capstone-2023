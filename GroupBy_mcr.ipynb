{
 "cells": [
  {
   "cell_type": "code",
   "execution_count": 6,
   "id": "0b3213f8-6280-44d3-9a6d-a20abb71c771",
   "metadata": {},
   "outputs": [],
   "source": [
    "import pandas as pd \n",
    "import pandas_profiling\n",
    "from pandas_profiling import ProfileReport"
   ]
  },
  {
   "cell_type": "code",
   "execution_count": 2,
   "id": "fa6bcfd5-2716-4bdd-8386-0762ff82d35b",
   "metadata": {},
   "outputs": [],
   "source": [
    "url = \"https://github.com/SebastianStoneham/seb/raw/main/lei_3Y4U8VZURTYWI1W2K376-QOT5WN9RBKQTFRVKEV31_state_CA.csv\"\n",
    "hmda_df = pd.read_csv(url)  "
   ]
  },
  {
   "cell_type": "markdown",
   "id": "7bb45ad7-5d59-488d-bb93-e88fd1a0e891",
   "metadata": {},
   "source": [
    "### applicant income variable\n",
    "\n",
    "aggregates the applicant income data by grouping on the lei and census_tract columns. It calculates the sum, mean and median of the applicant income.\n",
    "- FFIEC Median family income in dollars for the MSA/MD in which the tract is located (adjusted annually by FFIEC)"
   ]
  },
  {
   "cell_type": "code",
   "execution_count": 10,
   "id": "70afa3c1-46a4-41d3-927a-22aba6a7ee37",
   "metadata": {},
   "outputs": [
    {
     "name": "stdout",
     "output_type": "stream",
     "text": [
      "                                   income_sum  income_mean  income_median\n",
      "lei                  census_tract                                        \n",
      "3Y4U8VZURTYWI1W2K376 6001400100        125600     125600.0       125600.0\n",
      "                     6001400700        125600     125600.0       125600.0\n",
      "                     6001401000        125600     125600.0       125600.0\n",
      "                     6001403800        125600     125600.0       125600.0\n",
      "                     6001403900        125600     125600.0       125600.0\n",
      "...                                       ...          ...            ...\n",
      "QOT5WN9RBKQTFRVKEV31 6115040400         66800      66800.0        66800.0\n",
      "                     6115040500         66800      66800.0        66800.0\n",
      "                     6115040600        200400      66800.0        66800.0\n",
      "                     6115040700        334000      66800.0        66800.0\n",
      "                     6115041100         66800      66800.0        66800.0\n",
      "\n",
      "[5839 rows x 3 columns]\n"
     ]
    }
   ],
   "source": [
    "income_agg = hmda_df.groupby(['lei', 'census_tract'])['ffiec_msa_md_median_family_income'].agg(\n",
    "income_sum='sum',\n",
    "income_mean='mean',\n",
    "income_median='median'\n",
    ")\n",
    "print(income_agg)"
   ]
  },
  {
   "cell_type": "code",
   "execution_count": null,
   "id": "7ee98ec1-6764-4f2c-b459-7c3cbad45b0c",
   "metadata": {},
   "outputs": [],
   "source": []
  }
 ],
 "metadata": {
  "kernelspec": {
   "display_name": "Python 3 (ipykernel)",
   "language": "python",
   "name": "python3"
  },
  "language_info": {
   "codemirror_mode": {
    "name": "ipython",
    "version": 3
   },
   "file_extension": ".py",
   "mimetype": "text/x-python",
   "name": "python",
   "nbconvert_exporter": "python",
   "pygments_lexer": "ipython3",
   "version": "3.9.7"
  }
 },
 "nbformat": 4,
 "nbformat_minor": 5
}
