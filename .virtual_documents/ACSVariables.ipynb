# Attempting to select the ACS variables we will need to carry out the appropriate analysis


import pandas as pd


# Loading cenpy and acs data
import cenpy
acs = cenpy.products.ACS(2019)


groupedVars = acs.tables


varList = []


pd.set_option('display.max_rows', None)
pd.set_option('display.max_columns', None)


# exploring race tables
acs.filter_tables("RACE", by = "description")


# Exploring the race table
acs.filter_variables("B02001")


varList.append(["B02001_001E", "B02001_002E", "B02001_003E", "B02001_004E", "B02001_005E", "B02001_006E", "B02001_007E", "B02001_008E", "B02001_009E", "B02001_010E"])


# Exploring the hispanic table
acs.filter_variables("B03002")


varList.append(['B03002_001','B03002_002','B03002_012'])


# Exploring race of householder table
acs.filter_variables("B25006")


varList.append(['B25006_001E', 'B25006_002E', 'B25006_003E', 'B25006_004E', 'B25006_005E', 'B25006_006E', 'B25006_007E', 'B25006_008E', 'B25006_009E', 'B25006_010E'])


# Exploring the income tables
acs.filter_tables("INCOME", by = "description")


incomeTables = ["B19001", "B19013", "C17002", "B25122", "B25098", "B25099", "B25071", "B25070", "B19313", "B19301", "B19113", "B19101", "B19062"]


# Inspecting income table variables


test = acs.filter_variables("B19001")





acs.filter_variables("B19013")


labelList = test.iloc[:, 0].tolist()


test1 = acs.variables


test1.columns



