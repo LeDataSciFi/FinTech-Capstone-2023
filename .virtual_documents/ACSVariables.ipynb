# Attempting to select the ACS variables we will need to carry out the appropriate analysis


import pandas as pd


# Loading cenpy and acs data
import cenpy
acs = cenpy.products.ACS(2019)


groupedVars = acs.tables


varList = []


pd.set_option('display.max_rows', 30)
pd.set_option('display.max_columns', 30)


# exploring race tables
acs.filter_tables("RACE", by = "description")


# Exploring the race table
acs.filter_variables("B02001")


varList.append(["B02001_001E", "B02001_002E", "B02001_003E", "B02001_004E", "B02001_005E", "B02001_006E", "B02001_007E", "B02001_008E", "B02001_009E", "B02001_010E"])


# Exploring the hispanic table
acs.filter_variables("B03002")


varList.append(['B03002_001','B03002_002','B03002_012'])


# Exploring race of householder table
acs.filter_variables("B25006")


varList.append(['B25006_001E', 'B25006_002E', 'B25006_003E', 'B25006_004E', 'B25006_005E', 'B25006_006E', 'B25006_007E', 'B25006_008E', 'B25006_009E', 'B25006_010E'])


# Exploring the income tables
acs.filter_tables("INCOME", by = "description")#ts


incomeTables = ["B19001", "B19013", "C17002", "B25098", "B25099", "B25071", "B25070", "B19313", "B19301", "B19113", "B19101", "B19062"]


# Inspecting income table variables


acs.filter_variables("B19001")


varList.append(["B19001_001E", "B19001_002E", "B19001_003E", "B19001_004E", "B19001_005E", "B19001_006E", "B19001_007E", "B19001_008E", "B19001_009E", "B19001_010E", "B19001_011E", "B19001_012E", "B19001_013E", "B19001_014E", "B19001_015E", "B19001_016E", "B19001_017E", "B19001A_001E", "B19001A_002E", "B19001A_003E", "B19001A_004E", "B19001A_005E", "B19001A_006E", "B19001A_007E", "B19001A_008E", "B19001A_009E", "B19001A_010E", "B19001A_011E", "B19001A_012E", "B19001A_013E", "B19001A_014E", "B19001A_015E", "B19001A_016E", "B19001A_017E", "B19001B_001E", "B19001B_002E", "B19001B_003E", "B19001B_004E", "B19001B_005E", "B19001B_006E", "B19001B_007E", "B19001B_008E", "B19001B_009E", "B19001B_010E", "B19001B_011E", "B19001B_012E", "B19001B_013E", "B19001B_014E", "B19001B_015E", "B19001B_016E", "B19001B_017E", "B19001D_001E", "B19001D_002E", "B19001D_003E", "B19001D_004E", "B19001D_005E", "B19001D_006E", "B19001D_007E", "B19001D_008E", "B19001D_009E", "B19001D_010E", "B19001D_011E", "B19001D_012E", "B19001D_013E", "B19001D_014E", "B19001D_015E", "B19001D_016E", "B19001D_017E", "B19001H_001E", "B19001H_002E", "B19001H_003E", "B19001H_004E", "B19001H_005E", "B19001H_006E", "B19001H_007E", "B19001H_008E", "B19001H_009E", "B19001H_010E", "B19001H_011E", "B19001H_012E", "B19001H_013E", "B19001H_014E", "B19001H_015E", "B19001H_016E", "B19001H_017E", "B19001I_001E", "B19001I_002E", "B19001I_003E", "B19001I_004E", "B19001I_005E", "B19001I_006E", "B19001I_007E", "B19001I_008E", "B19001I_009E", "B19001I_010E", "B19001I_011E", "B19001I_012E", "B19001I_013E", "B19001I_014E", "B19001I_015E", "B19001I_016E", "B19001I_017E"])


incomeTables


acs.filter_variables("B19013")


varList.append(["B19013_001E", "B19013A_001E", "B19013B_001E", "B19013C_001E", "B19013D_001E", "B19013E_001E", "B19013F_001E", "B19013G_001E", "B19013H_001E", "B19013I_001E"])


incomeTables


acs.filter_variables("C17002")


varList.append(["C17002_001E", "C17002_002E", "C17002_003E", "C17002_004E", "C17002_005E", "C17002_006E", "C17002_007E", "C17002_008E"])


incomeTables


acs.filter_variables("B25098")


varList.append(["B25098_001E", "B25098_002E", "B25098_003E", "B25098_004E", "B25098_005E", "B25098_006E", "B25098_007E", "B25098_008E", "B25098_009E", "B25098_010E", "B25098_011E", "B25098_012E", "B25098_013E", "B25098_014E", "B25098_015E", "B25098_016E", "B25098_017E", "B25098_018E", "B25098_019E"])


incomeTables


acs.filter_variables("B25099")


varList.append(["B25099_001E", "B25099_002E", "B25099_003E"])


incomeTables


acs.filter_variables("B25071")


varList.append("B25071_001E")


acs.filter_variables("B25070")


varList.append(["B25070_001E", "B25070_002E", "B25070_003E", "B25070_004E", "B25070_005E", "B25070_006E", "B25070_007E", "B25070_008E", "B25070_009E", "B25070_010E", "B25070_011E"])


incomeTables


acs.filter_variables("B19313")


varList.append(["B19313_001E", "B19313A_001E", "B19313B_001E", "B19313C_001E", "B19313D_001E", "B19313E_001E", "B19313F_001E", "B19313G_001E", "B19313H_001E", "B19313I_001E"])


incomeTables


acs.filter_variables("B19301")


varList.append(["B19301_001E", "B19301A_001E", "B19301B_001E", "B19301C_001E", "B19301D_001E", "B19301E_001E", "B19301F_001E", "B19301G_001E", "B19301H_001E", "B19301I_001E"])


incomeTables


acs.filter_variables("B19113")


varList.append(["B19113_001E", "B19113A_001E", "B19113B_001E", "B19113C_001E", "B19113D_001E", "B19113E_001E", "B19113F_001E", "B19113G_001E", "B19113H_001E", "B19113I_001E"])


incomeTables


acs.filter_variables("B19101")


tesLis = ["B19001_001E", "B19001_002E", "B19001_003E", "B19001_004E", "B19001_005E", "B19001_006E", "B19001_007E", "B19001_008E", "B19001_009E", "B19001_010E", "B19001_011E", "B19001_012E", "B19001_013E", "B19001_014E", "B19001_015E", "B19001_016E", "B19001_017E", "B19001A_001E", "B19001A_002E", "B19001A_003E", "B19001A_004E", "B19001A_005E", "B19001A_006E", "B19001A_007E", "B19001A_008E", "B19001A_009E", "B19001A_010E", "B19001A_011E", "B19001A_012E", "B19001A_013E", "B19001A_014E", "B19001A_015E", "B19001A_016E", "B19001A_017E", "B19001B_001E", "B19001B_002E", "B19001B_003E", "B19001B_004E", "B19001B_005E", "B19001B_006E", "B19001B_007E", "B19001B_008E", "B19001B_009E", "B19001B_010E", "B19001B_011E", "B19001B_012E", "B19001B_013E", "B19001B_014E", "B19001B_015E", "B19001B_016E", "B19001B_017E", "B19001D_001E", "B19001D_002E", "B19001D_003E", "B19001D_004E", "B19001D_005E", "B19001D_006E", "B19001D_007E", "B19001D_008E", "B19001D_009E", "B19001D_010E", "B19001D_011E", "B19001D_012E", "B19001D_013E", "B19001D_014E", "B19001D_015E", "B19001D_016E", "B19001D_017E", "B19001H_001E", "B19001H_002E", "B19001H_003E", "B19001H_004E", "B19001H_005E", "B19001H_006E", "B19001H_007E", "B19001H_008E", "B19001H_009E", "B19001H_010E", "B19001H_011E", "B19001H_012E", "B19001H_013E", "B19001H_014E", "B19001H_015E", "B19001H_016E", "B19001H_017E", "B19001I_001E", "B19001I_002E", "B19001I_003E", "B19001I_004E", "B19001I_005E", "B19001I_006E", "B19001I_007E", "B19001I_008E", "B19001I_009E", "B19001I_010E", "B19001I_011E", "B19001I_012E", "B19001I_013E", "B19001I_014E", "B19001I_015E", "B19001I_016E", "B19001I_017E"]


newlist = [s.replace("B19001", "B19101") for s in tesLis]


varList.append(newlist)


incomeTables


acs.filter_variables("B19062")


varList.append("B19062_001E")


# Exploring age tables
acs.filter_tables("AGE", by = "description")


acs.filter_variables("B01001")


original_string = "B01001_001E"
altered_strings = ["B01001_001E"]

for i in range(1, 49):
    altered_string = original_string[:7] + "{:03d}".format(i+1) + original_string[-1]
    altered_strings.append(altered_string)


varList.append(altered_strings)


original_string = "B01001_001E"
altered_strings1 = []

for outer_count in range(9):
    for inner_count in range(31):
        altered_string = original_string[:6] + chr(65 + outer_count) + "_" + "{:03d}".format(inner_count+1) + original_string[-1]
        altered_strings1.append(altered_string)


varList.append(altered_strings1)


acs.filter_variables("B01002")


original_string1 = "B01002_001E"
altered_strings2 = []

for outer_count in range(9):
    for inner_count in range(3):
        altered_string = original_string1[:6] + chr(65 + outer_count) + "_" + "{:03d}".format(inner_count+1) + original_string1[-1]
        altered_strings2.append(altered_string)


varList.append(altered_strings2)


varList.append(["B01002_001E", "B01002_002E", "B01002_003E"])


acs.filter_tables("POPULATION", by = "description")



