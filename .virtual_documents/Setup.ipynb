import pandas as pd


hmda_df = pd.read_csv('Documents/FIN 377/FinTech-Capstone-2023/inputs/state_CA-AZ.csv') 


hmda_bank_tract = hmda_df.groupby(['lei','census_tract'])


hmda_sample= hmda_bank_tract(100000)
