import os
import csv
import pandas as pd



os.makedirs('../input_data_clean/',exist_ok=True)

# anna  and seb 

# load hmda-mini 
hmda = pd.read_csv('../input_data/state_AZ-CA_mini.csv')

# clean that thing
# for example, right now, loading the raw file gives warning:  Columns (22,23,24,26,27,28,29,30,31,32,33,38,43,44,46,77,78,79,80) have mixed types. Specify dtype option on import or set low_memory=False.

# save to input_data_clean folder 

# check that it works: load the file you just saved and look at it... ok?

# repeat for the non-mini version



# juan isaac ellie
# save to '../input_data_clean/census_clean.csv'


# matt et al
# save to '../input_data_clean/bank_tract_clean.csv'


# juan and josh - copy your code here
# mergging the bank-tract level dataset and the census, and save
# save to '../input_data_clean/bank_tract_clean_WITH_CENSUS.csv'
