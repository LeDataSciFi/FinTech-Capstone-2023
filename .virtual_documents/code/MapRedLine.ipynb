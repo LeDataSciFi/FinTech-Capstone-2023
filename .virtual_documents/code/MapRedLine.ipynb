import matplotlib.pyplot as plt
import pandas as pd
import geopandas as gpd
from census import Census
from us import states


c = Census("a82acbcf878654f6da6b3139274b90ff160b8120")


az_census = c.acs5.state_county_tract(fields = ('NAME', 'C17002_001E', 'C17002_002E', 'C17002_003E', 'B01003_001E', 'B02001_002E'),
                                      state_fips = states.AZ.fips,
                                      county_fips = "*",
                                      tract = "*",
                                      year = 2020)


az_df = pd.DataFrame(az_census)


az_tract = gpd.read_file("https://www2.census.gov/geo/tiger/TIGER2020/TRACT/tl_2020_04_tract.zip")


az_df["GEOID"] = az_df["state"] + az_df["county"] + az_df["tract"]


az_merge = az_tract.merge(az_df, on = "GEOID")


az_poverty_tract = az_merge[["STATEFP", "COUNTYFP", "TRACTCE", "GEOID", "geometry", "C17002_001E", "C17002_002E", "C17002_003E", "B01003_001E", "B02001_002E"]]



az_minority_tract = az_merge[["STATEFP", "COUNTYFP", "TRACTCE", "GEOID", "geometry", "C17002_001E", "C17002_002E", "C17002_003E", "B01003_001E", "B02001_002E"]]
















