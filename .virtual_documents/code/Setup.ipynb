import os
import csv
import pandas as pd
from census import Census



if not os.path.exists("../input_data/state_AZ-CA_mini.csv"):    
    hmda = pd.read_csv('../input_data/state_AZ-CA.csv')    
    hmda.sample(50000).to_csv('../input_data/state_AZ-CA_mini.csv',index=False)


if not os.path.exists('../input_data/census.csv'):

    census_vars = pd.read_csv('../input_data/census_vars.csv',names=['code','name']).code.to_list()

    with open('census_token.txt') as f: 
        c = Census(f.read()) 

    ca = c.acs5.get(census_vars, {'for': 'tract:*', 'in': 'state:06'}, year=2019)
    az = c.acs5.get(census_vars, {'for': 'tract:*', 'in': 'state:04'}, year=2019)
    ca = pd.DataFrame(ca)
    az = pd.DataFrame(az)
    census = pd.concat([ca,az], axis = 0)
    census.to_csv('../input_data/census.csv',index=False)    
