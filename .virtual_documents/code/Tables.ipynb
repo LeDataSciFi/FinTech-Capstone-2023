import os
import csv
import pandas as pd
import numpy as np


data = pd.read_csv('../input_data_clean/bank_tract_clean_WITH_CENSUS.csv')


hmda_vars = ['num_approved_loans', 
             'num_applications',
             'sum_approved_loans',
             'sum_all_loan_amount'
             #'median__all_income',
             #'sum_rate_spread',
             #'mean_LTV'
            ]


data['pct_minority'] = (data['Tot.Pop'] - data['Tot.WhitePop'])/data['Tot.Pop'] * 100
#data['pct_minority'] = data['pct_minority'].apply(lambda x: "{:.2f%}".format(x))


# finding the median income quintiles
# sort the median__all_income variable in ascending order
data.sort_values(by='pct_minority', inplace=True)

# divide the sorted median__all_income variable into 5 equal parts, or quintiles
data['pct_minority_Quintiles'] = pd.qcut(data['pct_minority'], q=5, labels=False)

# create a new variable called "Median_Income_Quintiles" based on the quintiles
data['pct_minority_Quintiles'] = pd.cut(data['pct_minority'], bins=5, labels=['20', '40', '60', '80', '100'])


pd.set_option('display.max_rows', 100)


Quintiles_loan_table = data.groupby('which_bank')[hmda_vars].mean()
#Quintiles_loan_table['loan_approvel_rate'] = Quintiles_loan_table['num_approved_loans']/Quintiles_loan_table['num_applications']
#Quintiles_loan_table = Quintiles_loan_table.sort_values(by='loan_approvel_rate', ascending=False)
Quintiles_loan_table


Quintiles_loan_table3 = data.groupby(['which_bank', "pct_minority_Quintiles"])[hmda_vars].sum()
Quintiles_loan_table3['loan_pct_in_minority_group'] = Quintiles_loan_table3['num_approved_loans']/Quintiles_loan_table3['num_approved_loans'].groupby("which_bank").sum()
Quintiles_loan_table3['$loan_pct_in_minority_group'] = Quintiles_loan_table3['sum_approved_loans']/Quintiles_loan_table3['sum_approved_loans'].groupby("which_bank").sum()
Quintiles_loan_table3['loan_approval_rate'] = Quintiles_loan_table3['num_approved_loans']/Quintiles_loan_table3['num_applications']
Quintiles_loan_table3


# 18.9% is the national average for hispanic/latino population
# Here, we consider anything over the national average of 18.9% a high hispanic population
# Hispanic pop in AZ = 32.3%, in CA = 39.4%
data['high_hisp_pop'] = ((data['Tot.Hispanic/Latino']/data['Tot.Pop']) > 0.189)
high_hispanic= data[data['high_hisp_pop']]


# finding the median income quintiles
# sort the median__all_income variable in ascending order
data.sort_values(by='median__all_income', inplace=True)

# divide the sorted median__all_income variable into 5 equal parts, or quintiles
data['Median_Income_Quintiles'] = pd.qcut(data['median__all_income'], q=5, labels=False)

# create a new variable called "Median_Income_Quintiles" based on the quintiles
data['Median_Income_Quintiles'] = pd.cut(data['Median_Income_Quintiles'], bins=5, labels=['Q1', 'Q2', 'Q3', 'Q4', 'Q5'])


Quintiles_loan_table = data.groupby('Median_Income_Quintiles')[hmda_vars].mean()
Quintiles_loan_table['loan_approvel_rate'] = Quintiles_loan_table['num_approved_loans']/Quintiles_loan_table['num_applications']
Quintiles_loan_table = Quintiles_loan_table.sort_values(by='loan_approvel_rate', ascending=False)
Quintiles_loan_table
