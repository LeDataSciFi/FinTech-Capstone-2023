import os
import csv
import pandas as pd


hmda = pd.read_csv('../input_data/state_AZ-CA.csv')


hmda['denial'] = hmda['action_taken'] == 3
print(hmda['action_taken'].value_counts())
print(hmda['denial'].value_counts())


# todo look at prints above: if action taken is ever missing, then denial should be missing too that many times
# fix this if a problem


def lei_map(lei):
    if lei == 'QOT5WN9RBKQTFRVKEV31':
        return 'Bank of West'
    elif lei == '3Y4U8VZURTYWI1W2K376':
        return 'BMO Harris'
    elif x == np.nan:
        return np.nan
    else: 
        return 'All Other Banks'



#todo map should be faster than replace, let me know asap if it fails


hmda['which_bank'] = hmda['lei'].map(lei_map)
hmda['which_bank'].value_counts()


# Create the pivot table
pivot = hmda.pivot_table(index=['loan_type', 'loan_purpose'], columns = ['which_bank'], values='denial', aggfunc='mean')

# add columns for differentials (easier to see)
pivot['diff_BMO'] = pivot['BMO Harris'] - pivot['All Other Banks']
pivot['diff_BOW'] = pivot['Bank of West'] - pivot['All Other Banks']
pivot.style.format('{:,.2f}')
print(pivot)
