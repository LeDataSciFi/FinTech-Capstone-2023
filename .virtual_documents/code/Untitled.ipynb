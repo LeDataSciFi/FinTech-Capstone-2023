import pandas as pd
import numpy as np
import statsmodels.formula.api as smf

# Load data from CSV file
CA_df = pd.read_csv("your_file.csv")

# Calculate the hispanic rate and whether it's above the median
CA_df['hisp_rate'] = (CA_df['HispanicLatinoPop'] / CA_df['Tot.Pop']) * 100
CA_df['hisp_over_med'] = CA_df['hisp_rate'] > np.median(CA_df['hisp_rate'].dropna())

# Calculate the log of number of applications
CA_df['log_num_apps'] = np.log(CA_df['num_applications'])

# Build initial models
# Fit the linear regression models
model1 = smf.ols('denial_rate ~ hisp_rate + C(which_bank)', data=CA_df).fit()
model2 = smf.ols('denial_rate ~ hisp_over_med + C(which_bank)', data=CA_df).fit()
model3 = smf.ols('log_num_apps ~ hisp_rate + C(which_bank)', data=CA_df).fit()
model4 = smf.ols('log_num_apps ~ hisp_over_med + C(which_bank)', data=CA_df).fit()
