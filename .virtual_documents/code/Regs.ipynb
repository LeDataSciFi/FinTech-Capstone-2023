import pandas as pd
import numpy as np
import statsmodels.formula.api as smf
pd.set_option('display.max_colwidth', None)


import warnings
# Ignore warnings by category
warnings.filterwarnings("ignore", category=DeprecationWarning)
# Ignore warnings by message
warnings.filterwarnings("ignore", message=".*")


# Load data from CSV file
bank_tract = pd.read_csv("../input_data_clean/bank_tract_clean_WITH_CENSUS.csv")
CA_df = bank_tract[bank_tract["state"] == 6]
AZ_df = bank_tract[bank_tract["state"] == 4]
CA_df['which_bank'] = CA_df['which_bank'].str.replace(' ', '')
AZ_df['which_bank'] = AZ_df['which_bank'].str.replace(' ', '')


# Calculate the hispanic rate and whether it's above the median
CA_df['hisp_rate'] = (CA_df['HispanicLatinoPop'] / CA_df['Tot.Pop']) * 100
CA_df['hisp_over_med'] = CA_df['hisp_rate'] > np.median(CA_df['hisp_rate'].dropna())
CA_df['hisp_over_med'] = CA_df['hisp_over_med'].astype(int)

# Calculate the log of number of applications
CA_df['log_num_apps'] = np.log(CA_df['num_applications'])

# Build initial models
# Fit the linear regression models
model1 = smf.ols('denial_rate ~ hisp_rate + C(which_bank)', data=CA_df).fit()
model2 = smf.ols('denial_rate ~ hisp_over_med + C(which_bank)', data=CA_df).fit()
model3 = smf.ols('log_num_apps ~ hisp_rate + C(which_bank)', data=CA_df).fit()
model4 = smf.ols('log_num_apps ~ hisp_over_med + C(which_bank)', data=CA_df).fit()

coef1 = model1.params
coef2 = model2.params
coef3 = model3.params
coef4 = model4.params

eq1 = f"denial_rate = {round(coef1['Intercept'], 5)} + {round(coef1['hisp_rate'], 5)} * hisp_rate + {round(coef1['C(which_bank)[T.BankofWest]'], 5)} * which_bank_BankofWest"
eq2 = f"denial_rate = {round(coef2['Intercept'], 5)} + {round(coef2['hisp_over_med'], 5)} * hisp_over_med + {round(coef2['C(which_bank)[T.BankofWest]'], 5)} * which_bank_BankofWest"
eq3 = f"log_num_apps = {round(coef3['Intercept'], 5)} + {round(coef3['hisp_rate'], 5)} * hisp_rate + {round(coef3['C(which_bank)[T.BankofWest]'], 5)} * which_bank_BankofWest"
eq4 = f"log_num_apps = {round(coef4['Intercept'], 5)} + {round(coef4['hisp_over_med'], 5)} * hisp_over_med + {round(coef4['C(which_bank)[T.BankofWest]'], 5)} * which_bank_BankofWest"

# Create a DataFrame with the equations as rows
eqs_df = pd.DataFrame({'Equation': [eq1, eq2, eq3, eq4]}, index=['Model 1', 'Model 2', 'Model 3', 'Model 4'])

# Display the DataFrame
print(eqs_df)


# Calculate the hispanic rate and whether it's above the median
AZ_df['hisp_rate'] = (AZ_df['HispanicLatinoPop'] / AZ_df['Tot.Pop']) * 100
AZ_df['hisp_over_med'] = AZ_df['hisp_rate'] > np.median(AZ_df['hisp_rate'].dropna())
AZ_df['hisp_over_med'] = AZ_df['hisp_over_med'].astype(int)

# Calculate the log of number of applications
AZ_df['log_num_apps'] = np.log(AZ_df['num_applications'])

# Build initial models
# Fit the linear regression models
model1 = smf.ols('denial_rate ~ hisp_rate + C(which_bank)', data=AZ_df).fit()
model2 = smf.ols('denial_rate ~ hisp_over_med + C(which_bank)', data=AZ_df).fit()
model3 = smf.ols('log_num_apps ~ hisp_rate + C(which_bank)', data=AZ_df).fit()
model4 = smf.ols('log_num_apps ~ hisp_over_med + C(which_bank)', data=AZ_df).fit()

coef1 = model1.params
coef2 = model2.params
coef3 = model3.params
coef4 = model4.params

eq1 = f"denial_rate = {round(coef1['Intercept'], 5)} + {round(coef1['hisp_rate'], 5)} * hisp_rate + {round(coef1['C(which_bank)[T.BankofWest]'], 5)} * which_bank_BankofWest"
eq2 = f"denial_rate = {round(coef2['Intercept'], 5)} + {round(coef2['hisp_over_med'], 5)} * hisp_over_med + {round(coef2['C(which_bank)[T.BankofWest]'], 5)} * which_bank_BankofWest"
eq3 = f"log_num_apps = {round(coef3['Intercept'], 5)} + {round(coef3['hisp_rate'], 5)} * hisp_rate + {round(coef3['C(which_bank)[T.BankofWest]'], 5)} * which_bank_BankofWest"
eq4 = f"log_num_apps = {round(coef4['Intercept'], 5)} + {round(coef4['hisp_over_med'], 5)} * hisp_over_med + {round(coef4['C(which_bank)[T.BankofWest]'], 5)} * which_bank_BankofWest"

# Create a DataFrame with the equations as rows
eqs_df = pd.DataFrame({'Equation': [eq1, eq2, eq3, eq4]}, index=['Model 1', 'Model 2', 'Model 3', 'Model 4'])

# Display the DataFrame
print(eqs_df)


# Build initial models
# Fit the linear regression models
model1 = smf.ols('denial_rate ~ hisp_rate * which_bank', data=CA_df).fit()
model2 = smf.ols('denial_rate ~ hisp_over_med * which_bank', data=CA_df).fit()
model3 = smf.ols('log_num_apps ~ hisp_rate * which_bank', data=CA_df).fit()
model4 = smf.ols('log_num_apps ~ hisp_over_med * which_bank', data=CA_df).fit()

coef1 = model1.params
coef2 = model2.params
coef3 = model3.params
coef4 = model4.params

eq1 = f"denial_rate = {round(coef1['Intercept'], 5)} + {round(coef1['hisp_rate'], 5)} * hisp_rate + {round(coef1['which_bank[T.BankofWest]'], 5)} * which_bank_BankofWest + {round(coef1['hisp_rate:which_bank[T.BankofWest]'], 5)} * hisp_rate * which_bank_BankofWest"
eq2 = f"denial_rate = {round(coef2['Intercept'], 5)} + {round(coef2['hisp_over_med'], 5)} * hisp_over_med + {round(coef2['which_bank[T.BankofWest]'], 5)} * which_bank_BankofWest + {round(coef2['hisp_over_med:which_bank[T.BankofWest]'], 5)} * hisp_over_med * which_bank_BankofWest"
eq3 = f"log_num_apps = {round(coef3['Intercept'], 5)} + {round(coef3['hisp_rate'], 5)} * hisp_rate + {round(coef3['which_bank[T.BankofWest]'], 5)} * which_bank_BankofWest + {round(coef3['hisp_rate:which_bank[T.BankofWest]'], 5)} * hisp_rate * which_bank_BankofWest"
eq4 = f"log_num_apps = {round(coef4['Intercept'], 5)} + {round(coef4['hisp_over_med'], 5)} * hisp_over_med + {round(coef4['which_bank[T.BankofWest]'], 5)} * which_bank_BankofWest + {round(coef4['hisp_over_med:which_bank[T.BankofWest]'], 5)} * hisp_over_med * which_bank_BankofWest"

eqs_df = pd.DataFrame({'Equation': [eq1, eq2, eq3, eq4]}, index=['Model 1', 'Model 2', 'Model 3', 'Model 4'])

# Display the DataFrame
print(eqs_df)


# Build initial models
# Fit the linear regression models
model1 = smf.ols('denial_rate ~ hisp_rate * which_bank', data=AZ_df).fit()
model2 = smf.ols('denial_rate ~ hisp_over_med * which_bank', data=AZ_df).fit()
model3 = smf.ols('log_num_apps ~ hisp_rate * which_bank', data=AZ_df).fit()
model4 = smf.ols('log_num_apps ~ hisp_over_med * which_bank', data=AZ_df).fit()

coef1 = model1.params
coef2 = model2.params
coef3 = model3.params
coef4 = model4.params

eq1 = f"denial_rate = {round(coef1['Intercept'], 5)} + {round(coef1['hisp_rate'], 5)} * hisp_rate + {round(coef1['which_bank[T.BankofWest]'], 5)} * which_bank_BankofWest + {round(coef1['hisp_rate:which_bank[T.BankofWest]'], 5)} * hisp_rate * which_bank_BankofWest"
eq2 = f"denial_rate = {round(coef2['Intercept'], 5)} + {round(coef2['hisp_over_med'], 5)} * hisp_over_med + {round(coef2['which_bank[T.BankofWest]'], 5)} * which_bank_BankofWest + {round(coef2['hisp_over_med:which_bank[T.BankofWest]'], 5)} * hisp_over_med * which_bank_BankofWest"
eq3 = f"log_num_apps = {round(coef3['Intercept'], 5)} + {round(coef3['hisp_rate'], 5)} * hisp_rate + {round(coef3['which_bank[T.BankofWest]'], 5)} * which_bank_BankofWest + {round(coef3['hisp_rate:which_bank[T.BankofWest]'], 5)} * hisp_rate * which_bank_BankofWest"
eq4 = f"log_num_apps = {round(coef4['Intercept'], 5)} + {round(coef4['hisp_over_med'], 5)} * hisp_over_med + {round(coef4['which_bank[T.BankofWest]'], 5)} * which_bank_BankofWest + {round(coef4['hisp_over_med:which_bank[T.BankofWest]'], 5)} * hisp_over_med * which_bank_BankofWest"

eqs_df = pd.DataFrame({'Equation': [eq1, eq2, eq3, eq4]}, index=['Model 1', 'Model 2', 'Model 3', 'Model 4'])

# Display the DataFrame
print(eqs_df)
