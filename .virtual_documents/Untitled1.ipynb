census = pd.read_csv('../input_data/census.csv')
census["GEOID"] = census["state"] + census["county"] + census["tract"]
census = census.drop(columns = ["state", "county", "tract"])
census_clean = census.rename(columns = colNames)
census_clean.to_csv('../input_data_clean/census_clean.csv')
