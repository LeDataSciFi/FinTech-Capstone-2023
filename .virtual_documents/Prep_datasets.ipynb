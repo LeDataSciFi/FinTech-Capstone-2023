census = pd.read_csv('../input_data/census.csv')
census["GEOID"] = census["state"] + census["county"] + census["tract"]
census = census.drop(columns = ["state", "county", "tract"])
census_clean = census.rename(columns = colNames)
census_clean.to_csv('../input_data_clean/census_clean.csv')


census_clean =  pd.read_csv('../input_data_clean/census_clean.csv')
hmda_clean = pd.read_csv('../input_data_clean/hmda_clean.csv')
census_clean.rename(columns={'GEOID':'census_tract'}, inplace=True)
census_clean["census_tract"] = census_clean["census_tract"].astype(str)
census_clean["census_tract"] = census_clean["census_tract"].str.lstrip('0')
census_clean["census_tract"] = census_clean["census_tract"].astype(int)
bank_tract_clean_WITH_CENSUS = census_clean.merge(hmda_clean, on = "census_tract", how = "inner")
bank_tract_clean_WITH_CENSUS.to_csv('../input_data_clean/bank_tract_clean_WITH_CENSUS.csv')
