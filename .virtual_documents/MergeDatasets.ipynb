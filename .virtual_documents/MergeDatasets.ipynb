#Merging the ACS and HMDA Datasets for AZ


#Download the AZ HMDA Dataset
import pandas as pd

url = "https://ffiec.cfpb.gov/file/modifiedLar/year/2021/institution/QOT5WN9RBKQTFRVKEV31/txt/header"
# reading HMDA's 2021 Modified Loan/Application Register (LAR) 
# Bank of the Wesk (LEI: QOT5WN9RBKQTFRVKEV31)

# Read CSV file and keep the header
df = pd.read_csv(url, sep='|', low_memory=False, header=0)

# filter out rows where state_code is CA
df = df[df['state_code'] == 'AZ']

# Selecting a smaller dataset
df1 = df[["census_tract", "loan_amount"]]


#Viewing the dataset
df1


#Downloading ACS data
import cenpy
acs = cenpy.products.ACS(2019)
az = acs.from_state('AZ',level='tract',variables=['B01002H_001E'])
az.shape # of tracts

#renaming the census variable for merging purposes
az.rename(columns={'GEOID':'census_tract'}, inplace=True)
az


# Making both census tract codes match by removing the leading '0' from ACS dataset
az["census_tract"] = az["census_tract"].astype(str)
az["census_tract"] = az["census_tract"].str.lstrip('0')
az


# Converting the variable back to an int (it was a string above)
az["census_tract"] = az["census_tract"].astype(int)


#merging the dataset
merge = az.merge(df1, on = "census_tract", how = "inner")


#View the merged dataset
merge.head()
