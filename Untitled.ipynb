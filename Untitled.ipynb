{
 "cells": [
  {
   "cell_type": "code",
   "execution_count": 6,
   "id": "fd0ed6c2-ce20-4e10-9aec-5f6fdd61a294",
   "metadata": {},
   "outputs": [],
   "source": [
    "import os\n",
    "import csv\n",
    "import pandas as pd"
   ]
  },
  {
   "cell_type": "markdown",
   "id": "6c6a6220-a243-4ac4-b4fa-071902262ba3",
   "metadata": {},
   "source": [
    "Set up\n",
    "This file....\n",
    "\n",
    "LAR / HMDA data (state_AZ-CA.csv)\n",
    "To download the entire file, go to this link. In Step 1 select Arizona and California. Then click download dataset.\n",
    "Save this file to the /input_data/ folder.\n",
    "Note: This file is 1.6GB, so it is not in the repo.\n",
    "Note: There are columns with \"mixed types\".\n",
    "The code below will create a mini version to work with while we develop the analysis."
   ]
  },
  {
   "cell_type": "code",
   "execution_count": 7,
   "id": "74b6c292-628d-420c-ad34-fcd6afeba27e",
   "metadata": {},
   "outputs": [
    {
     "name": "stderr",
     "output_type": "stream",
     "text": [
      "/Applications/anaconda3/lib/python3.9/site-packages/IPython/core/interactiveshell.py:3444: DtypeWarning: Columns (22,23,24,26,27,28,29,30,31,32,33,38,43,44,46,77,78,79,80) have mixed types.Specify dtype option on import or set low_memory=False.\n",
      "  exec(code_obj, self.user_global_ns, self.user_ns)\n"
     ]
    }
   ],
   "source": [
    "if not os.path.exists(\"../input_data/state_AZ-CA_mini.csv\"):\n",
    "    hmda = pd.read_csv('../input_data/state_AZ-CA.csv')\n",
    "    hmda.sample(50000).to_csv('../input_data/state_AZ-CA_mini.csv',index=False)"
   ]
  },
  {
   "cell_type": "code",
   "execution_count": 8,
   "id": "7696ee57-c27e-4ac8-8861-2fdb6e6c0d7f",
   "metadata": {},
   "outputs": [
    {
     "name": "stdout",
     "output_type": "stream",
     "text": [
      "Index(['activity_year', 'lei', 'derived_msa-md', 'state_code', 'county_code',\n",
      "       'census_tract', 'conforming_loan_limit', 'derived_loan_product_type',\n",
      "       'derived_dwelling_category', 'derived_ethnicity', 'derived_race',\n",
      "       'derived_sex', 'action_taken', 'purchaser_type', 'preapproval',\n",
      "       'loan_type', 'loan_purpose', 'lien_status', 'reverse_mortgage',\n",
      "       'open-end_line_of_credit', 'business_or_commercial_purpose',\n",
      "       'loan_amount', 'loan_to_value_ratio', 'interest_rate', 'rate_spread',\n",
      "       'hoepa_status', 'total_loan_costs', 'total_points_and_fees',\n",
      "       'origination_charges', 'discount_points', 'lender_credits', 'loan_term',\n",
      "       'prepayment_penalty_term', 'intro_rate_period', 'negative_amortization',\n",
      "       'interest_only_payment', 'balloon_payment',\n",
      "       'other_nonamortizing_features', 'property_value', 'construction_method',\n",
      "       'occupancy_type', 'manufactured_home_secured_property_type',\n",
      "       'manufactured_home_land_property_interest', 'total_units',\n",
      "       'multifamily_affordable_units', 'income', 'debt_to_income_ratio',\n",
      "       'applicant_credit_score_type', 'co-applicant_credit_score_type',\n",
      "       'applicant_ethnicity-1', 'applicant_ethnicity-2',\n",
      "       'applicant_ethnicity-3', 'applicant_ethnicity-4',\n",
      "       'applicant_ethnicity-5', 'co-applicant_ethnicity-1',\n",
      "       'co-applicant_ethnicity-2', 'co-applicant_ethnicity-3',\n",
      "       'co-applicant_ethnicity-4', 'co-applicant_ethnicity-5',\n",
      "       'applicant_ethnicity_observed', 'co-applicant_ethnicity_observed',\n",
      "       'applicant_race-1', 'applicant_race-2', 'applicant_race-3',\n",
      "       'applicant_race-4', 'applicant_race-5', 'co-applicant_race-1',\n",
      "       'co-applicant_race-2', 'co-applicant_race-3', 'co-applicant_race-4',\n",
      "       'co-applicant_race-5', 'applicant_race_observed',\n",
      "       'co-applicant_race_observed', 'applicant_sex', 'co-applicant_sex',\n",
      "       'applicant_sex_observed', 'co-applicant_sex_observed', 'applicant_age',\n",
      "       'co-applicant_age', 'applicant_age_above_62',\n",
      "       'co-applicant_age_above_62', 'submission_of_application',\n",
      "       'initially_payable_to_institution', 'aus-1', 'aus-2', 'aus-3', 'aus-4',\n",
      "       'aus-5', 'denial_reason-1', 'denial_reason-2', 'denial_reason-3',\n",
      "       'denial_reason-4', 'tract_population',\n",
      "       'tract_minority_population_percent',\n",
      "       'ffiec_msa_md_median_family_income', 'tract_to_msa_income_percentage',\n",
      "       'tract_owner_occupied_units', 'tract_one_to_four_family_homes',\n",
      "       'tract_median_age_of_housing_units'],\n",
      "      dtype='object')\n"
     ]
    }
   ],
   "source": [
    "print(hmda.columns)"
   ]
  },
  {
   "cell_type": "code",
   "execution_count": 10,
   "id": "767275a9-ab93-468b-a409-13515206c48a",
   "metadata": {},
   "outputs": [
    {
     "name": "stdout",
     "output_type": "stream",
     "text": [
      "Denial Rate: 0.09843446606851623\n"
     ]
    }
   ],
   "source": [
    "# Filter the rows that correspond to denied loans\n",
    "denied_loans = hmda[hmda['action_taken'] == 3]\n",
    "\n",
    "# Calculate the number of denied loans\n",
    "denied_count = len(denied_loans)\n",
    "\n",
    "# Calculate the total number of loans\n",
    "total_count = len(hmda)\n",
    "\n",
    "# Calculate the denial rate\n",
    "denial_rate = denied_count / total_count\n",
    "\n",
    "# Print the denial rate\n",
    "print(\"Denial Rate:\", denial_rate)"
   ]
  },
  {
   "cell_type": "code",
   "execution_count": null,
   "id": "cba55ce3-bdba-46be-a9f0-b84c9c20074d",
   "metadata": {},
   "outputs": [],
   "source": []
  }
 ],
 "metadata": {
  "kernelspec": {
   "display_name": "Python 3 (ipykernel)",
   "language": "python",
   "name": "python3"
  },
  "language_info": {
   "codemirror_mode": {
    "name": "ipython",
    "version": 3
   },
   "file_extension": ".py",
   "mimetype": "text/x-python",
   "name": "python",
   "nbconvert_exporter": "python",
   "pygments_lexer": "ipython3",
   "version": "3.9.7"
  }
 },
 "nbformat": 4,
 "nbformat_minor": 5
}
