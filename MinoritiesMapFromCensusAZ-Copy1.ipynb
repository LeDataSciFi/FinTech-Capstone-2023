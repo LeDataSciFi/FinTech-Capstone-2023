{
 "cells": [
  {
   "cell_type": "markdown",
   "id": "24b95209-a910-4e7e-a07e-f530d923c45c",
   "metadata": {},
   "source": [
    "Make sure you have the below packages downladed (through pip install)"
   ]
  },
  {
   "cell_type": "code",
   "execution_count": 1,
   "id": "716e58ee-ed1d-4e69-b7fc-f645e00c3112",
   "metadata": {},
   "outputs": [],
   "source": [
    "import matplotlib.pyplot as plt\n",
    "import pandas as pd\n",
    "import geopandas as gpd\n",
    "from census import Census\n",
    "from us import states"
   ]
  },
  {
   "cell_type": "code",
   "execution_count": 2,
   "id": "732ffea5-9df6-4cc9-b6e3-e43a18821be3",
   "metadata": {},
   "outputs": [],
   "source": [
    "with open('Census_token.txt') as f: \n",
    "    c = Census(f.read())"
   ]
  },
  {
   "cell_type": "code",
   "execution_count": 3,
   "id": "613a8c7f-60ca-49d4-a5ec-3c3db33cb0c1",
   "metadata": {},
   "outputs": [],
   "source": [
    "# Obtain Census variables from the 2019 ACS at the tract level for the Commonwealth of Virginia (FIPS code: 51)\n",
    "# FIPS code for AZ is 04, just need to change VA to AZ in state_flips\n",
    "###### ----variable website---->>> https://api.census.gov/data/2019/acs/acs1/variables.html\n",
    "# B02001_003E - Estimate!!Total:!!Black or African American alone\n",
    "# B02001_004E - Estimate!!Total:!!American Indian and Alaska Native alone\n",
    "# B02001_005E - Estimate!!Total:!!Asian alone\n",
    "# B02001_006E - Estimate!!Total:!!Native Hawaiian and Other Pacific Islander alone\n",
    "# B02001_007E - Estimate!!Total:!!Some other race alone\n",
    "# B03002_001E - HISPANIC OR LATINO ORIGIN BY RACE\n",
    "######## ----> NOTE THERE ARE NO MIXED all are solo, but we will probably want to add that\n",
    "# B01003_001E: total population\n",
    "# Do not have 2021 available yet, can only run through 2020\n",
    "# Sources: https://api.census.gov/data/2019/acs/acs5/variables.html; https://pypi.org/project/census/\n",
    "az_census = c.acs5.state_county_tract(fields = ('NAME', 'B02001_003E', 'B02001_004E', 'B02001_005E', \n",
    "                                                'B02001_006E', 'B02001_007E', 'B03002_001E', 'B01003_001E'),\n",
    "                                      state_fips = states.AZ.fips,\n",
    "                                      county_fips = \"*\",\n",
    "                                      tract = \"*\",\n",
    "                                      year = 2020)"
   ]
  },
  {
   "cell_type": "code",
   "execution_count": 4,
   "id": "4f8b5f07-3dc9-4705-9dc7-d2e5eb4a6987",
   "metadata": {},
   "outputs": [
    {
     "name": "stdout",
     "output_type": "stream",
     "text": [
      "                                            NAME  B02001_003E  B02001_004E  \\\n",
      "0  Census Tract 610.44, Maricopa County, Arizona        954.0         49.0   \n",
      "1  Census Tract 610.45, Maricopa County, Arizona        476.0         11.0   \n",
      "\n",
      "   B02001_005E  B02001_006E  B02001_007E  B03002_001E  B01003_001E state  \\\n",
      "0        416.0         61.0        136.0       8773.0       8773.0    04   \n",
      "1        125.0          0.0        302.0       7874.0       7874.0    04   \n",
      "\n",
      "  county   tract  \n",
      "0    013  061044  \n",
      "1    013  061045  \n",
      "Shape:  (1765, 11)\n"
     ]
    }
   ],
   "source": [
    "# Create a dataframe from the census data\n",
    "az_df = pd.DataFrame(az_census)\n",
    "\n",
    "# Show the dataframe\n",
    "print(az_df.head(2))\n",
    "print('Shape: ', az_df.shape)"
   ]
  },
  {
   "cell_type": "code",
   "execution_count": 5,
   "id": "515dfcce-3fc5-4bcc-b585-4d26997ad405",
   "metadata": {},
   "outputs": [
    {
     "name": "stdout",
     "output_type": "stream",
     "text": [
      "  STATEFP COUNTYFP TRACTCE        GEOID  NAME           NAMELSAD  MTFCC  \\\n",
      "0      04      015  950500  04015950500  9505  Census Tract 9505  G5020   \n",
      "1      04      015  954900  04015954900  9549  Census Tract 9549  G5020   \n",
      "\n",
      "  FUNCSTAT       ALAND    AWATER     INTPTLAT      INTPTLON  \\\n",
      "0        S  1255016476  39469850  +35.3440369  -114.3629894   \n",
      "1        S    22392503         0  +35.2440284  -114.0595108   \n",
      "\n",
      "                                            geometry  \n",
      "0  POLYGON ((-2605753.221 4497432.366, -2605733.2...  \n",
      "1  POLYGON ((-2561412.583 4449714.181, -2561223.1...  \n",
      "Shape:  (1765, 13)\n",
      "\n",
      "The shapefile projection is: epsg:32617\n"
     ]
    }
   ],
   "source": [
    "# Access shapefile of Virginia census tracts\n",
    "az_tract = gpd.read_file(\"https://www2.census.gov/geo/tiger/TIGER2020/TRACT/tl_2020_04_tract.zip\")\n",
    "\n",
    "# Reproject shapefile to UTM Zone 17N\n",
    "# https://spatialreference.org/ref/epsg/wgs-84-utm-zone-17n/\n",
    "az_tract = az_tract.to_crs(epsg = 32617)\n",
    "\n",
    "# Print GeoDataFrame of shapefile\n",
    "print(az_tract.head(2))\n",
    "print('Shape: ', az_tract.shape)\n",
    "\n",
    "# Check shapefile projection\n",
    "print(\"\\nThe shapefile projection is: {}\".format(az_tract.crs))"
   ]
  },
  {
   "cell_type": "code",
   "execution_count": 6,
   "id": "0e1512fd-4925-48a3-bb89-90c67951d853",
   "metadata": {},
   "outputs": [],
   "source": [
    "# Combine state, county, and tract columns together to create a new string and assign to new column\n",
    "az_df[\"GEOID\"] = az_df[\"state\"] + az_df[\"county\"] + az_df[\"tract\"]"
   ]
  },
  {
   "cell_type": "code",
   "execution_count": 7,
   "id": "9de37a9f-ac96-43ce-acb0-3b98b11bbf6c",
   "metadata": {},
   "outputs": [
    {
     "data": {
      "text/html": [
       "<div>\n",
       "<style scoped>\n",
       "    .dataframe tbody tr th:only-of-type {\n",
       "        vertical-align: middle;\n",
       "    }\n",
       "\n",
       "    .dataframe tbody tr th {\n",
       "        vertical-align: top;\n",
       "    }\n",
       "\n",
       "    .dataframe thead th {\n",
       "        text-align: right;\n",
       "    }\n",
       "</style>\n",
       "<table border=\"1\" class=\"dataframe\">\n",
       "  <thead>\n",
       "    <tr style=\"text-align: right;\">\n",
       "      <th></th>\n",
       "      <th>NAME</th>\n",
       "      <th>B02001_003E</th>\n",
       "      <th>B02001_004E</th>\n",
       "      <th>B02001_005E</th>\n",
       "      <th>B02001_006E</th>\n",
       "      <th>B02001_007E</th>\n",
       "      <th>B03002_001E</th>\n",
       "      <th>B01003_001E</th>\n",
       "      <th>state</th>\n",
       "      <th>county</th>\n",
       "      <th>tract</th>\n",
       "      <th>GEOID</th>\n",
       "    </tr>\n",
       "  </thead>\n",
       "  <tbody>\n",
       "    <tr>\n",
       "      <th>0</th>\n",
       "      <td>Census Tract 610.44, Maricopa County, Arizona</td>\n",
       "      <td>954.0</td>\n",
       "      <td>49.0</td>\n",
       "      <td>416.0</td>\n",
       "      <td>61.0</td>\n",
       "      <td>136.0</td>\n",
       "      <td>8773.0</td>\n",
       "      <td>8773.0</td>\n",
       "      <td>04</td>\n",
       "      <td>013</td>\n",
       "      <td>061044</td>\n",
       "      <td>04013061044</td>\n",
       "    </tr>\n",
       "    <tr>\n",
       "      <th>1</th>\n",
       "      <td>Census Tract 610.45, Maricopa County, Arizona</td>\n",
       "      <td>476.0</td>\n",
       "      <td>11.0</td>\n",
       "      <td>125.0</td>\n",
       "      <td>0.0</td>\n",
       "      <td>302.0</td>\n",
       "      <td>7874.0</td>\n",
       "      <td>7874.0</td>\n",
       "      <td>04</td>\n",
       "      <td>013</td>\n",
       "      <td>061045</td>\n",
       "      <td>04013061045</td>\n",
       "    </tr>\n",
       "  </tbody>\n",
       "</table>\n",
       "</div>"
      ],
      "text/plain": [
       "                                            NAME  B02001_003E  B02001_004E  \\\n",
       "0  Census Tract 610.44, Maricopa County, Arizona        954.0         49.0   \n",
       "1  Census Tract 610.45, Maricopa County, Arizona        476.0         11.0   \n",
       "\n",
       "   B02001_005E  B02001_006E  B02001_007E  B03002_001E  B01003_001E state  \\\n",
       "0        416.0         61.0        136.0       8773.0       8773.0    04   \n",
       "1        125.0          0.0        302.0       7874.0       7874.0    04   \n",
       "\n",
       "  county   tract        GEOID  \n",
       "0    013  061044  04013061044  \n",
       "1    013  061045  04013061045  "
      ]
     },
     "execution_count": 7,
     "metadata": {},
     "output_type": "execute_result"
    }
   ],
   "source": [
    "# Print head of dataframe\n",
    "az_df.head(2)"
   ]
  },
  {
   "cell_type": "code",
   "execution_count": 8,
   "id": "37bba74a-f00c-426d-be29-11e6390e47e9",
   "metadata": {},
   "outputs": [
    {
     "data": {
      "text/html": [
       "<div>\n",
       "<style scoped>\n",
       "    .dataframe tbody tr th:only-of-type {\n",
       "        vertical-align: middle;\n",
       "    }\n",
       "\n",
       "    .dataframe tbody tr th {\n",
       "        vertical-align: top;\n",
       "    }\n",
       "\n",
       "    .dataframe thead th {\n",
       "        text-align: right;\n",
       "    }\n",
       "</style>\n",
       "<table border=\"1\" class=\"dataframe\">\n",
       "  <thead>\n",
       "    <tr style=\"text-align: right;\">\n",
       "      <th></th>\n",
       "      <th>NAME</th>\n",
       "      <th>B02001_003E</th>\n",
       "      <th>B02001_004E</th>\n",
       "      <th>B02001_005E</th>\n",
       "      <th>B02001_006E</th>\n",
       "      <th>B02001_007E</th>\n",
       "      <th>B03002_001E</th>\n",
       "      <th>B01003_001E</th>\n",
       "      <th>GEOID</th>\n",
       "    </tr>\n",
       "  </thead>\n",
       "  <tbody>\n",
       "    <tr>\n",
       "      <th>0</th>\n",
       "      <td>Census Tract 610.44, Maricopa County, Arizona</td>\n",
       "      <td>954.0</td>\n",
       "      <td>49.0</td>\n",
       "      <td>416.0</td>\n",
       "      <td>61.0</td>\n",
       "      <td>136.0</td>\n",
       "      <td>8773.0</td>\n",
       "      <td>8773.0</td>\n",
       "      <td>04013061044</td>\n",
       "    </tr>\n",
       "    <tr>\n",
       "      <th>1</th>\n",
       "      <td>Census Tract 610.45, Maricopa County, Arizona</td>\n",
       "      <td>476.0</td>\n",
       "      <td>11.0</td>\n",
       "      <td>125.0</td>\n",
       "      <td>0.0</td>\n",
       "      <td>302.0</td>\n",
       "      <td>7874.0</td>\n",
       "      <td>7874.0</td>\n",
       "      <td>04013061045</td>\n",
       "    </tr>\n",
       "  </tbody>\n",
       "</table>\n",
       "</div>"
      ],
      "text/plain": [
       "                                            NAME  B02001_003E  B02001_004E  \\\n",
       "0  Census Tract 610.44, Maricopa County, Arizona        954.0         49.0   \n",
       "1  Census Tract 610.45, Maricopa County, Arizona        476.0         11.0   \n",
       "\n",
       "   B02001_005E  B02001_006E  B02001_007E  B03002_001E  B01003_001E  \\\n",
       "0        416.0         61.0        136.0       8773.0       8773.0   \n",
       "1        125.0          0.0        302.0       7874.0       7874.0   \n",
       "\n",
       "         GEOID  \n",
       "0  04013061044  \n",
       "1  04013061045  "
      ]
     },
     "execution_count": 8,
     "metadata": {},
     "output_type": "execute_result"
    }
   ],
   "source": [
    "# Remove columns\n",
    "az_df = az_df.drop(columns = [\"state\", \"county\", \"tract\"])\n",
    "\n",
    "# Show updated dataframe\n",
    "az_df.head(2)"
   ]
  },
  {
   "cell_type": "code",
   "execution_count": 9,
   "id": "de60aac0-1cb5-4818-af87-c441f62aeb75",
   "metadata": {},
   "outputs": [
    {
     "name": "stdout",
     "output_type": "stream",
     "text": [
      "Column data types for census data:\n",
      "NAME            object\n",
      "B02001_003E    float64\n",
      "B02001_004E    float64\n",
      "B02001_005E    float64\n",
      "B02001_006E    float64\n",
      "B02001_007E    float64\n",
      "B03002_001E    float64\n",
      "B01003_001E    float64\n",
      "GEOID           object\n",
      "dtype: object\n",
      "\n",
      "Column data types for census shapefile:\n",
      "STATEFP       object\n",
      "COUNTYFP      object\n",
      "TRACTCE       object\n",
      "GEOID         object\n",
      "NAME          object\n",
      "NAMELSAD      object\n",
      "MTFCC         object\n",
      "FUNCSTAT      object\n",
      "ALAND          int64\n",
      "AWATER         int64\n",
      "INTPTLAT      object\n",
      "INTPTLON      object\n",
      "geometry    geometry\n",
      "dtype: object\n"
     ]
    }
   ],
   "source": [
    "# Check column data types for census data\n",
    "print(\"Column data types for census data:\\n{}\".format(az_df.dtypes))\n",
    "\n",
    "# Check column data types for census shapefile\n",
    "print(\"\\nColumn data types for census shapefile:\\n{}\".format(az_tract.dtypes))\n",
    "\n",
    "# Source: https://pandas.pydata.org/pandas-docs/stable/reference/api/pandas"
   ]
  },
  {
   "cell_type": "code",
   "execution_count": 10,
   "id": "52d823f8-7f4a-4748-894d-a9a727c6fdcf",
   "metadata": {},
   "outputs": [
    {
     "name": "stdout",
     "output_type": "stream",
     "text": [
      "  STATEFP COUNTYFP TRACTCE        GEOID NAME_x           NAMELSAD  MTFCC  \\\n",
      "0      04      015  950500  04015950500   9505  Census Tract 9505  G5020   \n",
      "1      04      015  954900  04015954900   9549  Census Tract 9549  G5020   \n",
      "\n",
      "  FUNCSTAT       ALAND    AWATER  ...      INTPTLON  \\\n",
      "0        S  1255016476  39469850  ...  -114.3629894   \n",
      "1        S    22392503         0  ...  -114.0595108   \n",
      "\n",
      "                                            geometry  \\\n",
      "0  POLYGON ((-2605753.221 4497432.366, -2605733.2...   \n",
      "1  POLYGON ((-2561412.583 4449714.181, -2561223.1...   \n",
      "\n",
      "                                      NAME_y B02001_003E  B02001_004E  \\\n",
      "0  Census Tract 9505, Mohave County, Arizona        43.0         10.0   \n",
      "1  Census Tract 9549, Mohave County, Arizona         6.0          0.0   \n",
      "\n",
      "   B02001_005E  B02001_006E  B02001_007E  B03002_001E  B01003_001E  \n",
      "0          6.0          8.0          0.0       1601.0       1601.0  \n",
      "1          0.0          0.0         55.0       3662.0       3662.0  \n",
      "\n",
      "[2 rows x 21 columns]\n",
      "Shape:  (1765, 21)\n"
     ]
    }
   ],
   "source": [
    "# Join the attributes of the dataframes together\n",
    "# Source: https://geopandas.org/docs/user_guide/mergingdata.html\n",
    "az_merge = az_tract.merge(az_df, on = \"GEOID\")\n",
    "\n",
    "# Show result\n",
    "print(az_merge.head(2))\n",
    "print('Shape: ', az_merge.shape)"
   ]
  },
  {
   "cell_type": "code",
   "execution_count": 11,
   "id": "fe37e317-e2f6-4528-8b13-9e7b46ffd27e",
   "metadata": {},
   "outputs": [
    {
     "name": "stdout",
     "output_type": "stream",
     "text": [
      "  STATEFP COUNTYFP TRACTCE        GEOID  \\\n",
      "0      04      015  950500  04015950500   \n",
      "1      04      015  954900  04015954900   \n",
      "\n",
      "                                            geometry  B02001_003E  \\\n",
      "0  POLYGON ((-2605753.221 4497432.366, -2605733.2...         43.0   \n",
      "1  POLYGON ((-2561412.583 4449714.181, -2561223.1...          6.0   \n",
      "\n",
      "   B02001_004E  B02001_005E  B02001_006E  B02001_007E  B03002_001E  \\\n",
      "0         10.0          6.0          8.0          0.0       1601.0   \n",
      "1          0.0          0.0          0.0         55.0       3662.0   \n",
      "\n",
      "   B01003_001E  \n",
      "0       1601.0  \n",
      "1       3662.0  \n",
      "Shape:  (1765, 12)\n"
     ]
    }
   ],
   "source": [
    "# Create new dataframe from select columns\n",
    "az_poverty_tract = az_merge[[\"STATEFP\", \"COUNTYFP\", \"TRACTCE\", \"GEOID\", \"geometry\", 'B02001_003E', 'B02001_004E', 'B02001_005E', \n",
    "                                                'B02001_006E', 'B02001_007E',  'B03002_001E','B01003_001E']]\n",
    "\n",
    "# Show dataframe\n",
    "print(az_poverty_tract.head(2))\n",
    "print('Shape: ', az_poverty_tract.shape)"
   ]
  },
  {
   "cell_type": "code",
   "execution_count": 12,
   "id": "d29f5299-3ce6-43b7-a860-5b9a76963e14",
   "metadata": {},
   "outputs": [
    {
     "name": "stdout",
     "output_type": "stream",
     "text": [
      "                                                   geometry  B02001_003E  \\\n",
      "COUNTYFP                                                                   \n",
      "001       POLYGON ((-2216287.968 4138869.589, -2215413.7...        545.0   \n",
      "003       POLYGON ((-2260950.710 3843083.655, -2261376.6...       5158.0   \n",
      "\n",
      "          B02001_004E  B02001_005E  B02001_006E  B02001_007E  B03002_001E  \\\n",
      "COUNTYFP                                                                    \n",
      "001           52565.0        262.0         55.0        759.0      71714.0   \n",
      "003            1461.0       2386.0        400.0       3071.0     126442.0   \n",
      "\n",
      "          B01003_001E  \n",
      "COUNTYFP               \n",
      "001           71714.0  \n",
      "003          126442.0  \n",
      "Shape:  (15, 8)\n"
     ]
    }
   ],
   "source": [
    "# Dissolve and group the census tracts within each county and aggregate all the values together\n",
    "# Source: https://geopandas.org/docs/user_guide/aggregation_with_dissolve.html\n",
    "az_poverty_county = az_poverty_tract.dissolve(by = 'COUNTYFP', aggfunc = 'sum')\n",
    "\n",
    "# Show dataframe\n",
    "print(az_poverty_county.head(2))\n",
    "print('Shape: ', az_poverty_county.shape)"
   ]
  },
  {
   "cell_type": "code",
   "execution_count": 13,
   "id": "394da6a2-294b-4a4f-a17d-df86006a497a",
   "metadata": {},
   "outputs": [
    {
     "data": {
      "text/html": [
       "<div>\n",
       "<style scoped>\n",
       "    .dataframe tbody tr th:only-of-type {\n",
       "        vertical-align: middle;\n",
       "    }\n",
       "\n",
       "    .dataframe tbody tr th {\n",
       "        vertical-align: top;\n",
       "    }\n",
       "\n",
       "    .dataframe thead th {\n",
       "        text-align: right;\n",
       "    }\n",
       "</style>\n",
       "<table border=\"1\" class=\"dataframe\">\n",
       "  <thead>\n",
       "    <tr style=\"text-align: right;\">\n",
       "      <th></th>\n",
       "      <th>geometry</th>\n",
       "      <th>B02001_003E</th>\n",
       "      <th>B02001_004E</th>\n",
       "      <th>B02001_005E</th>\n",
       "      <th>B02001_006E</th>\n",
       "      <th>B02001_007E</th>\n",
       "      <th>B03002_001E</th>\n",
       "      <th>B01003_001E</th>\n",
       "      <th>Minority_Rate</th>\n",
       "    </tr>\n",
       "    <tr>\n",
       "      <th>COUNTYFP</th>\n",
       "      <th></th>\n",
       "      <th></th>\n",
       "      <th></th>\n",
       "      <th></th>\n",
       "      <th></th>\n",
       "      <th></th>\n",
       "      <th></th>\n",
       "      <th></th>\n",
       "      <th></th>\n",
       "    </tr>\n",
       "  </thead>\n",
       "  <tbody>\n",
       "    <tr>\n",
       "      <th>001</th>\n",
       "      <td>POLYGON ((-2216287.968 4138869.589, -2215413.7...</td>\n",
       "      <td>545.0</td>\n",
       "      <td>52565.0</td>\n",
       "      <td>262.0</td>\n",
       "      <td>55.0</td>\n",
       "      <td>759.0</td>\n",
       "      <td>71714.0</td>\n",
       "      <td>71714.0</td>\n",
       "      <td>175.558468</td>\n",
       "    </tr>\n",
       "    <tr>\n",
       "      <th>003</th>\n",
       "      <td>POLYGON ((-2260950.710 3843083.655, -2261376.6...</td>\n",
       "      <td>5158.0</td>\n",
       "      <td>1461.0</td>\n",
       "      <td>2386.0</td>\n",
       "      <td>400.0</td>\n",
       "      <td>3071.0</td>\n",
       "      <td>126442.0</td>\n",
       "      <td>126442.0</td>\n",
       "      <td>109.866975</td>\n",
       "    </tr>\n",
       "  </tbody>\n",
       "</table>\n",
       "</div>"
      ],
      "text/plain": [
       "                                                   geometry  B02001_003E  \\\n",
       "COUNTYFP                                                                   \n",
       "001       POLYGON ((-2216287.968 4138869.589, -2215413.7...        545.0   \n",
       "003       POLYGON ((-2260950.710 3843083.655, -2261376.6...       5158.0   \n",
       "\n",
       "          B02001_004E  B02001_005E  B02001_006E  B02001_007E  B03002_001E  \\\n",
       "COUNTYFP                                                                    \n",
       "001           52565.0        262.0         55.0        759.0      71714.0   \n",
       "003            1461.0       2386.0        400.0       3071.0     126442.0   \n",
       "\n",
       "          B01003_001E  Minority_Rate  \n",
       "COUNTYFP                              \n",
       "001           71714.0     175.558468  \n",
       "003          126442.0     109.866975  "
      ]
     },
     "execution_count": 13,
     "metadata": {},
     "output_type": "execute_result"
    }
   ],
   "source": [
    "# Get poverty rate and store values in new column\n",
    "########\n",
    "#This is where we can change what it illustrates I think\n",
    "\n",
    "az_poverty_county[\"Minority_Rate\"] = (az_poverty_county['B02001_003E'] + az_poverty_county['B02001_004E'] + \n",
    "                                     az_poverty_county['B02001_005E'] + az_poverty_county['B02001_006E']\n",
    "                                    + az_poverty_county['B02001_007E'] + az_poverty_county['B03002_001E']) / az_poverty_county['B01003_001E'] * 100\n",
    "\n",
    "# Show dataframe\n",
    "az_poverty_county.head(2)"
   ]
  },
  {
   "cell_type": "code",
   "execution_count": 14,
   "id": "b5d5a2a1-7b3e-47ff-9972-f8b8ae92df58",
   "metadata": {},
   "outputs": [
    {
     "data": {
      "text/plain": [
       "Text(0.5, 1.0, 'Minority Rates (%) in Arizona')"
      ]
     },
     "execution_count": 14,
     "metadata": {},
     "output_type": "execute_result"
    },
    {
     "data": {
      "image/png": "[encoded data removed]",
      "text/plain": [
       "<Figure size 2000x1000 with 2 Axes>"
      ]
     },
     "metadata": {},
     "output_type": "display_data"
    }
   ],
   "source": [
    "# Create subplots\n",
    "fig, ax = plt.subplots(1, 1, figsize = (20, 10))\n",
    "\n",
    "# Plot data\n",
    "# Source: https://geopandas.readthedocs.io/en/latest/docs/user_guide/mapping.html\n",
    "az_poverty_county.plot(column = \"Minority_Rate\",\n",
    "                       ax = ax,\n",
    "                       cmap = \"RdPu\",\n",
    "                       legend = True)\n",
    "\n",
    "# Stylize plots\n",
    "plt.style.use('bmh')\n",
    "\n",
    "# Set title\n",
    "ax.set_title('Minority Rates (%) in Arizona', fontdict = {'fontsize': '25', 'fontweight' : '3'})"
   ]
  },
  {
   "cell_type": "code",
   "execution_count": null,
   "id": "69a76fc7-d7a5-4af9-af3e-b38afd7fa03f",
   "metadata": {},
   "outputs": [],
   "source": []
  },
  {
   "cell_type": "code",
   "execution_count": null,
   "id": "f33e8d18-2935-41f7-80c7-84b0975054e0",
   "metadata": {},
   "outputs": [],
   "source": []
  },
  {
   "cell_type": "code",
   "execution_count": null,
   "id": "cb7a7d86-8e1f-4398-a063-dc6397eee92e",
   "metadata": {},
   "outputs": [],
   "source": []
  }
 ],
 "metadata": {
  "kernelspec": {
   "display_name": "Python 3 (ipykernel)",
   "language": "python",
   "name": "python3"
  },
  "language_info": {
   "codemirror_mode": {
    "name": "ipython",
    "version": 3
   },
   "file_extension": ".py",
   "mimetype": "text/x-python",
   "name": "python",
   "nbconvert_exporter": "python",
   "pygments_lexer": "ipython3",
   "version": "3.9.13"
  }
 },
 "nbformat": 4,
 "nbformat_minor": 5
}
