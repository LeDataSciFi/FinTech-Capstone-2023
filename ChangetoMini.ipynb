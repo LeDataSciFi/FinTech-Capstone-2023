{
 "cells": [
  {
   "cell_type": "code",
   "execution_count": 1,
   "id": "0df3f5c2-163d-4335-a438-617a04960054",
   "metadata": {},
   "outputs": [],
   "source": [
    "import os\n",
    "import csv\n",
    "import pandas as pd"
   ]
  },
  {
   "cell_type": "markdown",
   "id": "832b7eaf-774b-4ed0-9f05-57e26d8f2175",
   "metadata": {},
   "source": [
    "Set up\n",
    "\n",
    "This file....\n",
    "\n",
    "LAR / HMDA data (state_AZ-CA.csv)\n",
    "\n",
    "To download the entire file, go to this link. In Step 1 select Arizona and California. Then click download dataset.\n",
    "Save this file to the /input_data/ folder.\n",
    "Note: This file is 1.6GB, so it is not in the repo.\n",
    "Note: There are columns with \"mixed types\".\n",
    "The code below will create a mini version to work with while we develop the analysis."
   ]
  },
  {
   "cell_type": "code",
   "execution_count": 2,
   "id": "1e7f4977-3974-4204-8262-c830419ce162",
   "metadata": {},
   "outputs": [],
   "source": [
    "if not os.path.exists('./input_data/state_AZ-CA_mini.csv'):\n",
    "    hmda = pd.read_csv('./input_data/state_AZ-CA.csv')\n",
    "    hmda.sample(50000).to_csv('./input_data/state_AZ-CA_mini.csv',index=False)"
   ]
  }
 ],
 "metadata": {
  "kernelspec": {
   "display_name": "Python 3 (ipykernel)",
   "language": "python",
   "name": "python3"
  },
  "language_info": {
   "codemirror_mode": {
    "name": "ipython",
    "version": 3
   },
   "file_extension": ".py",
   "mimetype": "text/x-python",
   "name": "python",
   "nbconvert_exporter": "python",
   "pygments_lexer": "ipython3",
   "version": "3.9.13"
  }
 },
 "nbformat": 4,
 "nbformat_minor": 5
}
