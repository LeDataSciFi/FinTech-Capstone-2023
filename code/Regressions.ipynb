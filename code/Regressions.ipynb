{
 "cells": [
  {
   "cell_type": "code",
   "execution_count": 22,
   "id": "330fca3d-f8c0-49fb-aee0-8fbaf2fe55dc",
   "metadata": {},
   "outputs": [],
   "source": [
    "import pandas as pd\n",
    "import numpy as np\n",
    "import statsmodels.formula.api as smf\n",
    "pd.set_option('display.max_colwidth', None)\n",
    "from statsmodels.iolib.summary2 import summary_col "
   ]
  },
  {
   "cell_type": "code",
   "execution_count": 23,
   "id": "5a47dc9c-1011-4f85-8d5c-fa7875c21eb9",
   "metadata": {},
   "outputs": [],
   "source": [
    "import warnings\n",
    "# Ignore warnings by category\n",
    "warnings.filterwarnings(\"ignore\", category=DeprecationWarning)\n",
    "# Ignore warnings by message\n",
    "warnings.filterwarnings(\"ignore\", message=\".*\")"
   ]
  },
  {
   "cell_type": "code",
   "execution_count": 24,
   "id": "41f17aab-1bf5-4319-bd2c-eabf08b38333",
   "metadata": {},
   "outputs": [],
   "source": [
    "bank_tract = pd.read_csv(\"../input_data_clean/bank_tract_clean_WITH_CENSUS.csv\")\n",
    "bank_tract['which_bank'] = bank_tract['which_bank'].str.replace(' ', '')"
   ]
  },
  {
   "cell_type": "code",
   "execution_count": 25,
   "id": "3ff524a4-96d8-48f4-8a65-46936058d821",
   "metadata": {},
   "outputs": [],
   "source": [
    "# Calculate the hispanic rate and whether it's above the median\n",
    "bank_tract['hisp_rate'] = (bank_tract['HispanicLatinoPop'] / bank_tract['Tot.Pop']) * 100\n",
    "bank_tract['hisp_over_med'] = bank_tract['hisp_rate'] > np.median(bank_tract['hisp_rate'].dropna())\n",
    "bank_tract['hisp_over_med'] = bank_tract['hisp_over_med'].astype(int)\n",
    "\n",
    "# Calculate the log of number of applications\n",
    "bank_tract['log_num_apps'] = np.log(bank_tract['num_applications'])"
   ]
  },
  {
   "cell_type": "code",
   "execution_count": 26,
   "id": "e9dfefcf-d6fb-4015-a0a2-495c0ccb09cc",
   "metadata": {},
   "outputs": [],
   "source": [
    "def order_front(df, to_front):\n",
    "    '''\n",
    "    Moves columns in to_front to left of df.\n",
    "    '''\n",
    "    cols = list(df.columns)\n",
    "    for c in to_front:\n",
    "        cols.pop(cols.index(c))\n",
    "    cols = to_front + cols\n",
    "    return df[cols]\n",
    "\n",
    "bank_tract = order_front(bank_tract,['which_bank','census_tract'])"
   ]
  },
  {
   "cell_type": "markdown",
   "id": "b018ef48-fb77-47de-adac-c6a144c19d4a",
   "metadata": {},
   "source": [
    "## Linear Regression with Interaction Terms - median income as control"
   ]
  },
  {
   "cell_type": "code",
   "execution_count": 27,
   "id": "fd423330-5627-4db1-a6f0-8c396f6f84c5",
   "metadata": {},
   "outputs": [
    {
     "name": "stdout",
     "output_type": "stream",
     "text": [
      "\n",
      "==================================================================================================\n",
      "                                       Denial Rate I Denial Rate II  log_num_apps I log_num_apps I\n",
      "--------------------------------------------------------------------------------------------------\n",
      "Intercept                              0.1299***     0.1437***      4.3562***       4.1152***     \n",
      "                                       (0.0028)      (0.0024)       (0.0143)        (0.0126)      \n",
      "hisp_rate                              0.0011***                    -0.0133***                    \n",
      "                                       (0.0001)                     (0.0003)                      \n",
      "hisp_over_med                                        0.0496***                      -0.4828***    \n",
      "                                                     (0.0032)                       (0.0167)      \n",
      "which_bank[T.BankofWest]               0.1168***     0.0901***      -3.0934***      -2.9949***    \n",
      "                                       (0.0048)      (0.0039)       (0.0243)        (0.0205)      \n",
      "hisp_rate:which_bank[T.BankofWest]     -0.0018***                   0.0037***                     \n",
      "                                       (0.0001)                     (0.0006)                      \n",
      "hisp_over_med:which_bank[T.BankofWest]               -0.0720***                     0.1309***     \n",
      "                                                     (0.0057)                       (0.0304)      \n",
      "median_all_income                      -0.0000**     -0.0000**      -0.0001***      -0.0000       \n",
      "                                       (0.0000)      (0.0000)       (0.0000)        (0.0000)      \n",
      "R-squared                              0.0530        0.0453         0.7589          0.7387        \n",
      "R-squared Adj.                         0.0527        0.0450         0.7588          0.7386        \n",
      "R-squared                              0.0530        0.0453         0.7589          0.7387        \n",
      "Adj R-squared                          0.0527        0.0450         0.7588          0.7386        \n",
      "No. observations                       13433         13435          13433           13435         \n",
      "==================================================================================================\n",
      "Standard errors in parentheses.\n",
      "* p<.1, ** p<.05, ***p<.01\n"
     ]
    }
   ],
   "source": [
    "model1 = smf.ols('denial_rate ~ hisp_rate * which_bank + median_all_income', data=bank_tract).fit()\n",
    "model2 = smf.ols('denial_rate ~ hisp_over_med * which_bank + median_all_income', data=bank_tract).fit()\n",
    "model3 = smf.ols('log_num_apps ~ hisp_rate * which_bank + median_all_income', data=bank_tract).fit()\n",
    "model4 = smf.ols('log_num_apps ~ hisp_over_med * which_bank + median_all_income', data=bank_tract).fit()\n",
    "\n",
    "# now I'll format an output table\n",
    "# I'd like to include extra info in the table (not just coefficients)\n",
    "info_dict={'R-squared' : lambda x: f\"{x.rsquared:.4f}\",\n",
    "           'Adj R-squared' : lambda x: f\"{x.rsquared_adj:.4f}\",\n",
    "           'No. observations' : lambda x: f\"{int(x.nobs):d}\"}\n",
    "\n",
    "# This summary col function combines a bunch of regressions into one nice table\n",
    "print(summary_col(results=[model1,model2,model3,model4], # list the result obj here\n",
    "                  float_format='%0.4f',\n",
    "                  stars = True, # stars are easy way to see if anything is statistically significant\n",
    "                  model_names=['Denial Rate','Denial Rate',' log_num_apps','log_num_apps'], # these are bad names, lol. Usually, just use the y variable name\n",
    "                  info_dict=info_dict,\n",
    "                  regressor_order=[ 'Intercept', \"hisp_rate\", \"hisp_over_med\", \"which_bank[T.BankofWest]\", \"hisp_rate:which_bank[T.BankofWest]\",\n",
    "                                  \"hisp_over_med:which_bank[T.BankofWest]\", \"median_all_income\"]\n",
    "                  )\n",
    "     )"
   ]
  },
  {
   "cell_type": "markdown",
   "id": "d4ebc892-eac9-44d5-85b0-f2d8ac2ae4e6",
   "metadata": {},
   "source": [
    "## Linear Regression with Interaction Terms - median income and mean LTV as control"
   ]
  },
  {
   "cell_type": "code",
   "execution_count": 28,
   "id": "4782f028-b4b9-48e4-b71b-bbd57f386311",
   "metadata": {},
   "outputs": [
    {
     "name": "stdout",
     "output_type": "stream",
     "text": [
      "\n",
      "==================================================================================================\n",
      "                                       Denial Rate I Denial Rate II  log_num_apps I log_num_apps I\n",
      "--------------------------------------------------------------------------------------------------\n",
      "Intercept                              0.1144***     0.1263***      4.2558***       4.0557***     \n",
      "                                       (0.0049)      (0.0048)       (0.0251)        (0.0253)      \n",
      "hisp_rate                              0.0010***                    -0.0135***                    \n",
      "                                       (0.0001)                     (0.0003)                      \n",
      "hisp_over_med                                        0.0476***                      -0.4891***    \n",
      "                                                     (0.0032)                       (0.0169)      \n",
      "which_bank[T.BankofWest]               0.1169***     0.0907***      -3.0917***      -2.9929***    \n",
      "                                       (0.0047)      (0.0039)       (0.0242)        (0.0205)      \n",
      "hisp_rate:which_bank[T.BankofWest]     -0.0018***                   0.0038***                     \n",
      "                                       (0.0001)                     (0.0006)                      \n",
      "hisp_over_med:which_bank[T.BankofWest]               -0.0702***                     0.1360***     \n",
      "                                                     (0.0058)                       (0.0304)      \n",
      "median_all_income                      -0.0000**     -0.0000**      -0.0001***      -0.0000       \n",
      "                                       (0.0000)      (0.0000)       (0.0000)        (0.0000)      \n",
      "mean_LTV                               0.0003***     0.0003***      0.0017***       0.0010***     \n",
      "                                       (0.0001)      (0.0001)       (0.0003)        (0.0004)      \n",
      "R-squared                              0.0539        0.0466         0.7594          0.7389        \n",
      "R-squared Adj.                         0.0536        0.0462         0.7593          0.7389        \n",
      "R-squared                              0.0539        0.0466         0.7594          0.7389        \n",
      "Adj R-squared                          0.0536        0.0462         0.7593          0.7389        \n",
      "No. observations                       13432         13434          13432           13434         \n",
      "==================================================================================================\n",
      "Standard errors in parentheses.\n",
      "* p<.1, ** p<.05, ***p<.01\n"
     ]
    }
   ],
   "source": [
    "model1 = smf.ols('denial_rate ~ hisp_rate * which_bank + median_all_income + mean_LTV', data=bank_tract).fit()\n",
    "model2 = smf.ols('denial_rate ~ hisp_over_med * which_bank + median_all_income+ mean_LTV', data=bank_tract).fit()\n",
    "model3 = smf.ols('log_num_apps ~ hisp_rate * which_bank + median_all_income+ mean_LTV', data=bank_tract).fit()\n",
    "model4 = smf.ols('log_num_apps ~ hisp_over_med * which_bank + median_all_income+ mean_LTV', data=bank_tract).fit()\n",
    "\n",
    "# now I'll format an output table\n",
    "# I'd like to include extra info in the table (not just coefficients)\n",
    "info_dict={'R-squared' : lambda x: f\"{x.rsquared:.4f}\",\n",
    "           'Adj R-squared' : lambda x: f\"{x.rsquared_adj:.4f}\",\n",
    "           'No. observations' : lambda x: f\"{int(x.nobs):d}\"}\n",
    "\n",
    "# This summary col function combines a bunch of regressions into one nice table\n",
    "print(summary_col(results=[model1,model2,model3,model4], # list the result obj here\n",
    "                  float_format='%0.4f',\n",
    "                  stars = True, # stars are easy way to see if anything is statistically significant\n",
    "                  model_names=['Denial Rate','Denial Rate',' log_num_apps','log_num_apps'], # these are bad names, lol. Usually, just use the y variable name\n",
    "                  info_dict=info_dict,\n",
    "                  regressor_order=[ 'Intercept', \"hisp_rate\", \"hisp_over_med\", \"which_bank[T.BankofWest]\", \"hisp_rate:which_bank[T.BankofWest]\",\n",
    "                                  \"hisp_over_med:which_bank[T.BankofWest]\", \"median_all_income\", \"mean_LTV\"]\n",
    "                  )\n",
    "     )"
   ]
  }
 ],
 "metadata": {
  "kernelspec": {
   "display_name": "Python 3 (ipykernel)",
   "language": "python",
   "name": "python3"
  },
  "language_info": {
   "codemirror_mode": {
    "name": "ipython",
    "version": 3
   },
   "file_extension": ".py",
   "mimetype": "text/x-python",
   "name": "python",
   "nbconvert_exporter": "python",
   "pygments_lexer": "ipython3",
   "version": "3.9.15"
  }
 },
 "nbformat": 4,
 "nbformat_minor": 5
}
