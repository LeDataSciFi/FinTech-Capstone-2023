{
 "cells": [
  {
   "cell_type": "code",
   "execution_count": 1,
   "id": "330fca3d-f8c0-49fb-aee0-8fbaf2fe55dc",
   "metadata": {},
   "outputs": [],
   "source": [
    "import pandas as pd\n",
    "import numpy as np\n",
    "import statsmodels.formula.api as smf\n",
    "pd.set_option('display.max_colwidth', None)\n",
    "from statsmodels.iolib.summary2 import summary_col "
   ]
  },
  {
   "cell_type": "code",
   "execution_count": 2,
   "id": "5a47dc9c-1011-4f85-8d5c-fa7875c21eb9",
   "metadata": {},
   "outputs": [],
   "source": [
    "import warnings\n",
    "# Ignore warnings by category\n",
    "warnings.filterwarnings(\"ignore\", category=DeprecationWarning)\n",
    "# Ignore warnings by message\n",
    "warnings.filterwarnings(\"ignore\", message=\".*\")"
   ]
  },
  {
   "cell_type": "code",
   "execution_count": 3,
   "id": "41f17aab-1bf5-4319-bd2c-eabf08b38333",
   "metadata": {},
   "outputs": [],
   "source": [
    "bank_tract = pd.read_csv(\"../input_data_clean/bank_tract_clean_WITH_CENSUS.csv\")\n",
    "bank_tract['which_bank'] = bank_tract['which_bank'].str.replace(' ', '')"
   ]
  },
  {
   "cell_type": "code",
   "execution_count": 4,
   "id": "13e563f5-fdd0-40a6-a8ee-abc00ee67627",
   "metadata": {},
   "outputs": [
    {
     "data": {
      "text/plain": [
       "AllOtherBanks    9337\n",
       "BankofWest       4500\n",
       "Name: which_bank, dtype: int64"
      ]
     },
     "execution_count": 4,
     "metadata": {},
     "output_type": "execute_result"
    }
   ],
   "source": [
    "bank_tract['which_bank'].value_counts()"
   ]
  },
  {
   "cell_type": "code",
   "execution_count": 5,
   "id": "3ff524a4-96d8-48f4-8a65-46936058d821",
   "metadata": {},
   "outputs": [],
   "source": [
    "# Calculate the hispanic rate and whether it's above the median\n",
    "bank_tract['hisp_rate'] = (bank_tract['HispanicLatinoPop'] / bank_tract['Tot.Pop']) * 100\n",
    "bank_tract['hisp_over_med'] = bank_tract['hisp_rate'] > np.median(bank_tract['hisp_rate'].dropna())\n",
    "bank_tract['hisp_over_med'] = bank_tract['hisp_over_med'].astype(int)\n",
    "\n",
    "# Calculate the log of number of applications\n",
    "bank_tract['log_num_apps'] = np.log(1+bank_tract['num_applications'])"
   ]
  },
  {
   "cell_type": "code",
   "execution_count": 6,
   "id": "fa76bb87-626d-486c-8ae5-ffd123fb03b7",
   "metadata": {},
   "outputs": [
    {
     "data": {
      "text/plain": [
       "BankofWest       9340\n",
       "AllOtherBanks    9337\n",
       "Name: which_bank, dtype: int64"
      ]
     },
     "execution_count": 6,
     "metadata": {},
     "output_type": "execute_result"
    }
   ],
   "source": [
    "# Create a copy of the original dataframe\n",
    "bank_tract_new = bank_tract.copy()\n",
    "\n",
    "# Find the census tracts that have AllOtherBanks but not BankofWest\n",
    "missing_tracts = bank_tract_new[(bank_tract_new['which_bank'] == 'AllOtherBanks') & ~(bank_tract_new['census_tract'].isin(bank_tract_new[bank_tract_new['which_bank'] == 'BankofWest']['census_tract']))]\n",
    "\n",
    "# Update which_bank column to BankofWest\n",
    "missing_tracts['which_bank'] = 'BankofWest'\n",
    "\n",
    "# Set bank specific variables to 0\n",
    "start_col = bank_tract.columns.get_loc('sum_approved_loans')\n",
    "bank_specific_vars = bank_tract.columns[start_col:]\n",
    "missing_tracts[bank_specific_vars] = np.NaN\n",
    "missing_tracts['log_num_apps'] = 0\n",
    "\n",
    "# Append the missing rows to the new dataframe\n",
    "bank_tract_new = pd.concat([bank_tract_new, missing_tracts], ignore_index=True)\n",
    "\n",
    "# Verify that there are now equal numbers of rows for each which_bank value\n",
    "bank_tract_new[\"which_bank\"].value_counts()"
   ]
  },
  {
   "cell_type": "code",
   "execution_count": 7,
   "id": "bef2d705-4991-4cee-abcf-bc1977751ce6",
   "metadata": {},
   "outputs": [
    {
     "data": {
      "text/plain": [
       "AllOtherBanks    9340\n",
       "BankofWest       9340\n",
       "Name: which_bank, dtype: int64"
      ]
     },
     "execution_count": 7,
     "metadata": {},
     "output_type": "execute_result"
    }
   ],
   "source": [
    "# Create a copy of the original dataframe\n",
    "bank_tract_new1 = bank_tract_new.copy()\n",
    "\n",
    "# Find the census tracts that have BankofWest but not AllOtherBanks\n",
    "missing_tracts1 = bank_tract_new1[(bank_tract_new1['which_bank'] == 'BankofWest') & ~(bank_tract_new1['census_tract'].isin(bank_tract_new1[bank_tract_new1['which_bank'] == 'AllOtherBanks']['census_tract']))]\n",
    "\n",
    "# Update which_bank column to AllOtherBanks\n",
    "missing_tracts1['which_bank'] = 'AllOtherBanks'\n",
    "\n",
    "# Set bank specific variables to NaN\n",
    "start_col1 = bank_tract.columns.get_loc('sum_approved_loans')\n",
    "bank_specific_vars1 = bank_tract.columns[start_col:]\n",
    "missing_tracts1[bank_specific_vars1] = np.NaN\n",
    "missing_tracts1['log_num_apps'] = 0\n",
    "\n",
    "# Append the missing rows to the new dataframe\n",
    "bank_tract_new1 = pd.concat([bank_tract_new1, missing_tracts1], ignore_index=True)\n",
    "\n",
    "# Verify that there are now equal numbers of rows for each which_bank value\n",
    "bank_tract_new1[\"which_bank\"].value_counts()"
   ]
  },
  {
   "cell_type": "code",
   "execution_count": 8,
   "id": "e9dfefcf-d6fb-4015-a0a2-495c0ccb09cc",
   "metadata": {},
   "outputs": [],
   "source": [
    "def order_front(df, to_front):\n",
    "    '''\n",
    "    Moves columns in to_front to left of df.\n",
    "    '''\n",
    "    cols = list(df.columns)\n",
    "    for c in to_front:\n",
    "        cols.pop(cols.index(c))\n",
    "    cols = to_front + cols\n",
    "    return df[cols]\n",
    "\n",
    "bank_tract = order_front(bank_tract,['which_bank','census_tract'])"
   ]
  },
  {
   "cell_type": "markdown",
   "id": "d4ebc892-eac9-44d5-85b0-f2d8ac2ae4e6",
   "metadata": {},
   "source": [
    "## Linear Regression with Interaction Terms - median income and mean LTV as control"
   ]
  },
  {
   "cell_type": "code",
   "execution_count": 9,
   "id": "4782f028-b4b9-48e4-b71b-bbd57f386311",
   "metadata": {},
   "outputs": [
    {
     "name": "stdout",
     "output_type": "stream",
     "text": [
      "\n",
      "==================================================================================================\n",
      "                                       Denial Rate I Denial Rate II  log_num_apps I log_num_apps I\n",
      "--------------------------------------------------------------------------------------------------\n",
      "Intercept                              0.1144***     0.1263***      4.2705***       4.0785***     \n",
      "                                       (0.0049)      (0.0048)       (0.0225)        (0.0228)      \n",
      "hisp_rate                              0.0010***                    -0.0130***                    \n",
      "                                       (0.0001)                     (0.0003)                      \n",
      "hisp_over_med                                        0.0476***                      -0.4740***    \n",
      "                                                     (0.0032)                       (0.0152)      \n",
      "which_bank[T.BankofWest]               0.1169***     0.0907***      -2.8058***      -2.6806***    \n",
      "                                       (0.0047)      (0.0039)       (0.0217)        (0.0184)      \n",
      "hisp_rate:which_bank[T.BankofWest]     -0.0018***                   0.0059***                     \n",
      "                                       (0.0001)                     (0.0006)                      \n",
      "hisp_over_med:which_bank[T.BankofWest]               -0.0702***                     0.2149***     \n",
      "                                                     (0.0058)                       (0.0274)      \n",
      "median_all_income                      -0.0000**     -0.0000**      -0.0000**       -0.0000       \n",
      "                                       (0.0000)      (0.0000)       (0.0000)        (0.0000)      \n",
      "mean_LTV                               0.0003***     0.0003***      0.0016***       0.0010***     \n",
      "                                       (0.0001)      (0.0001)       (0.0003)        (0.0003)      \n",
      "R-squared                              0.0539        0.0466         0.7540          0.7311        \n",
      "R-squared Adj.                         0.0536        0.0462         0.7539          0.7310        \n",
      "R-squared                              0.0539        0.0466         0.7540          0.7311        \n",
      "Adj R-squared                          0.0536        0.0462         0.7539          0.7310        \n",
      "No. observations                       13432         13434          13432           13434         \n",
      "==================================================================================================\n",
      "Standard errors in parentheses.\n",
      "* p<.1, ** p<.05, ***p<.01\n"
     ]
    }
   ],
   "source": [
    "model1 = smf.ols('denial_rate ~ hisp_rate * which_bank + median_all_income + mean_LTV', data=bank_tract).fit()\n",
    "model2 = smf.ols('denial_rate ~ hisp_over_med * which_bank + median_all_income+ mean_LTV', data=bank_tract).fit()\n",
    "model3 = smf.ols('log_num_apps ~ hisp_rate * which_bank + median_all_income+ mean_LTV', data=bank_tract).fit()\n",
    "model4 = smf.ols('log_num_apps ~ hisp_over_med * which_bank + median_all_income+ mean_LTV', data=bank_tract).fit()\n",
    "\n",
    "# now I'll format an output table\n",
    "# I'd like to include extra info in the table (not just coefficients)\n",
    "info_dict={'R-squared' : lambda x: f\"{x.rsquared:.4f}\",\n",
    "           'Adj R-squared' : lambda x: f\"{x.rsquared_adj:.4f}\",\n",
    "           'No. observations' : lambda x: f\"{int(x.nobs):d}\"}\n",
    "\n",
    "# This summary col function combines a bunch of regressions into one nice table\n",
    "print(summary_col(results=[model1,model2,model3,model4], # list the result obj here\n",
    "                  float_format='%0.4f',\n",
    "                  stars = True, # stars are easy way to see if anything is statistically significant\n",
    "                  model_names=['Denial Rate','Denial Rate',' log_num_apps','log_num_apps'], # these are bad names, lol. Usually, just use the y variable name\n",
    "                  info_dict=info_dict,\n",
    "                  regressor_order=[ 'Intercept', \"hisp_rate\", \"hisp_over_med\", \"which_bank[T.BankofWest]\", \"hisp_rate:which_bank[T.BankofWest]\",\n",
    "                                  \"hisp_over_med:which_bank[T.BankofWest]\", \"median_all_income\", \"mean_LTV\"]\n",
    "                  )\n",
    "     )"
   ]
  },
  {
   "cell_type": "code",
   "execution_count": null,
   "id": "d3f54db3-fe21-44bc-8152-7ac55f665193",
   "metadata": {},
   "outputs": [],
   "source": []
  }
 ],
 "metadata": {
  "kernelspec": {
   "display_name": "Python 3 (ipykernel)",
   "language": "python",
   "name": "python3"
  },
  "language_info": {
   "codemirror_mode": {
    "name": "ipython",
    "version": 3
   },
   "file_extension": ".py",
   "mimetype": "text/x-python",
   "name": "python",
   "nbconvert_exporter": "python",
   "pygments_lexer": "ipython3",
   "version": "3.9.15"
  }
 },
 "nbformat": 4,
 "nbformat_minor": 5
}
