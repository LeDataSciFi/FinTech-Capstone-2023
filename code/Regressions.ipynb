{
 "cells": [
  {
   "cell_type": "code",
   "execution_count": 1,
   "id": "330fca3d-f8c0-49fb-aee0-8fbaf2fe55dc",
   "metadata": {},
   "outputs": [],
   "source": [
    "import pandas as pd\n",
    "import numpy as np\n",
    "import statsmodels.formula.api as smf\n",
    "pd.set_option('display.max_colwidth', None)\n",
    "from statsmodels.iolib.summary2 import summary_col "
   ]
  },
  {
   "cell_type": "code",
   "execution_count": 2,
   "id": "5a47dc9c-1011-4f85-8d5c-fa7875c21eb9",
   "metadata": {},
   "outputs": [],
   "source": [
    "import warnings\n",
    "# Ignore warnings by category\n",
    "warnings.filterwarnings(\"ignore\", category=DeprecationWarning)\n",
    "# Ignore warnings by message\n",
    "warnings.filterwarnings(\"ignore\", message=\".*\")"
   ]
  },
  {
   "cell_type": "code",
   "execution_count": 3,
   "id": "41f17aab-1bf5-4319-bd2c-eabf08b38333",
   "metadata": {},
   "outputs": [],
   "source": [
    "bank_tract = pd.read_csv(\"../input_data_clean/bank_tract_clean_WITH_CENSUS.csv\")\n",
    "bank_tract['which_bank'] = bank_tract['which_bank'].str.replace(' ', '')"
   ]
  },
  {
   "cell_type": "code",
   "execution_count": 4,
   "id": "13e563f5-fdd0-40a6-a8ee-abc00ee67627",
   "metadata": {},
   "outputs": [
    {
     "data": {
      "text/plain": [
       "AllOtherBanks    9337\n",
       "BankofWest       4500\n",
       "Name: which_bank, dtype: int64"
      ]
     },
     "execution_count": 4,
     "metadata": {},
     "output_type": "execute_result"
    }
   ],
   "source": [
    "bank_tract['which_bank'].value_counts()"
   ]
  },
  {
   "cell_type": "code",
   "execution_count": 5,
   "id": "3ff524a4-96d8-48f4-8a65-46936058d821",
   "metadata": {},
   "outputs": [],
   "source": [
    "# Calculate the hispanic rate and whether it's above the median\n",
    "bank_tract['hisp_rate'] = (bank_tract['HispanicLatinoPop'] / bank_tract['Tot.Pop']) * 100\n",
    "bank_tract['hisp_over_med'] = bank_tract['hisp_rate'] > np.median(bank_tract['hisp_rate'].dropna())\n",
    "bank_tract['hisp_over_med'] = bank_tract['hisp_over_med'].astype(int)\n",
    "\n",
    "# Adding them at the start so that they don't get set to 0\n",
    "bank_tract.insert(0, 'hisp_over_med', bank_tract.pop('hisp_over_med'))\n",
    "bank_tract.insert(0, 'hisp_rate', bank_tract.pop('hisp_rate'))\n",
    "\n",
    "# Calculate the log of number of applications\n",
    "bank_tract['log_num_apps'] = np.log(1+bank_tract['num_applications'])"
   ]
  },
  {
   "cell_type": "markdown",
   "id": "65e685f0-eb8b-4061-94b7-9542d9f5edd6",
   "metadata": {},
   "source": [
    "### Adding rows (census tracts) where BoW is not active, but All Other Banks Are "
   ]
  },
  {
   "cell_type": "code",
   "execution_count": 6,
   "id": "fa76bb87-626d-486c-8ae5-ffd123fb03b7",
   "metadata": {},
   "outputs": [
    {
     "data": {
      "text/plain": [
       "BankofWest       9340\n",
       "AllOtherBanks    9337\n",
       "Name: which_bank, dtype: int64"
      ]
     },
     "execution_count": 6,
     "metadata": {},
     "output_type": "execute_result"
    }
   ],
   "source": [
    "# Create a copy of the original dataframe\n",
    "bank_tract_new = bank_tract.copy()\n",
    "\n",
    "# Find the census tracts that have AllOtherBanks but not BankofWest\n",
    "missing_tracts = bank_tract_new[(bank_tract_new['which_bank'] == 'AllOtherBanks') & ~(bank_tract_new['census_tract'].isin(bank_tract_new[bank_tract_new['which_bank'] == 'BankofWest']['census_tract']))]\n",
    "\n",
    "# Update which_bank column to BankofWest\n",
    "missing_tracts['which_bank'] = 'BankofWest'\n",
    "\n",
    "# Set bank specific variables to 0\n",
    "start_col = bank_tract.columns.get_loc('sum_approved_loans')\n",
    "bank_specific_vars = bank_tract.columns[start_col:]\n",
    "missing_tracts[bank_specific_vars] = np.NaN\n",
    "missing_tracts['log_num_apps'] = 0\n",
    "\n",
    "# Append the missing rows to the new dataframe\n",
    "bank_tract_new = pd.concat([bank_tract_new, missing_tracts], ignore_index=True)\n",
    "\n",
    "# Verify that there are now equal numbers of rows for each which_bank value\n",
    "bank_tract_new[\"which_bank\"].value_counts()"
   ]
  },
  {
   "cell_type": "markdown",
   "id": "f08a90d7-4588-425f-a603-cd98007373c0",
   "metadata": {},
   "source": [
    "### Adding rows (census tracts) where All Other Banks Are are not active, but BoW is."
   ]
  },
  {
   "cell_type": "code",
   "execution_count": 7,
   "id": "bef2d705-4991-4cee-abcf-bc1977751ce6",
   "metadata": {},
   "outputs": [
    {
     "data": {
      "text/plain": [
       "AllOtherBanks    9340\n",
       "BankofWest       9340\n",
       "Name: which_bank, dtype: int64"
      ]
     },
     "execution_count": 7,
     "metadata": {},
     "output_type": "execute_result"
    }
   ],
   "source": [
    "# Create a copy of the original dataframe\n",
    "bank_tract_full = bank_tract_new.copy()\n",
    "\n",
    "# Find the census tracts that have BankofWest but not AllOtherBanks\n",
    "missing_tracts1 = bank_tract_full[(bank_tract_full['which_bank'] == 'BankofWest') & ~(bank_tract_full['census_tract'].isin(bank_tract_full[bank_tract_full['which_bank'] == 'AllOtherBanks']['census_tract']))]\n",
    "\n",
    "# Update which_bank column to AllOtherBanks\n",
    "missing_tracts1['which_bank'] = 'AllOtherBanks'\n",
    "\n",
    "# Set bank specific variables to NaN\n",
    "start_col1 = bank_tract.columns.get_loc('sum_approved_loans')\n",
    "bank_specific_vars1 = bank_tract.columns[start_col:]\n",
    "missing_tracts1[bank_specific_vars1] = np.NaN\n",
    "missing_tracts1['log_num_apps'] = 0\n",
    "\n",
    "# Append the missing rows to the new dataframe\n",
    "bank_tract_full = pd.concat([bank_tract_full, missing_tracts1], ignore_index=True)\n",
    "\n",
    "# Verify that there are now equal numbers of rows for each which_bank value\n",
    "bank_tract_full[\"which_bank\"].value_counts()"
   ]
  },
  {
   "cell_type": "code",
   "execution_count": 20,
   "id": "c5a3e0a3-5836-433a-98e6-6ac563d5159c",
   "metadata": {},
   "outputs": [],
   "source": [
    "# Creating a denial count variabel so that in th eregression models only rows that have a non-null denial rate are included \n",
    "bank_tract_full['tract_denial_count'] = bank_tract_full.groupby('census_tract')['denial_rate'].transform(pd.Series.count)"
   ]
  },
  {
   "cell_type": "markdown",
   "id": "eeff911c-5c66-431a-bf49-dc73ab496d55",
   "metadata": {},
   "source": [
    "### Investigating more control variables to include in regression"
   ]
  },
  {
   "cell_type": "code",
   "execution_count": 10,
   "id": "f96643b8-d026-4ebf-92b2-2a9e1e92477a",
   "metadata": {},
   "outputs": [],
   "source": [
    "census_vars = pd.read_csv(\"../input_data/census_vars.csv\")"
   ]
  },
  {
   "cell_type": "code",
   "execution_count": 11,
   "id": "c437a65e-c8d4-4391-8e7a-17f3b436e99e",
   "metadata": {},
   "outputs": [],
   "source": [
    "possible_vars = census_vars.iloc[:88, 1]"
   ]
  },
  {
   "cell_type": "code",
   "execution_count": 13,
   "id": "7a0215f8-889b-4b85-aeaf-2ecc52be7415",
   "metadata": {},
   "outputs": [],
   "source": [
    "pd.set_option(\"display.max_rows\", None)"
   ]
  },
  {
   "cell_type": "code",
   "execution_count": 18,
   "id": "26fca297-6104-46bf-a78e-7f04c849226a",
   "metadata": {},
   "outputs": [],
   "source": [
    "possible_vars1 = possible_vars.iloc[20:,]"
   ]
  },
  {
   "cell_type": "markdown",
   "id": "d406b841-628f-40e5-ad26-18eee55bbfca",
   "metadata": {},
   "source": [
    "Vars to use: Median household Income, Ratio of Income to Poverty Level, Per Capita Incoome, Median Family Income"
   ]
  },
  {
   "cell_type": "markdown",
   "id": "0ac52719-577a-40b8-8760-f5095e219a3c",
   "metadata": {},
   "source": [
    "### Cleaning census control vars to use in regression"
   ]
  },
  {
   "cell_type": "code",
   "execution_count": 34,
   "id": "769312a2-7143-41f3-ad0b-150cf0c5cbd9",
   "metadata": {},
   "outputs": [
    {
     "data": {
      "text/plain": [
       "['Med.HousehIncome',\n",
       " 'RatioIncomeToPovertyLevel',\n",
       " 'PerCap.Income',\n",
       " 'Med.FamIncome']"
      ]
     },
     "execution_count": 34,
     "metadata": {},
     "output_type": "execute_result"
    }
   ],
   "source": [
    "# List of variables to clean\n",
    "cols_to_clean = [\"Med.HousehIncome\", \"RatioIncomeToPovertyLevel\", \"PerCap.Income\", \"Med.FamIncome\"]\n",
    "\n",
    "# Replace empty and negative values with NaN\n",
    "bank_tract_full[cols_to_clean] = bank_tract_full[cols_to_clean].applymap(lambda x: np.NaN if (x == '' or x < 0) else x)"
   ]
  },
  {
   "cell_type": "code",
   "execution_count": 37,
   "id": "9b9b14dc-461d-414b-9f4f-e87525483f3e",
   "metadata": {},
   "outputs": [
    {
     "data": {
      "text/html": [
       "<div>\n",
       "<style scoped>\n",
       "    .dataframe tbody tr th:only-of-type {\n",
       "        vertical-align: middle;\n",
       "    }\n",
       "\n",
       "    .dataframe tbody tr th {\n",
       "        vertical-align: top;\n",
       "    }\n",
       "\n",
       "    .dataframe thead th {\n",
       "        text-align: right;\n",
       "    }\n",
       "</style>\n",
       "<table border=\"1\" class=\"dataframe\">\n",
       "  <thead>\n",
       "    <tr style=\"text-align: right;\">\n",
       "      <th></th>\n",
       "      <th>Med.HousehIncome</th>\n",
       "      <th>RatioIncomeToPovertyLevel</th>\n",
       "      <th>PerCap.Income</th>\n",
       "      <th>Med.FamIncome</th>\n",
       "      <th>median_all_income</th>\n",
       "      <th>mean_LTV</th>\n",
       "      <th>median_all_income</th>\n",
       "      <th>mean_LTV</th>\n",
       "    </tr>\n",
       "  </thead>\n",
       "  <tbody>\n",
       "    <tr>\n",
       "      <th>count</th>\n",
       "      <td>18658.000000</td>\n",
       "      <td>18680.000000</td>\n",
       "      <td>18674.000000</td>\n",
       "      <td>18614.000000</td>\n",
       "      <td>13435.000000</td>\n",
       "      <td>13833.000000</td>\n",
       "      <td>13435.000000</td>\n",
       "      <td>13833.000000</td>\n",
       "    </tr>\n",
       "    <tr>\n",
       "      <th>mean</th>\n",
       "      <td>79065.168400</td>\n",
       "      <td>4818.880621</td>\n",
       "      <td>37180.969262</td>\n",
       "      <td>90385.196949</td>\n",
       "      <td>153.556085</td>\n",
       "      <td>63.655351</td>\n",
       "      <td>153.556085</td>\n",
       "      <td>63.655351</td>\n",
       "    </tr>\n",
       "    <tr>\n",
       "      <th>std</th>\n",
       "      <td>38400.119425</td>\n",
       "      <td>2169.322939</td>\n",
       "      <td>21572.777062</td>\n",
       "      <td>45020.093275</td>\n",
       "      <td>327.767463</td>\n",
       "      <td>19.763747</td>\n",
       "      <td>327.767463</td>\n",
       "      <td>19.763747</td>\n",
       "    </tr>\n",
       "    <tr>\n",
       "      <th>min</th>\n",
       "      <td>11576.000000</td>\n",
       "      <td>0.000000</td>\n",
       "      <td>1276.000000</td>\n",
       "      <td>14471.000000</td>\n",
       "      <td>0.000000</td>\n",
       "      <td>2.884700</td>\n",
       "      <td>0.000000</td>\n",
       "      <td>2.884700</td>\n",
       "    </tr>\n",
       "    <tr>\n",
       "      <th>25%</th>\n",
       "      <td>50802.000000</td>\n",
       "      <td>3416.000000</td>\n",
       "      <td>22047.000000</td>\n",
       "      <td>56482.750000</td>\n",
       "      <td>84.000000</td>\n",
       "      <td>55.788607</td>\n",
       "      <td>84.000000</td>\n",
       "      <td>55.788607</td>\n",
       "    </tr>\n",
       "    <tr>\n",
       "      <th>50%</th>\n",
       "      <td>71000.000000</td>\n",
       "      <td>4534.500000</td>\n",
       "      <td>31681.000000</td>\n",
       "      <td>80332.000000</td>\n",
       "      <td>114.000000</td>\n",
       "      <td>64.124411</td>\n",
       "      <td>114.000000</td>\n",
       "      <td>64.124411</td>\n",
       "    </tr>\n",
       "    <tr>\n",
       "      <th>75%</th>\n",
       "      <td>98375.000000</td>\n",
       "      <td>5848.000000</td>\n",
       "      <td>45846.000000</td>\n",
       "      <td>114209.500000</td>\n",
       "      <td>170.000000</td>\n",
       "      <td>72.347100</td>\n",
       "      <td>170.000000</td>\n",
       "      <td>72.347100</td>\n",
       "    </tr>\n",
       "    <tr>\n",
       "      <th>max</th>\n",
       "      <td>250001.000000</td>\n",
       "      <td>30844.000000</td>\n",
       "      <td>176388.000000</td>\n",
       "      <td>250001.000000</td>\n",
       "      <td>33827.000000</td>\n",
       "      <td>1815.708527</td>\n",
       "      <td>33827.000000</td>\n",
       "      <td>1815.708527</td>\n",
       "    </tr>\n",
       "  </tbody>\n",
       "</table>\n",
       "</div>"
      ],
      "text/plain": [
       "       Med.HousehIncome  RatioIncomeToPovertyLevel  PerCap.Income  \\\n",
       "count      18658.000000               18680.000000   18674.000000   \n",
       "mean       79065.168400                4818.880621   37180.969262   \n",
       "std        38400.119425                2169.322939   21572.777062   \n",
       "min        11576.000000                   0.000000    1276.000000   \n",
       "25%        50802.000000                3416.000000   22047.000000   \n",
       "50%        71000.000000                4534.500000   31681.000000   \n",
       "75%        98375.000000                5848.000000   45846.000000   \n",
       "max       250001.000000               30844.000000  176388.000000   \n",
       "\n",
       "       Med.FamIncome  median_all_income      mean_LTV  median_all_income  \\\n",
       "count   18614.000000       13435.000000  13833.000000       13435.000000   \n",
       "mean    90385.196949         153.556085     63.655351         153.556085   \n",
       "std     45020.093275         327.767463     19.763747         327.767463   \n",
       "min     14471.000000           0.000000      2.884700           0.000000   \n",
       "25%     56482.750000          84.000000     55.788607          84.000000   \n",
       "50%     80332.000000         114.000000     64.124411         114.000000   \n",
       "75%    114209.500000         170.000000     72.347100         170.000000   \n",
       "max    250001.000000       33827.000000   1815.708527       33827.000000   \n",
       "\n",
       "           mean_LTV  \n",
       "count  13833.000000  \n",
       "mean      63.655351  \n",
       "std       19.763747  \n",
       "min        2.884700  \n",
       "25%       55.788607  \n",
       "50%       64.124411  \n",
       "75%       72.347100  \n",
       "max     1815.708527  "
      ]
     },
     "execution_count": 37,
     "metadata": {},
     "output_type": "execute_result"
    }
   ],
   "source": [
    "cols_to_clean.extend(['median_all_income', \"mean_LTV\"])\n",
    "bank_tract_full[cols_to_clean].describe()"
   ]
  },
  {
   "cell_type": "markdown",
   "id": "d4ebc892-eac9-44d5-85b0-f2d8ac2ae4e6",
   "metadata": {},
   "source": [
    "## Linear Regression with Interaction Terms - median income and mean LTV as control"
   ]
  },
  {
   "cell_type": "code",
   "execution_count": 9,
   "id": "4782f028-b4b9-48e4-b71b-bbd57f386311",
   "metadata": {},
   "outputs": [
    {
     "name": "stdout",
     "output_type": "stream",
     "text": [
      "\n",
      "==================================================================================================\n",
      "                                       Denial Rate I Denial Rate II  log_num_apps I log_num_apps I\n",
      "--------------------------------------------------------------------------------------------------\n",
      "Intercept                              0.0999***     0.1120***      4.2705***       4.0785***     \n",
      "                                       (0.0092)      (0.0091)       (0.0225)        (0.0228)      \n",
      "hisp_rate                              0.0012***                    -0.0130***                    \n",
      "                                       (0.0001)                     (0.0003)                      \n",
      "hisp_over_med                                        0.0463***                      -0.4740***    \n",
      "                                                     (0.0054)                       (0.0152)      \n",
      "which_bank[T.BankofWest]               0.1253***     0.0978***      -2.8058***      -2.6806***    \n",
      "                                       (0.0062)      (0.0050)       (0.0217)        (0.0184)      \n",
      "hisp_rate:which_bank[T.BankofWest]     -0.0019***                   0.0059***                     \n",
      "                                       (0.0002)                     (0.0006)                      \n",
      "hisp_over_med:which_bank[T.BankofWest]               -0.0685***                     0.2149***     \n",
      "                                                     (0.0077)                       (0.0274)      \n",
      "median_all_income                      -0.0000       -0.0000        -0.0000**       -0.0000       \n",
      "                                       (0.0000)      (0.0000)       (0.0000)        (0.0000)      \n",
      "mean_LTV                               0.0003**      0.0004***      0.0016***       0.0010***     \n",
      "                                       (0.0001)      (0.0001)       (0.0003)        (0.0003)      \n",
      "R-squared                              0.0532        0.0482         0.7540          0.7311        \n",
      "R-squared Adj.                         0.0526        0.0476         0.7539          0.7310        \n",
      "R-squared                              0.0532        0.0482         0.7540          0.7311        \n",
      "Adj R-squared                          0.0526        0.0476         0.7539          0.7310        \n",
      "No. observations                       8608          8608           13432           13434         \n",
      "==================================================================================================\n",
      "Standard errors in parentheses.\n",
      "* p<.1, ** p<.05, ***p<.01\n"
     ]
    }
   ],
   "source": [
    "model1 = smf.ols('denial_rate ~ hisp_rate * which_bank + median_all_income + mean_LTV', data=bank_tract_full.query(\"tract_denial_count == 2\")).fit()\n",
    "model2 = smf.ols('denial_rate ~ hisp_over_med * which_bank + median_all_income+ mean_LTV', data=bank_tract_full.query(\"tract_denial_count == 2\")).fit()\n",
    "model3 = smf.ols('log_num_apps ~ hisp_rate * which_bank + median_all_income+ mean_LTV', data=bank_tract_full).fit()\n",
    "model4 = smf.ols('log_num_apps ~ hisp_over_med * which_bank + median_all_income+ mean_LTV', data=bank_tract_full).fit()\n",
    "\n",
    "# now I'll format an output table\n",
    "# I'd like to include extra info in the table (not just coefficients)\n",
    "info_dict={'R-squared' : lambda x: f\"{x.rsquared:.4f}\",\n",
    "           'Adj R-squared' : lambda x: f\"{x.rsquared_adj:.4f}\",\n",
    "           'No. observations' : lambda x: f\"{int(x.nobs):d}\"}\n",
    "\n",
    "# This summary col function combines a bunch of regressions into one nice table\n",
    "print(summary_col(results=[model1,model2,model3,model4], # list the result obj here\n",
    "                  float_format='%0.4f',\n",
    "                  stars = True, # stars are easy way to see if anything is statistically significant\n",
    "                  model_names=['Denial Rate','Denial Rate',' log_num_apps','log_num_apps'], # these are bad names, lol. Usually, just use the y variable name\n",
    "                  info_dict=info_dict,\n",
    "                  regressor_order=[ 'Intercept', \"hisp_rate\", \"hisp_over_med\", \"which_bank[T.BankofWest]\", \"hisp_rate:which_bank[T.BankofWest]\",\n",
    "                                  \"hisp_over_med:which_bank[T.BankofWest]\", \"median_all_income\", \"mean_LTV\"]\n",
    "                  )\n",
    "     )"
   ]
  }
 ],
 "metadata": {
  "kernelspec": {
   "display_name": "Python 3 (ipykernel)",
   "language": "python",
   "name": "python3"
  },
  "language_info": {
   "codemirror_mode": {
    "name": "ipython",
    "version": 3
   },
   "file_extension": ".py",
   "mimetype": "text/x-python",
   "name": "python",
   "nbconvert_exporter": "python",
   "pygments_lexer": "ipython3",
   "version": "3.9.15"
  }
 },
 "nbformat": 4,
 "nbformat_minor": 5
}
