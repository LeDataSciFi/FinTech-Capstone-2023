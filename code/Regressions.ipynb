{
 "cells": [
  {
   "cell_type": "code",
   "execution_count": 44,
   "id": "330fca3d-f8c0-49fb-aee0-8fbaf2fe55dc",
   "metadata": {},
   "outputs": [],
   "source": [
    "import pandas as pd\n",
    "import numpy as np\n",
    "import statsmodels.formula.api as smf\n",
    "pd.set_option('display.max_colwidth', None)\n",
    "from statsmodels.iolib.summary2 import summary_col "
   ]
  },
  {
   "cell_type": "code",
   "execution_count": 45,
   "id": "5a47dc9c-1011-4f85-8d5c-fa7875c21eb9",
   "metadata": {},
   "outputs": [],
   "source": [
    "import warnings\n",
    "# Ignore warnings by category\n",
    "warnings.filterwarnings(\"ignore\", category=DeprecationWarning)\n",
    "# Ignore warnings by message\n",
    "warnings.filterwarnings(\"ignore\", message=\".*\")"
   ]
  },
  {
   "cell_type": "code",
   "execution_count": 46,
   "id": "41f17aab-1bf5-4319-bd2c-eabf08b38333",
   "metadata": {},
   "outputs": [],
   "source": [
    "bank_tract = pd.read_csv(\"../input_data_clean/bank_tract_clean_WITH_CENSUS.csv\")\n",
    "bank_tract['which_bank'] = bank_tract['which_bank'].str.replace(' ', '')"
   ]
  },
  {
   "cell_type": "code",
   "execution_count": 47,
   "id": "13e563f5-fdd0-40a6-a8ee-abc00ee67627",
   "metadata": {},
   "outputs": [
    {
     "data": {
      "text/plain": [
       "AllOtherBanks    9337\n",
       "BankofWest       4500\n",
       "Name: which_bank, dtype: int64"
      ]
     },
     "execution_count": 47,
     "metadata": {},
     "output_type": "execute_result"
    }
   ],
   "source": [
    "bank_tract['which_bank'].value_counts()"
   ]
  },
  {
   "cell_type": "code",
   "execution_count": 49,
   "id": "3ff524a4-96d8-48f4-8a65-46936058d821",
   "metadata": {},
   "outputs": [],
   "source": [
    "# Calculate the hispanic rate and whether it's above the median\n",
    "bank_tract['hisp_rate'] = (bank_tract['HispanicLatinoPop'] / bank_tract['Tot.Pop']) * 100\n",
    "bank_tract['hisp_over_med'] = bank_tract['hisp_rate'] > np.median(bank_tract['hisp_rate'].dropna())\n",
    "bank_tract['hisp_over_med'] = bank_tract['hisp_over_med'].astype(int)\n",
    "\n",
    "# Adding them at the start so that they don't get set to 0\n",
    "bank_tract.insert(0, 'hisp_over_med', bank_tract.pop('hisp_over_med'))\n",
    "bank_tract.insert(0, 'hisp_rate', bank_tract.pop('hisp_rate'))\n",
    "\n",
    "# Calculate the black rate and whether it's above the median\n",
    "bank_tract['black_rate'] = (bank_tract['Tot.BlackPop '] / bank_tract['Tot.Pop']) * 100\n",
    "bank_tract['black_over_med'] = bank_tract['black_rate'] > np.median(bank_tract['black_rate'].dropna())\n",
    "bank_tract['black_over_med'] = bank_tract['black_over_med'].astype(int)\n",
    "\n",
    "# Adding them at the start so that they don't get set to 0\n",
    "bank_tract.insert(0, 'black_over_med', bank_tract.pop('black_over_med'))\n",
    "bank_tract.insert(0, 'black_rate', bank_tract.pop('black_rate'))\n",
    "\n",
    "# Calculate the asian rate and whether it's above the median\n",
    "bank_tract['asian_rate'] = (bank_tract['Tot.AsianPop'] / bank_tract['Tot.Pop']) * 100\n",
    "bank_tract['asian_over_med'] = bank_tract['asian_rate'] > np.median(bank_tract['asian_rate'].dropna())\n",
    "bank_tract['asian_over_med'] = bank_tract['asian_over_med'].astype(int)\n",
    "\n",
    "# Adding them at the start so that they don't get set to 0\n",
    "bank_tract.insert(0, 'asian_over_med', bank_tract.pop('asian_over_med'))\n",
    "bank_tract.insert(0, 'asian_rate', bank_tract.pop('asian_rate'))\n",
    "\n",
    "# Creating the major minority variable\n",
    "bank_tract['major_minority'] = bank_tract.apply(lambda row: 'Hispanic' if row['hisp_rate'] > row['black_rate'] and row['hisp_rate'] > row['asian_rate'] else ('Asian' if row['asian_rate'] > row['black_rate'] and row['asian_rate'] > row['hisp_rate'] else 'Black'), axis=1)\n",
    "bank_tract.insert(0, 'major_minority', bank_tract.pop('major_minority'))\n",
    "\n",
    "# Calculate the log of number of applications\n",
    "bank_tract['log_num_apps'] = np.log(1+bank_tract['num_applications'])"
   ]
  },
  {
   "cell_type": "markdown",
   "id": "65e685f0-eb8b-4061-94b7-9542d9f5edd6",
   "metadata": {},
   "source": [
    "### Adding rows (census tracts) where BoW is not active, but All Other Banks Are "
   ]
  },
  {
   "cell_type": "code",
   "execution_count": 50,
   "id": "fa76bb87-626d-486c-8ae5-ffd123fb03b7",
   "metadata": {},
   "outputs": [
    {
     "data": {
      "text/plain": [
       "BankofWest       9340\n",
       "AllOtherBanks    9337\n",
       "Name: which_bank, dtype: int64"
      ]
     },
     "execution_count": 50,
     "metadata": {},
     "output_type": "execute_result"
    }
   ],
   "source": [
    "# Create a copy of the original dataframe\n",
    "bank_tract_new = bank_tract.copy()\n",
    "\n",
    "# Find the census tracts that have AllOtherBanks but not BankofWest\n",
    "missing_tracts = bank_tract_new[(bank_tract_new['which_bank'] == 'AllOtherBanks') & ~(bank_tract_new['census_tract'].isin(bank_tract_new[bank_tract_new['which_bank'] == 'BankofWest']['census_tract']))]\n",
    "\n",
    "# Update which_bank column to BankofWest\n",
    "missing_tracts['which_bank'] = 'BankofWest'\n",
    "\n",
    "# Set bank specific variables to 0\n",
    "start_col = bank_tract.columns.get_loc('sum_approved_loans')\n",
    "bank_specific_vars = bank_tract.columns[start_col:]\n",
    "missing_tracts[bank_specific_vars] = np.NaN\n",
    "missing_tracts['log_num_apps'] = 0\n",
    "\n",
    "# Append the missing rows to the new dataframe\n",
    "bank_tract_new = pd.concat([bank_tract_new, missing_tracts], ignore_index=True)\n",
    "\n",
    "# Verify that there are now equal numbers of rows for each which_bank value\n",
    "bank_tract_new[\"which_bank\"].value_counts()"
   ]
  },
  {
   "cell_type": "markdown",
   "id": "f08a90d7-4588-425f-a603-cd98007373c0",
   "metadata": {},
   "source": [
    "### Adding rows (census tracts) where All Other Banks Are are not active, but BoW is."
   ]
  },
  {
   "cell_type": "code",
   "execution_count": 51,
   "id": "bef2d705-4991-4cee-abcf-bc1977751ce6",
   "metadata": {},
   "outputs": [
    {
     "data": {
      "text/plain": [
       "AllOtherBanks    9340\n",
       "BankofWest       9340\n",
       "Name: which_bank, dtype: int64"
      ]
     },
     "execution_count": 51,
     "metadata": {},
     "output_type": "execute_result"
    }
   ],
   "source": [
    "# Create a copy of the original dataframe\n",
    "bank_tract_full = bank_tract_new.copy()\n",
    "\n",
    "# Find the census tracts that have BankofWest but not AllOtherBanks\n",
    "missing_tracts1 = bank_tract_full[(bank_tract_full['which_bank'] == 'BankofWest') & ~(bank_tract_full['census_tract'].isin(bank_tract_full[bank_tract_full['which_bank'] == 'AllOtherBanks']['census_tract']))]\n",
    "\n",
    "# Update which_bank column to AllOtherBanks\n",
    "missing_tracts1['which_bank'] = 'AllOtherBanks'\n",
    "\n",
    "# Set bank specific variables to NaN\n",
    "start_col1 = bank_tract.columns.get_loc('sum_approved_loans')\n",
    "bank_specific_vars1 = bank_tract.columns[start_col:]\n",
    "missing_tracts1[bank_specific_vars1] = np.NaN\n",
    "missing_tracts1['log_num_apps'] = 0\n",
    "\n",
    "# Append the missing rows to the new dataframe\n",
    "bank_tract_full = pd.concat([bank_tract_full, missing_tracts1], ignore_index=True)\n",
    "\n",
    "# Verify that there are now equal numbers of rows for each which_bank value\n",
    "bank_tract_full[\"which_bank\"].value_counts()"
   ]
  },
  {
   "cell_type": "code",
   "execution_count": 52,
   "id": "c5a3e0a3-5836-433a-98e6-6ac563d5159c",
   "metadata": {},
   "outputs": [],
   "source": [
    "# Creating a denial count variabel so that in th eregression models only rows that have a non-null denial rate are included \n",
    "bank_tract_full['tract_denial_count'] = bank_tract_full.groupby('census_tract')['denial_rate'].transform(pd.Series.count)"
   ]
  },
  {
   "cell_type": "markdown",
   "id": "eeff911c-5c66-431a-bf49-dc73ab496d55",
   "metadata": {},
   "source": [
    "### Investigating more control variables to include in regression"
   ]
  },
  {
   "cell_type": "code",
   "execution_count": 10,
   "id": "f96643b8-d026-4ebf-92b2-2a9e1e92477a",
   "metadata": {},
   "outputs": [],
   "source": [
    "census_vars = pd.read_csv(\"../input_data/census_vars.csv\")"
   ]
  },
  {
   "cell_type": "code",
   "execution_count": 11,
   "id": "c437a65e-c8d4-4391-8e7a-17f3b436e99e",
   "metadata": {},
   "outputs": [],
   "source": [
    "possible_vars = census_vars.iloc[:88, 1]"
   ]
  },
  {
   "cell_type": "code",
   "execution_count": 13,
   "id": "7a0215f8-889b-4b85-aeaf-2ecc52be7415",
   "metadata": {},
   "outputs": [],
   "source": [
    "pd.set_option(\"display.max_rows\", None)"
   ]
  },
  {
   "cell_type": "code",
   "execution_count": 18,
   "id": "26fca297-6104-46bf-a78e-7f04c849226a",
   "metadata": {},
   "outputs": [],
   "source": [
    "possible_vars1 = possible_vars.iloc[20:,]"
   ]
  },
  {
   "cell_type": "markdown",
   "id": "d406b841-628f-40e5-ad26-18eee55bbfca",
   "metadata": {},
   "source": [
    "Vars to use: Median household Income, Ratio of Income to Poverty Level, Per Capita Incoome, Median Family Income"
   ]
  },
  {
   "cell_type": "markdown",
   "id": "0ac52719-577a-40b8-8760-f5095e219a3c",
   "metadata": {},
   "source": [
    "### Cleaning census control vars to use in regression"
   ]
  },
  {
   "cell_type": "code",
   "execution_count": 53,
   "id": "769312a2-7143-41f3-ad0b-150cf0c5cbd9",
   "metadata": {},
   "outputs": [],
   "source": [
    "# List of variables to clean\n",
    "cols_to_clean = [\"Med.HousehIncome\", \"RatioIncomeToPovertyLevel\", \"PerCap.Income\", \"Med.FamIncome\"]\n",
    "\n",
    "# Replace empty and negative values with NaN\n",
    "bank_tract_full[cols_to_clean] = bank_tract_full[cols_to_clean].applymap(lambda x: np.NaN if (x == '' or x < 0) else x)"
   ]
  },
  {
   "cell_type": "code",
   "execution_count": 54,
   "id": "9b9b14dc-461d-414b-9f4f-e87525483f3e",
   "metadata": {},
   "outputs": [
    {
     "data": {
      "text/html": [
       "<div>\n",
       "<style scoped>\n",
       "    .dataframe tbody tr th:only-of-type {\n",
       "        vertical-align: middle;\n",
       "    }\n",
       "\n",
       "    .dataframe tbody tr th {\n",
       "        vertical-align: top;\n",
       "    }\n",
       "\n",
       "    .dataframe thead th {\n",
       "        text-align: right;\n",
       "    }\n",
       "</style>\n",
       "<table border=\"1\" class=\"dataframe\">\n",
       "  <thead>\n",
       "    <tr style=\"text-align: right;\">\n",
       "      <th></th>\n",
       "      <th>Med.HousehIncome</th>\n",
       "      <th>RatioIncomeToPovertyLevel</th>\n",
       "      <th>PerCap.Income</th>\n",
       "      <th>Med.FamIncome</th>\n",
       "      <th>median_all_income</th>\n",
       "      <th>mean_LTV</th>\n",
       "    </tr>\n",
       "  </thead>\n",
       "  <tbody>\n",
       "    <tr>\n",
       "      <th>count</th>\n",
       "      <td>18658.000000</td>\n",
       "      <td>18680.000000</td>\n",
       "      <td>18674.000000</td>\n",
       "      <td>18614.000000</td>\n",
       "      <td>13435.000000</td>\n",
       "      <td>13833.000000</td>\n",
       "    </tr>\n",
       "    <tr>\n",
       "      <th>mean</th>\n",
       "      <td>79065.168400</td>\n",
       "      <td>4818.880621</td>\n",
       "      <td>37180.969262</td>\n",
       "      <td>90385.196949</td>\n",
       "      <td>153.556085</td>\n",
       "      <td>63.655351</td>\n",
       "    </tr>\n",
       "    <tr>\n",
       "      <th>std</th>\n",
       "      <td>38400.119425</td>\n",
       "      <td>2169.322939</td>\n",
       "      <td>21572.777062</td>\n",
       "      <td>45020.093275</td>\n",
       "      <td>327.767463</td>\n",
       "      <td>19.763747</td>\n",
       "    </tr>\n",
       "    <tr>\n",
       "      <th>min</th>\n",
       "      <td>11576.000000</td>\n",
       "      <td>0.000000</td>\n",
       "      <td>1276.000000</td>\n",
       "      <td>14471.000000</td>\n",
       "      <td>0.000000</td>\n",
       "      <td>2.884700</td>\n",
       "    </tr>\n",
       "    <tr>\n",
       "      <th>25%</th>\n",
       "      <td>50802.000000</td>\n",
       "      <td>3416.000000</td>\n",
       "      <td>22047.000000</td>\n",
       "      <td>56482.750000</td>\n",
       "      <td>84.000000</td>\n",
       "      <td>55.788607</td>\n",
       "    </tr>\n",
       "    <tr>\n",
       "      <th>50%</th>\n",
       "      <td>71000.000000</td>\n",
       "      <td>4534.500000</td>\n",
       "      <td>31681.000000</td>\n",
       "      <td>80332.000000</td>\n",
       "      <td>114.000000</td>\n",
       "      <td>64.124411</td>\n",
       "    </tr>\n",
       "    <tr>\n",
       "      <th>75%</th>\n",
       "      <td>98375.000000</td>\n",
       "      <td>5848.000000</td>\n",
       "      <td>45846.000000</td>\n",
       "      <td>114209.500000</td>\n",
       "      <td>170.000000</td>\n",
       "      <td>72.347100</td>\n",
       "    </tr>\n",
       "    <tr>\n",
       "      <th>max</th>\n",
       "      <td>250001.000000</td>\n",
       "      <td>30844.000000</td>\n",
       "      <td>176388.000000</td>\n",
       "      <td>250001.000000</td>\n",
       "      <td>33827.000000</td>\n",
       "      <td>1815.708527</td>\n",
       "    </tr>\n",
       "  </tbody>\n",
       "</table>\n",
       "</div>"
      ],
      "text/plain": [
       "       Med.HousehIncome  RatioIncomeToPovertyLevel  PerCap.Income  \\\n",
       "count      18658.000000               18680.000000   18674.000000   \n",
       "mean       79065.168400                4818.880621   37180.969262   \n",
       "std        38400.119425                2169.322939   21572.777062   \n",
       "min        11576.000000                   0.000000    1276.000000   \n",
       "25%        50802.000000                3416.000000   22047.000000   \n",
       "50%        71000.000000                4534.500000   31681.000000   \n",
       "75%        98375.000000                5848.000000   45846.000000   \n",
       "max       250001.000000               30844.000000  176388.000000   \n",
       "\n",
       "       Med.FamIncome  median_all_income      mean_LTV  \n",
       "count   18614.000000       13435.000000  13833.000000  \n",
       "mean    90385.196949         153.556085     63.655351  \n",
       "std     45020.093275         327.767463     19.763747  \n",
       "min     14471.000000           0.000000      2.884700  \n",
       "25%     56482.750000          84.000000     55.788607  \n",
       "50%     80332.000000         114.000000     64.124411  \n",
       "75%    114209.500000         170.000000     72.347100  \n",
       "max    250001.000000       33827.000000   1815.708527  "
      ]
     },
     "execution_count": 54,
     "metadata": {},
     "output_type": "execute_result"
    }
   ],
   "source": [
    "# Possible columns to include\n",
    "cols_to_clean.extend(['median_all_income', \"mean_LTV\"])\n",
    "bank_tract_full[cols_to_clean].describe()"
   ]
  },
  {
   "cell_type": "code",
   "execution_count": 83,
   "id": "92c05595-c167-4053-bf33-025203ad4c75",
   "metadata": {},
   "outputs": [],
   "source": [
    "# populate null values with 0\n",
    "bank_tract_full[\"hisp_rate\"].fillna(0, inplace=True)\n",
    "bank_tract_full[\"black_rate\"].fillna(0, inplace=True)\n",
    "bank_tract_full[\"asian_rate\"].fillna(0, inplace=True)\n",
    "\n",
    "#Change the name of the Med.HousehIncome variable\n",
    "bank_tract_full.rename(columns={\"Med.HousehIncome\":\"MedHousehIncome\", \"PerCap.Income\" : \"PerCapIncome\", \"Med.FamIncome\":\"MedFamIncome\"}, inplace=True)"
   ]
  },
  {
   "cell_type": "code",
   "execution_count": 82,
   "id": "2b0318d7-b715-480d-afa0-9236a1b867e7",
   "metadata": {},
   "outputs": [
    {
     "data": {
      "text/plain": [
       "log_num_apps         18680\n",
       "hisp_rate            18680\n",
       "hisp_over_med        18680\n",
       "black_rate           18680\n",
       "black_over_med       18680\n",
       "asian_rate           18680\n",
       "asian_over_med       18680\n",
       "which_bank           18680\n",
       "median_all_income    13435\n",
       "mean_LTV             13833\n",
       "dtype: int64"
      ]
     },
     "execution_count": 82,
     "metadata": {},
     "output_type": "execute_result"
    }
   ],
   "source": [
    "bank_tract_full[['log_num_apps','hisp_rate','hisp_over_med',\"black_rate\", \"black_over_med\",\"asian_rate\", \"asian_over_med\", 'which_bank','median_all_income','mean_LTV']].count()"
   ]
  },
  {
   "cell_type": "markdown",
   "id": "62f33663-f5de-445e-9ab7-9c6604eefc33",
   "metadata": {},
   "source": [
    "### Denial Rate Regression table using minority rates variables"
   ]
  },
  {
   "cell_type": "code",
   "execution_count": 95,
   "id": "2658718d-4b56-4956-bf99-5b4e9983d014",
   "metadata": {},
   "outputs": [
    {
     "name": "stdout",
     "output_type": "stream",
     "text": [
      "==============================================================================================================\n",
      "                                             y = denial_rate\n",
      "\n",
      "=====================================================================================================\n",
      "                                                     Hispanic    Black      Asian    MajorityMinority\n",
      "-----------------------------------------------------------------------------------------------------\n",
      "Intercept                                           0.1085***  0.1223***  0.1599***  0.1068***       \n",
      "                                                    (0.0132)   (0.0116)   (0.0119)   (0.0124)        \n",
      "which_bank[T.BankofWest]                            0.1258***  0.0795***  0.0380***  0.1257***       \n",
      "                                                    (0.0062)   (0.0045)   (0.0052)   (0.0069)        \n",
      "MedHousehIncome                                     -0.0000    -0.0000    -0.0000    -0.0000         \n",
      "                                                    (0.0000)   (0.0000)   (0.0000)   (0.0000)        \n",
      "PerCapIncome                                        -0.0000    -0.0000    -0.0000    -0.0000         \n",
      "                                                    (0.0000)   (0.0000)   (0.0000)   (0.0000)        \n",
      "MedFamIncome                                        0.0000     0.0000     -0.0000    0.0000          \n",
      "                                                    (0.0000)   (0.0000)   (0.0000)   (0.0000)        \n",
      "median_all_income                                   -0.0000    -0.0000    -0.0000    -0.0000         \n",
      "                                                    (0.0000)   (0.0000)   (0.0000)   (0.0000)        \n",
      "mean_LTV                                            0.0003**   0.0005***  0.0004**   0.0004**        \n",
      "                                                    (0.0001)   (0.0001)   (0.0001)   (0.0001)        \n",
      "hisp_rate                                           0.0011***                                        \n",
      "                                                    (0.0001)                                         \n",
      "major_minority[T.Hispanic]:which_bank[T.BankofWest]                                  -0.0795***      \n",
      "                                                                                     (0.0083)        \n",
      "major_minority[T.Hispanic]                                                           0.0472***       \n",
      "                                                                                     (0.0063)        \n",
      "major_minority[T.Black]:which_bank[T.BankofWest]                                     -0.1134***      \n",
      "                                                                                     (0.0264)        \n",
      "major_minority[T.Black]                                                              0.0537***       \n",
      "                                                                                     (0.0185)        \n",
      "hisp_rate:which_bank[T.BankofWest]                  -0.0019***                                       \n",
      "                                                    (0.0002)                                         \n",
      "black_rate:which_bank[T.BankofWest]                            -0.0022***                            \n",
      "                                                               (0.0005)                              \n",
      "black_rate                                                     0.0017***                             \n",
      "                                                               (0.0004)                              \n",
      "asian_rate:which_bank[T.BankofWest]                                       0.0020***                  \n",
      "                                                                          (0.0002)                   \n",
      "asian_rate                                                                -0.0011***                 \n",
      "                                                                          (0.0002)                   \n",
      "R-squared                                           0.0535     0.0417     0.0474     0.0497          \n",
      "R-squared Adj.                                      0.0526     0.0408     0.0465     0.0486          \n",
      "R-squared                                           0.05       0.04       0.05       0.05            \n",
      "Adj R-squared                                       0.05       0.04       0.05       0.05            \n",
      "No. observations                                    8592       8592       8592       8592            \n",
      "=====================================================================================================\n",
      "Standard errors in parentheses.\n",
      "* p<.1, ** p<.05, ***p<.01\n"
     ]
    }
   ],
   "source": [
    "census_tract_vars = [\"MedHousehIncome\", \"PerCapIncome\", \"MedFamIncome\"]\n",
    "bank_tract_vars = [\"median_all_income\", \"mean_LTV\"]\n",
    "results = []\n",
    "x_vars = ['hisp_rate','black_rate','asian_rate',\"major_minority\"]\n",
    "\n",
    "for v in x_vars :\n",
    "    formula = f\"denial_rate ~ {v} * which_bank + {'+'.join(census_tract_vars)} + {'+'.join(bank_tract_vars)}\"\n",
    "    #print(formula)\n",
    "    results.append(\n",
    "        smf.ols(formula,data=bank_tract_full.query(\"tract_denial_count == 2\")).fit()\n",
    "    )\n",
    "\n",
    "# now I'll format an output table\n",
    "# I'd like to include extra info in the table (not just coefficients)\n",
    "info_dict={'R-squared' : lambda x: f\"{x.rsquared:.2f}\",\n",
    "           'Adj R-squared' : lambda x: f\"{x.rsquared_adj:.2f}\",\n",
    "           'No. observations' : lambda x: f\"{int(x.nobs):d}\"}\n",
    "\n",
    "# instead of having a row for each minority vairable, combine into one row, column labels will distinguish\n",
    "# create custom variable labels for the variables you want to combine\n",
    "varlabels = {v:'High Minority' for v in x_vars}\n",
    "\n",
    "print('='*110)\n",
    "print('                                             y = denial_rate')\n",
    "\n",
    "# This summary col function combines a bunch of regressions into one nice table\n",
    "print(summary_col(results=results, \n",
    "                  float_format='%0.4f',\n",
    "                  stars = True, \n",
    "                  model_names=[\"Hispanic\", \"Black\", \"Asian\", \"MajorityMinority\"],\n",
    "                  #varlabels = varlabels,\n",
    "                  info_dict=info_dict,\n",
    "                  regressor_order=[ 'Intercept', \"High Minority\", \"which_bank[T.BankofWest]\", \"High Minority:which_bank[T.BankofWest]\",\n",
    "                                 \"MedHousehIncome\", \"PerCapIncome\", \"MedFamIncome\", \"median_all_income\", \"mean_LTV\"]\n",
    "                  )\n",
    "     )"
   ]
  },
  {
   "cell_type": "markdown",
   "id": "f2dd8723-3b17-41b6-a7bb-e45da3b03180",
   "metadata": {},
   "source": [
    "### Denial Rate Regression table using minority over median variables"
   ]
  },
  {
   "cell_type": "code",
   "execution_count": 91,
   "id": "2a7690ac-6753-4ea1-a1f1-88f5b6dd50b2",
   "metadata": {},
   "outputs": [
    {
     "name": "stdout",
     "output_type": "stream",
     "text": [
      "==============================================================================================================\n",
      "                                             y = denial_rate\n",
      "\n",
      "===============================================================================================\n",
      "                                                    Hispanic  Black    Asian   MajorityMinority\n",
      "-----------------------------------------------------------------------------------------------\n",
      "Intercept                                           0.12***  0.12***  0.16***  0.11***         \n",
      "                                                    (0.01)   (0.01)   (0.01)   (0.01)          \n",
      "which_bank[T.BankofWest]                            0.10***  0.08***  0.03***  0.13***         \n",
      "                                                    (0.00)   (0.01)   (0.01)   (0.01)          \n",
      "MedHousehIncome                                     -0.00    -0.00    -0.00    -0.00           \n",
      "                                                    (0.00)   (0.00)   (0.00)   (0.00)          \n",
      "PerCapIncome                                        -0.00    -0.00    -0.00    -0.00           \n",
      "                                                    (0.00)   (0.00)   (0.00)   (0.00)          \n",
      "MedFamIncome                                        0.00     -0.00    -0.00    0.00            \n",
      "                                                    (0.00)   (0.00)   (0.00)   (0.00)          \n",
      "median_all_income                                   -0.00    -0.00    -0.00    -0.00           \n",
      "                                                    (0.00)   (0.00)   (0.00)   (0.00)          \n",
      "mean_LTV                                            0.00**   0.00***  0.00***  0.00**          \n",
      "                                                    (0.00)   (0.00)   (0.00)   (0.00)          \n",
      "hisp_over_med                                       0.05***                                    \n",
      "                                                    (0.01)                                     \n",
      "major_minority[T.Hispanic]:which_bank[T.BankofWest]                            -0.08***        \n",
      "                                                                               (0.01)          \n",
      "major_minority[T.Hispanic]                                                     0.05***         \n",
      "                                                                               (0.01)          \n",
      "major_minority[T.Black]:which_bank[T.BankofWest]                               -0.11***        \n",
      "                                                                               (0.03)          \n",
      "major_minority[T.Black]                                                        0.05***         \n",
      "                                                                               (0.02)          \n",
      "hisp_over_med:which_bank[T.BankofWest]              -0.07***                                   \n",
      "                                                    (0.01)                                     \n",
      "black_over_med:which_bank[T.BankofWest]                      -0.03***                          \n",
      "                                                             (0.01)                            \n",
      "black_over_med                                               0.02***                           \n",
      "                                                             (0.01)                            \n",
      "asian_over_med:which_bank[T.BankofWest]                               0.06***                  \n",
      "                                                                      (0.01)                   \n",
      "asian_over_med                                                        -0.03***                 \n",
      "                                                                      (0.01)                   \n",
      "R-squared                                           0.05     0.04     0.05     0.05            \n",
      "R-squared Adj.                                      0.05     0.04     0.05     0.05            \n",
      "R-squared                                           0.05     0.04     0.05     0.05            \n",
      "Adj R-squared                                       0.05     0.04     0.05     0.05            \n",
      "No. observations                                    8592     8592     8592     8592            \n",
      "===============================================================================================\n",
      "Standard errors in parentheses.\n",
      "* p<.1, ** p<.05, ***p<.01\n"
     ]
    }
   ],
   "source": [
    "census_tract_vars = [\"MedHousehIncome\", \"PerCapIncome\", \"MedFamIncome\"]\n",
    "bank_tract_vars = [\"median_all_income\", \"mean_LTV\"]\n",
    "results = []\n",
    "x_vars = ['hisp_over_med','black_over_med','asian_over_med',\"major_minority\"]\n",
    "\n",
    "for v in x_vars :\n",
    "    formula = f\"denial_rate ~ {v} * which_bank + {'+'.join(census_tract_vars)} + {'+'.join(bank_tract_vars)}\"\n",
    "    #print(formula)\n",
    "    results.append(\n",
    "        smf.ols(formula,data=bank_tract_full.query(\"tract_denial_count == 2\")).fit()\n",
    "    )\n",
    "\n",
    "# now I'll format an output table\n",
    "# I'd like to include extra info in the table (not just coefficients)\n",
    "info_dict={'R-squared' : lambda x: f\"{x.rsquared:.2f}\",\n",
    "           'Adj R-squared' : lambda x: f\"{x.rsquared_adj:.2f}\",\n",
    "           'No. observations' : lambda x: f\"{int(x.nobs):d}\"}\n",
    "\n",
    "# instead of having a row for each minority vairable, combine into one row, column labels will distinguish\n",
    "# create custom variable labels for the variables you want to combine\n",
    "varlabels = {v:'High Minority' for v in x_vars}\n",
    "\n",
    "print('='*110)\n",
    "print('                                             y = denial_rate')\n",
    "\n",
    "# This summary col function combines a bunch of regressions into one nice table\n",
    "print(summary_col(results=results, \n",
    "                  float_format='%0.2f',\n",
    "                  stars = True, \n",
    "                  model_names=[\"Hispanic\", \"Black\", \"Asian\", \"MajorityMinority\"],\n",
    "                  #varlabels = varlabels,\n",
    "                  info_dict=info_dict,\n",
    "                  regressor_order=[ 'Intercept', \"High Minority\", \"which_bank[T.BankofWest]\", \"High Minority:which_bank[T.BankofWest]\",\n",
    "                                 \"MedHousehIncome\", \"PerCapIncome\", \"MedFamIncome\", \"median_all_income\", \"mean_LTV\"]\n",
    "                  )\n",
    "     )"
   ]
  },
  {
   "cell_type": "markdown",
   "id": "438cce6c-9ef6-4d16-a95f-c52dd6b3dd62",
   "metadata": {},
   "source": [
    "### Log number apps regression table using minority rate variables"
   ]
  },
  {
   "cell_type": "code",
   "execution_count": 80,
   "id": "ba3afc67-fd51-4fd3-85ea-cd7a7005a638",
   "metadata": {},
   "outputs": [
    {
     "name": "stdout",
     "output_type": "stream",
     "text": [
      "==============================================================================================================\n",
      "                                          y = log(number of applications)\n",
      "\n",
      "==================================================================================================\n",
      "                                                    hisp_rate black_rate asian_rate major_minority\n",
      "--------------------------------------------------------------------------------------------------\n",
      "Intercept                                           3.48***   3.12***    3.17***    2.92***       \n",
      "                                                    (0.02)    (0.01)     (0.01)     (0.02)        \n",
      "which_bank[T.BankofWest]                            -3.40***  -3.26***   -3.37***   -3.01***      \n",
      "                                                    (0.02)    (0.01)     (0.01)     (0.02)        \n",
      "MedHousehIncome                                     0.00***   0.00***    0.00***    0.00***       \n",
      "                                                    (0.00)    (0.00)     (0.00)     (0.00)        \n",
      "asian_rate                                                               -0.01***                 \n",
      "                                                                         (0.00)                   \n",
      "asian_rate:which_bank[T.BankofWest]                                      0.01***                  \n",
      "                                                                         (0.00)                   \n",
      "black_rate                                                    -0.00                               \n",
      "                                                              (0.00)                              \n",
      "black_rate:which_bank[T.BankofWest]                           -0.00                               \n",
      "                                                              (0.00)                              \n",
      "hisp_rate                                           -0.01***                                      \n",
      "                                                    (0.00)                                        \n",
      "hisp_rate:which_bank[T.BankofWest]                  0.00***                                       \n",
      "                                                    (0.00)                                        \n",
      "major_minority[T.Black]                                                             0.11**        \n",
      "                                                                                    (0.05)        \n",
      "major_minority[T.Black]:which_bank[T.BankofWest]                                    -0.11         \n",
      "                                                                                    (0.07)        \n",
      "major_minority[T.Hispanic]                                                          0.21***       \n",
      "                                                                                    (0.02)        \n",
      "major_minority[T.Hispanic]:which_bank[T.BankofWest]                                 -0.31***      \n",
      "                                                                                    (0.03)        \n",
      "R-squared                                           0.85      0.85       0.85       0.85          \n",
      "R-squared Adj.                                      0.85      0.85       0.85       0.85          \n",
      "R-squared                                           0.85      0.85       0.85       0.85          \n",
      "Adj R-squared                                       0.85      0.85       0.85       0.85          \n",
      "No. observations                                    18658     18658      18658      18658         \n",
      "==================================================================================================\n",
      "Standard errors in parentheses.\n",
      "* p<.1, ** p<.05, ***p<.01\n"
     ]
    }
   ],
   "source": [
    "census_tract_vars = [\"MedHousehIncome\", \"PerCapIncome\", \"MedFamIncome\"]\n",
    "bank_tract_vars = [\"median_all_income\", \"mean_LTV\"]\n",
    "results = []\n",
    "x_vars = ['hisp_rate','black_rate','asian_rate',\"major_minority\"]\n",
    "\n",
    "for v in x_vars :\n",
    "    formula = f\"log_num_apps ~ {v} * which_bank + {'+'.join(census_tract_vars)}\"\n",
    "    #print(formula)\n",
    "    results.append(\n",
    "        smf.ols(formula,data=bank_tract_full).fit()\n",
    "    )\n",
    "\n",
    "# now I'll format an output table\n",
    "# I'd like to include extra info in the table (not just coefficients)\n",
    "info_dict={'R-squared' : lambda x: f\"{x.rsquared:.2f}\",\n",
    "           'Adj R-squared' : lambda x: f\"{x.rsquared_adj:.2f}\",\n",
    "           'No. observations' : lambda x: f\"{int(x.nobs):d}\"}\n",
    "\n",
    "# instead of having a row for each minority vairable, combine into one row, column labels will distinguish\n",
    "# create custom variable labels for the variables you want to combine\n",
    "varlabels = {v:'High Minority' for v in x_vars}\n",
    "\n",
    "print('='*110)\n",
    "print('                                          y = log(number of applications)')\n",
    "\n",
    "# This summary col function combines a bunch of regressions into one nice table\n",
    "print(summary_col(results=results, \n",
    "                  float_format='%0.2f',\n",
    "                  stars = True, \n",
    "                  model_names=x_vars,\n",
    "                  #varlabels = varlabels,\n",
    "                  info_dict=info_dict,\n",
    "                  regressor_order=[ 'Intercept', \"High Minority\", \"which_bank[T.BankofWest]\", \"High Minority:which_bank[T.BankofWest]\",\n",
    "                                 \"median_all_income\", \"mean_LTV\"]\n",
    "                  )\n",
    "     )"
   ]
  },
  {
   "cell_type": "markdown",
   "id": "bf4d7526-6ee8-4466-a80d-3afc272c633e",
   "metadata": {},
   "source": [
    "### Log number apps regression table using minority over median variables"
   ]
  },
  {
   "cell_type": "code",
   "execution_count": 78,
   "id": "59231f5b-17ab-4bba-a641-3dda63e08e15",
   "metadata": {},
   "outputs": [
    {
     "name": "stdout",
     "output_type": "stream",
     "text": [
      "==============================================================================================================\n",
      "                                          y = log(number of applications)\n",
      "\n",
      "==============================================================================================================\n",
      "                                                    hisp_over_med black_over_med asian_over_med major_minority\n",
      "--------------------------------------------------------------------------------------------------------------\n",
      "Intercept                                           3.22***       3.08***        3.17***        2.92***       \n",
      "                                                    (0.02)        (0.02)         (0.01)         (0.02)        \n",
      "which_bank[T.BankofWest]                            -3.30***      -3.20***       -3.36***       -3.01***      \n",
      "                                                    (0.01)        (0.01)         (0.01)         (0.02)        \n",
      "MedHousehIncome                                     0.00***       0.00***        0.00***        0.00***       \n",
      "                                                    (0.00)        (0.00)         (0.00)         (0.00)        \n",
      "asian_over_med                                                                   -0.15***                     \n",
      "                                                                                 (0.01)                       \n",
      "asian_over_med:which_bank[T.BankofWest]                                          0.21***                      \n",
      "                                                                                 (0.02)                       \n",
      "black_over_med                                                    0.07***                                     \n",
      "                                                                  (0.01)                                      \n",
      "black_over_med:which_bank[T.BankofWest]                           -0.11***                                    \n",
      "                                                                  (0.02)                                      \n",
      "hisp_over_med                                       -0.12***                                                  \n",
      "                                                    (0.02)                                                    \n",
      "hisp_over_med:which_bank[T.BankofWest]              0.08***                                                   \n",
      "                                                    (0.02)                                                    \n",
      "major_minority[T.Black]                                                                         0.11**        \n",
      "                                                                                                (0.05)        \n",
      "major_minority[T.Black]:which_bank[T.BankofWest]                                                -0.11         \n",
      "                                                                                                (0.07)        \n",
      "major_minority[T.Hispanic]                                                                      0.21***       \n",
      "                                                                                                (0.02)        \n",
      "major_minority[T.Hispanic]:which_bank[T.BankofWest]                                             -0.31***      \n",
      "                                                                                                (0.03)        \n",
      "R-squared                                           0.85          0.85           0.85           0.85          \n",
      "R-squared Adj.                                      0.85          0.85           0.85           0.85          \n",
      "R-squared                                           0.85          0.85           0.85           0.85          \n",
      "Adj R-squared                                       0.85          0.85           0.85           0.85          \n",
      "No. observations                                    18658         18658          18658          18658         \n",
      "==============================================================================================================\n",
      "Standard errors in parentheses.\n",
      "* p<.1, ** p<.05, ***p<.01\n"
     ]
    }
   ],
   "source": [
    "census_tract_vars = [\"MedHousehIncome\", \"PerCapIncome\", \"MedFamIncome\"]\n",
    "bank_tract_vars = [\"median_all_income\", \"mean_LTV\"]\n",
    "results = []\n",
    "x_vars = ['hisp_over_med','black_over_med','asian_over_med',\"major_minority\"]\n",
    "\n",
    "for v in x_vars :\n",
    "    formula = f\"log_num_apps ~ {v} * which_bank + {'+'.join(census_tract_vars)}\"\n",
    "    #print(formula)\n",
    "    results.append(\n",
    "        smf.ols(formula,data=bank_tract_full).fit()\n",
    "    )\n",
    "\n",
    "# now I'll format an output table\n",
    "# I'd like to include extra info in the table (not just coefficients)\n",
    "info_dict={'R-squared' : lambda x: f\"{x.rsquared:.2f}\",\n",
    "           'Adj R-squared' : lambda x: f\"{x.rsquared_adj:.2f}\",\n",
    "           'No. observations' : lambda x: f\"{int(x.nobs):d}\"}\n",
    "\n",
    "# instead of having a row for each minority vairable, combine into one row, column labels will distinguish\n",
    "# create custom variable labels for the variables you want to combine\n",
    "varlabels = {v:'High Minority' for v in x_vars}\n",
    "\n",
    "print('='*110)\n",
    "print('                                          y = log(number of applications)')\n",
    "\n",
    "# This summary col function combines a bunch of regressions into one nice table\n",
    "print(summary_col(results=results, \n",
    "                  float_format='%0.2f',\n",
    "                  stars = True, \n",
    "                  model_names=x_vars,\n",
    "                  #varlabels = varlabels,\n",
    "                  info_dict=info_dict,\n",
    "                  regressor_order=[ 'Intercept', \"High Minority\", \"which_bank[T.BankofWest]\", \"High Minority:which_bank[T.BankofWest]\",\n",
    "                                 \"median_all_income\", \"mean_LTV\"]\n",
    "                  )\n",
    "     )"
   ]
  },
  {
   "cell_type": "markdown",
   "id": "d4ebc892-eac9-44d5-85b0-f2d8ac2ae4e6",
   "metadata": {
    "jupyter": {
     "source_hidden": true
    },
    "tags": []
   },
   "source": [
    "## Linear Regression with Interaction Terms - **No use**"
   ]
  },
  {
   "cell_type": "code",
   "execution_count": 9,
   "id": "4782f028-b4b9-48e4-b71b-bbd57f386311",
   "metadata": {
    "tags": []
   },
   "outputs": [
    {
     "name": "stdout",
     "output_type": "stream",
     "text": [
      "\n",
      "==================================================================================================\n",
      "                                       Denial Rate I Denial Rate II  log_num_apps I log_num_apps I\n",
      "--------------------------------------------------------------------------------------------------\n",
      "Intercept                              0.0999***     0.1120***      4.2705***       4.0785***     \n",
      "                                       (0.0092)      (0.0091)       (0.0225)        (0.0228)      \n",
      "hisp_rate                              0.0012***                    -0.0130***                    \n",
      "                                       (0.0001)                     (0.0003)                      \n",
      "hisp_over_med                                        0.0463***                      -0.4740***    \n",
      "                                                     (0.0054)                       (0.0152)      \n",
      "which_bank[T.BankofWest]               0.1253***     0.0978***      -2.8058***      -2.6806***    \n",
      "                                       (0.0062)      (0.0050)       (0.0217)        (0.0184)      \n",
      "hisp_rate:which_bank[T.BankofWest]     -0.0019***                   0.0059***                     \n",
      "                                       (0.0002)                     (0.0006)                      \n",
      "hisp_over_med:which_bank[T.BankofWest]               -0.0685***                     0.2149***     \n",
      "                                                     (0.0077)                       (0.0274)      \n",
      "median_all_income                      -0.0000       -0.0000        -0.0000**       -0.0000       \n",
      "                                       (0.0000)      (0.0000)       (0.0000)        (0.0000)      \n",
      "mean_LTV                               0.0003**      0.0004***      0.0016***       0.0010***     \n",
      "                                       (0.0001)      (0.0001)       (0.0003)        (0.0003)      \n",
      "R-squared                              0.0532        0.0482         0.7540          0.7311        \n",
      "R-squared Adj.                         0.0526        0.0476         0.7539          0.7310        \n",
      "R-squared                              0.0532        0.0482         0.7540          0.7311        \n",
      "Adj R-squared                          0.0526        0.0476         0.7539          0.7310        \n",
      "No. observations                       8608          8608           13432           13434         \n",
      "==================================================================================================\n",
      "Standard errors in parentheses.\n",
      "* p<.1, ** p<.05, ***p<.01\n"
     ]
    }
   ],
   "source": [
    "model1 = smf.ols('denial_rate ~ hisp_rate * which_bank + median_all_income + mean_LTV', data=bank_tract_full.query(\"tract_denial_count == 2\")).fit()\n",
    "model2 = smf.ols('denial_rate ~ hisp_over_med * which_bank + median_all_income+ mean_LTV', data=bank_tract_full.query(\"tract_denial_count == 2\")).fit()\n",
    "model3 = smf.ols('log_num_apps ~ hisp_rate * which_bank + median_all_income+ mean_LTV', data=bank_tract_full).fit()\n",
    "model4 = smf.ols('log_num_apps ~ hisp_over_med * which_bank + median_all_income+ mean_LTV', data=bank_tract_full).fit()\n",
    "\n",
    "# now I'll format an output table\n",
    "# I'd like to include extra info in the table (not just coefficients)\n",
    "info_dict={'R-squared' : lambda x: f\"{x.rsquared:.4f}\",\n",
    "           'Adj R-squared' : lambda x: f\"{x.rsquared_adj:.4f}\",\n",
    "           'No. observations' : lambda x: f\"{int(x.nobs):d}\"}\n",
    "\n",
    "# This summary col function combines a bunch of regressions into one nice table\n",
    "print(summary_col(results=[model1,model2,model3,model4], # list the result obj here\n",
    "                  float_format='%0.4f',\n",
    "                  stars = True, # stars are easy way to see if anything is statistically significant\n",
    "                  model_names=['Denial Rate','Denial Rate',' log_num_apps','log_num_apps'], # these are bad names, lol. Usually, just use the y variable name\n",
    "                  info_dict=info_dict,\n",
    "                  regressor_order=[ 'Intercept', \"hisp_rate\", \"hisp_over_med\", \"which_bank[T.BankofWest]\", \"hisp_rate:which_bank[T.BankofWest]\",\n",
    "                                  \"hisp_over_med:which_bank[T.BankofWest]\", \"median_all_income\", \"mean_LTV\"]\n",
    "                  )\n",
    "     )"
   ]
  }
 ],
 "metadata": {
  "kernelspec": {
   "display_name": "Python 3 (ipykernel)",
   "language": "python",
   "name": "python3"
  },
  "language_info": {
   "codemirror_mode": {
    "name": "ipython",
    "version": 3
   },
   "file_extension": ".py",
   "mimetype": "text/x-python",
   "name": "python",
   "nbconvert_exporter": "python",
   "pygments_lexer": "ipython3",
   "version": "3.9.15"
  }
 },
 "nbformat": 4,
 "nbformat_minor": 5
}
