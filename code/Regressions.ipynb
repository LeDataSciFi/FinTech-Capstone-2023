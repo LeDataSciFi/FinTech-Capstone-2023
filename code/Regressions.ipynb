{
 "cells": [
  {
   "cell_type": "code",
   "execution_count": 1,
   "id": "60044254-e902-4156-80e8-3794fdb3321f",
   "metadata": {},
   "outputs": [],
   "source": [
    "import pandas as pd\n",
    "import numpy as np\n",
    "import statsmodels.formula.api as smf\n",
    "pd.set_option('display.max_colwidth', None)\n",
    "from statsmodels.iolib.summary2 import summary_col \n",
    "import seaborn as sns\n",
    "\n",
    "import warnings\n",
    "# Ignore warnings by category\n",
    "warnings.filterwarnings(\"ignore\", category=DeprecationWarning)\n",
    "# Ignore warnings by message\n",
    "warnings.filterwarnings(\"ignore\", message=\".*\")"
   ]
  },
  {
   "cell_type": "code",
   "execution_count": 2,
   "id": "41f17aab-1bf5-4319-bd2c-eabf08b38333",
   "metadata": {},
   "outputs": [],
   "source": [
    "bank_tract = pd.read_csv(\"../input_data_clean/bank_tract_clean_WITH_CENSUS.csv\")\n",
    "bank_tract['which_bank'] = bank_tract['which_bank'].str.replace(' ', '')"
   ]
  },
  {
   "cell_type": "code",
   "execution_count": 3,
   "id": "13e563f5-fdd0-40a6-a8ee-abc00ee67627",
   "metadata": {},
   "outputs": [
    {
     "data": {
      "text/plain": [
       "AllOtherBanks    9337\n",
       "BankofWest       4500\n",
       "Name: which_bank, dtype: int64"
      ]
     },
     "execution_count": 3,
     "metadata": {},
     "output_type": "execute_result"
    }
   ],
   "source": [
    "bank_tract['which_bank'].value_counts()"
   ]
  },
  {
   "cell_type": "code",
   "execution_count": 4,
   "id": "3ff524a4-96d8-48f4-8a65-46936058d821",
   "metadata": {},
   "outputs": [],
   "source": [
    "# Calculate the hispanic rate and whether it's above the median\n",
    "bank_tract['hisp_rate'] = (bank_tract['HispanicLatinoPop'] / bank_tract['Tot.Pop']) * 100\n",
    "bank_tract['hisp_over_med'] = bank_tract['hisp_rate'] > np.median(bank_tract['hisp_rate'].dropna())\n",
    "bank_tract['hisp_over_med'] = bank_tract['hisp_over_med'].astype(int)\n",
    "\n",
    "# Adding them at the start so that they don't get set to 0\n",
    "bank_tract.insert(0, 'hisp_over_med', bank_tract.pop('hisp_over_med'))\n",
    "bank_tract.insert(0, 'hisp_rate', bank_tract.pop('hisp_rate'))\n",
    "\n",
    "# Calculate the black rate and whether it's above the median\n",
    "bank_tract['black_rate'] = (bank_tract['Tot.BlackPop '] / bank_tract['Tot.Pop']) * 100\n",
    "bank_tract['black_over_med'] = bank_tract['black_rate'] > np.median(bank_tract['black_rate'].dropna())\n",
    "bank_tract['black_over_med'] = bank_tract['black_over_med'].astype(int)\n",
    "\n",
    "# Adding them at the start so that they don't get set to 0\n",
    "bank_tract.insert(0, 'black_over_med', bank_tract.pop('black_over_med'))\n",
    "bank_tract.insert(0, 'black_rate', bank_tract.pop('black_rate'))\n",
    "\n",
    "# Calculate the asian rate and whether it's above the median\n",
    "bank_tract['asian_rate'] = (bank_tract['Tot.AsianPop'] / bank_tract['Tot.Pop']) * 100\n",
    "bank_tract['asian_over_med'] = bank_tract['asian_rate'] > np.median(bank_tract['asian_rate'].dropna())\n",
    "bank_tract['asian_over_med'] = bank_tract['asian_over_med'].astype(int)\n",
    "\n",
    "# Adding them at the start so that they don't get set to 0\n",
    "bank_tract.insert(0, 'asian_over_med', bank_tract.pop('asian_over_med'))\n",
    "bank_tract.insert(0, 'asian_rate', bank_tract.pop('asian_rate'))\n",
    "\n",
    "#White rate var\n",
    "bank_tract['white_rate'] = (bank_tract['Tot.WhitePop'] / bank_tract['Tot.Pop']) * 100\n",
    "bank_tract.insert(0, 'white_rate', bank_tract.pop('white_rate'))\n",
    "\n",
    "# Creating the major minority variable\n",
    "#bank_tract['major_minority'] = bank_tract.apply(lambda row: 'Hispanic' if row['hisp_rate'] > row['black_rate'] and row['hisp_rate'] > row['asian_rate'] else ('Asian' if row['asian_rate'] > row['black_rate'] and row['asian_rate'] > row['hisp_rate'] else 'Black'), axis=1)\n",
    "#bank_tract.insert(0, 'major_minority', bank_tract.pop('major_minority'))\n",
    "\n",
    "bank_tract[\"major_minority\"] = bank_tract['white_rate'] < 0.5\n",
    "bank_tract[\"major_minority\"] = bank_tract[\"major_minority\"].astype(int)\n",
    "bank_tract.insert(0, 'major_minority', bank_tract.pop('major_minority'))\n",
    "\n",
    "\n",
    "# Calculate the log of number of applications\n",
    "bank_tract['log_num_apps'] = np.log(1+bank_tract['num_applications'])"
   ]
  },
  {
   "cell_type": "markdown",
   "id": "65e685f0-eb8b-4061-94b7-9542d9f5edd6",
   "metadata": {},
   "source": [
    "### Adding rows (census tracts) where BoW is not active, but All Other Banks Are "
   ]
  },
  {
   "cell_type": "code",
   "execution_count": 5,
   "id": "fa76bb87-626d-486c-8ae5-ffd123fb03b7",
   "metadata": {},
   "outputs": [
    {
     "data": {
      "text/plain": [
       "BankofWest       9340\n",
       "AllOtherBanks    9337\n",
       "Name: which_bank, dtype: int64"
      ]
     },
     "execution_count": 5,
     "metadata": {},
     "output_type": "execute_result"
    }
   ],
   "source": [
    "# Create a copy of the original dataframe\n",
    "bank_tract_new = bank_tract.copy()\n",
    "\n",
    "# Find the census tracts that have AllOtherBanks but not BankofWest\n",
    "missing_tracts = bank_tract_new[(bank_tract_new['which_bank'] == 'AllOtherBanks') & ~(bank_tract_new['census_tract'].isin(bank_tract_new[bank_tract_new['which_bank'] == 'BankofWest']['census_tract']))]\n",
    "\n",
    "# Update which_bank column to BankofWest\n",
    "missing_tracts['which_bank'] = 'BankofWest'\n",
    "\n",
    "# Set bank specific variables to 0\n",
    "start_col = bank_tract.columns.get_loc('sum_approved_loans')\n",
    "bank_specific_vars = bank_tract.columns[start_col:]\n",
    "missing_tracts[bank_specific_vars] = np.NaN\n",
    "missing_tracts['log_num_apps'] = 0\n",
    "\n",
    "# Append the missing rows to the new dataframe\n",
    "bank_tract_new = pd.concat([bank_tract_new, missing_tracts], ignore_index=True)\n",
    "\n",
    "# Verify that there are now equal numbers of rows for each which_bank value\n",
    "bank_tract_new[\"which_bank\"].value_counts()"
   ]
  },
  {
   "cell_type": "markdown",
   "id": "f08a90d7-4588-425f-a603-cd98007373c0",
   "metadata": {},
   "source": [
    "### Adding rows (census tracts) where All Other Banks Are are not active, but BoW is."
   ]
  },
  {
   "cell_type": "code",
   "execution_count": 6,
   "id": "bef2d705-4991-4cee-abcf-bc1977751ce6",
   "metadata": {},
   "outputs": [
    {
     "data": {
      "text/plain": [
       "AllOtherBanks    9340\n",
       "BankofWest       9340\n",
       "Name: which_bank, dtype: int64"
      ]
     },
     "execution_count": 6,
     "metadata": {},
     "output_type": "execute_result"
    }
   ],
   "source": [
    "# Create a copy of the original dataframe\n",
    "bank_tract_full = bank_tract_new.copy()\n",
    "\n",
    "# Find the census tracts that have BankofWest but not AllOtherBanks\n",
    "missing_tracts1 = bank_tract_full[(bank_tract_full['which_bank'] == 'BankofWest') & ~(bank_tract_full['census_tract'].isin(bank_tract_full[bank_tract_full['which_bank'] == 'AllOtherBanks']['census_tract']))]\n",
    "\n",
    "# Update which_bank column to AllOtherBanks\n",
    "missing_tracts1['which_bank'] = 'AllOtherBanks'\n",
    "\n",
    "# Set bank specific variables to NaN\n",
    "start_col1 = bank_tract.columns.get_loc('sum_approved_loans')\n",
    "bank_specific_vars1 = bank_tract.columns[start_col:]\n",
    "missing_tracts1[bank_specific_vars1] = np.NaN\n",
    "missing_tracts1['log_num_apps'] = 0\n",
    "\n",
    "# Append the missing rows to the new dataframe\n",
    "bank_tract_full = pd.concat([bank_tract_full, missing_tracts1], ignore_index=True)\n",
    "\n",
    "# Verify that there are now equal numbers of rows for each which_bank value\n",
    "bank_tract_full[\"which_bank\"].value_counts()"
   ]
  },
  {
   "cell_type": "code",
   "execution_count": 7,
   "id": "c5a3e0a3-5836-433a-98e6-6ac563d5159c",
   "metadata": {},
   "outputs": [],
   "source": [
    "# Creating a denial count variabel so that in th eregression models only rows that have a non-null denial rate are included \n",
    "bank_tract_full['tract_denial_count'] = bank_tract_full.groupby('census_tract')['denial_rate'].transform(pd.Series.count)"
   ]
  },
  {
   "cell_type": "markdown",
   "id": "eeff911c-5c66-431a-bf49-dc73ab496d55",
   "metadata": {},
   "source": [
    "### Investigating more control variables to include in regression"
   ]
  },
  {
   "cell_type": "code",
   "execution_count": 8,
   "id": "3efa0701-2f6c-4b87-ae57-8e4b6f2c03fd",
   "metadata": {},
   "outputs": [],
   "source": [
    "#census_vars = pd.read_csv(\"../input_data/census_vars.csv\")\n",
    "\n",
    "#possible_vars = census_vars.iloc[:88, 1]\n",
    "\n",
    "#pd.set_option(\"display.max_rows\", None)\n",
    "\n",
    "#possible_vars"
   ]
  },
  {
   "cell_type": "markdown",
   "id": "d406b841-628f-40e5-ad26-18eee55bbfca",
   "metadata": {},
   "source": [
    "Vars to use: Median household Income, Ratio of Income to Poverty Level, Per Capita Incoome, Median Family Income"
   ]
  },
  {
   "cell_type": "markdown",
   "id": "0ac52719-577a-40b8-8760-f5095e219a3c",
   "metadata": {},
   "source": [
    "### Cleaning census control vars to use in regression"
   ]
  },
  {
   "cell_type": "code",
   "execution_count": 8,
   "id": "769312a2-7143-41f3-ad0b-150cf0c5cbd9",
   "metadata": {},
   "outputs": [],
   "source": [
    "# List of variables to clean\n",
    "cols_to_clean = [\"Med.HousehIncome\", \"RatioIncomeToPovertyLevel\", \"PerCap.Income\", \"Med.FamIncome\",\"Pop0_0.49PovLevel\",\"Pop0.5_0.99PovLevel\"]\n",
    "\n",
    "# Replace empty and negative values with NaN\n",
    "bank_tract_full[cols_to_clean] = bank_tract_full[cols_to_clean].applymap(lambda x: np.NaN if (x == '' or x < 0) else x)"
   ]
  },
  {
   "cell_type": "code",
   "execution_count": 9,
   "id": "9b9b14dc-461d-414b-9f4f-e87525483f3e",
   "metadata": {},
   "outputs": [
    {
     "data": {
      "text/html": [
       "<div>\n",
       "<style scoped>\n",
       "    .dataframe tbody tr th:only-of-type {\n",
       "        vertical-align: middle;\n",
       "    }\n",
       "\n",
       "    .dataframe tbody tr th {\n",
       "        vertical-align: top;\n",
       "    }\n",
       "\n",
       "    .dataframe thead th {\n",
       "        text-align: right;\n",
       "    }\n",
       "</style>\n",
       "<table border=\"1\" class=\"dataframe\">\n",
       "  <thead>\n",
       "    <tr style=\"text-align: right;\">\n",
       "      <th></th>\n",
       "      <th>Med.HousehIncome</th>\n",
       "      <th>RatioIncomeToPovertyLevel</th>\n",
       "      <th>PerCap.Income</th>\n",
       "      <th>Med.FamIncome</th>\n",
       "      <th>Pop0_0.49PovLevel</th>\n",
       "      <th>Pop0.5_0.99PovLevel</th>\n",
       "      <th>median_all_income</th>\n",
       "      <th>mean_LTV</th>\n",
       "    </tr>\n",
       "  </thead>\n",
       "  <tbody>\n",
       "    <tr>\n",
       "      <th>count</th>\n",
       "      <td>18658.000000</td>\n",
       "      <td>18680.000000</td>\n",
       "      <td>18674.000000</td>\n",
       "      <td>18614.000000</td>\n",
       "      <td>18680.000000</td>\n",
       "      <td>18680.000000</td>\n",
       "      <td>13435.000000</td>\n",
       "      <td>13833.000000</td>\n",
       "    </tr>\n",
       "    <tr>\n",
       "      <th>mean</th>\n",
       "      <td>79065.168400</td>\n",
       "      <td>4818.880621</td>\n",
       "      <td>37180.969262</td>\n",
       "      <td>90385.196949</td>\n",
       "      <td>288.648929</td>\n",
       "      <td>361.142505</td>\n",
       "      <td>153.556085</td>\n",
       "      <td>63.655351</td>\n",
       "    </tr>\n",
       "    <tr>\n",
       "      <th>std</th>\n",
       "      <td>38400.119425</td>\n",
       "      <td>2169.322939</td>\n",
       "      <td>21572.777062</td>\n",
       "      <td>45020.093275</td>\n",
       "      <td>279.379369</td>\n",
       "      <td>341.454320</td>\n",
       "      <td>327.767463</td>\n",
       "      <td>19.763747</td>\n",
       "    </tr>\n",
       "    <tr>\n",
       "      <th>min</th>\n",
       "      <td>11576.000000</td>\n",
       "      <td>0.000000</td>\n",
       "      <td>1276.000000</td>\n",
       "      <td>14471.000000</td>\n",
       "      <td>0.000000</td>\n",
       "      <td>0.000000</td>\n",
       "      <td>0.000000</td>\n",
       "      <td>2.884700</td>\n",
       "    </tr>\n",
       "    <tr>\n",
       "      <th>25%</th>\n",
       "      <td>50802.000000</td>\n",
       "      <td>3416.000000</td>\n",
       "      <td>22047.000000</td>\n",
       "      <td>56482.750000</td>\n",
       "      <td>110.000000</td>\n",
       "      <td>116.000000</td>\n",
       "      <td>84.000000</td>\n",
       "      <td>55.788607</td>\n",
       "    </tr>\n",
       "    <tr>\n",
       "      <th>50%</th>\n",
       "      <td>71000.000000</td>\n",
       "      <td>4534.500000</td>\n",
       "      <td>31681.000000</td>\n",
       "      <td>80332.000000</td>\n",
       "      <td>207.000000</td>\n",
       "      <td>254.500000</td>\n",
       "      <td>114.000000</td>\n",
       "      <td>64.124411</td>\n",
       "    </tr>\n",
       "    <tr>\n",
       "      <th>75%</th>\n",
       "      <td>98375.000000</td>\n",
       "      <td>5848.000000</td>\n",
       "      <td>45846.000000</td>\n",
       "      <td>114209.500000</td>\n",
       "      <td>375.000000</td>\n",
       "      <td>503.000000</td>\n",
       "      <td>170.000000</td>\n",
       "      <td>72.347100</td>\n",
       "    </tr>\n",
       "    <tr>\n",
       "      <th>max</th>\n",
       "      <td>250001.000000</td>\n",
       "      <td>30844.000000</td>\n",
       "      <td>176388.000000</td>\n",
       "      <td>250001.000000</td>\n",
       "      <td>4401.000000</td>\n",
       "      <td>3404.000000</td>\n",
       "      <td>33827.000000</td>\n",
       "      <td>1815.708527</td>\n",
       "    </tr>\n",
       "  </tbody>\n",
       "</table>\n",
       "</div>"
      ],
      "text/plain": [
       "       Med.HousehIncome  RatioIncomeToPovertyLevel  PerCap.Income  \\\n",
       "count      18658.000000               18680.000000   18674.000000   \n",
       "mean       79065.168400                4818.880621   37180.969262   \n",
       "std        38400.119425                2169.322939   21572.777062   \n",
       "min        11576.000000                   0.000000    1276.000000   \n",
       "25%        50802.000000                3416.000000   22047.000000   \n",
       "50%        71000.000000                4534.500000   31681.000000   \n",
       "75%        98375.000000                5848.000000   45846.000000   \n",
       "max       250001.000000               30844.000000  176388.000000   \n",
       "\n",
       "       Med.FamIncome  Pop0_0.49PovLevel  Pop0.5_0.99PovLevel  \\\n",
       "count   18614.000000       18680.000000         18680.000000   \n",
       "mean    90385.196949         288.648929           361.142505   \n",
       "std     45020.093275         279.379369           341.454320   \n",
       "min     14471.000000           0.000000             0.000000   \n",
       "25%     56482.750000         110.000000           116.000000   \n",
       "50%     80332.000000         207.000000           254.500000   \n",
       "75%    114209.500000         375.000000           503.000000   \n",
       "max    250001.000000        4401.000000          3404.000000   \n",
       "\n",
       "       median_all_income      mean_LTV  \n",
       "count       13435.000000  13833.000000  \n",
       "mean          153.556085     63.655351  \n",
       "std           327.767463     19.763747  \n",
       "min             0.000000      2.884700  \n",
       "25%            84.000000     55.788607  \n",
       "50%           114.000000     64.124411  \n",
       "75%           170.000000     72.347100  \n",
       "max         33827.000000   1815.708527  "
      ]
     },
     "execution_count": 9,
     "metadata": {},
     "output_type": "execute_result"
    }
   ],
   "source": [
    "# Possible columns to include\n",
    "cols_to_clean.extend(['median_all_income', \"mean_LTV\"])\n",
    "bank_tract_full[cols_to_clean].describe()"
   ]
  },
  {
   "cell_type": "code",
   "execution_count": 10,
   "id": "92c05595-c167-4053-bf33-025203ad4c75",
   "metadata": {},
   "outputs": [],
   "source": [
    "# populate null values with 0\n",
    "bank_tract_full[\"hisp_rate\"].fillna(0, inplace=True)\n",
    "bank_tract_full[\"black_rate\"].fillna(0, inplace=True)\n",
    "bank_tract_full[\"asian_rate\"].fillna(0, inplace=True)\n",
    "bank_tract_full[\"white_rate\"].fillna(0, inplace=True)\n",
    "\n",
    "#Change the name of the Med.HousehIncome variable\n",
    "bank_tract_full.rename(columns={\"Med.HousehIncome\":\"MedHousehIncome\", \"PerCap.Income\" : \"PerCapIncome\", \"Med.FamIncome\":\"MedFamIncome\"}, inplace=True)"
   ]
  },
  {
   "cell_type": "code",
   "execution_count": 11,
   "id": "2b0318d7-b715-480d-afa0-9236a1b867e7",
   "metadata": {},
   "outputs": [
    {
     "data": {
      "text/plain": [
       "log_num_apps         18680\n",
       "hisp_rate            18680\n",
       "hisp_over_med        18680\n",
       "black_rate           18680\n",
       "black_over_med       18680\n",
       "asian_rate           18680\n",
       "asian_over_med       18680\n",
       "white_rate           18680\n",
       "major_minority       18680\n",
       "which_bank           18680\n",
       "median_all_income    13435\n",
       "mean_LTV             13833\n",
       "dtype: int64"
      ]
     },
     "execution_count": 11,
     "metadata": {},
     "output_type": "execute_result"
    }
   ],
   "source": [
    "bank_tract_full[['log_num_apps','hisp_rate','hisp_over_med',\"black_rate\", \"black_over_med\",\"asian_rate\", \"asian_over_med\", \"white_rate\", \"major_minority\", 'which_bank','median_all_income','mean_LTV']].count()"
   ]
  },
  {
   "cell_type": "code",
   "execution_count": 20,
   "id": "3a9374a2-6336-4776-9197-4782bbd30134",
   "metadata": {},
   "outputs": [
    {
     "data": {
      "text/plain": [
       "<AxesSubplot: >"
      ]
     },
     "execution_count": 20,
     "metadata": {},
     "output_type": "execute_result"
    },
    {
     "data": {
      "image/png": "[encoded data removed]",
      "text/plain": [
       "<Figure size 640x480 with 2 Axes>"
      ]
     },
     "metadata": {},
     "output_type": "display_data"
    }
   ],
   "source": [
    "# Logging census control vars\n",
    "bank_tract_full[\"l_MedHousehIncome\"] = np.log(1+bank_tract_full[\"MedHousehIncome\"])\n",
    "bank_tract_full[\"l_PerCapIncome\"] = np.log(1+bank_tract_full[\"PerCapIncome\"])\n",
    "bank_tract_full[\"l_MedFamIncome\"] = np.log(1+bank_tract_full[\"MedFamIncome\"])\n",
    "bank_tract_full[\"l_median_all_income\"] = np.log(1+bank_tract_full[\"median_all_income\"])\n",
    "bank_tract_full[\"l_mean_approved_rate_spread\"] = np.log(1+bank_tract_full[\"mean_approved_rate_spread\"])\n",
    "\n",
    "cols = [\"l_MedHousehIncome\", \"l_PerCapIncome\", \"l_MedFamIncome\", \"l_median_all_income\"]\n",
    "\n",
    "# Compute the correlation matrix\n",
    "corr_matrix = bank_tract_full[cols].corr()\n",
    "sns.heatmap(corr_matrix, annot = True)"
   ]
  },
  {
   "cell_type": "markdown",
   "id": "abd43b67-a1dd-4d33-a007-3f1a66312ea1",
   "metadata": {},
   "source": [
    "They are all highly correlated so just use one of them"
   ]
  },
  {
   "cell_type": "code",
   "execution_count": 21,
   "id": "00cbdd19-314b-4cfa-8f1c-20676bc5247c",
   "metadata": {},
   "outputs": [],
   "source": [
    "# Create new income variable\n",
    "bank_tract_full[\"poverty_ratio\"] = (bank_tract_full[\"Pop0_0.49PovLevel\"] +  bank_tract_full[\"Pop0.5_0.99PovLevel\"]) / bank_tract_full[\"RatioIncomeToPovertyLevel\"]\n",
    "bank_tract_full[\"bank_gets_highinc_subpop\"] = bank_tract_full[\"median_all_income\"] > bank_tract_full[\"MedHousehIncome\"]"
   ]
  },
  {
   "cell_type": "code",
   "execution_count": 22,
   "id": "47ec85ad-1873-4be0-a8fb-31abe2134616",
   "metadata": {},
   "outputs": [
    {
     "data": {
      "text/plain": [
       "False    18680\n",
       "Name: bank_gets_highinc_subpop, dtype: int64"
      ]
     },
     "execution_count": 22,
     "metadata": {},
     "output_type": "execute_result"
    }
   ],
   "source": [
    "bank_tract_full[\"bank_gets_highinc_subpop\"].value_counts()"
   ]
  },
  {
   "cell_type": "code",
   "execution_count": 23,
   "id": "e3f673fd-1a8a-4a89-a62b-4819ec968a1b",
   "metadata": {},
   "outputs": [],
   "source": [
    "def winsorizer_with_missing(df,low_=.01,hi_=.99,cols=None): \n",
    "    '''\n",
    "    Parameters\n",
    "    ----------\n",
    "    df : DATAFRAME\n",
    "    low_ : float, optional (default = 0.01)\n",
    "        What to winsorize the left tail of each variable to.\n",
    "    hi_ : float, optional (default = 0.99)\n",
    "        What to winsorize the right tail of each variable to.\n",
    "        Set to 0.95 for 5% winsorizing, or .99 for 1% winsorizing.\n",
    "    cols : list, required\n",
    "        What columns to winsorize\n",
    "\n",
    "    Returns\n",
    "    -------\n",
    "    df, with columns altered by winsorizing. \n",
    "    \n",
    "    Description\n",
    "    -------    \n",
    "    Winsorize columns of a dataframe. It ignores missing values, which \n",
    "    is usually what you want. \n",
    "        \n",
    "    TIP: Put this function in your codebook to reuse easily.\n",
    "\n",
    "    TIP/WARNING: This is a new function and hasn't been subject to much scrutiny.\n",
    "    So check its work! After using it, summarize the variables you wanted to \n",
    "    winsorize and see that the max and min equal the right percentiles!\n",
    "\n",
    "    EXTRA CREDIT: (1) Use this function such that it performs winsorization within\n",
    "    groups or (2) change this function so it optionally takes an argument that specify\n",
    "    groups to do the winsorizing within. \n",
    "\n",
    "    Warning/option for extra credit: There is NO error checking in this function.\n",
    "    (For example: What happens if you set low_ = -1, or low_=1.1? What \"should\" this\n",
    "    function do if a user sets those values?)\n",
    "    \n",
    "    CURIOUSITY/EXTRA CREDIT: How does this function deal with ties? Check by using \n",
    "    tiny dataframe (20 rows max, but with ties just below, right at, and just above\n",
    "    the cutoffs). \n",
    "    \n",
    "    '''\n",
    "    if not cols: # if no cols provides, stop, and force an error in the code\n",
    "        print(\"You didn't tell me what columns to winsorize!\")\n",
    "        errrrorororororororor # this will cause a break (this is not good coding practice, but works, lolz)\n",
    "        \n",
    "    df[cols] = df[cols].clip(lower=df[cols].quantile(low_),\n",
    "                             upper=df[cols].quantile(hi_),\n",
    "                             axis=1)\n",
    "    return df"
   ]
  },
  {
   "cell_type": "code",
   "execution_count": 24,
   "id": "9db6cd1e-4e8c-48be-a8d6-652bf1101d56",
   "metadata": {},
   "outputs": [],
   "source": [
    "# Windsorizing mean_LTV control variable\n",
    "bank_tract_full = winsorizer_with_missing(bank_tract_full, low_=.01,hi_=.95,cols=[\"mean_LTV\"])"
   ]
  },
  {
   "cell_type": "code",
   "execution_count": 25,
   "id": "195df0b0-a208-4823-88d5-bf28b4cb9290",
   "metadata": {},
   "outputs": [],
   "source": [
    "census_tract_vars = [\"l_MedHousehIncome\", \"poverty_ratio\"]\n",
    "bank_tract_vars = [\"mean_LTV\",'bank_gets_highinc_subpop']"
   ]
  },
  {
   "cell_type": "markdown",
   "id": "f2dd8723-3b17-41b6-a7bb-e45da3b03180",
   "metadata": {},
   "source": [
    "### Denial Rate Regression table using minority over median variables"
   ]
  },
  {
   "cell_type": "code",
   "execution_count": 26,
   "id": "2a7690ac-6753-4ea1-a1f1-88f5b6dd50b2",
   "metadata": {},
   "outputs": [
    {
     "name": "stdout",
     "output_type": "stream",
     "text": [
      "==============================================================================================================\n",
      "                                             y = denial_rate\n",
      "\n",
      "=============================================================================================\n",
      "                                             Hispanic    Black      Asian    MajorityMinority\n",
      "---------------------------------------------------------------------------------------------\n",
      "Intercept                                   0.0852     0.1285     0.1886**   0.1338          \n",
      "                                            (0.0867)   (0.0834)   (0.0849)   (0.0831)        \n",
      "which_bank[T.BankofWest]                    0.0876***  0.0704***  0.0019     0.0497***       \n",
      "                                            (0.0049)   (0.0051)   (0.0057)   (0.0037)        \n",
      "Q('High Minority')                          0.0543***  0.0222***  -0.0403*** -0.0000*        \n",
      "                                            (0.0058)   (0.0054)   (0.0055)   (0.0000)        \n",
      "Q('High Minority'):which_bank[T.BankofWest] -0.0879*** -0.0441*** 0.0839***  0.0000          \n",
      "                                            (0.0075)   (0.0075)   (0.0075)   (0.0000)        \n",
      "l_MedHousehIncome                           0.0062     0.0025     0.0007     0.0028          \n",
      "                                            (0.0071)   (0.0069)   (0.0071)   (0.0068)        \n",
      "poverty_ratio                               0.0254     0.0306     0.0283     0.0311          \n",
      "                                            (0.0360)   (0.0362)   (0.0362)   (0.0363)        \n",
      "mean_LTV                                    -0.0004*** -0.0002*   -0.0003**  -0.0002         \n",
      "                                            (0.0001)   (0.0001)   (0.0001)   (0.0001)        \n",
      "bank_gets_highinc_subpop[T.True]            0.0000     -0.0000    0.0000**   0.0000          \n",
      "                                            (0.0000)   (0.0000)   (0.0000)   (0.0000)        \n",
      "R-squared                                   0.0350     0.0236     0.0332     0.0198          \n",
      "R-squared Adj.                              0.0344     0.0229     0.0326     0.0194          \n",
      "R-squared                                   0.04       0.02       0.03       0.02            \n",
      "Adj R-squared                               0.03       0.02       0.03       0.02            \n",
      "No. observations                            8990       8990       8990       8990            \n",
      "=============================================================================================\n",
      "Standard errors in parentheses.\n",
      "* p<.1, ** p<.05, ***p<.01\n"
     ]
    }
   ],
   "source": [
    "x_vars = ['hisp_over_med','black_over_med','asian_over_med',\"major_minority\"]\n",
    "\n",
    "# instead of having a row for each minority vairable, combine into one row, column labels will distinguish\n",
    "# create custom variable labels for the variables you want to combine\n",
    "varlabels = {v:'High Minority' for v in x_vars}\n",
    "\n",
    "results = []\n",
    "for v in x_vars :\n",
    "    formula = f\"denial_rate ~ Q('High Minority') * which_bank + {'+'.join(census_tract_vars)} + {'+'.join(bank_tract_vars)}\"\n",
    "    #print(formula)\n",
    "    results.append(\n",
    "        smf.ols(formula,\n",
    "                data=bank_tract_full.query(\"tract_denial_count == 2\").rename(columns={v:varlabels[v]})\n",
    "               ).fit()\n",
    "    )\n",
    "\n",
    "# now I'll format an output table\n",
    "# I'd like to include extra info in the table (not just coefficients)\n",
    "info_dict={'R-squared' : lambda x: f\"{x.rsquared:.2f}\",\n",
    "           'Adj R-squared' : lambda x: f\"{x.rsquared_adj:.2f}\",\n",
    "           'No. observations' : lambda x: f\"{int(x.nobs):d}\"}\n",
    "\n",
    "print('='*110)\n",
    "print('                                             y = denial_rate')\n",
    "\n",
    "# This summary col function combines a bunch of regressions into one nice table\n",
    "print(summary_col(results=results, \n",
    "                  float_format='%0.4f',\n",
    "                  stars = True, \n",
    "                  model_names=[\"Hispanic\", \"Black\", \"Asian\", \"MajorityMinority\"],\n",
    "                  info_dict=info_dict,\n",
    "                  regressor_order=[ 'Intercept', \"which_bank[T.BankofWest]\", \"Q('High Minority')\", \"Q('High Minority'):which_bank[T.BankofWest]\",\n",
    "                                 \"l_MedHousehIncome\", \"poverty_ratio\", \"mean_LTV\", \"bank_gets_highinc_subpop[T.True]\"]\n",
    "                  )\n",
    "     )"
   ]
  },
  {
   "cell_type": "markdown",
   "id": "753d817a-86b6-4568-8696-063421076156",
   "metadata": {},
   "source": [
    "### Rate Spread Regression table using minority over median variables"
   ]
  },
  {
   "cell_type": "code",
   "execution_count": 31,
   "id": "f1494c2d-9480-4660-a126-163a8b09e13f",
   "metadata": {},
   "outputs": [
    {
     "name": "stdout",
     "output_type": "stream",
     "text": [
      "==============================================================================================================\n",
      "                                             y = mean_approved_rate_spread\n",
      "\n",
      "=============================================================================================\n",
      "                                             Hispanic    Black      Asian    MajorityMinority\n",
      "---------------------------------------------------------------------------------------------\n",
      "Intercept                                   2.6661***  3.0669***  3.0769***  3.1145***       \n",
      "                                            (0.1976)   (0.1895)   (0.1940)   (0.1886)        \n",
      "which_bank[T.BankofWest]                    0.2051***  0.2339***  0.2627***  0.2409***       \n",
      "                                            (0.0111)   (0.0116)   (0.0134)   (0.0086)        \n",
      "Q('High Minority')                          0.0279**   0.0151     0.0143     -0.0000***      \n",
      "                                            (0.0130)   (0.0119)   (0.0124)   (0.0000)        \n",
      "Q('High Minority'):which_bank[T.BankofWest] 0.0876***  0.0157     -0.0368**  0.0000          \n",
      "                                            (0.0175)   (0.0172)   (0.0175)   (0.0000)        \n",
      "l_MedHousehIncome                           -0.2434*** -0.2775*** -0.2793*** -0.2814***      \n",
      "                                            (0.0163)   (0.0156)   (0.0161)   (0.0155)        \n",
      "poverty_ratio                               -0.3916*** -0.3882*** -0.3764*** -0.3815***      \n",
      "                                            (0.0847)   (0.0850)   (0.0852)   (0.0850)        \n",
      "mean_LTV                                    0.0062***  0.0060***  0.0062***  0.0061***       \n",
      "                                            (0.0003)   (0.0003)   (0.0003)   (0.0003)        \n",
      "bank_gets_highinc_subpop[T.True]            0.0000***  -0.0000*** -0.0000*** -0.0000***      \n",
      "                                            (0.0000)   (0.0000)   (0.0000)   (0.0000)        \n",
      "R-squared                                   0.1809     0.1746     0.1743     0.1739          \n",
      "R-squared Adj.                              0.1804     0.1740     0.1737     0.1735          \n",
      "R-squared                                   0.18       0.17       0.17       0.17            \n",
      "Adj R-squared                               0.18       0.17       0.17       0.17            \n",
      "No. observations                            8433       8433       8433       8433            \n",
      "=============================================================================================\n",
      "Standard errors in parentheses.\n",
      "* p<.1, ** p<.05, ***p<.01\n"
     ]
    }
   ],
   "source": [
    "x_vars = ['hisp_over_med','black_over_med','asian_over_med',\"major_minority\"]\n",
    "\n",
    "# instead of having a row for each minority vairable, combine into one row, column labels will distinguish\n",
    "# create custom variable labels for the variables you want to combine\n",
    "varlabels = {v:'High Minority' for v in x_vars}\n",
    "\n",
    "results = []\n",
    "for v in x_vars :\n",
    "    formula = f\"mean_approved_rate_spread ~ Q('High Minority') * which_bank + {'+'.join(census_tract_vars)} + {'+'.join(bank_tract_vars)}\"\n",
    "    #print(formula)\n",
    "    results.append(\n",
    "        smf.ols(formula,\n",
    "                data=bank_tract_full.query(\"tract_denial_count == 2\").rename(columns={v:varlabels[v]})\n",
    "               ).fit()\n",
    "    )\n",
    "\n",
    "# now I'll format an output table\n",
    "# I'd like to include extra info in the table (not just coefficients)\n",
    "info_dict={'R-squared' : lambda x: f\"{x.rsquared:.2f}\",\n",
    "           'Adj R-squared' : lambda x: f\"{x.rsquared_adj:.2f}\",\n",
    "           'No. observations' : lambda x: f\"{int(x.nobs):d}\"}\n",
    "\n",
    "print('='*110)\n",
    "print('                                             y = mean_approved_rate_spread')\n",
    "\n",
    "# This summary col function combines a bunch of regressions into one nice table\n",
    "print(summary_col(results=results, \n",
    "                  float_format='%0.4f',\n",
    "                  stars = True, \n",
    "                  model_names=[\"Hispanic\", \"Black\", \"Asian\", \"MajorityMinority\"],\n",
    "                  info_dict=info_dict,\n",
    "                  regressor_order=[ 'Intercept', \"which_bank[T.BankofWest]\", \"Q('High Minority')\", \"Q('High Minority'):which_bank[T.BankofWest]\",\n",
    "                                 \"l_MedHousehIncome\", \"poverty_ratio\", \"mean_LTV\", \"bank_gets_highinc_subpop[T.True]\"]\n",
    "                  )\n",
    "     )"
   ]
  },
  {
   "cell_type": "markdown",
   "id": "bf4d7526-6ee8-4466-a80d-3afc272c633e",
   "metadata": {},
   "source": [
    "### Log number apps regression table using minority over median variables"
   ]
  },
  {
   "cell_type": "code",
   "execution_count": 28,
   "id": "59231f5b-17ab-4bba-a641-3dda63e08e15",
   "metadata": {},
   "outputs": [
    {
     "name": "stdout",
     "output_type": "stream",
     "text": [
      "==============================================================================================================\n",
      "                                             y = log_num_apps\n",
      "\n",
      "=============================================================================================\n",
      "                                             Hispanic    Black      Asian    MajorityMinority\n",
      "---------------------------------------------------------------------------------------------\n",
      "Intercept                                   -3.5552*** -3.9933*** -4.2042*** -3.9208***      \n",
      "                                            (0.2214)   (0.2125)   (0.2198)   (0.2117)        \n",
      "which_bank[T.BankofWest]                    -3.3040*** -3.2005*** -3.3553*** -3.2589***      \n",
      "                                            (0.0147)   (0.0144)   (0.0137)   (0.0101)        \n",
      "Q('High Minority')                          -0.1023*** 0.0792***  -0.1618*** 0.0000***       \n",
      "                                            (0.0152)   (0.0144)   (0.0148)   (0.0000)        \n",
      "Q('High Minority'):which_bank[T.BankofWest] 0.0847***  -0.1136*** 0.2065***  0.0000          \n",
      "                                            (0.0201)   (0.0201)   (0.0201)   (0.0000)        \n",
      "l_MedHousehIncome                           0.6802***  0.7112***  0.7397***  0.7082***       \n",
      "                                            (0.0189)   (0.0181)   (0.0190)   (0.0181)        \n",
      "poverty_ratio                               -0.7412*** -0.7642*** -0.7034*** -0.7548***      \n",
      "                                            (0.0837)   (0.0838)   (0.0840)   (0.0837)        \n",
      "R-squared                                   0.8567     0.8567     0.8574     0.8564          \n",
      "R-squared Adj.                              0.8567     0.8566     0.8574     0.8564          \n",
      "R-squared                                   0.86       0.86       0.86       0.86            \n",
      "Adj R-squared                               0.86       0.86       0.86       0.86            \n",
      "No. observations                            18658      18658      18658      18658           \n",
      "=============================================================================================\n",
      "Standard errors in parentheses.\n",
      "* p<.1, ** p<.05, ***p<.01\n"
     ]
    }
   ],
   "source": [
    "x_vars = ['hisp_over_med','black_over_med','asian_over_med',\"major_minority\"]\n",
    "\n",
    "# instead of having a row for each minority vairable, combine into one row, column labels will distinguish\n",
    "# create custom variable labels for the variables you want to combine\n",
    "varlabels = {v:'High Minority' for v in x_vars}\n",
    "\n",
    "results = []\n",
    "for v in x_vars :\n",
    "    formula = f\"log_num_apps ~ Q('High Minority') * which_bank + {'+'.join(census_tract_vars)}\"\n",
    "    #print(formula)\n",
    "    results.append(\n",
    "        smf.ols(formula,\n",
    "                data=bank_tract_full.rename(columns={v:varlabels[v]})\n",
    "               ).fit()\n",
    "    )\n",
    "\n",
    "# now I'll format an output table\n",
    "# I'd like to include extra info in the table (not just coefficients)\n",
    "info_dict={'R-squared' : lambda x: f\"{x.rsquared:.2f}\",\n",
    "           'Adj R-squared' : lambda x: f\"{x.rsquared_adj:.2f}\",\n",
    "           'No. observations' : lambda x: f\"{int(x.nobs):d}\"}\n",
    "\n",
    "print('='*110)\n",
    "print('                                             y = log_num_apps')\n",
    "\n",
    "# This summary col function combines a bunch of regressions into one nice table\n",
    "print(summary_col(results=results, \n",
    "                  float_format='%0.4f',\n",
    "                  stars = True, \n",
    "                  model_names=[\"Hispanic\", \"Black\", \"Asian\", \"MajorityMinority\"],\n",
    "                  info_dict=info_dict,\n",
    "                  regressor_order=[ 'Intercept', \"which_bank[T.BankofWest]\", \"Q('High Minority')\", \"Q('High Minority'):which_bank[T.BankofWest]\",\n",
    "                                 \"l_MedHousehIncome\", \"poverty_ratio\", \"mean_LTV\", \"bank_gets_highinc_subpop[T.True]\"]\n",
    "                  )\n",
    "     )"
   ]
  },
  {
   "cell_type": "markdown",
   "id": "2c9b4b7f-1189-4dc3-9583-f835e3e9fbc1",
   "metadata": {},
   "source": [
    "## Receives any apps regression table"
   ]
  },
  {
   "cell_type": "code",
   "execution_count": 22,
   "id": "df640de0-74f4-45d1-bae9-8b737126dd10",
   "metadata": {},
   "outputs": [],
   "source": [
    "bank_tract_full['some_apps'] = 1*(bank_tract_full['log_num_apps'] > 0)"
   ]
  },
  {
   "cell_type": "code",
   "execution_count": 23,
   "id": "b042174f-5f38-4ef2-8d1d-a7d45e572c46",
   "metadata": {
    "tags": []
   },
   "outputs": [
    {
     "name": "stdout",
     "output_type": "stream",
     "text": [
      "==============================================================================================================\n",
      "                                             y = Receives any apps in the tract\n",
      "\n",
      "=============================================================================================\n",
      "                                             Hispanic    Black      Asian    MajorityMinority\n",
      "---------------------------------------------------------------------------------------------\n",
      "Intercept                                   -1.4261*** -1.4367*** -1.1854*** -1.4274***      \n",
      "                                            (0.1089)   (0.1054)   (0.1082)   (0.1051)        \n",
      "which_bank[T.BankofWest]                    -0.4152*** -0.4749*** -0.6096*** -0.5174***      \n",
      "                                            (0.0072)   (0.0071)   (0.0068)   (0.0050)        \n",
      "Q('High Minority')                          0.0869***  0.0352***  -0.0641*** 0.0000***       \n",
      "                                            (0.0075)   (0.0071)   (0.0073)   (0.0000)        \n",
      "Q('High Minority'):which_bank[T.BankofWest] -0.1920*** -0.0828*** 0.1974***  0.0000          \n",
      "                                            (0.0099)   (0.0100)   (0.0099)   (0.0000)        \n",
      "l_MedHousehIncome                           0.2119***  0.2154***  0.1976***  0.2162***       \n",
      "                                            (0.0093)   (0.0090)   (0.0093)   (0.0090)        \n",
      "poverty_ratio                               0.0924**   0.0930**   0.0600     0.0904**        \n",
      "                                            (0.0412)   (0.0415)   (0.0413)   (0.0416)        \n",
      "R-squared                                   0.4068     0.3971     0.4087     0.3948          \n",
      "R-squared Adj.                              0.4067     0.3969     0.4086     0.3947          \n",
      "R-squared                                   0.41       0.40       0.41       0.39            \n",
      "Adj R-squared                               0.41       0.40       0.41       0.39            \n",
      "No. observations                            18658      18658      18658      18658           \n",
      "=============================================================================================\n",
      "Standard errors in parentheses.\n",
      "* p<.1, ** p<.05, ***p<.01\n"
     ]
    }
   ],
   "source": [
    "x_vars = ['hisp_over_med','black_over_med','asian_over_med',\"major_minority\"]\n",
    "\n",
    "# instead of having a row for each minority vairable, combine into one row, column labels will distinguish\n",
    "# create custom variable labels for the variables you want to combine\n",
    "varlabels = {v:'High Minority' for v in x_vars}\n",
    "\n",
    "results = []\n",
    "for v in x_vars :\n",
    "    formula = f\"some_apps ~ Q('High Minority') * which_bank + {'+'.join(census_tract_vars)}\"\n",
    "    #print(formula)\n",
    "    results.append(\n",
    "        smf.ols(formula,\n",
    "                data=bank_tract_full.rename(columns={v:varlabels[v]})\n",
    "               ).fit()\n",
    "    )\n",
    "\n",
    "# now I'll format an output table\n",
    "# I'd like to include extra info in the table (not just coefficients)\n",
    "info_dict={'R-squared' : lambda x: f\"{x.rsquared:.2f}\",\n",
    "           'Adj R-squared' : lambda x: f\"{x.rsquared_adj:.2f}\",\n",
    "           'No. observations' : lambda x: f\"{int(x.nobs):d}\"}\n",
    "\n",
    "print('='*110)\n",
    "print('                                             y = Receives any apps in the tract')\n",
    "\n",
    "# This summary col function combines a bunch of regressions into one nice table\n",
    "print(summary_col(results=results, \n",
    "                  float_format='%0.4f',\n",
    "                  stars = True, \n",
    "                  model_names=[\"Hispanic\", \"Black\", \"Asian\", \"MajorityMinority\"],\n",
    "                  info_dict=info_dict,\n",
    "                  regressor_order=[ 'Intercept', \"High Minority\", \"which_bank[T.BankofWest]\", \"High Minority:which_bank[T.BankofWest]\",\n",
    "                                 \"MedHousehIncome\", \"PerCapIncome\", \"MedFamIncome\", \"median_all_income\", \"mean_LTV\"]\n",
    "                  )\n",
    "     )"
   ]
  }
 ],
 "metadata": {
  "kernelspec": {
   "display_name": "Python 3 (ipykernel)",
   "language": "python",
   "name": "python3"
  },
  "language_info": {
   "codemirror_mode": {
    "name": "ipython",
    "version": 3
   },
   "file_extension": ".py",
   "mimetype": "text/x-python",
   "name": "python",
   "nbconvert_exporter": "python",
   "pygments_lexer": "ipython3",
   "version": "3.9.15"
  }
 },
 "nbformat": 4,
 "nbformat_minor": 5
}
