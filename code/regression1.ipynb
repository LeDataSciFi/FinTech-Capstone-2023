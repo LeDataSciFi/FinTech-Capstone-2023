{
 "cells": [
  {
   "cell_type": "code",
   "execution_count": 6,
   "id": "0db81426-76b1-4325-b3fd-814b12262dcb",
   "metadata": {},
   "outputs": [],
   "source": [
    "import pandas as pd\n",
    "import numpy as np\n",
    "from statsmodels.formula.api import ols as sm_ols\n",
    "from statsmodels.iolib.summary2 import summary_col \n",
    "import statsmodels.api as sm"
   ]
  },
  {
   "cell_type": "markdown",
   "id": "ea39a471-81d6-4434-b1be-eafeed709a9f",
   "metadata": {},
   "source": [
    "Good job with the column names... it helped me figure out the key problem.\n",
    "\n",
    "Obviously still not the formula... it's missing 2 variables in each column. I know why now (next point)\n",
    "You need to include all rows in your data for the regressions. A single regression is supposed to have a variable indicating whether or not the row is about BOW. You obviously can't do this on your mini datasets that have only BOW or only Competitors.\n",
    "You didn't ABCD and print your data, but I bet your \"hisp_over_med\" variable wasn't only 0s and 1s.\n",
    "No need to type the regressions twice and print them by themselves and then all together at the end.\n"
   ]
  },
  {
   "cell_type": "code",
   "execution_count": 2,
   "id": "a117558a-89ab-4bdf-8864-e2ce7404ec2f",
   "metadata": {},
   "outputs": [],
   "source": [
    "bank_tract = pd.read_csv('../input_data_clean/bank_tract_clean_WITH_CENSUS.csv')"
   ]
  },
  {
   "cell_type": "code",
   "execution_count": 14,
   "id": "7e9821e0-f97c-434d-997c-ea5df37b1916",
   "metadata": {},
   "outputs": [
    {
     "ename": "ValueError",
     "evalue": "expr must be a string to be evaluated, <class 'bool'> given",
     "output_type": "error",
     "traceback": [
      "\u001b[0;31m---------------------------------------------------------------------------\u001b[0m",
      "\u001b[0;31mValueError\u001b[0m                                Traceback (most recent call last)",
      "\u001b[0;32m/var/folders/9w/6d_vk6jx69gfc_v6415l0wm80000gn/T/ipykernel_33596/186972972.py\u001b[0m in \u001b[0;36m<module>\u001b[0;34m\u001b[0m\n\u001b[1;32m      1\u001b[0m \u001b[0;31m# adjust this next line to drop the BMO rows\u001b[0m\u001b[0;34m\u001b[0m\u001b[0;34m\u001b[0m\u001b[0m\n\u001b[0;32m----> 2\u001b[0;31m \u001b[0mbank_tract\u001b[0m \u001b[0;34m=\u001b[0m \u001b[0mbank_tract\u001b[0m\u001b[0;34m.\u001b[0m\u001b[0mquery\u001b[0m\u001b[0;34m(\u001b[0m\u001b[0;34m'which_bank'\u001b[0m \u001b[0;34m!=\u001b[0m \u001b[0;34m\"BMO\"\u001b[0m\u001b[0;34m)\u001b[0m\u001b[0;34m\u001b[0m\u001b[0;34m\u001b[0m\u001b[0m\n\u001b[0m",
      "\u001b[0;32m/Applications/anaconda3/lib/python3.9/site-packages/pandas/core/frame.py\u001b[0m in \u001b[0;36mquery\u001b[0;34m(self, expr, inplace, **kwargs)\u001b[0m\n\u001b[1;32m   4055\u001b[0m         \u001b[0;32mif\u001b[0m \u001b[0;32mnot\u001b[0m \u001b[0misinstance\u001b[0m\u001b[0;34m(\u001b[0m\u001b[0mexpr\u001b[0m\u001b[0;34m,\u001b[0m \u001b[0mstr\u001b[0m\u001b[0;34m)\u001b[0m\u001b[0;34m:\u001b[0m\u001b[0;34m\u001b[0m\u001b[0;34m\u001b[0m\u001b[0m\n\u001b[1;32m   4056\u001b[0m             \u001b[0mmsg\u001b[0m \u001b[0;34m=\u001b[0m \u001b[0;34mf\"expr must be a string to be evaluated, {type(expr)} given\"\u001b[0m\u001b[0;34m\u001b[0m\u001b[0;34m\u001b[0m\u001b[0m\n\u001b[0;32m-> 4057\u001b[0;31m             \u001b[0;32mraise\u001b[0m \u001b[0mValueError\u001b[0m\u001b[0;34m(\u001b[0m\u001b[0mmsg\u001b[0m\u001b[0;34m)\u001b[0m\u001b[0;34m\u001b[0m\u001b[0;34m\u001b[0m\u001b[0m\n\u001b[0m\u001b[1;32m   4058\u001b[0m         \u001b[0mkwargs\u001b[0m\u001b[0;34m[\u001b[0m\u001b[0;34m\"level\"\u001b[0m\u001b[0;34m]\u001b[0m \u001b[0;34m=\u001b[0m \u001b[0mkwargs\u001b[0m\u001b[0;34m.\u001b[0m\u001b[0mpop\u001b[0m\u001b[0;34m(\u001b[0m\u001b[0;34m\"level\"\u001b[0m\u001b[0;34m,\u001b[0m \u001b[0;36m0\u001b[0m\u001b[0;34m)\u001b[0m \u001b[0;34m+\u001b[0m \u001b[0;36m1\u001b[0m\u001b[0;34m\u001b[0m\u001b[0;34m\u001b[0m\u001b[0m\n\u001b[1;32m   4059\u001b[0m         \u001b[0mkwargs\u001b[0m\u001b[0;34m[\u001b[0m\u001b[0;34m\"target\"\u001b[0m\u001b[0;34m]\u001b[0m \u001b[0;34m=\u001b[0m \u001b[0;32mNone\u001b[0m\u001b[0;34m\u001b[0m\u001b[0;34m\u001b[0m\u001b[0m\n",
      "\u001b[0;31mValueError\u001b[0m: expr must be a string to be evaluated, <class 'bool'> given"
     ]
    }
   ],
   "source": [
    "# adjust this next line to drop the BMO rows\n",
    "bank_tract = bank_tract.query('which_bank' != \"BMO\")"
   ]
  },
  {
   "cell_type": "code",
   "execution_count": 4,
   "id": "f88e608c-4890-4c3d-b6e6-3aca951778f7",
   "metadata": {},
   "outputs": [],
   "source": [
    "# create vars\n",
    "bank_tract ['hisp_rate']    = (bank_tract ['HispanicLatinoPop']) / bank_tract ['Tot.Pop'] * 100\n",
    "bank_tract['hisp_over_med'] = bank_tract[\"hisp_rate\"] >  bank_tract[\"hisp_rate\"].median()\n",
    "bank_tract ['log_num_apps'] = np.log(bank_tract['num_applications'])"
   ]
  },
  {
   "cell_type": "code",
   "execution_count": 15,
   "id": "88fbac9e-a83c-4cde-aeb2-e644d7366038",
   "metadata": {},
   "outputs": [
    {
     "data": {
      "text/plain": [
       "0        False\n",
       "1        False\n",
       "2        False\n",
       "3        False\n",
       "4        False\n",
       "         ...  \n",
       "13832     True\n",
       "13833     True\n",
       "13834     True\n",
       "13835     True\n",
       "13836     True\n",
       "Name: hisp_over_med, Length: 13837, dtype: bool"
      ]
     },
     "execution_count": 15,
     "metadata": {},
     "output_type": "execute_result"
    }
   ],
   "source": []
  },
  {
   "cell_type": "code",
   "execution_count": 10,
   "id": "9ee25731-7b2f-46fe-8944-87ed6447019d",
   "metadata": {},
   "outputs": [],
   "source": [
    "# define the regression models (YOU'LL NEED TO MAKE ONE MORE VARIABLE ABOVE, AND THEN UPDATE THESE TO MATCH FORMULA)\n",
    "m1 = sm.OLS.from_formula('denial_rate ~ hisp_rate', data=bank_tract).fit()\n",
    "m2 = sm.OLS.from_formula('denial_rate ~ hisp_over_med', data=bank_tract).fit()\n",
    "m3 = sm.OLS.from_formula('log_num_apps ~ hisp_rate', data=bank_tract).fit()\n",
    "m4 = sm.OLS.from_formula('log_num_apps ~ hisp_over_med', data=bank_tract).fit()"
   ]
  },
  {
   "cell_type": "code",
   "execution_count": 11,
   "id": "bb24e7c1-8d40-4976-9ce7-03c96ab55453",
   "metadata": {},
   "outputs": [],
   "source": [
    "# set up the formatting for the table\n",
    "info_dict = {'No. observations': lambda x: f\"{int(x.nobs):d}\"}\n",
    "float_format = '%0.3f'\n"
   ]
  },
  {
   "cell_type": "code",
   "execution_count": 12,
   "id": "662fea16-e0a6-47a4-93d5-b816d5b2d2c5",
   "metadata": {},
   "outputs": [],
   "source": [
    "# UPDATE THIS AS NEEDED: \n",
    "regressor_order = ['Intercept', 'hisp_rate', 'hisp_over_med']\n"
   ]
  },
  {
   "cell_type": "code",
   "execution_count": 13,
   "id": "71304a7b-13f0-4ec0-bcf2-1f9466135dfb",
   "metadata": {},
   "outputs": [
    {
     "name": "stdout",
     "output_type": "stream",
     "text": [
      "                                                      OLS Regressions\n",
      "===========================================================================================================================\n",
      "                      |all banks denial rate reg| |BOW denial rate reg| |all banks log num apps reg| |BOW log num apps reg|\n",
      "---------------------------------------------------------------------------------------------------------------------------\n",
      "Intercept             0.834***                    0.829***              3.075***                     2.985***              \n",
      "                      (0.002)                     (0.002)               (0.023)                      (0.019)               \n",
      "hisp_rate             -0.000***                                         -0.005***                                          \n",
      "                      (0.000)                                           (0.001)                                            \n",
      "hisp_over_med[T.True]                             -0.019***                                          -0.187***             \n",
      "                                                  (0.003)                                            (0.027)               \n",
      "R-squared             0.005                       0.004                 0.007                        0.003                 \n",
      "R-squared Adj.        0.005                       0.004                 0.007                        0.003                 \n",
      "No. observations      13835                       13837                 13835                        13837                 \n",
      "===========================================================================================================================\n",
      "Standard errors in parentheses.\n",
      "* p<.1, ** p<.05, ***p<.01\n"
     ]
    }
   ],
   "source": [
    "# UPDATE THE COLUMN NAMES (just using the y variable in each column works)\n",
    "table = summary_col(results=[m1, m2, m3, m4],\n",
    "                    model_names=['|all banks denial rate reg|',\n",
    "                                 '|BOW denial rate reg|',\n",
    "                                 '|all banks log num apps reg|',\n",
    "                                 '|BOW log num apps reg|'],\n",
    "                    regressor_order=regressor_order,\n",
    "                    float_format=float_format,\n",
    "                    info_dict=info_dict,\n",
    "                    stars=True)  \n",
    "\n",
    "table.title = 'OLS Regressions'\n",
    "\n",
    "# print the table\n",
    "print(table)"
   ]
  },
  {
   "cell_type": "code",
   "execution_count": null,
   "id": "f19e04c9-088d-4e1f-ae3f-b0347d86ab51",
   "metadata": {},
   "outputs": [],
   "source": []
  }
 ],
 "metadata": {
  "kernelspec": {
   "display_name": "Python 3 (ipykernel)",
   "language": "python",
   "name": "python3"
  },
  "language_info": {
   "codemirror_mode": {
    "name": "ipython",
    "version": 3
   },
   "file_extension": ".py",
   "mimetype": "text/x-python",
   "name": "python",
   "nbconvert_exporter": "python",
   "pygments_lexer": "ipython3",
   "version": "3.9.7"
  }
 },
 "nbformat": 4,
 "nbformat_minor": 5
}
