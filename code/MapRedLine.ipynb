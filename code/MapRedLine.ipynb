{
 "cells": [
  {
   "cell_type": "code",
   "execution_count": 1,
   "id": "e08d87df-fe28-4e40-83a5-559f295c8e83",
   "metadata": {},
   "outputs": [],
   "source": [
    "import matplotlib.pyplot as plt\n",
    "import pandas as pd\n",
    "import geopandas as gpd\n",
    "from census import Census\n",
    "from us import states"
   ]
  },
  {
   "cell_type": "code",
   "execution_count": 2,
   "id": "8aed934f-8fa8-4ce8-b729-86389b8020fe",
   "metadata": {},
   "outputs": [],
   "source": [
    "c = Census(\"a82acbcf878654f6da6b3139274b90ff160b8120\")"
   ]
  },
  {
   "cell_type": "code",
   "execution_count": 3,
   "id": "5016e36a-9eca-44e4-b015-8cd3a0842802",
   "metadata": {},
   "outputs": [],
   "source": [
    "az_census = c.acs5.state_county_tract(fields = ('NAME', 'C17002_001E', 'C17002_002E', 'C17002_003E', 'B01003_001E', 'B02001_002E'),\n",
    "                                      state_fips = states.AZ.fips,\n",
    "                                      county_fips = \"*\",\n",
    "                                      tract = \"*\",\n",
    "                                      year = 2020)"
   ]
  },
  {
   "cell_type": "code",
   "execution_count": 4,
   "id": "d20c514c-3dac-427d-89ff-2480f107bddd",
   "metadata": {},
   "outputs": [],
   "source": [
    "az_df = pd.DataFrame(az_census)"
   ]
  },
  {
   "cell_type": "code",
   "execution_count": 5,
   "id": "8ca4234d-a2b9-4e7b-92d7-b044058c9e8b",
   "metadata": {},
   "outputs": [],
   "source": [
    "az_tract = gpd.read_file(\"https://www2.census.gov/geo/tiger/TIGER2020/TRACT/tl_2020_04_tract.zip\")"
   ]
  },
  {
   "cell_type": "code",
   "execution_count": 6,
   "id": "adbcfb6c-da31-425b-9093-c97c1cc8f836",
   "metadata": {},
   "outputs": [],
   "source": [
    "az_df[\"GEOID\"] = az_df[\"state\"] + az_df[\"county\"] + az_df[\"tract\"]"
   ]
  },
  {
   "cell_type": "code",
   "execution_count": 7,
   "id": "99e23376-9ab2-4292-9731-1b45be8afb2e",
   "metadata": {},
   "outputs": [],
   "source": [
    "az_merge = az_tract.merge(az_df, on = \"GEOID\")"
   ]
  },
  {
   "cell_type": "code",
   "execution_count": null,
   "id": "0f810db5-ad4e-4405-8227-2d22f9ab4650",
   "metadata": {},
   "outputs": [],
   "source": [
    "az_poverty_tract = az_merge[[\"STATEFP\", \"COUNTYFP\", \"TRACTCE\", \"GEOID\", \"geometry\", \"C17002_001E\", \"C17002_002E\", \"C17002_003E\", \"B01003_001E\", \"B02001_002E\"]]\n"
   ]
  },
  {
   "cell_type": "code",
   "execution_count": null,
   "id": "365f4027-cfa6-4443-bbaa-e69ed1747181",
   "metadata": {},
   "outputs": [],
   "source": [
    "az_minority_tract = az_merge[[\"STATEFP\", \"COUNTYFP\", \"TRACTCE\", \"GEOID\", \"geometry\", \"C17002_001E\", \"C17002_002E\", \"C17002_003E\", \"B01003_001E\", \"B02001_002E\"]]\n"
   ]
  },
  {
   "cell_type": "code",
   "execution_count": null,
   "id": "81b458a7-8b7d-46fe-98ca-8360ecfdf156",
   "metadata": {},
   "outputs": [],
   "source": []
  },
  {
   "cell_type": "code",
   "execution_count": null,
   "id": "d4c5b48f-a828-4c4a-b474-b3ddc4983a38",
   "metadata": {},
   "outputs": [],
   "source": []
  },
  {
   "cell_type": "code",
   "execution_count": null,
   "id": "44a9d48d-e4c4-495b-9f60-ac418d69692f",
   "metadata": {},
   "outputs": [],
   "source": []
  },
  {
   "cell_type": "code",
   "execution_count": null,
   "id": "ba2bd582-5490-4f54-bbe3-5e63bbf26881",
   "metadata": {},
   "outputs": [],
   "source": []
  },
  {
   "cell_type": "code",
   "execution_count": null,
   "id": "a74d34ad-ed07-4b5f-a29a-f79210c47363",
   "metadata": {},
   "outputs": [],
   "source": []
  }
 ],
 "metadata": {
  "kernelspec": {
   "display_name": "Python 3 (ipykernel)",
   "language": "python",
   "name": "python3"
  },
  "language_info": {
   "codemirror_mode": {
    "name": "ipython",
    "version": 3
   },
   "file_extension": ".py",
   "mimetype": "text/x-python",
   "name": "python",
   "nbconvert_exporter": "python",
   "pygments_lexer": "ipython3",
   "version": "3.9.15"
  }
 },
 "nbformat": 4,
 "nbformat_minor": 5
}
