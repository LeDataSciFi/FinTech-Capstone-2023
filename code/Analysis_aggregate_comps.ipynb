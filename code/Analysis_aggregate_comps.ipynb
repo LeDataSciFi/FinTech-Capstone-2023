{
 "cells": [
  {
   "cell_type": "code",
   "execution_count": 11,
   "id": "578f56d0-5a65-4734-af26-70c834c4304c",
   "metadata": {},
   "outputs": [],
   "source": [
    "import os\n",
    "import csv\n",
    "import pandas as pd"
   ]
  },
  {
   "cell_type": "code",
   "execution_count": 12,
   "id": "0b2463f2-d608-483a-ad63-b4caee59439b",
   "metadata": {},
   "outputs": [
    {
     "name": "stderr",
     "output_type": "stream",
     "text": [
      "C:\\Users\\twsca\\AppData\\Local\\Temp\\ipykernel_23224\\1184079942.py:1: DtypeWarning: Columns (22,23,24,26,27,28,29,30,31,32,33,38,43,44,46,77,78,79,80) have mixed types. Specify dtype option on import or set low_memory=False.\n",
      "  hmda = pd.read_csv('../input_data/state_AZ-CA.csv')\n"
     ]
    }
   ],
   "source": [
    "hmda = pd.read_csv('../input_data/state_AZ-CA.csv')"
   ]
  },
  {
   "cell_type": "code",
   "execution_count": 13,
   "id": "3b950b7a-5b98-4f02-8053-488f413edf50",
   "metadata": {},
   "outputs": [],
   "source": [
    "hmda['denial'] = hmda['action_taken'] == 3"
   ]
  },
  {
   "cell_type": "code",
   "execution_count": 14,
   "id": "62d2033a-c2f8-4f91-978a-c09b15c9ae3d",
   "metadata": {},
   "outputs": [],
   "source": [
    "def hmda_bank(row):\n",
    "  if row['lei'] == 'QOT5WN9RBKQTFRVKEV31':\n",
    "    hmda_bank = 'Bank of West'\n",
    "  elif row['lei'] == '3Y4U8VZURTYWI1W2K376':\n",
    "    hmda_bank = 'BMO Harris'\n",
    "  else: \n",
    "    hmda_bank = 'All Other Banks'\n",
    "  return hmda_bank"
   ]
  },
  {
   "cell_type": "code",
   "execution_count": 15,
   "id": "8179eacc-be4a-4c8d-b1b1-3ccee12e4f6c",
   "metadata": {},
   "outputs": [
    {
     "data": {
      "text/plain": [
       "All Other Banks    4179143\n",
       "Bank of West         19432\n",
       "BMO Harris            3378\n",
       "Name: which_bank, dtype: int64"
      ]
     },
     "execution_count": 15,
     "metadata": {},
     "output_type": "execute_result"
    }
   ],
   "source": [
    "hmda['which_bank'] = hmda.apply(hmda_bank,axis=1)\n",
    "hmda['which_bank'].value_counts()"
   ]
  },
  {
   "cell_type": "code",
   "execution_count": 16,
   "id": "a4bd49c7-c7d8-4183-b553-af958527fd4f",
   "metadata": {},
   "outputs": [
    {
     "data": {
      "text/plain": [
       "which_bank       loan_type  loan_purpose\n",
       "All Other Banks  1          1               0.065778\n",
       "                            2               0.304567\n",
       "                            4               0.296351\n",
       "                            5               0.012958\n",
       "                            31              0.086099\n",
       "                            32              0.091971\n",
       "                 2          1               0.066455\n",
       "                            2               0.117647\n",
       "                            4               0.131186\n",
       "                            5               0.000000\n",
       "                            31              0.115967\n",
       "                            32              0.182224\n",
       "                 3          1               0.051772\n",
       "                            2               0.150993\n",
       "                            4               0.589958\n",
       "                            5               0.000000\n",
       "                            31              0.079526\n",
       "                            32              0.138457\n",
       "                 4          1               0.069836\n",
       "                            2               0.045455\n",
       "                            4               0.055556\n",
       "                            5               0.000000\n",
       "                            31              0.121495\n",
       "                            32              0.083969\n",
       "BMO Harris       1          1               0.107143\n",
       "                            2               0.357143\n",
       "                            4               0.338645\n",
       "                            31              0.086207\n",
       "                            32              0.227687\n",
       "                 2          1               0.500000\n",
       "Bank of West     1          1               0.108129\n",
       "                            2               0.353585\n",
       "                            4               0.408051\n",
       "                            5               0.000000\n",
       "                            31              0.270278\n",
       "                            32              0.197051\n",
       "                 2          1               0.272727\n",
       "                            2               1.000000\n",
       "                            4               1.000000\n",
       "                            5               0.000000\n",
       "                            31              0.545455\n",
       "                            32              0.536585\n",
       "                 3          1               0.000000\n",
       "                            31              0.166667\n",
       "                            32              0.272727\n",
       "Name: denial, dtype: float64"
      ]
     },
     "execution_count": 16,
     "metadata": {},
     "output_type": "execute_result"
    }
   ],
   "source": [
    "hmda.groupby(['which_bank', 'loan_type', 'loan_purpose'])['denial'].mean()"
   ]
  },
  {
   "cell_type": "code",
   "execution_count": 17,
   "id": "c8b3f991-bd9d-4d3b-af89-f83cf1ae7a78",
   "metadata": {},
   "outputs": [
    {
     "name": "stdout",
     "output_type": "stream",
     "text": [
      "which_bank              All Other Banks  BMO Harris  Bank of West\n",
      "loan_type loan_purpose                                           \n",
      "1         1                    0.065778    0.107143      0.108129\n",
      "          2                    0.304567    0.357143      0.353585\n",
      "          4                    0.296351    0.338645      0.408051\n",
      "          5                    0.012958         NaN      0.000000\n",
      "          31                   0.086099    0.086207      0.270278\n",
      "          32                   0.091971    0.227687      0.197051\n",
      "2         1                    0.066455    0.500000      0.272727\n",
      "          2                    0.117647         NaN      1.000000\n",
      "          4                    0.131186         NaN      1.000000\n",
      "          5                    0.000000         NaN      0.000000\n",
      "          31                   0.115967         NaN      0.545455\n",
      "          32                   0.182224         NaN      0.536585\n",
      "3         1                    0.051772         NaN      0.000000\n",
      "          2                    0.150993         NaN           NaN\n",
      "          4                    0.589958         NaN           NaN\n",
      "          5                    0.000000         NaN           NaN\n",
      "          31                   0.079526         NaN      0.166667\n",
      "          32                   0.138457         NaN      0.272727\n",
      "4         1                    0.069836         NaN           NaN\n",
      "          2                    0.045455         NaN           NaN\n",
      "          4                    0.055556         NaN           NaN\n",
      "          5                    0.000000         NaN           NaN\n",
      "          31                   0.121495         NaN           NaN\n",
      "          32                   0.083969         NaN           NaN\n"
     ]
    }
   ],
   "source": [
    "# Create the pivot table\n",
    "pivot = hmda.pivot_table(index=['loan_type', 'loan_purpose'], columns = ['which_bank'], values='denial', aggfunc='mean')\n",
    "\n",
    "# The pivot table shows the mean denial rate for each combination of bank, loan type, and loan purpose\n",
    "print(pivot)\n"
   ]
  },
  {
   "cell_type": "code",
   "execution_count": 20,
   "id": "ffa539db-7aa0-4b9b-8c93-4b45240cdddd",
   "metadata": {},
   "outputs": [
    {
     "name": "stdout",
     "output_type": "stream",
     "text": [
      "which_bank              All Other Banks  BMO Harris  Bank of West  diff_BMO  \\\n",
      "loan_type loan_purpose                                                        \n",
      "1         1                    0.065778    0.107143      0.108129  0.041364   \n",
      "          2                    0.304567    0.357143      0.353585  0.052576   \n",
      "          4                    0.296351    0.338645      0.408051  0.042295   \n",
      "          5                    0.012958         NaN      0.000000       NaN   \n",
      "          31                   0.086099    0.086207      0.270278  0.000107   \n",
      "          32                   0.091971    0.227687      0.197051  0.135715   \n",
      "2         1                    0.066455    0.500000      0.272727  0.433545   \n",
      "          2                    0.117647         NaN      1.000000       NaN   \n",
      "          4                    0.131186         NaN      1.000000       NaN   \n",
      "          5                    0.000000         NaN      0.000000       NaN   \n",
      "          31                   0.115967         NaN      0.545455       NaN   \n",
      "          32                   0.182224         NaN      0.536585       NaN   \n",
      "3         1                    0.051772         NaN      0.000000       NaN   \n",
      "          2                    0.150993         NaN           NaN       NaN   \n",
      "          4                    0.589958         NaN           NaN       NaN   \n",
      "          5                    0.000000         NaN           NaN       NaN   \n",
      "          31                   0.079526         NaN      0.166667       NaN   \n",
      "          32                   0.138457         NaN      0.272727       NaN   \n",
      "4         1                    0.069836         NaN           NaN       NaN   \n",
      "          2                    0.045455         NaN           NaN       NaN   \n",
      "          4                    0.055556         NaN           NaN       NaN   \n",
      "          5                    0.000000         NaN           NaN       NaN   \n",
      "          31                   0.121495         NaN           NaN       NaN   \n",
      "          32                   0.083969         NaN           NaN       NaN   \n",
      "\n",
      "which_bank              diff_BOW  \n",
      "loan_type loan_purpose            \n",
      "1         1             0.042350  \n",
      "          2             0.049018  \n",
      "          4             0.111701  \n",
      "          5            -0.012958  \n",
      "          31            0.184179  \n",
      "          32            0.105080  \n",
      "2         1             0.206273  \n",
      "          2             0.882353  \n",
      "          4             0.868814  \n",
      "          5             0.000000  \n",
      "          31            0.429488  \n",
      "          32            0.354362  \n",
      "3         1            -0.051772  \n",
      "          2                  NaN  \n",
      "          4                  NaN  \n",
      "          5                  NaN  \n",
      "          31            0.087141  \n",
      "          32            0.134270  \n",
      "4         1                  NaN  \n",
      "          2                  NaN  \n",
      "          4                  NaN  \n",
      "          5                  NaN  \n",
      "          31                 NaN  \n",
      "          32                 NaN  \n"
     ]
    }
   ],
   "source": [
    "pivot['diff_BMO'] = pivot['BMO Harris'] - pivot['All Other Banks']\n",
    "pivot['diff_BOW'] = pivot['Bank of West'] - pivot['All Other Banks']\n",
    "pivot.style.format('{:,.2f}')\n",
    "print(pivot)"
   ]
  },
  {
   "cell_type": "code",
   "execution_count": null,
   "id": "29372812-726d-4f5f-baa1-21fe57845327",
   "metadata": {},
   "outputs": [],
   "source": []
  }
 ],
 "metadata": {
  "kernelspec": {
   "display_name": "Python 3 (ipykernel)",
   "language": "python",
   "name": "python3"
  },
  "language_info": {
   "codemirror_mode": {
    "name": "ipython",
    "version": 3
   },
   "file_extension": ".py",
   "mimetype": "text/x-python",
   "name": "python",
   "nbconvert_exporter": "python",
   "pygments_lexer": "ipython3",
   "version": "3.9.13"
  }
 },
 "nbformat": 4,
 "nbformat_minor": 5
}
