{
 "cells": [
  {
   "cell_type": "code",
   "execution_count": null,
   "id": "578f56d0-5a65-4734-af26-70c834c4304c",
   "metadata": {},
   "outputs": [],
   "source": [
    "import os\n",
    "import csv\n",
    "import pandas as pd"
   ]
  },
  {
   "cell_type": "markdown",
   "id": "415b6b90-e73f-4935-97da-55fb737cdfa3",
   "metadata": {},
   "source": [
    "# Load HMDA and prep (create variables)"
   ]
  },
  {
   "cell_type": "code",
   "execution_count": null,
   "id": "0b2463f2-d608-483a-ad63-b4caee59439b",
   "metadata": {},
   "outputs": [],
   "source": [
    "hmda = pd.read_csv('../input_data/state_AZ-CA.csv')"
   ]
  },
  {
   "cell_type": "code",
   "execution_count": null,
   "id": "0106e9d4-f294-4284-bb30-6af7dd28c54c",
   "metadata": {},
   "outputs": [],
   "source": [
    "hmda['denial'] = hmda['action_taken'] == 3\n",
    "print(hmda['action_taken'].value_counts())\n",
    "print(hmda['denial'].value_counts())"
   ]
  },
  {
   "cell_type": "code",
   "execution_count": null,
   "id": "5c56de1f-3cd0-4623-9313-e02b54ca0c1f",
   "metadata": {},
   "outputs": [],
   "source": [
    "# todo look at prints above: if action taken is ever missing, then denial should be missing too that many times\n",
    "# fix this if a problem"
   ]
  },
  {
   "cell_type": "code",
   "execution_count": null,
   "id": "62d2033a-c2f8-4f91-978a-c09b15c9ae3d",
   "metadata": {},
   "outputs": [],
   "source": [
    "def lei_map(lei):\n",
    "    if lei == 'QOT5WN9RBKQTFRVKEV31':\n",
    "        return 'Bank of West'\n",
    "    elif lei == '3Y4U8VZURTYWI1W2K376':\n",
    "        return 'BMO Harris'\n",
    "    elif x == np.nan:\n",
    "        return np.nan\n",
    "    else: \n",
    "        return 'All Other Banks'\n"
   ]
  },
  {
   "cell_type": "code",
   "execution_count": null,
   "id": "2fcb85bc-803d-47ca-8825-0ec7eb0a6291",
   "metadata": {},
   "outputs": [],
   "source": [
    "#todo map should be faster than replace, let me know asap if it fails"
   ]
  },
  {
   "cell_type": "code",
   "execution_count": null,
   "id": "8179eacc-be4a-4c8d-b1b1-3ccee12e4f6c",
   "metadata": {},
   "outputs": [],
   "source": [
    "hmda['which_bank'] = hmda['lei'].map(lei_map)\n",
    "hmda['which_bank'].value_counts()"
   ]
  },
  {
   "cell_type": "markdown",
   "id": "94e0f233-7d3b-4e84-9233-b1aea8881188",
   "metadata": {},
   "source": [
    "## Analysis\n",
    "\n",
    "- todo - write up findings....\n"
   ]
  },
  {
   "cell_type": "code",
   "execution_count": null,
   "id": "c8b3f991-bd9d-4d3b-af89-f83cf1ae7a78",
   "metadata": {},
   "outputs": [],
   "source": [
    "# Create the pivot table\n",
    "pivot = hmda.pivot_table(index=['loan_type', 'loan_purpose'], columns = ['which_bank'], values='denial', aggfunc='mean')\n",
    "\n",
    "# add columns for differentials (easier to see)\n",
    "pivot['diff_BMO'] = pivot['BMO Harris'] - pivot['All Other Banks']\n",
    "pivot['diff_BOW'] = pivot['Bank of West'] - pivot['All Other Banks']\n",
    "pivot.style.format('{:,.2f}')\n",
    "print(pivot)"
   ]
  }
 ],
 "metadata": {
  "kernelspec": {
   "display_name": "Python 3 (ipykernel)",
   "language": "python",
   "name": "python3"
  },
  "language_info": {
   "codemirror_mode": {
    "name": "ipython",
    "version": 3
   },
   "file_extension": ".py",
   "mimetype": "text/x-python",
   "name": "python",
   "nbconvert_exporter": "python",
   "pygments_lexer": "ipython3",
   "version": "3.8.16"
  }
 },
 "nbformat": 4,
 "nbformat_minor": 5
}
