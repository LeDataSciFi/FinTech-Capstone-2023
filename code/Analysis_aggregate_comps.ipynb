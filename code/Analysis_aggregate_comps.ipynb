{
 "cells": [
  {
   "cell_type": "code",
   "execution_count": null,
   "id": "578f56d0-5a65-4734-af26-70c834c4304c",
   "metadata": {},
   "outputs": [],
   "source": [
    "import os\n",
    "import csv\n",
    "import pandas as pd"
   ]
  },
  {
   "cell_type": "code",
   "execution_count": null,
   "id": "0b2463f2-d608-483a-ad63-b4caee59439b",
   "metadata": {},
   "outputs": [],
   "source": [
    "hmda = pd.read_csv('../input_data/state_AZ-CA_mini.csv')"
   ]
  },
  {
   "cell_type": "code",
   "execution_count": null,
   "id": "3b950b7a-5b98-4f02-8053-488f413edf50",
   "metadata": {},
   "outputs": [],
   "source": [
    "hmda['denial'] = hmda['action_taken'] == 3"
   ]
  },
  {
   "cell_type": "code",
   "execution_count": null,
   "id": "62d2033a-c2f8-4f91-978a-c09b15c9ae3d",
   "metadata": {},
   "outputs": [],
   "source": [
    "def hmda_bank(row):\n",
    "  if row['lei'] == 'QOT5WN9RBKQTFRVKEV31':\n",
    "    hmda_bank = 'Bank of West'\n",
    "  elif row['lei'] == '3Y4U8VZURTYWI1W2K376':\n",
    "    hmda_bank = 'BMO Harris'\n",
    "  else: \n",
    "    hmda_bank = 'All Other Banks'\n",
    "  return hmda_bank"
   ]
  },
  {
   "cell_type": "code",
   "execution_count": null,
   "id": "8179eacc-be4a-4c8d-b1b1-3ccee12e4f6c",
   "metadata": {},
   "outputs": [],
   "source": [
    "hmda['which_bank'] = hmda.apply(hmda_bank,axis=1)\n",
    "hmda['which_bank'].value_counts()"
   ]
  },
  {
   "cell_type": "code",
   "execution_count": null,
   "id": "a4bd49c7-c7d8-4183-b553-af958527fd4f",
   "metadata": {},
   "outputs": [],
   "source": [
    "hmda.groupby(['which_bank', 'loan_type', 'loan_purpose'])['denial'].mean()"
   ]
  },
  {
   "cell_type": "code",
   "execution_count": null,
   "id": "c8b3f991-bd9d-4d3b-af89-f83cf1ae7a78",
   "metadata": {},
   "outputs": [],
   "source": [
    "# Create the pivot table\n",
    "pivot = hmda.pivot_table(index=['loan_type', 'loan_purpose'], columns = ['which_bank'], values='denial', aggfunc='mean')\n",
    "\n",
    "# The pivot table shows the mean denial rate for each combination of bank, loan type, and loan purpose\n",
    "print(pivot)\n"
   ]
  },
  {
   "cell_type": "code",
   "execution_count": null,
   "id": "ffa539db-7aa0-4b9b-8c93-4b45240cdddd",
   "metadata": {},
   "outputs": [],
   "source": [
    "pivot['diff_BMO'] = pivot['BMO Harris'] - pivot['All Other Banks']\n",
    "pivot['diff_BOW'] = pivot['Bank of West'] - pivot['All Other Banks']\n",
    "pivot.style.format('{:,.2f}')\n",
    "print(pivot)"
   ]
  }
 ],
 "metadata": {
  "kernelspec": {
   "display_name": "Python 3 (ipykernel)",
   "language": "python",
   "name": "python3"
  },
  "language_info": {
   "codemirror_mode": {
    "name": "ipython",
    "version": 3
   },
   "file_extension": ".py",
   "mimetype": "text/x-python",
   "name": "python",
   "nbconvert_exporter": "python",
   "pygments_lexer": "ipython3",
   "version": "3.9.13"
  }
 },
 "nbformat": 4,
 "nbformat_minor": 5
}
