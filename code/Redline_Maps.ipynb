{
 "cells": [
  {
   "cell_type": "code",
   "execution_count": 1,
   "id": "54b60560-14f4-4603-97b3-565ccf7b5310",
   "metadata": {},
   "outputs": [],
   "source": [
    "import matplotlib.pyplot as plt\n",
    "from matplotlib  import rc\n",
    "import pandas as pd\n",
    "import geopandas as gpd\n",
    "import numpy as np\n",
    "import os\n",
    "import plotly.express as px\n",
    "from plotly import graph_objs as go\n",
    "import plotly.colors as colors\n"
   ]
  },
  {
   "cell_type": "markdown",
   "id": "e70cd8d6-d466-48b3-b455-bea06ee0a2b4",
   "metadata": {},
   "source": [
    "## Load bank-tract + census data\n",
    "\n",
    "We want to plot BOW variables. BOW doesn't have observations in tracts without loans, so we first add the missing tracts and set loan volume equal to 0. "
   ]
  },
  {
   "cell_type": "code",
   "execution_count": 2,
   "id": "34bb6cbf-1e8e-4f39-adfe-0470948c2141",
   "metadata": {},
   "outputs": [
    {
     "data": {
      "text/plain": [
       "Bank of West       9340\n",
       "All Other Banks    9337\n",
       "Name: which_bank, dtype: int64"
      ]
     },
     "execution_count": 2,
     "metadata": {},
     "output_type": "execute_result"
    }
   ],
   "source": [
    "bank_tract = pd.read_csv('../input_data_clean/bank_tract_clean_WITH_CENSUS.csv')\n",
    "\n",
    "# Create a copy of the original dataframe\n",
    "bank_tract_new = bank_tract.copy()\n",
    "\n",
    "# Find the census tracts that have AllOtherBanks but not BankofWest\n",
    "missing_tracts = bank_tract_new[(bank_tract_new['which_bank'] == 'All Other Banks') & ~(bank_tract_new['census_tract'].isin(bank_tract_new[bank_tract_new['which_bank'] == 'Bank of West']['census_tract']))].copy()\n",
    "\n",
    "# Update which_bank column to BankofWest\n",
    "missing_tracts['which_bank'] = 'Bank of West'\n",
    "\n",
    "# Set bank specific variables to 0\n",
    "start_col = bank_tract.columns.get_loc('sum_approved_loans')\n",
    "bank_specific_vars = bank_tract.columns[start_col:]\n",
    "missing_tracts[bank_specific_vars] = np.NaN\n",
    "missing_tracts['log_num_apps'] = 0\n",
    "\n",
    "# Append the missing rows to the new dataframe\n",
    "bank_tract_new = pd.concat([bank_tract_new, missing_tracts], ignore_index=True)\n",
    "\n",
    "# Verify that there are now equal numbers of rows for each which_bank value\n",
    "bank_tract_new[\"which_bank\"].value_counts()"
   ]
  },
  {
   "cell_type": "code",
   "execution_count": 3,
   "id": "892ff089-1792-407e-a94f-d47e987282cf",
   "metadata": {},
   "outputs": [],
   "source": [
    "bank_tract = bank_tract_new\n",
    "#denial_rate, credit_spread, np.log(# loans), np.log($ loans), avg LTV \n",
    "bank_tract [\"white_rate\"]        = (bank_tract [\"WhitePop\"]) / bank_tract [\"Tot.Pop\"] * 100\n",
    "bank_tract ['majority-minority'] = bank_tract [\"white_rate\"] < 50\n",
    "bank_tract ['below_p10_income']  = bank_tract [\"Med.HousehIncome\"] < bank_tract[\"Med.HousehIncome\"].quantile(0.1)\n",
    "bank_tract ['high_hispanic']     = (bank_tract ['HispanicLatinoPop'] / bank_tract['Tot.Pop']) > 0.25\n",
    "bank_tract ['high_black']        = (bank_tract ['BlackPop'] / bank_tract['Tot.Pop']) > 0.25\n",
    "bank_tract ['high_asian']        = (bank_tract ['AsianPop'] / bank_tract['Tot.Pop']) > 0.25\n",
    "bank_tract ['high_white']        = (bank_tract ['WhitePop'] / bank_tract['Tot.Pop']) > 0.25\n",
    "\n",
    "bank_tract ['log(numloans)']     = np.log(bank_tract['num_approved_loans'])\n",
    "bank_tract ['log(dol_loans)']    = np.log(bank_tract['avg_approved_loan_size'])"
   ]
  },
  {
   "cell_type": "markdown",
   "id": "2dba7be4-a0dd-45ce-823b-6f340e78c166",
   "metadata": {},
   "source": [
    "## Reduce to focal counties \n",
    "\n",
    "This makes the map files smaller. \n"
   ]
  },
  {
   "cell_type": "code",
   "execution_count": 4,
   "id": "16f606b4-ca3d-4cc3-8533-5100eea5734a",
   "metadata": {},
   "outputs": [],
   "source": [
    "bank_tract = bank_tract.query('(state == 4 & county in [13,19]) | (state == 6 & county in [37,75, 81, 1,85]) | (state == 18 & county in [97])')\n"
   ]
  },
  {
   "cell_type": "markdown",
   "id": "d41448ad-cc6b-44ab-add6-f4647b0897e6",
   "metadata": {},
   "source": [
    "## Reduce to tract level data and plot BOW only \n"
   ]
  },
  {
   "cell_type": "code",
   "execution_count": 5,
   "id": "9dbae8a1-3d0d-4242-b698-8b869b19858a",
   "metadata": {},
   "outputs": [],
   "source": [
    "tract_level = bank_tract.query('which_bank == \"Bank of West\"').copy()"
   ]
  },
  {
   "cell_type": "markdown",
   "id": "51a7ff9b-0c3e-4e62-90b2-b9eab430f181",
   "metadata": {},
   "source": [
    "### Get the shapefiles"
   ]
  },
  {
   "cell_type": "code",
   "execution_count": 6,
   "id": "436332f5-69e3-46a2-9258-756938a1f54c",
   "metadata": {},
   "outputs": [],
   "source": [
    "# Get the Arizona tract shapefile and convert to UTM Zone 17N coordinate system\n",
    "shape_az = gpd.read_file(\"https://www2.census.gov/geo/tiger/TIGER2020/TRACT/tl_2020_04_tract.zip\") #.to_crs(epsg=32617)\n",
    "shape_ca = gpd.read_file(\"https://www2.census.gov/geo/tiger/TIGER2020/TRACT/tl_2020_06_tract.zip\") #.to_crs(epsg=32617)\n",
    "shape_all = pd.concat([shape_az, shape_ca], ignore_index=True)\n",
    "shape_all['census_tract'] = shape_all['GEOID'].astype(np.int64)"
   ]
  },
  {
   "cell_type": "code",
   "execution_count": 7,
   "id": "b1dfba7c-a2d1-48d2-b86f-b9946bc54685",
   "metadata": {},
   "outputs": [],
   "source": [
    "tract_with_shape = shape_all.merge(tract_level, how = 'inner', on = ['census_tract'],\n",
    "                                   indicator = True, validate= '1:m') "
   ]
  },
  {
   "cell_type": "markdown",
   "id": "30758cb6-bc2d-40c0-8f48-f2eac506c15c",
   "metadata": {},
   "source": [
    "### Plot\n",
    "\n",
    "- color for the shapes\n",
    "- red dots for areas of concern (defined by...)"
   ]
  },
  {
   "cell_type": "code",
   "execution_count": 8,
   "id": "81196d43-321a-40bc-8f1e-bad635f39657",
   "metadata": {},
   "outputs": [],
   "source": [
    "concerns = tract_with_shape.query('`majority-minority`').copy()\n",
    "# we need this for the \"area of concern\" red marks\n",
    "concerns['lon'] = concerns['INTPTLON'].astype(float)\n",
    "concerns['lat'] = concerns['INTPTLAT'].astype(float)"
   ]
  },
  {
   "cell_type": "code",
   "execution_count": 9,
   "id": "de610870-83e5-44f3-8075-d4a47c346620",
   "metadata": {},
   "outputs": [],
   "source": [
    "listofshading   = ['denial_rate', 'mean_approved_rate_spread', 'log(numloans)', 'log(dol_loans)', 'mean_LTV', 'white_rate', \n",
    "                  'majority-minority','below_p10_income', 'high_hispanic', 'high_black', 'high_asian', 'high_white'] \n",
    "\n",
    "for v in listofshading:\n",
    "\n",
    "    fig = px.choropleth_mapbox(tract_with_shape.set_index('GEOID'),\n",
    "                               geojson=tract_with_shape.geometry,\n",
    "                               locations=tract_with_shape.index,\n",
    "                               opacity=.7,\n",
    "                               color=v, color_continuous_scale=px.colors.sequential.Greens,\n",
    "                               center={\"lat\": 33.44, \"lon\": -112.074036},\n",
    "                               mapbox_style=\"open-street-map\",\n",
    "                               zoom=5)\n",
    "\n",
    "    fig.add_scattermapbox(\n",
    "        lat = concerns['lat'],\n",
    "        lon = concerns['lon'],\n",
    "        mode = 'markers',\n",
    "        marker_size=12,\n",
    "        marker_color='red'\n",
    "    )\n",
    "\n",
    "    fig.update_layout(\n",
    "        title=v,\n",
    "        autosize=False,\n",
    "        width=1000,\n",
    "        height=1000,\n",
    "        margin={\"r\":0,\"t\":0,\"l\":0,\"b\":0}\n",
    "    )\n",
    "    fig.write_html(f\"../images/BOW_{v}.html\")"
   ]
  },
  {
   "cell_type": "markdown",
   "id": "7716977a-8fc5-4b32-b663-9f67bbdd3b60",
   "metadata": {},
   "source": [
    "## Shading now shows difference between BOW can competitors \n"
   ]
  },
  {
   "cell_type": "code",
   "execution_count": 10,
   "id": "0060944d-76f0-4922-9ae5-f8d93b9c70ee",
   "metadata": {},
   "outputs": [],
   "source": [
    "bank_tract = bank_tract.query('(state == 4 & county in [13,19]) | (state == 6 & county in [37,75, 81, 1,85])') # | (state == 18 & county in [97])\n",
    "# bank_tract[\"which_bank\"].value_counts()\n",
    "\n",
    "grouped = bank_tract.groupby(['census_tract', 'which_bank']) \n",
    "denial_rates = grouped['denial_rate'].mean()\n",
    "\n",
    "bank_of_west = denial_rates.loc[(slice(None), 'Bank of West')]\n",
    "all_other_banks = denial_rates.loc[(slice(None), 'All Other Banks')]\n",
    "percent_difference = bank_of_west - all_other_banks"
   ]
  },
  {
   "cell_type": "code",
   "execution_count": 11,
   "id": "607b3f28-a15a-4e12-a0e5-c4046590f6b6",
   "metadata": {},
   "outputs": [],
   "source": [
    "df_percent_difference = pd.DataFrame({'census_tract': percent_difference.index.get_level_values(0), 'denial_rate_percent_difference': percent_difference.values})\n",
    "\n",
    "bank_tract = pd.merge(bank_tract, df_percent_difference, on='census_tract', how='left')"
   ]
  },
  {
   "cell_type": "code",
   "execution_count": 12,
   "id": "ffd46ea8-328d-449f-b511-d1d5dfcdfc58",
   "metadata": {},
   "outputs": [],
   "source": [
    "shape_all = pd.concat([shape_az, shape_ca], ignore_index=True)\n",
    "shape_all['census_tract'] = shape_all['GEOID'].astype(np.int64)\n",
    "\n",
    "tract_with_shape = shape_all.merge(bank_tract, how = 'inner', on = ['census_tract'],\n",
    "                                   indicator = True, validate= '1:m') "
   ]
  },
  {
   "cell_type": "code",
   "execution_count": 13,
   "id": "570ab825-4b38-448e-b517-15b57ad0e3f8",
   "metadata": {},
   "outputs": [],
   "source": [
    "concerns = tract_with_shape.query('`majority-minority`').copy()\n",
    "# we need this for the \"area of concern\" red marks\n",
    "concerns['lon'] = concerns['INTPTLON'].astype(float)\n",
    "concerns['lat'] = concerns['INTPTLAT'].astype(float)\n",
    "\n",
    "listofshading = ['denial_rate_percent_difference']"
   ]
  },
  {
   "cell_type": "code",
   "execution_count": 14,
   "id": "81485da6-97cf-43cf-8c13-21d4785f8914",
   "metadata": {},
   "outputs": [],
   "source": [
    "colorscale = colors.sequential.Greens[::-1] + colors.sequential.Reds\n",
    "\n",
    "for v in listofshading:\n",
    "\n",
    "    fig = px.choropleth_mapbox(tract_with_shape.set_index('GEOID'),\n",
    "                               geojson=tract_with_shape.geometry,\n",
    "                               locations=tract_with_shape.index,\n",
    "                               opacity=.7,\n",
    "                               color=v, color_continuous_scale=colorscale,\n",
    "                               center={\"lat\": 33.44, \"lon\": -112.074036},\n",
    "                               mapbox_style=\"open-street-map\",\n",
    "                               zoom=5)\n",
    "\n",
    "    fig.add_scattermapbox(\n",
    "        lat = concerns['lat'],\n",
    "        lon = concerns['lon'],\n",
    "        mode = 'markers',\n",
    "        marker_size=12,\n",
    "        marker_color='red'\n",
    "    )\n",
    "\n",
    "    fig.update_layout(\n",
    "        title=v,\n",
    "        autosize=False,\n",
    "        width=1000,\n",
    "        height=1000,\n",
    "        margin={\"r\":0,\"t\":0,\"l\":0,\"b\":0}\n",
    "    )\n",
    "    fig.write_html(f\"../images/{v}.html\")"
   ]
  }
 ],
 "metadata": {
  "kernelspec": {
   "display_name": "Python 3 (ipykernel)",
   "language": "python",
   "name": "python3"
  },
  "language_info": {
   "codemirror_mode": {
    "name": "ipython",
    "version": 3
   },
   "file_extension": ".py",
   "mimetype": "text/x-python",
   "name": "python",
   "nbconvert_exporter": "python",
   "pygments_lexer": "ipython3",
   "version": "3.8.16"
  }
 },
 "nbformat": 4,
 "nbformat_minor": 5
}
