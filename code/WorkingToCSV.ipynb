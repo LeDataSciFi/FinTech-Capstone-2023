{
 "cells": [
  {
   "cell_type": "code",
   "execution_count": 2,
   "id": "5e00c4ac-c406-407d-96be-8dc1e77efa9d",
   "metadata": {},
   "outputs": [],
   "source": [
    "import os\n",
    "import csv\n",
    "import pandas as pd"
   ]
  },
  {
   "cell_type": "code",
   "execution_count": 3,
   "id": "73b4f60c-a965-4e7f-adee-f694429d070c",
   "metadata": {},
   "outputs": [],
   "source": [
    "hmda = pd.read_csv('../input_data/state_AZ-CA_mini.csv')"
   ]
  },
  {
   "cell_type": "code",
   "execution_count": 4,
   "id": "21cd58ba-f3ea-43bc-b100-3990c9e7f693",
   "metadata": {},
   "outputs": [],
   "source": [
    "hmda['accept'] = (hmda['action_taken'] == 2) | (hmda['action_taken'] == 6)"
   ]
  },
  {
   "cell_type": "code",
   "execution_count": 5,
   "id": "ef67ff4a-14e5-4f14-8739-b0c7d5f9aa93",
   "metadata": {},
   "outputs": [],
   "source": [
    "def hmda_bank(row):\n",
    "  if row['lei'] == 'QOT5WN9RBKQTFRVKEV31':\n",
    "    hmda_bank = 'Bank of West'\n",
    "  elif row['lei'] == '3Y4U8VZURTYWI1W2K376':\n",
    "    hmda_bank = 'BMO Harris'\n",
    "  else: \n",
    "    hmda_bank = 'All Other Banks'\n",
    "  return hmda_bank"
   ]
  },
  {
   "cell_type": "code",
   "execution_count": 6,
   "id": "285c2e69-d887-49f8-8d4f-407cfe6bd68f",
   "metadata": {},
   "outputs": [
    {
     "data": {
      "text/plain": [
       "All Other Banks    49721\n",
       "Bank of West         235\n",
       "BMO Harris            44\n",
       "Name: which_bank, dtype: int64"
      ]
     },
     "execution_count": 6,
     "metadata": {},
     "output_type": "execute_result"
    }
   ],
   "source": [
    "hmda['which_bank'] = hmda.apply(hmda_bank,axis=1)\n",
    "hmda['which_bank'].value_counts()"
   ]
  },
  {
   "cell_type": "code",
   "execution_count": 7,
   "id": "b14b481c-d335-4718-9a83-00714b577f19",
   "metadata": {},
   "outputs": [],
   "source": [
    "hmda['received'] = (hmda['action_taken'] == 1) | (hmda['action_taken'] == 2) | (hmda['action_taken'] == 3) | (hmda['action_taken'] == 4) | (hmda['action_taken'] == 5) | (hmda['action_taken'] == 6)"
   ]
  },
  {
   "cell_type": "code",
   "execution_count": 17,
   "id": "2c085fd4-2e05-4485-9e71-9cced0741406",
   "metadata": {},
   "outputs": [],
   "source": [
    "pivot_sum_Loan = hmda.pivot_table(index=['loan_type', 'loan_purpose'], columns = ['which_bank'], values='loan_amount', aggfunc='sum')"
   ]
  },
  {
   "cell_type": "code",
   "execution_count": 18,
   "id": "7b188b41-804a-46e5-add1-dfde90882660",
   "metadata": {},
   "outputs": [
    {
     "name": "stdout",
     "output_type": "stream",
     "text": [
      "which_bank              All Other Banks  BMO Harris  Bank of West\n",
      "loan_type loan_purpose                                           \n",
      "1         1                5.698250e+09   4735000.0    23720000.0\n",
      "          2                3.188950e+08   1135000.0     6440000.0\n",
      "          4                3.834250e+08   2205000.0    14815000.0\n",
      "          5                1.354000e+07         NaN           NaN\n",
      "          31               8.465585e+09   2230000.0    41860000.0\n",
      "          32               4.899080e+09   3615000.0    21915000.0\n",
      "2         1                5.909850e+08         NaN           NaN\n",
      "          2                3.670000e+06         NaN           NaN\n",
      "          4                9.365000e+06         NaN           NaN\n",
      "          5                1.367000e+07         NaN           NaN\n",
      "          31               4.824800e+08         NaN           NaN\n",
      "          32               1.818400e+08         NaN           NaN\n",
      "3         1                3.751650e+08         NaN           NaN\n",
      "          2                5.170000e+06         NaN           NaN\n",
      "          4                3.250000e+06         NaN           NaN\n",
      "          5                1.575000e+06         NaN           NaN\n",
      "          31               6.685350e+08         NaN      485000.0\n",
      "          32               3.651150e+08         NaN           NaN\n",
      "4         1                1.905500e+07         NaN           NaN\n",
      "          5                9.500000e+04         NaN           NaN\n",
      "          31               5.125000e+06         NaN           NaN\n",
      "          32               2.305000e+06         NaN           NaN\n"
     ]
    }
   ],
   "source": [
    "print(pivot_sum_Loan)"
   ]
  },
  {
   "cell_type": "code",
   "execution_count": 25,
   "id": "d7a46946-f115-47bc-97bb-125b136c58e6",
   "metadata": {},
   "outputs": [
    {
     "name": "stdout",
     "output_type": "stream",
     "text": [
      "which_bank              All Other Banks  BMO Harris   Bank of West\n",
      "loan_type loan_purpose                                            \n",
      "1         1               513356.772761    865000.0  318333.333333\n",
      "          2               151119.402985         NaN            NaN\n",
      "          4               151521.739130         NaN            NaN\n",
      "          5               178809.523810         NaN            NaN\n",
      "          31              438611.369991   1115000.0  203571.428571\n",
      "          32              396270.588235         NaN  295000.000000\n",
      "2         1               335776.892430         NaN            NaN\n",
      "          2               245000.000000         NaN            NaN\n",
      "          4               330000.000000         NaN            NaN\n",
      "          5               201029.411765         NaN            NaN\n",
      "          31              321887.755102         NaN            NaN\n",
      "          32              317325.581395         NaN            NaN\n",
      "3         1               441787.878788         NaN            NaN\n",
      "          4               465000.000000         NaN            NaN\n",
      "          5               225000.000000         NaN            NaN\n",
      "          31              406493.775934         NaN  485000.000000\n",
      "          32              430740.740741         NaN            NaN\n",
      "4         1               194259.259259         NaN            NaN\n",
      "          5                95000.000000         NaN            NaN\n",
      "          31              220000.000000         NaN            NaN\n"
     ]
    }
   ],
   "source": [
    "filtered_df = hmda[(hmda['action_taken'] == 2) | (hmda['action_taken'] == 6)]\n",
    "pivot_Mean_Loan = filtered_df.pivot_table(index=['loan_type', 'loan_purpose'], columns = ['which_bank'], values='loan_amount', aggfunc='mean')\n",
    "print(pivot_Mean_Loan)"
   ]
  },
  {
   "cell_type": "code",
   "execution_count": 28,
   "id": "0a281665-bc13-4de3-a1a3-909f7efaa891",
   "metadata": {},
   "outputs": [
    {
     "name": "stdout",
     "output_type": "stream",
     "text": [
      "which_bank              All Other Banks  BMO Harris  Bank of West\n",
      "loan_type loan_purpose                                           \n",
      "1         1                 693545000.0   3460000.0      955000.0\n",
      "          2                  10125000.0         NaN           NaN\n",
      "          4                  10455000.0         NaN           NaN\n",
      "          5                   3755000.0         NaN           NaN\n",
      "          31                941260000.0   2230000.0     1425000.0\n",
      "          32                505245000.0         NaN      295000.0\n",
      "2         1                 168560000.0         NaN           NaN\n",
      "          2                    490000.0         NaN           NaN\n",
      "          4                   1320000.0         NaN           NaN\n",
      "          5                  13670000.0         NaN           NaN\n",
      "          31                 63090000.0         NaN           NaN\n",
      "          32                 27290000.0         NaN           NaN\n",
      "3         1                  72895000.0         NaN           NaN\n",
      "          4                   1395000.0         NaN           NaN\n",
      "          5                   1575000.0         NaN           NaN\n",
      "          31                 97965000.0         NaN      485000.0\n",
      "          32                 46520000.0         NaN           NaN\n",
      "4         1                   5245000.0         NaN           NaN\n",
      "          5                     95000.0         NaN           NaN\n",
      "          31                   440000.0         NaN           NaN\n"
     ]
    }
   ],
   "source": [
    "filtered_df = hmda[(hmda['action_taken'] == 2) | (hmda['action_taken'] == 6)]\n",
    "pivot_sum_loan = filtered_df.pivot_table(index=['loan_type', 'loan_purpose'], columns = ['which_bank'], values='loan_amount', aggfunc='sum')\n",
    "print(pivot_sum_loan)"
   ]
  },
  {
   "cell_type": "code",
   "execution_count": 23,
   "id": "c7bbd5fe-0089-42d4-9d8f-3c7ee22f0e4e",
   "metadata": {},
   "outputs": [],
   "source": [
    "bank_tract = hmda.groupby(['which_bank','census_tract', 'loan_type', 'loan_purpose']).agg({'accept': 'sum', 'received': 'sum', 'loan_amount': 'sum'})\n",
    "bank_tract.to_csv('../input_data/bank_tract.csv')\n"
   ]
  }
 ],
 "metadata": {
  "kernelspec": {
   "display_name": "Python 3 (ipykernel)",
   "language": "python",
   "name": "python3"
  },
  "language_info": {
   "codemirror_mode": {
    "name": "ipython",
    "version": 3
   },
   "file_extension": ".py",
   "mimetype": "text/x-python",
   "name": "python",
   "nbconvert_exporter": "python",
   "pygments_lexer": "ipython3",
   "version": "3.9.13"
  }
 },
 "nbformat": 4,
 "nbformat_minor": 5
}
