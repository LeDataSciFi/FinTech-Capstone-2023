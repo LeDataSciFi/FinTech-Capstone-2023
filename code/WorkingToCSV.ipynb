{
 "cells": [
  {
   "cell_type": "code",
   "execution_count": 2,
   "id": "5e00c4ac-c406-407d-96be-8dc1e77efa9d",
   "metadata": {},
   "outputs": [],
   "source": [
    "import os\n",
    "import csv\n",
    "import pandas as pd"
   ]
  },
  {
   "cell_type": "code",
   "execution_count": 3,
   "id": "73b4f60c-a965-4e7f-adee-f694429d070c",
   "metadata": {},
   "outputs": [],
   "source": [
    "hmda = pd.read_csv('../input_data/state_AZ-CA_mini.csv')"
   ]
  },
  {
   "cell_type": "code",
   "execution_count": 4,
   "id": "21cd58ba-f3ea-43bc-b100-3990c9e7f693",
   "metadata": {},
   "outputs": [],
   "source": [
    "hmda['accept'] = (hmda['action_taken'] == 2) | (hmda['action_taken'] == 6)"
   ]
  },
  {
   "cell_type": "code",
   "execution_count": 5,
   "id": "ef67ff4a-14e5-4f14-8739-b0c7d5f9aa93",
   "metadata": {},
   "outputs": [],
   "source": [
    "def hmda_bank(row):\n",
    "  if row['lei'] == 'QOT5WN9RBKQTFRVKEV31':\n",
    "    hmda_bank = 'Bank of West'\n",
    "  elif row['lei'] == '3Y4U8VZURTYWI1W2K376':\n",
    "    hmda_bank = 'BMO Harris'\n",
    "  else: \n",
    "    hmda_bank = 'All Other Banks'\n",
    "  return hmda_bank"
   ]
  },
  {
   "cell_type": "code",
   "execution_count": 6,
   "id": "285c2e69-d887-49f8-8d4f-407cfe6bd68f",
   "metadata": {},
   "outputs": [
    {
     "data": {
      "text/plain": [
       "All Other Banks    49721\n",
       "Bank of West         235\n",
       "BMO Harris            44\n",
       "Name: which_bank, dtype: int64"
      ]
     },
     "execution_count": 6,
     "metadata": {},
     "output_type": "execute_result"
    }
   ],
   "source": [
    "hmda['which_bank'] = hmda.apply(hmda_bank,axis=1)\n",
    "hmda['which_bank'].value_counts()"
   ]
  },
  {
   "cell_type": "code",
   "execution_count": 7,
   "id": "b14b481c-d335-4718-9a83-00714b577f19",
   "metadata": {},
   "outputs": [],
   "source": [
    "hmda['received'] = (hmda['action_taken'] == 1) | (hmda['action_taken'] == 2) | (hmda['action_taken'] == 3) | (hmda['action_taken'] == 4) | (hmda['action_taken'] == 5) | (hmda['action_taken'] == 6)"
   ]
  },
  {
   "cell_type": "code",
   "execution_count": null,
   "id": "2c085fd4-2e05-4485-9e71-9cced0741406",
   "metadata": {},
   "outputs": [],
   "source": []
  },
  {
   "cell_type": "code",
   "execution_count": 10,
   "id": "c7bbd5fe-0089-42d4-9d8f-3c7ee22f0e4e",
   "metadata": {},
   "outputs": [
    {
     "name": "stderr",
     "output_type": "stream",
     "text": [
      "C:\\Users\\twsca\\AppData\\Local\\Temp\\ipykernel_3216\\1427486608.py:1: FutureWarning: Indexing with multiple keys (implicitly converted to a tuple of keys) will be deprecated, use a list instead.\n",
      "  bank_tract = hmda.groupby(['which_bank','census_tract'])['accept', 'received'].sum()\n"
     ]
    }
   ],
   "source": [
    "bank_tract = hmda.groupby(['which_bank','census_tract'])['accept', 'received'].sum()\n",
    "bank_tract.to_csv('../input_data/bank_tract.csv')"
   ]
  }
 ],
 "metadata": {
  "kernelspec": {
   "display_name": "Python 3 (ipykernel)",
   "language": "python",
   "name": "python3"
  },
  "language_info": {
   "codemirror_mode": {
    "name": "ipython",
    "version": 3
   },
   "file_extension": ".py",
   "mimetype": "text/x-python",
   "name": "python",
   "nbconvert_exporter": "python",
   "pygments_lexer": "ipython3",
   "version": "3.9.13"
  }
 },
 "nbformat": 4,
 "nbformat_minor": 5
}
