{
 "cells": [
  {
   "cell_type": "markdown",
   "id": "652390e4-77c8-45fa-87d3-e04d3cd67ee7",
   "metadata": {},
   "source": [
    "# Prep the datasets to use in analysis\n",
    "\n",
    "1. Clean both HMDA and census datasets.\n",
    "1. Reduce the HMDA loan-level file to a bank-tract dataset.\n",
    "1. Merge the bank-tract dataset with the census data.\n"
   ]
  },
  {
   "cell_type": "code",
   "execution_count": null,
   "id": "ba8ad415-0a5c-4134-af1d-68ccdbf0e77a",
   "metadata": {},
   "outputs": [],
   "source": [
    "import os\n",
    "import csv\n",
    "import pandas as pd\n"
   ]
  },
  {
   "cell_type": "markdown",
   "id": "75d46a97-f0b5-449f-a8fb-4dab064e7144",
   "metadata": {},
   "source": [
    "## HMDA Cleaning\n",
    "\n",
    "- Clean the var types\n",
    "- Better variable values (replace loan type 1 with name)\n",
    "    - Anna found nice code to do this type of multi replace"
   ]
  },
  {
   "cell_type": "code",
   "execution_count": null,
   "id": "fb9dd81d-2d59-4f35-9523-1e3f5c957344",
   "metadata": {},
   "outputs": [],
   "source": [
    "os.makedirs('../input_data_clean/',exist_ok=True)\n",
    "\n",
    "# anna  and seb \n",
    "\n",
    "# load hmda-mini \n",
    "hmda = pd.read_csv('../input_data/state_AZ-CA_mini.csv')\n",
    "\n",
    "# clean that thing\n",
    "# for example, right now, loading the raw file gives warning:  Columns (22,23,24,26,27,28,29,30,31,32,33,38,43,44,46,77,78,79,80) have mixed types. Specify dtype option on import or set low_memory=False.\n",
    "\n",
    "# save to input_data_clean folder \n",
    "\n",
    "# check that it works: load the file you just saved and look at it... ok?\n",
    "\n",
    "# repeat for the non-mini version\n"
   ]
  },
  {
   "cell_type": "markdown",
   "id": "97992b0c-4369-4e3e-b903-5f56b47c5d4f",
   "metadata": {},
   "source": [
    "## Census cleaning\n",
    "\n",
    "Rename the vars etc. "
   ]
  },
  {
   "cell_type": "code",
   "execution_count": null,
   "id": "d2762c3c-56ad-4a5a-bf49-4b7b1adaa826",
   "metadata": {},
   "outputs": [],
   "source": [
    "# juan isaac ellie\n",
    "# save to '../input_data_clean/census_clean.csv'"
   ]
  },
  {
   "cell_type": "markdown",
   "id": "578eec41-a3ce-40e2-83da-31de281c0dbc",
   "metadata": {},
   "source": [
    "## Reduce the loan-level HMDA dataset to a Bank-Tract level dataset"
   ]
  },
  {
   "cell_type": "code",
   "execution_count": null,
   "id": "31311496-349c-42fd-bfdf-9b4913654075",
   "metadata": {},
   "outputs": [],
   "source": [
    "# matt et al\n",
    "# save to '../input_data_clean/bank_tract_clean.csv'"
   ]
  },
  {
   "cell_type": "markdown",
   "id": "af2198f4-878c-469b-949f-3dce88167441",
   "metadata": {},
   "source": [
    "## Merge the two"
   ]
  },
  {
   "cell_type": "code",
   "execution_count": null,
   "id": "68393b1f-96de-4280-a3c0-7b042a218e95",
   "metadata": {},
   "outputs": [],
   "source": [
    "# juan and josh - copy your code here\n",
    "# mergging the bank-tract level dataset and the census, and save\n",
    "# save to '../input_data_clean/bank_tract_clean_WITH_CENSUS.csv'"
   ]
  }
 ],
 "metadata": {
  "kernelspec": {
   "display_name": "Python 3 (ipykernel)",
   "language": "python",
   "name": "python3"
  },
  "language_info": {
   "codemirror_mode": {
    "name": "ipython",
    "version": 3
   },
   "file_extension": ".py",
   "mimetype": "text/x-python",
   "name": "python",
   "nbconvert_exporter": "python",
   "pygments_lexer": "ipython3",
   "version": "3.9.15"
  }
 },
 "nbformat": 4,
 "nbformat_minor": 5
}
