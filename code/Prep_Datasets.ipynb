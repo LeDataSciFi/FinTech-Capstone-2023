{
 "cells": [
  {
   "cell_type": "markdown",
   "id": "652390e4-77c8-45fa-87d3-e04d3cd67ee7",
   "metadata": {},
   "source": [
    "# Prep the datasets to use in analysis\n",
    "\n",
    "1. Clean both HMDA and census datasets.\n",
    "1. Reduce the HMDA loan-level file to a bank-tract dataset.\n",
    "1. Merge the bank-tract dataset with the census data.\n"
   ]
  },
  {
   "cell_type": "code",
   "execution_count": 1,
   "id": "ba8ad415-0a5c-4134-af1d-68ccdbf0e77a",
   "metadata": {},
   "outputs": [],
   "source": [
    "import os\n",
    "import csv\n",
    "import pandas as pd\n",
    "import numpy as np\n",
    "\n",
    "os.makedirs('../input_data_clean/',exist_ok=True)\n"
   ]
  },
  {
   "cell_type": "markdown",
   "id": "75d46a97-f0b5-449f-a8fb-4dab064e7144",
   "metadata": {},
   "source": [
    "## HMDA Cleaning\n",
    "\n",
    "- Clean the var types\n",
    "- Better variable values (replace loan type 1 with name)"
   ]
  },
  {
   "cell_type": "code",
   "execution_count": 2,
   "id": "45f6a58a-cb64-4767-92a2-be0a45c747d1",
   "metadata": {},
   "outputs": [],
   "source": [
    "#todo when complete, delete this comment and uncomment the if, indent everything below\n",
    "# if not os.path.exists('../input_data_clean/state_AZ-CA_clean.csv'):\n",
    "\n",
    "#todo load the WHOLE thing when code is set\n",
    "hmda = pd.read_csv('../input_data/state_AZ-CA_mini.csv')\n",
    "hmda = hmda.replace([\"Exempt\",\"1111\",\"8888\",\"9999\",\"NA\"], np.nan)  \n",
    "\n",
    "hmda['simplified_applicant_age_above_62'] = hmda['applicant_age_above_62'].map({'Yes': 1, 'No': 0})\n",
    "hmda.drop(columns = ['applicant_age_above_62'],inplace=True)\n",
    "\n",
    "hmda['state_simplified'] = hmda['state_code'].map({'AZ': 1, 'CA': 0})\n"
   ]
  },
  {
   "cell_type": "code",
   "execution_count": 3,
   "id": "63bcfb3c-9e4e-49dc-b35b-531d4b96166d",
   "metadata": {},
   "outputs": [
    {
     "data": {
      "text/plain": [
       "count     33110\n",
       "unique    15598\n",
       "top        80.0\n",
       "freq       2489\n",
       "Name: loan_to_value_ratio, dtype: object"
      ]
     },
     "execution_count": 3,
     "metadata": {},
     "output_type": "execute_result"
    }
   ],
   "source": [
    "hmda['loan_to_value_ratio'].describe()"
   ]
  },
  {
   "cell_type": "code",
   "execution_count": 4,
   "id": "bb13da68-3961-4a14-9364-ca7357ed4c27",
   "metadata": {},
   "outputs": [],
   "source": [
    "hmda = hmda.astype({\n",
    "    'loan_to_value_ratio': float,\n",
    "    'rate_spread': float,\n",
    "    'prepayment_penalty_term': float,\n",
    "    'intro_rate_period': float,\n",
    "    'property_value': float,\n",
    "    'total_loan_costs': float,\n",
    "    'total_points_and_fees': float,\n",
    "    'origination_charges': float,\n",
    "    'discount_points': float,\n",
    "    'lender_credits': float,\n",
    "    'loan_term': float,\n",
    "    'prepayment_penalty_term': float\n",
    "})\n",
    "\n",
    "#todo ltv is float with bins for the tails? wtf?\n",
    "#todo use the output report to continue cleaning\n",
    "#todo when done, save it:\n",
    "\n",
    "hmda.to_csv('../input_data_clean/state_AZ-CA_clean_MINI.csv',index=False)\n",
    "\n",
    "# hmda.to_csv('../input_data_clean/state_AZ-CA_clean.csv',index=False)\n",
    "# hmda.sample(50000).to_csv('../input_data_clean/state_AZ-CA_clean_MINI.csv',index=False)\n",
    "\n",
    "#todo check that it works: load the mini file (read_csv) you just saved and look at it... ok? same index? no extra var?"
   ]
  },
  {
   "cell_type": "markdown",
   "id": "d82eec00-0ec5-4289-b971-b563015268a8",
   "metadata": {},
   "source": [
    "Save a report on the dataset. This will be useful to refer back to later on."
   ]
  },
  {
   "cell_type": "code",
   "execution_count": null,
   "id": "c6484e74-2b7d-44a9-b67e-b35e0072cd27",
   "metadata": {},
   "outputs": [],
   "source": [
    "# to rerun this, delete the file\n",
    "if not os.path.exists(\"mini_HMDA_partial_clean.html\"):\n",
    "    #!pip install -U ydata-profiling \n",
    "    from ydata_profiling import ProfileReport\n",
    "    profile = ProfileReport(hmda, title=\"HMDA after existing cleaning steps\", minimal=True)\n",
    "    profile.to_file(\"mini_HMDA_partial_clean.html\")\n",
    "    \n",
    "# todo after more cleaning... output to outputs/HMDA_profile_report.html instead    "
   ]
  },
  {
   "cell_type": "markdown",
   "id": "97992b0c-4369-4e3e-b903-5f56b47c5d4f",
   "metadata": {},
   "source": [
    "## Census cleaning\n",
    "\n",
    "1. Rename the variables into something usable.\n",
    "1. Prepare a `census_tract` variable we can merge with the HMDA data. "
   ]
  },
  {
   "cell_type": "code",
   "execution_count": null,
   "id": "4df1507c-cc22-40c4-8daa-789a0363599e",
   "metadata": {},
   "outputs": [],
   "source": [
    "# this csv: col1 is census var ID name, col2 is the name we are using\n",
    "# we are importing this into a dictionary bc pandas rename() wants that structure\n",
    "rename_dict ={}\n",
    "with open('../input_data/census_vars.csv') as f:\n",
    "    for row in csv.reader(f):\n",
    "        rename_dict[row[0]] = row[1]\n",
    "    "
   ]
  },
  {
   "cell_type": "code",
   "execution_count": null,
   "id": "4b906a23-856a-41e5-9ceb-72154954ea01",
   "metadata": {},
   "outputs": [],
   "source": [
    "#todo when the below is done\n",
    "# if not os.path.exists('../input_data_clean/census_clean.csv'):\n",
    "\n",
    "#todo verifying the merge steps with juan...\n",
    "census = (\n",
    "        pd.read_csv('../input_data/census.csv')\n",
    "        # are we sure? these are adding the #s... don't you mean to concatenate them as strings?\n",
    "        .assign(census_tract = lambda x: x[\"state\"] + x[\"county\"] + x[\"tract\"])\n",
    "        .rename(columns = rename_dict)\n",
    "        # .drop(columns = [\"state\", \"county\", \"tract\"])\n",
    "        # .to_csv('../input_data_clean/census_clean.csv',index=False)\n",
    ")\n",
    "\n",
    "#todo are these necessary?   depends on above\n",
    "# census_clean[\"census_tract\"] = census_clean[\"census_tract\"].astype(str)\n",
    "# census_clean[\"census_tract\"] = census_clean[\"census_tract\"].str.lstrip('0')\n",
    "# census_clean[\"census_tract\"] = census_clean[\"census_tract\"].astype(int)\n"
   ]
  },
  {
   "cell_type": "code",
   "execution_count": null,
   "id": "7aaa24b1-bd1f-4f3d-b009-a04f7d49df2a",
   "metadata": {},
   "outputs": [],
   "source": [
    "census['census_tract'].nunique() # count = 9583, nunqiue = 9140"
   ]
  },
  {
   "cell_type": "markdown",
   "id": "578eec41-a3ce-40e2-83da-31de281c0dbc",
   "metadata": {},
   "source": [
    "## Reduce the loan-level HMDA dataset to a Bank-Tract level dataset\n",
    "\n",
    "First, create variables we need before the aggregation step. "
   ]
  },
  {
   "cell_type": "code",
   "execution_count": null,
   "id": "18ef4dcc-cd1a-462a-b185-0ea17f8a098e",
   "metadata": {},
   "outputs": [],
   "source": [
    "#todo if not os.path.exists('../input_data_clean/bank_tract.csv'):\n",
    "\n",
    "#todo when all good, redo this with FULL\n",
    "hmda = pd.read_csv('../input_data/state_AZ-CA_mini.csv')\n",
    "\n",
    "# 5 incomplete app\n",
    "# 6 purchased loan \n",
    "# 7 is preapproval request denied              todo treat as app and deny?\n",
    "# 8 preapproval approved but not accepted      todo treat as app and approve? change def below\n",
    "\n",
    "hmda['approved'] = (hmda['action_taken'] == 2) | (hmda['action_taken'] == 1) \n",
    "\n",
    "hmda['application'] = (hmda['action_taken'] < 4 ) \n",
    "\n",
    "def lei_map(lei):\n",
    "    if lei == 'QOT5WN9RBKQTFRVKEV31':\n",
    "        return 'Bank of West'\n",
    "    elif lei == '3Y4U8VZURTYWI1W2K376':\n",
    "        return 'BMO Harris'\n",
    "    elif lei == np.nan:\n",
    "        return np.nan\n",
    "    else: \n",
    "        return 'All Other Banks'\n",
    "\n",
    "hmda['which_bank'] = hmda['lei'].map(lei_map)\n"
   ]
  },
  {
   "cell_type": "code",
   "execution_count": null,
   "id": "ef261846-69e7-493f-a45b-fa5b94b53da0",
   "metadata": {},
   "outputs": [],
   "source": [
    "#todo Other variables to add:\n",
    "\n",
    "# $ of loans approved \n",
    "#     Create a new var = $loan if approved, na else; groupby will ignore na's while adding\n",
    "# avg LTV (of all? or only of approved? < probably the latter)\n",
    "    # if all, just add to groupby below. If approved, repeat the trick from above for creating $ of loans approved \n",
    "# avg spread (of all? or only of approved? < probably the latter)\n",
    "# avg rate (of all? or only of approved? < probably the latter)\n",
    "# avg loan size (of all? or only of approved? < probably the latter)\n"
   ]
  },
  {
   "cell_type": "markdown",
   "id": "1ec97d80-62b7-437e-8a74-dab33b6e5db2",
   "metadata": {},
   "source": [
    "Second, aggregate by area:"
   ]
  },
  {
   "cell_type": "code",
   "execution_count": null,
   "id": "a300b946-c336-44ae-8ff9-c61da6988f89",
   "metadata": {},
   "outputs": [],
   "source": [
    "bank_tract = hmda.groupby(['which_bank','census_tract']).agg(\n",
    "    {'approved': 'sum', \n",
    "     'application': 'sum', \n",
    "     'loan_amount': 'sum',\n",
    "     'rate_spread' : 'sum'.\n",
    "     'income': 'median'}\n",
    ")\n",
    "\n",
    "# now, add denial rate and approval rate\n",
    "\n",
    "# bank_tract.to_csv('../input_data_clean/bank_tract.csv',index=False)\n",
    "\n",
    "# count apps and denials for each prod? for each purpose? for each combo?\n",
    "\n",
    "\n",
    "\n",
    "\n"
   ]
  },
  {
   "cell_type": "markdown",
   "id": "af2198f4-878c-469b-949f-3dce88167441",
   "metadata": {},
   "source": [
    "## Merge the bank-tract data with the census tract level info"
   ]
  },
  {
   "cell_type": "code",
   "execution_count": null,
   "id": "68393b1f-96de-4280-a3c0-7b042a218e95",
   "metadata": {},
   "outputs": [],
   "source": [
    "\n",
    "#todo, awaiting better \n",
    "\n",
    "failllll\n",
    "\n",
    "#todo try on hmda mini, then hmda full...\n",
    "\n",
    "#todo if not os.path.exists('../input_data_clean/bank_tract_clean_WITH_CENSUS.csv'):\n",
    "(\n",
    "    pd.read_csv('../input_data_clean/census_clean.csv')\n",
    "    .merge(pd.read_csv('../input_data_clean/hmda_clean.csv'),\n",
    "           on = \"census_tract\", \n",
    "           how = \"inner\",\n",
    "           validate = \"1:M\")\n",
    "    .to_csv('../input_data_clean/bank_tract_clean_WITH_CENSUS.csv')\n",
    ")"
   ]
  }
 ],
 "metadata": {
  "kernelspec": {
   "display_name": "Python 3 (ipykernel)",
   "language": "python",
   "name": "python3"
  },
  "language_info": {
   "codemirror_mode": {
    "name": "ipython",
    "version": 3
   },
   "file_extension": ".py",
   "mimetype": "text/x-python",
   "name": "python",
   "nbconvert_exporter": "python",
   "pygments_lexer": "ipython3",
   "version": "3.9.13"
  }
 },
 "nbformat": 4,
 "nbformat_minor": 5
}
