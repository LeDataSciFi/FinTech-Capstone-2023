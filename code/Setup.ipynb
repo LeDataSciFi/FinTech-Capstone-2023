{
 "cells": [
  {
   "cell_type": "code",
   "execution_count": 1,
   "id": "ba8ad415-0a5c-4134-af1d-68ccdbf0e77a",
   "metadata": {},
   "outputs": [],
   "source": [
    "import os\n",
    "import csv\n",
    "import pandas as pd\n"
   ]
  },
  {
   "cell_type": "markdown",
   "id": "a016d664-3907-460d-ad16-519634b8c62a",
   "metadata": {},
   "source": [
    "## Set up \n",
    "\n",
    "This file....\n",
    "\n",
    "### LAR / HMDA data (state_AZ-CA.csv)\n",
    "\n",
    "1. To download the entire file, [go to this link.(https://ffiec.cfpb.gov/data-browser/data/2021?category=states)  In Step 1 select Arizona and California. Then click download dataset. \n",
    "    - Note: This file is 1.6GB, so it is not in the repo. \n",
    "    - Note: There are columns with \"mixed types\".\n",
    "1. The code below will create a mini version to work with while we develop the analysis. "
   ]
  },
  {
   "cell_type": "code",
   "execution_count": 35,
   "id": "59d1826c-b0e4-47c3-b829-e8ad1ce8d152",
   "metadata": {},
   "outputs": [],
   "source": [
    "if not os.path.exists(\"../input_data/state_AZ-CA_mini.csv\"):\n",
    "    hmda = pd.read_csv('../input_data/state_AZ-CA.csv')\n",
    "    hmda.sample(50000).to_csv('../input_data/state_AZ-CA_mini.csv',index=False)\n"
   ]
  },
  {
   "cell_type": "code",
   "execution_count": null,
   "id": "26e7bb52-96eb-47a0-b3e6-673b9a15376f",
   "metadata": {},
   "outputs": [],
   "source": []
  },
  {
   "cell_type": "code",
   "execution_count": null,
   "id": "651186d1-a80c-4ba7-a2c3-1f930602632b",
   "metadata": {},
   "outputs": [],
   "source": []
  },
  {
   "cell_type": "code",
   "execution_count": null,
   "id": "fb9dd81d-2d59-4f35-9523-1e3f5c957344",
   "metadata": {},
   "outputs": [],
   "source": []
  }
 ],
 "metadata": {
  "kernelspec": {
   "display_name": "Python 3 (ipykernel)",
   "language": "python",
   "name": "python3"
  },
  "language_info": {
   "codemirror_mode": {
    "name": "ipython",
    "version": 3
   },
   "file_extension": ".py",
   "mimetype": "text/x-python",
   "name": "python",
   "nbconvert_exporter": "python",
   "pygments_lexer": "ipython3",
   "version": "3.9.13"
  }
 },
 "nbformat": 4,
 "nbformat_minor": 5
}
