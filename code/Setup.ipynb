{
 "cells": [
  {
   "cell_type": "markdown",
   "id": "808fb20e-3c08-42c9-8fb2-6220c923f91f",
   "metadata": {},
   "source": [
    "# Downloading necessary files "
   ]
  },
  {
   "cell_type": "code",
   "execution_count": null,
   "id": "ba8ad415-0a5c-4134-af1d-68ccdbf0e77a",
   "metadata": {},
   "outputs": [],
   "source": [
    "import os\n",
    "import csv\n",
    "import pandas as pd\n"
   ]
  },
  {
   "cell_type": "markdown",
   "id": "208e33cc-56a3-473b-a2b1-d62fd9778c75",
   "metadata": {},
   "source": [
    "### LAR / HMDA data (state_AZ-CA.csv)\n",
    "\n",
    "To download the entire file, [go to this link.](https://ffiec.cfpb.gov/data-browser/data/2021?category=states)  In Step 1 select Arizona and California. Then click download dataset. \n",
    "- Save this file to the `/input_data/` folder. \n",
    "- Note: This file is 1.6GB, so it is not in the repo. \n",
    "- Note: There are columns with \"mixed types\".\n",
    "\n",
    "Because the LAR file is large, the code below will create a mini version to work with while we develop the analysis. "
   ]
  },
  {
   "cell_type": "code",
   "execution_count": null,
   "id": "59d1826c-b0e4-47c3-b829-e8ad1ce8d152",
   "metadata": {},
   "outputs": [],
   "source": [
    "if not os.path.exists(\"../input_data/state_AZ-CA_mini.csv\"):\n",
    "    \n",
    "    hmda = pd.read_csv('../input_data/state_AZ-CA.csv')\n",
    "    hmda.sample(50000).to_csv('../input_data/state_AZ-CA_mini.csv',index=False)\n"
   ]
  },
  {
   "cell_type": "markdown",
   "id": "2e567531-0546-4f98-a998-ebc7cda2fb49",
   "metadata": {},
   "source": [
    "### Census"
   ]
  },
  {
   "cell_type": "code",
   "execution_count": null,
   "id": "26e7bb52-96eb-47a0-b3e6-673b9a15376f",
   "metadata": {},
   "outputs": [],
   "source": [
    "if not os.path.exists('../input_data/census.csv'):\n",
    "    # juan isac ellie download AZ\n",
    "    # juan et al download CA\n",
    "    # combine, save as csv \n",
    "    \n",
    "    # don't do the cleaning here. Do in the prep_datasets file\n",
    "    "
   ]
  }
 ],
 "metadata": {
  "kernelspec": {
   "display_name": "Python 3 (ipykernel)",
   "language": "python",
   "name": "python3"
  },
  "language_info": {
   "codemirror_mode": {
    "name": "ipython",
    "version": 3
   },
   "file_extension": ".py",
   "mimetype": "text/x-python",
   "name": "python",
   "nbconvert_exporter": "python",
   "pygments_lexer": "ipython3",
   "version": "3.8.16"
  }
 },
 "nbformat": 4,
 "nbformat_minor": 5
}
