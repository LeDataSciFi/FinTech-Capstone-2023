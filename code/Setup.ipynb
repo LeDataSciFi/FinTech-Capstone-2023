{
 "cells": [
  {
   "cell_type": "markdown",
   "id": "808fb20e-3c08-42c9-8fb2-6220c923f91f",
   "metadata": {},
   "source": [
    "# Downloading necessary files "
   ]
  },
  {
   "cell_type": "code",
   "execution_count": null,
   "id": "551c33c7-10ce-4f3b-9e45-38f06ea22071",
   "metadata": {},
   "outputs": [],
   "source": [
    "btfbgyb"
   ]
  },
  {
   "cell_type": "code",
   "execution_count": 1,
   "id": "ba8ad415-0a5c-4134-af1d-68ccdbf0e77a",
   "metadata": {},
   "outputs": [],
   "source": [
    "import os\n",
    "import csv\n",
    "import pandas as pd\n",
    "from census import Census\n"
   ]
  },
  {
   "cell_type": "markdown",
   "id": "208e33cc-56a3-473b-a2b1-d62fd9778c75",
   "metadata": {},
   "source": [
    "### LAR / HMDA data (state_AZ-CA.csv)\n",
    "\n",
    "To download the entire file, [go to this link.](https://ffiec.cfpb.gov/data-browser/data/2021?category=states)  In Step 1 select Arizona and California. Then click download dataset. \n",
    "- Save this file to the `/input_data/` folder. \n",
    "- Note: This file is 1.6GB, so it is not in the repo. \n",
    "- Note: There are columns with \"mixed types\".\n",
    "\n",
    "Because the LAR file is large, the code below will create a mini version to work with while we develop the analysis. "
   ]
  },
  {
   "cell_type": "code",
   "execution_count": 2,
   "id": "59d1826c-b0e4-47c3-b829-e8ad1ce8d152",
   "metadata": {},
   "outputs": [],
   "source": [
    "if not os.path.exists(\"../input_data/state_AZ-CA_mini.csv\"):    \n",
    "    hmda = pd.read_csv('../input_data/state_AZ-CA.csv')    \n",
    "    hmda.sample(50000).to_csv('../input_data/state_AZ-CA_mini.csv',index=False)"
   ]
  },
  {
   "cell_type": "markdown",
   "id": "2e567531-0546-4f98-a998-ebc7cda2fb49",
   "metadata": {},
   "source": [
    "### Census\n",
    "\n",
    "For this to work:\n",
    "1. You need to get a token to use the Census API.\n",
    "1. In this folder, create \"census_token.txt\", and copy the token into this file. "
   ]
  },
  {
   "cell_type": "code",
   "execution_count": 3,
   "id": "26e7bb52-96eb-47a0-b3e6-673b9a15376f",
   "metadata": {},
   "outputs": [],
   "source": [
    "if not os.path.exists('../input_data/census.csv'):\n",
    "\n",
    "    census_vars = pd.read_csv('../input_data/census_vars.csv',names=['code','name']).code.to_list()\n",
    "\n",
    "    with open('census_token.txt') as f: \n",
    "        c = Census(f.read()) \n",
    "\n",
    "    ca = c.acs5.get(census_vars, {'for': 'tract:*', 'in': 'state:06'}, year=2019)\n",
    "    az = c.acs5.get(census_vars, {'for': 'tract:*', 'in': 'state:04'}, year=2019)\n",
    "    ca = pd.DataFrame(ca)\n",
    "    az = pd.DataFrame(az)\n",
    "    census = pd.concat([ca,az], axis = 0)\n",
    "    census.to_csv('../input_data/census.csv',index=False)    "
   ]
  }
 ],
 "metadata": {
  "kernelspec": {
   "display_name": "Python 3 (ipykernel)",
   "language": "python",
   "name": "python3"
  },
  "language_info": {
   "codemirror_mode": {
    "name": "ipython",
    "version": 3
   },
   "file_extension": ".py",
   "mimetype": "text/x-python",
   "name": "python",
   "nbconvert_exporter": "python",
   "pygments_lexer": "ipython3",
   "version": "3.9.13"
  }
 },
 "nbformat": 4,
 "nbformat_minor": 5
}
