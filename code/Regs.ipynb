{
 "cells": [
  {
   "cell_type": "code",
   "execution_count": 1,
   "id": "e12770c0-3f10-410f-8ffc-8fe395e17c88",
   "metadata": {},
   "outputs": [],
   "source": [
    "import pandas as pd\n",
    "import numpy as np\n",
    "import statsmodels.formula.api as smf\n",
    "pd.set_option('display.max_colwidth', None)"
   ]
  },
  {
   "cell_type": "code",
   "execution_count": 2,
   "id": "475c8421-7b8c-4369-867d-2434264d4c90",
   "metadata": {},
   "outputs": [],
   "source": [
    "import warnings\n",
    "# Ignore warnings by category\n",
    "warnings.filterwarnings(\"ignore\", category=DeprecationWarning)\n",
    "# Ignore warnings by message\n",
    "warnings.filterwarnings(\"ignore\", message=\".*\")"
   ]
  },
  {
   "cell_type": "code",
   "execution_count": 3,
   "id": "1e0429f4-9d0c-4d3c-822b-09a6b9b7764d",
   "metadata": {},
   "outputs": [],
   "source": [
    "# Load data from CSV file\n",
    "bank_tract = pd.read_csv(\"../input_data_clean/bank_tract_clean_WITH_CENSUS.csv\")\n",
    "CA_df = bank_tract[bank_tract[\"state\"] == 6]\n",
    "AZ_df = bank_tract[bank_tract[\"state\"] == 4]\n",
    "CA_df['which_bank'] = CA_df['which_bank'].str.replace(' ', '')\n",
    "AZ_df['which_bank'] = AZ_df['which_bank'].str.replace(' ', '')"
   ]
  },
  {
   "cell_type": "markdown",
   "id": "d5ac0794-0024-4279-beea-6f5835c4bb88",
   "metadata": {},
   "source": [
    "## Linear Regression - CA"
   ]
  },
  {
   "cell_type": "code",
   "execution_count": 4,
   "id": "5dfae6c8-d68e-4ab0-bdc8-ad6188510062",
   "metadata": {
    "tags": []
   },
   "outputs": [
    {
     "name": "stdout",
     "output_type": "stream",
     "text": [
      "                                                                                    Equation\n",
      "Model 1      denial_rate = 0.84978 + -0.00049 * hisp_rate + -0.04656 * which_bank_BankofWest\n",
      "Model 2  denial_rate = 0.84267 + -0.02131 * hisp_over_med + -0.04532 * which_bank_BankofWest\n",
      "Model 3     log_num_apps = 4.28543 + -0.01247 * hisp_rate + -2.96541 * which_bank_BankofWest\n",
      "Model 4    log_num_apps = 4.05679 + -0.46 * hisp_over_med + -2.92249 * which_bank_BankofWest\n"
     ]
    }
   ],
   "source": [
    "# Calculate the hispanic rate and whether it's above the median\n",
    "CA_df['hisp_rate'] = (CA_df['HispanicLatinoPop'] / CA_df['Tot.Pop']) * 100\n",
    "CA_df['hisp_over_med'] = CA_df['hisp_rate'] > np.median(CA_df['hisp_rate'].dropna())\n",
    "CA_df['hisp_over_med'] = CA_df['hisp_over_med'].astype(int)\n",
    "\n",
    "# Calculate the log of number of applications\n",
    "CA_df['log_num_apps'] = np.log(CA_df['num_applications'])\n",
    "\n",
    "# Build initial models\n",
    "# Fit the linear regression models\n",
    "model1 = smf.ols('denial_rate ~ hisp_rate + C(which_bank)', data=CA_df).fit()\n",
    "model2 = smf.ols('denial_rate ~ hisp_over_med + C(which_bank)', data=CA_df).fit()\n",
    "model3 = smf.ols('log_num_apps ~ hisp_rate + C(which_bank)', data=CA_df).fit()\n",
    "model4 = smf.ols('log_num_apps ~ hisp_over_med + C(which_bank)', data=CA_df).fit()\n",
    "\n",
    "coef1 = model1.params\n",
    "coef2 = model2.params\n",
    "coef3 = model3.params\n",
    "coef4 = model4.params\n",
    "\n",
    "eq1 = f\"denial_rate = {round(coef1['Intercept'], 5)} + {round(coef1['hisp_rate'], 5)} * hisp_rate + {round(coef1['C(which_bank)[T.BankofWest]'], 5)} * which_bank_BankofWest\"\n",
    "eq2 = f\"denial_rate = {round(coef2['Intercept'], 5)} + {round(coef2['hisp_over_med'], 5)} * hisp_over_med + {round(coef2['C(which_bank)[T.BankofWest]'], 5)} * which_bank_BankofWest\"\n",
    "eq3 = f\"log_num_apps = {round(coef3['Intercept'], 5)} + {round(coef3['hisp_rate'], 5)} * hisp_rate + {round(coef3['C(which_bank)[T.BankofWest]'], 5)} * which_bank_BankofWest\"\n",
    "eq4 = f\"log_num_apps = {round(coef4['Intercept'], 5)} + {round(coef4['hisp_over_med'], 5)} * hisp_over_med + {round(coef4['C(which_bank)[T.BankofWest]'], 5)} * which_bank_BankofWest\"\n",
    "\n",
    "# Create a DataFrame with the equations as rows\n",
    "eqs_df = pd.DataFrame({'Equation': [eq1, eq2, eq3, eq4]}, index=['Model 1', 'Model 2', 'Model 3', 'Model 4'])\n",
    "\n",
    "# Display the DataFrame\n",
    "print(eqs_df)"
   ]
  },
  {
   "cell_type": "markdown",
   "id": "967187f4-fbf7-4f22-a138-ee7a6506e8a1",
   "metadata": {},
   "source": [
    "## Linear Regression - AZ"
   ]
  },
  {
   "cell_type": "code",
   "execution_count": 5,
   "id": "954bde44-40d0-46e5-b99c-d36b68caf69a",
   "metadata": {},
   "outputs": [
    {
     "name": "stdout",
     "output_type": "stream",
     "text": [
      "                                                                                     Equation\n",
      "Model 1        denial_rate = 0.85239 + -0.00064 * hisp_rate + 0.04171 * which_bank_BankofWest\n",
      "Model 2    denial_rate = 0.84733 + -0.02891 * hisp_over_med + 0.04256 * which_bank_BankofWest\n",
      "Model 3      log_num_apps = 4.41751 + -0.01104 * hisp_rate + -3.69478 * which_bank_BankofWest\n",
      "Model 4  log_num_apps = 4.26027 + -0.36179 * hisp_over_med + -3.66678 * which_bank_BankofWest\n"
     ]
    }
   ],
   "source": [
    "# Calculate the hispanic rate and whether it's above the median\n",
    "AZ_df['hisp_rate'] = (AZ_df['HispanicLatinoPop'] / AZ_df['Tot.Pop']) * 100\n",
    "AZ_df['hisp_over_med'] = AZ_df['hisp_rate'] > np.median(AZ_df['hisp_rate'].dropna())\n",
    "AZ_df['hisp_over_med'] = AZ_df['hisp_over_med'].astype(int)\n",
    "\n",
    "# Calculate the log of number of applications\n",
    "AZ_df['log_num_apps'] = np.log(AZ_df['num_applications'])\n",
    "\n",
    "# Build initial models\n",
    "# Fit the linear regression models\n",
    "model1 = smf.ols('denial_rate ~ hisp_rate + C(which_bank)', data=AZ_df).fit()\n",
    "model2 = smf.ols('denial_rate ~ hisp_over_med + C(which_bank)', data=AZ_df).fit()\n",
    "model3 = smf.ols('log_num_apps ~ hisp_rate + C(which_bank)', data=AZ_df).fit()\n",
    "model4 = smf.ols('log_num_apps ~ hisp_over_med + C(which_bank)', data=AZ_df).fit()\n",
    "\n",
    "coef1 = model1.params\n",
    "coef2 = model2.params\n",
    "coef3 = model3.params\n",
    "coef4 = model4.params\n",
    "\n",
    "eq1 = f\"denial_rate = {round(coef1['Intercept'], 5)} + {round(coef1['hisp_rate'], 5)} * hisp_rate + {round(coef1['C(which_bank)[T.BankofWest]'], 5)} * which_bank_BankofWest\"\n",
    "eq2 = f\"denial_rate = {round(coef2['Intercept'], 5)} + {round(coef2['hisp_over_med'], 5)} * hisp_over_med + {round(coef2['C(which_bank)[T.BankofWest]'], 5)} * which_bank_BankofWest\"\n",
    "eq3 = f\"log_num_apps = {round(coef3['Intercept'], 5)} + {round(coef3['hisp_rate'], 5)} * hisp_rate + {round(coef3['C(which_bank)[T.BankofWest]'], 5)} * which_bank_BankofWest\"\n",
    "eq4 = f\"log_num_apps = {round(coef4['Intercept'], 5)} + {round(coef4['hisp_over_med'], 5)} * hisp_over_med + {round(coef4['C(which_bank)[T.BankofWest]'], 5)} * which_bank_BankofWest\"\n",
    "\n",
    "# Create a DataFrame with the equations as rows\n",
    "eqs_df = pd.DataFrame({'Equation': [eq1, eq2, eq3, eq4]}, index=['Model 1', 'Model 2', 'Model 3', 'Model 4'])\n",
    "\n",
    "# Display the DataFrame\n",
    "print(eqs_df)"
   ]
  },
  {
   "cell_type": "markdown",
   "id": "03864d2e-6eab-49fa-8efb-cd45463daac3",
   "metadata": {},
   "source": [
    "## Linear Regression With Interaction Terms - CA"
   ]
  },
  {
   "cell_type": "code",
   "execution_count": 6,
   "id": "f2be502d-407d-4ed9-a052-94f785adb154",
   "metadata": {},
   "outputs": [
    {
     "name": "stdout",
     "output_type": "stream",
     "text": [
      "                                                                                                                                       Equation\n",
      "Model 1           denial_rate = 0.87515 + -0.00115 * hisp_rate + -0.12342 * which_bank_BankofWest + 0.00235 * hisp_rate * which_bank_BankofWest\n",
      "Model 2    denial_rate = 0.86009 + -0.05366 * hisp_over_med + -0.0893 * which_bank_BankofWest + 0.09464 * hisp_over_med * which_bank_BankofWest\n",
      "Model 3          log_num_apps = 4.30888 + -0.01309 * hisp_rate + -3.03644 * which_bank_BankofWest + 0.00217 * hisp_rate * which_bank_BankofWest\n",
      "Model 4  log_num_apps = 4.06668 + -0.47836 * hisp_over_med + -2.94744 * which_bank_BankofWest + 0.05368 * hisp_over_med * which_bank_BankofWest\n"
     ]
    }
   ],
   "source": [
    "# Build initial models\n",
    "# Fit the linear regression models\n",
    "model1 = smf.ols('denial_rate ~ hisp_rate * which_bank', data=CA_df).fit()\n",
    "model2 = smf.ols('denial_rate ~ hisp_over_med * which_bank', data=CA_df).fit()\n",
    "model3 = smf.ols('log_num_apps ~ hisp_rate * which_bank', data=CA_df).fit()\n",
    "model4 = smf.ols('log_num_apps ~ hisp_over_med * which_bank', data=CA_df).fit()\n",
    "\n",
    "coef1 = model1.params\n",
    "coef2 = model2.params\n",
    "coef3 = model3.params\n",
    "coef4 = model4.params\n",
    "\n",
    "eq1 = f\"denial_rate = {round(coef1['Intercept'], 5)} + {round(coef1['hisp_rate'], 5)} * hisp_rate + {round(coef1['which_bank[T.BankofWest]'], 5)} * which_bank_BankofWest + {round(coef1['hisp_rate:which_bank[T.BankofWest]'], 5)} * hisp_rate * which_bank_BankofWest\"\n",
    "eq2 = f\"denial_rate = {round(coef2['Intercept'], 5)} + {round(coef2['hisp_over_med'], 5)} * hisp_over_med + {round(coef2['which_bank[T.BankofWest]'], 5)} * which_bank_BankofWest + {round(coef2['hisp_over_med:which_bank[T.BankofWest]'], 5)} * hisp_over_med * which_bank_BankofWest\"\n",
    "eq3 = f\"log_num_apps = {round(coef3['Intercept'], 5)} + {round(coef3['hisp_rate'], 5)} * hisp_rate + {round(coef3['which_bank[T.BankofWest]'], 5)} * which_bank_BankofWest + {round(coef3['hisp_rate:which_bank[T.BankofWest]'], 5)} * hisp_rate * which_bank_BankofWest\"\n",
    "eq4 = f\"log_num_apps = {round(coef4['Intercept'], 5)} + {round(coef4['hisp_over_med'], 5)} * hisp_over_med + {round(coef4['which_bank[T.BankofWest]'], 5)} * which_bank_BankofWest + {round(coef4['hisp_over_med:which_bank[T.BankofWest]'], 5)} * hisp_over_med * which_bank_BankofWest\"\n",
    "\n",
    "eqs_df = pd.DataFrame({'Equation': [eq1, eq2, eq3, eq4]}, index=['Model 1', 'Model 2', 'Model 3', 'Model 4'])\n",
    "\n",
    "# Display the DataFrame\n",
    "print(eqs_df)"
   ]
  },
  {
   "cell_type": "markdown",
   "id": "429e8ba3-206c-4614-93c4-3022a330a3e3",
   "metadata": {},
   "source": [
    "## Linear Regression With Interaction Terms - AZ"
   ]
  },
  {
   "cell_type": "code",
   "execution_count": 7,
   "id": "afe6539f-f2e3-44a0-9191-07511bf0e9a6",
   "metadata": {},
   "outputs": [
    {
     "name": "stdout",
     "output_type": "stream",
     "text": [
      "                                                                                                                                       Equation\n",
      "Model 1            denial_rate = 0.85588 + -0.00075 * hisp_rate + 0.02098 * which_bank_BankofWest + 0.00079 * hisp_rate * which_bank_BankofWest\n",
      "Model 2    denial_rate = 0.84835 + -0.03088 * hisp_over_med + 0.03791 * which_bank_BankofWest + 0.01064 * hisp_over_med * which_bank_BankofWest\n",
      "Model 3             log_num_apps = 4.46175 + -0.01245 * hisp_rate + -3.95744 * which_bank_BankofWest + 0.01 * hisp_rate * which_bank_BankofWest\n",
      "Model 4  log_num_apps = 4.30203 + -0.44237 * hisp_over_med + -3.85692 * which_bank_BankofWest + 0.43483 * hisp_over_med * which_bank_BankofWest\n"
     ]
    }
   ],
   "source": [
    "# Build initial models\n",
    "# Fit the linear regression models\n",
    "model1 = smf.ols('denial_rate ~ hisp_rate * which_bank', data=AZ_df).fit()\n",
    "model2 = smf.ols('denial_rate ~ hisp_over_med * which_bank', data=AZ_df).fit()\n",
    "model3 = smf.ols('log_num_apps ~ hisp_rate * which_bank', data=AZ_df).fit()\n",
    "model4 = smf.ols('log_num_apps ~ hisp_over_med * which_bank', data=AZ_df).fit()\n",
    "\n",
    "coef1 = model1.params\n",
    "coef2 = model2.params\n",
    "coef3 = model3.params\n",
    "coef4 = model4.params\n",
    "\n",
    "eq1 = f\"denial_rate = {round(coef1['Intercept'], 5)} + {round(coef1['hisp_rate'], 5)} * hisp_rate + {round(coef1['which_bank[T.BankofWest]'], 5)} * which_bank_BankofWest + {round(coef1['hisp_rate:which_bank[T.BankofWest]'], 5)} * hisp_rate * which_bank_BankofWest\"\n",
    "eq2 = f\"denial_rate = {round(coef2['Intercept'], 5)} + {round(coef2['hisp_over_med'], 5)} * hisp_over_med + {round(coef2['which_bank[T.BankofWest]'], 5)} * which_bank_BankofWest + {round(coef2['hisp_over_med:which_bank[T.BankofWest]'], 5)} * hisp_over_med * which_bank_BankofWest\"\n",
    "eq3 = f\"log_num_apps = {round(coef3['Intercept'], 5)} + {round(coef3['hisp_rate'], 5)} * hisp_rate + {round(coef3['which_bank[T.BankofWest]'], 5)} * which_bank_BankofWest + {round(coef3['hisp_rate:which_bank[T.BankofWest]'], 5)} * hisp_rate * which_bank_BankofWest\"\n",
    "eq4 = f\"log_num_apps = {round(coef4['Intercept'], 5)} + {round(coef4['hisp_over_med'], 5)} * hisp_over_med + {round(coef4['which_bank[T.BankofWest]'], 5)} * which_bank_BankofWest + {round(coef4['hisp_over_med:which_bank[T.BankofWest]'], 5)} * hisp_over_med * which_bank_BankofWest\"\n",
    "\n",
    "eqs_df = pd.DataFrame({'Equation': [eq1, eq2, eq3, eq4]}, index=['Model 1', 'Model 2', 'Model 3', 'Model 4'])\n",
    "\n",
    "# Display the DataFrame\n",
    "print(eqs_df)"
   ]
  }
 ],
 "metadata": {
  "kernelspec": {
   "display_name": "Python 3 (ipykernel)",
   "language": "python",
   "name": "python3"
  },
  "language_info": {
   "codemirror_mode": {
    "name": "ipython",
    "version": 3
   },
   "file_extension": ".py",
   "mimetype": "text/x-python",
   "name": "python",
   "nbconvert_exporter": "python",
   "pygments_lexer": "ipython3",
   "version": "3.9.15"
  }
 },
 "nbformat": 4,
 "nbformat_minor": 5
}
