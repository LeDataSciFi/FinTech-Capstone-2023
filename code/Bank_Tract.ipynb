{
 "cells": [
  {
   "cell_type": "code",
   "execution_count": 3,
   "id": "28483544-6fa4-4895-b9ee-1c43d396e49d",
   "metadata": {},
   "outputs": [],
   "source": [
    "import os\n",
    "import csv\n",
    "import pandas as pd\n",
    "hmda = pd.read_csv('../input_data/state_AZ-CA_mini.csv')\n",
    "hmda['accept'] = (hmda['action_taken'] == 2) | (hmda['action_taken'] == 6)\n",
    "def hmda_bank(row):\n",
    "  if row['lei'] == 'QOT5WN9RBKQTFRVKEV31':\n",
    "    hmda_bank = 'Bank of West'\n",
    "  elif row['lei'] == '3Y4U8VZURTYWI1W2K376':\n",
    "    hmda_bank = 'BMO Harris'\n",
    "  else: \n",
    "    hmda_bank = 'All Other Banks'\n",
    "  return hmda_bank\n",
    "hmda['which_bank'] = hmda.apply(hmda_bank,axis=1)\n",
    "hmda['which_bank'].value_counts()\n",
    "\n",
    "hmda['received'] = (hmda['action_taken'] == 1) | (hmda['action_taken'] == 2) | (hmda['action_taken'] == 3) | (hmda['action_taken'] == 4) | (hmda['action_taken'] == 5) | (hmda['action_taken'] == 6)\n",
    "\n",
    "filtered_df = hmda[(hmda['action_taken'] == 2) | (hmda['action_taken'] == 6)]\n",
    "\n",
    "filtered_df = hmda[(hmda['action_taken'] == 2) | (hmda['action_taken'] == 6)]\n"
   ]
  },
  {
   "cell_type": "code",
   "execution_count": null,
   "id": "4c656637-1389-45d1-a359-8f3791b40878",
   "metadata": {},
   "outputs": [],
   "source": []
  },
  {
   "cell_type": "code",
   "execution_count": 2,
   "id": "bb95a552-28f1-48b7-9edb-946f0939f7d5",
   "metadata": {},
   "outputs": [],
   "source": [
    "bank_tract = hmda.groupby(['which_bank','census_tract']).agg({'accept': 'sum', 'received': 'sum', 'loan_amount': 'sum', 'income': 'median'})\n",
    "bank_tract.to_csv('../input_data/bank_tract.csv')"
   ]
  }
 ],
 "metadata": {
  "kernelspec": {
   "display_name": "Python 3 (ipykernel)",
   "language": "python",
   "name": "python3"
  },
  "language_info": {
   "codemirror_mode": {
    "name": "ipython",
    "version": 3
   },
   "file_extension": ".py",
   "mimetype": "text/x-python",
   "name": "python",
   "nbconvert_exporter": "python",
   "pygments_lexer": "ipython3",
   "version": "3.9.13"
  }
 },
 "nbformat": 4,
 "nbformat_minor": 5
}
