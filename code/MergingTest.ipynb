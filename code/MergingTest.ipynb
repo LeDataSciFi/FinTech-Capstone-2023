{
 "cells": [
  {
   "cell_type": "code",
   "execution_count": 47,
   "id": "6ba95ea2-5279-4637-a705-620932828d87",
   "metadata": {},
   "outputs": [],
   "source": [
    "import os\n",
    "import csv\n",
    "import pandas as pd\n",
    "import numpy as np\n",
    "from census import Census"
   ]
  },
  {
   "cell_type": "code",
   "execution_count": 48,
   "id": "7fb5187e-2ec4-4908-8c15-acff0de11edc",
   "metadata": {},
   "outputs": [],
   "source": [
    "#todo when complete, delete this comment and uncomment the if, indent everything below\n",
    "# if not os.path.exists('../input_data_clean/state_AZ-CA_clean.csv'):\n",
    "\n",
    "#todo load the WHOLE thing when code is set\n",
    "hmda = pd.read_csv('../input_data/state_AZ-CA_mini.csv')\n",
    "hmda = hmda.replace([\"Exempt\",\"1111\",\"8888\",\"9999\",\"NA\"], np.nan)  \n",
    "\n",
    "hmda['simplified_applicant_age_above_62'] = hmda['applicant_age_above_62'].map({'Yes': 1, 'No': 0})\n",
    "hmda.drop(columns = ['applicant_age_above_62'],inplace=True)\n",
    "\n",
    "#hmda['state_simplified'] = hmda['state_code'].map({'AZ': 1, 'CA': 0})"
   ]
  },
  {
   "cell_type": "code",
   "execution_count": 49,
   "id": "5faa6bb3-c0a5-4c3e-bffe-7973d7b3a064",
   "metadata": {},
   "outputs": [],
   "source": [
    "hmda[\"census_tract\"] = hmda[\"census_tract\"].astype(str)"
   ]
  },
  {
   "cell_type": "code",
   "execution_count": 50,
   "id": "42d9b2f6-b844-4099-a59f-c41751edf251",
   "metadata": {},
   "outputs": [],
   "source": [
    "hmda[\"census_tract\"] = hmda[\"census_tract\"].apply(lambda x: x[:-2])"
   ]
  },
  {
   "cell_type": "code",
   "execution_count": 51,
   "id": "7f6064c3-0443-4fbb-ab67-51b40fcb271f",
   "metadata": {},
   "outputs": [],
   "source": [
    "# this csv: col1 is census var ID name, col2 is the name we are using\n",
    "# we are importing this into a dictionary bc pandas rename() wants that structure\n",
    "rename_dict ={}\n",
    "with open('../input_data/census_vars.csv') as f:\n",
    "    for row in csv.reader(f):\n",
    "        rename_dict[row[0]] = row[1]\n",
    "    "
   ]
  },
  {
   "cell_type": "code",
   "execution_count": 60,
   "id": "e9056d93-1024-47c6-9b27-5637d5ced0e8",
   "metadata": {},
   "outputs": [],
   "source": [
    "#todo when the below is done\n",
    "# if not os.path.exists('../input_data_clean/census_clean.csv'):\n",
    "\n",
    "#todo verifying the merge steps with juan...\n",
    "census = (\n",
    "        pd.read_csv('../input_data/census.csv')\n",
    "        # are we sure? these are adding the #s... don't you mean to concatenate them as strings?\n",
    "        #.assign(census_tract = lambda x: x[\"state\"] + x[\"county\"] + x[\"tract\"])\n",
    "        .rename(columns = rename_dict)\n",
    "        # .drop(columns = [\"state\", \"county\", \"tract\"])\n",
    "        #.to_csv('../input_data_clean/census_clean_sampel.csv',index=False)\n",
    ")\n",
    "\n",
    "#todo are these necessary?   depends on above\n",
    "# census_clean[\"census_tract\"] = census_clean[\"census_tract\"].astype(str)\n",
    "# census_clean[\"census_tract\"] = census_clean[\"census_tract\"].str.lstrip('0')\n",
    "# census_clean[\"census_tract\"] = census_clean[\"census_tract\"].astype(int)"
   ]
  },
  {
   "cell_type": "code",
   "execution_count": 61,
   "id": "524df775-e936-4b84-a0a1-9e0347c3b0ba",
   "metadata": {},
   "outputs": [],
   "source": [
    "census[\"GEO_ID\"] = census[\"GEO_ID\"].astype(str)"
   ]
  },
  {
   "cell_type": "code",
   "execution_count": 62,
   "id": "749d9654-e58e-4fa2-bd91-a431cc6904f6",
   "metadata": {},
   "outputs": [],
   "source": [
    "census[\"GEO_ID\"] = census[\"GEO_ID\"].apply(lambda x: x.replace(x[:x.index(\"US0\") + 3], ''))"
   ]
  },
  {
   "cell_type": "code",
   "execution_count": 64,
   "id": "1d1aa804-c8db-4686-94f3-3605b0882f13",
   "metadata": {
    "tags": []
   },
   "outputs": [],
   "source": [
    "hmda.rename(columns={\"census_tract\": \"GEO_ID\"}, inplace= True)"
   ]
  },
  {
   "cell_type": "code",
   "execution_count": 65,
   "id": "dca86f97-55b5-42e8-850f-48cef764a7fe",
   "metadata": {},
   "outputs": [
    {
     "data": {
      "text/plain": [
       "0       6001400100\n",
       "1       6001400200\n",
       "2       6001400300\n",
       "3       6001400400\n",
       "4       6001400500\n",
       "           ...    \n",
       "9578    4027012100\n",
       "9579    4027980003\n",
       "9580    4027980004\n",
       "9581    4027980005\n",
       "9582    4027980006\n",
       "Name: GEO_ID, Length: 9583, dtype: object"
      ]
     },
     "execution_count": 65,
     "metadata": {},
     "output_type": "execute_result"
    }
   ],
   "source": [
    "census[\"GEO_ID\"]"
   ]
  },
  {
   "cell_type": "code",
   "execution_count": 66,
   "id": "b0e44ef4-cbbe-490e-bef8-f92287f7c825",
   "metadata": {},
   "outputs": [
    {
     "data": {
      "text/plain": [
       "0        6107003801\n",
       "1        4019004328\n",
       "2        6073019903\n",
       "3        6109005100\n",
       "4        6067002100\n",
       "            ...    \n",
       "49995    6065043240\n",
       "49996    4013817600\n",
       "49997    6037910202\n",
       "49998    4019003200\n",
       "49999    6001432100\n",
       "Name: GEO_ID, Length: 50000, dtype: object"
      ]
     },
     "execution_count": 66,
     "metadata": {},
     "output_type": "execute_result"
    }
   ],
   "source": [
    "hmda[\"GEO_ID\"]"
   ]
  },
  {
   "cell_type": "code",
   "execution_count": 68,
   "id": "0db822e1-f3c3-474c-a05b-a544b2066a05",
   "metadata": {},
   "outputs": [],
   "source": [
    "merged = hmda.merge(census, on = \"GEO_ID\", how = \"left\")"
   ]
  },
  {
   "cell_type": "code",
   "execution_count": null,
   "id": "102e6751-d748-4e6e-8aea-80a344f03b58",
   "metadata": {},
   "outputs": [],
   "source": [
    "def census_concat(row):\n",
    "    state  = str(row['state']) .zfill(2)\n",
    "    county = str(row['county']) .zfill(3)\n",
    "    tract  = str(row['tract']) .zfill(6)\n",
    "    return int(state+county+tract)\n",
    "\n",
    "census['census_tract'] = census.apply(census_concat, axis=1)\n",
    "census[['census_tract','state','county','tract']].sample(50)"
   ]
  }
 ],
 "metadata": {
  "kernelspec": {
   "display_name": "Python 3 (ipykernel)",
   "language": "python",
   "name": "python3"
  },
  "language_info": {
   "codemirror_mode": {
    "name": "ipython",
    "version": 3
   },
   "file_extension": ".py",
   "mimetype": "text/x-python",
   "name": "python",
   "nbconvert_exporter": "python",
   "pygments_lexer": "ipython3",
   "version": "3.9.15"
  }
 },
 "nbformat": 4,
 "nbformat_minor": 5
}
