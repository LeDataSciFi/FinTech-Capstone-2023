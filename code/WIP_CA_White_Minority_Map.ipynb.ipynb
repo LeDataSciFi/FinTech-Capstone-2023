{
 "cells": [
  {
   "cell_type": "code",
   "execution_count": 4,
   "id": "483c3e8c-faf0-4874-8afb-e3bff5ced0df",
   "metadata": {},
   "outputs": [],
   "source": [
    "import matplotlib.pyplot as plt\n",
    "import pandas as pd\n",
    "import geopandas as gpd\n",
    "from census import Census\n",
    "from us import states"
   ]
  },
  {
   "cell_type": "code",
   "execution_count": 5,
   "id": "50ed3c5a-f930-482e-b502-a72b92e1660d",
   "metadata": {},
   "outputs": [],
   "source": [
    "c = Census(\"a82acbcf878654f6da6b3139274b90ff160b8120\")"
   ]
  },
  {
   "cell_type": "code",
   "execution_count": 6,
   "id": "833de0cf-6b53-42c2-b1bb-56e62b5cd0f8",
   "metadata": {},
   "outputs": [],
   "source": [
    "ca_census = c.acs5.state_county_tract(fields = ('NAME', 'C17002_001E', 'C17002_002E', 'C17002_003E', 'B01003_001E'),\n",
    "                                      state_fips = states.AZ.fips,\n",
    "                                      county_fips = \"*\",\n",
    "                                      tract = \"*\",\n",
    "                                      year = 2020)"
   ]
  },
  {
   "cell_type": "code",
   "execution_count": 7,
   "id": "2c4809c1-3b08-475a-b229-bb107cd074f3",
   "metadata": {},
   "outputs": [],
   "source": [
    "ca_df = pd.DataFrame(ca_census)"
   ]
  },
  {
   "cell_type": "code",
   "execution_count": 8,
   "id": "f041ef8e-ea59-4dee-97c4-112fe387f9f4",
   "metadata": {},
   "outputs": [
    {
     "name": "stdout",
     "output_type": "stream",
     "text": [
      "                                               NAME  C17002_001E  C17002_002E  \\\n",
      "0     Census Tract 610.44, Maricopa County, Arizona       8773.0         71.0   \n",
      "1     Census Tract 610.45, Maricopa County, Arizona       7790.0         77.0   \n",
      "2     Census Tract 610.46, Maricopa County, Arizona       6032.0        487.0   \n",
      "3     Census Tract 610.47, Maricopa County, Arizona       4194.0         60.0   \n",
      "4     Census Tract 610.48, Maricopa County, Arizona       3816.0          0.0   \n",
      "...                                             ...          ...          ...   \n",
      "1760    Census Tract 15.01, Yavapai County, Arizona       2562.0         45.0   \n",
      "1761    Census Tract 15.02, Yavapai County, Arizona       4607.0        238.0   \n",
      "1762    Census Tract 16.01, Yavapai County, Arizona       6046.0        897.0   \n",
      "1763    Census Tract 16.02, Yavapai County, Arizona       3825.0        271.0   \n",
      "1764    Census Tract 16.04, Yavapai County, Arizona       1199.0         13.0   \n",
      "\n",
      "      C17002_003E  B01003_001E state county   tract  \n",
      "0           335.0       8773.0    04    013  061044  \n",
      "1           106.0       7874.0    04    013  061045  \n",
      "2           329.0       6060.0    04    013  061046  \n",
      "3           106.0       4195.0    04    013  061047  \n",
      "4           381.0       3945.0    04    013  061048  \n",
      "...           ...          ...   ...    ...     ...  \n",
      "1760        265.0       3997.0    04    025  001501  \n",
      "1761        833.0       4674.0    04    025  001502  \n",
      "1762        554.0       6698.0    04    025  001601  \n",
      "1763        638.0       3828.0    04    025  001602  \n",
      "1764         54.0       1199.0    04    025  001604  \n",
      "\n",
      "[1765 rows x 8 columns]\n"
     ]
    }
   ],
   "source": [
    "print(ca_df)"
   ]
  },
  {
   "cell_type": "code",
   "execution_count": null,
   "id": "59ba3fc7-6604-48fc-b236-e8862bdc22c1",
   "metadata": {},
   "outputs": [],
   "source": []
  }
 ],
 "metadata": {
  "kernelspec": {
   "display_name": "Python 3 (ipykernel)",
   "language": "python",
   "name": "python3"
  },
  "language_info": {
   "codemirror_mode": {
    "name": "ipython",
    "version": 3
   },
   "file_extension": ".py",
   "mimetype": "text/x-python",
   "name": "python",
   "nbconvert_exporter": "python",
   "pygments_lexer": "ipython3",
   "version": "3.9.13"
  }
 },
 "nbformat": 4,
 "nbformat_minor": 5
}
