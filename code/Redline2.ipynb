{
 "cells": [
  {
   "cell_type": "code",
   "execution_count": 1,
   "id": "ff8ad3fc-213e-40f5-ad65-d8012e2debc4",
   "metadata": {},
   "outputs": [],
   "source": [
    "# load the new bank_tract_census_CLEAN\n",
    "import matplotlib.pyplot as plt\n",
    "from matplotlib  import rc\n",
    "import pandas as pd\n",
    "import geopandas as gpd\n",
    "from census import Census\n",
    "from us import states\n",
    "import numpy as np\n",
    "import os\n",
    "bank_tract = pd.read_csv('../input_data_clean/bank_tract_clean_WITH_CENSUS.csv')"
   ]
  },
  {
   "cell_type": "code",
   "execution_count": 2,
   "id": "4f26d30e-4bd6-4bca-ae01-8a191c7a3b78",
   "metadata": {},
   "outputs": [],
   "source": [
    "# Get the Arizona tract shapefile and convert to UTM Zone 17N coordinate system\n",
    "shape_az = gpd.read_file(\"https://www2.census.gov/geo/tiger/TIGER2020/TRACT/tl_2020_04_tract.zip\").to_crs(epsg=32617)\n",
    "shape_ca = gpd.read_file(\"https://www2.census.gov/geo/tiger/TIGER2020/TRACT/tl_2020_06_tract.zip\").to_crs(epsg=32617)\n",
    "shape_all = pd.concat([shape_az, shape_ca], ignore_index=True)"
   ]
  },
  {
   "cell_type": "code",
   "execution_count": 3,
   "id": "85c3da4c-f955-4d1a-a6c8-e296897c0288",
   "metadata": {},
   "outputs": [
    {
     "name": "stdout",
     "output_type": "stream",
     "text": [
      "<class 'pandas.core.series.Series'>\n",
      "RangeIndex: 13837 entries, 0 to 13836\n",
      "Series name: census_tract\n",
      "Non-Null Count  Dtype\n",
      "--------------  -----\n",
      "13837 non-null  int64\n",
      "dtypes: int64(1)\n",
      "memory usage: 108.2 KB\n"
     ]
    }
   ],
   "source": [
    "shape_all['GEOID'] = shape_all['GEOID'].astype(int)\n",
    "bank_tract['census_tract'].info()"
   ]
  },
  {
   "cell_type": "code",
   "execution_count": 4,
   "id": "965f801c-ec30-4e58-8621-31328f4d0d1c",
   "metadata": {},
   "outputs": [],
   "source": [
    "# merge the shape file with bank_tract\n",
    "shape_all['census_tract'] = shape_all['GEOID']\n",
    "bank_tract = bank_tract.merge(shape_all, how = 'left', on = ['census_tract'],\n",
    "                              indicator = True, validate= 'm:1') "
   ]
  },
  {
   "cell_type": "code",
   "execution_count": 5,
   "id": "953c9008-58b4-4386-8082-232c75acfcf4",
   "metadata": {},
   "outputs": [
    {
     "ename": "SyntaxError",
     "evalue": "invalid syntax (4269899691.py, line 2)",
     "output_type": "error",
     "traceback": [
      "\u001b[0;36m  File \u001b[0;32m\"/var/folders/29/vl12lkgs28xgjpc6t0_jg9040000gn/T/ipykernel_9793/4269899691.py\"\u001b[0;36m, line \u001b[0;32m2\u001b[0m\n\u001b[0;31m    NOTE: the cleaned bank_tract data probably calls the white and total pop differently, so update the below if so\u001b[0m\n\u001b[0m              ^\u001b[0m\n\u001b[0;31mSyntaxError\u001b[0m\u001b[0;31m:\u001b[0m invalid syntax\n"
     ]
    }
   ],
   "source": [
    "# create the vars you need \n",
    "NOTE: the cleaned bank_tract data probably calls the white and total pop differently, so update the below if so\n",
    "\n",
    "bank_tract [\"White_Rate\"] = (bank_tract [\"B02001_002E\"]) / bank_tract [\"B01003_001E\"] * 100\n",
    "bank_tract ['majority-minority'] = bank_tract [\"White_Rate\"] < 50\n",
    "bank_tract ['below_p10_income'] = bank_tract [\"B06011_001E\"] < az_minority_county[\"B06011_001E\"].quantile(0.1)"
   ]
  }
 ],
 "metadata": {
  "kernelspec": {
   "display_name": "Python 3 (ipykernel)",
   "language": "python",
   "name": "python3"
  },
  "language_info": {
   "codemirror_mode": {
    "name": "ipython",
    "version": 3
   },
   "file_extension": ".py",
   "mimetype": "text/x-python",
   "name": "python",
   "nbconvert_exporter": "python",
   "pygments_lexer": "ipython3",
   "version": "3.9.13"
  }
 },
 "nbformat": 4,
 "nbformat_minor": 5
}
