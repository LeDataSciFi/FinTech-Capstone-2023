{
 "cells": [
  {
   "cell_type": "code",
   "execution_count": 1,
   "id": "ff8ad3fc-213e-40f5-ad65-d8012e2debc4",
   "metadata": {},
   "outputs": [],
   "source": [
    "# load the new bank_tract_census_CLEAN\n",
    "import matplotlib.pyplot as plt\n",
    "from matplotlib  import rc\n",
    "import pandas as pd\n",
    "import geopandas as gpd\n",
    "from census import Census\n",
    "from us import states\n",
    "import numpy as np\n",
    "import os\n",
    "bank_tract = pd.read_csv('../input_data_clean/bank_tract_clean_WITH_CENSUS.csv')"
   ]
  },
  {
   "cell_type": "code",
   "execution_count": 2,
   "id": "4f26d30e-4bd6-4bca-ae01-8a191c7a3b78",
   "metadata": {},
   "outputs": [],
   "source": [
    "# Get the Arizona tract shapefile and convert to UTM Zone 17N coordinate system\n",
    "shape_az = gpd.read_file(\"https://www2.census.gov/geo/tiger/TIGER2020/TRACT/tl_2020_04_tract.zip\").to_crs(epsg=32617)\n",
    "shape_ca = gpd.read_file(\"https://www2.census.gov/geo/tiger/TIGER2020/TRACT/tl_2020_06_tract.zip\").to_crs(epsg=32617)\n",
    "shape_all = pd.concat([shape_az, shape_ca], ignore_index=True)"
   ]
  },
  {
   "cell_type": "code",
   "execution_count": 3,
   "id": "85c3da4c-f955-4d1a-a6c8-e296897c0288",
   "metadata": {},
   "outputs": [
    {
     "name": "stdout",
     "output_type": "stream",
     "text": [
      "<class 'pandas.core.series.Series'>\n",
      "RangeIndex: 13837 entries, 0 to 13836\n",
      "Series name: census_tract\n",
      "Non-Null Count  Dtype\n",
      "--------------  -----\n",
      "13837 non-null  int64\n",
      "dtypes: int64(1)\n",
      "memory usage: 108.2 KB\n"
     ]
    }
   ],
   "source": [
    "shape_all['GEOID'] = shape_all['GEOID'].astype(int)\n",
    "bank_tract['census_tract'].info()"
   ]
  },
  {
   "cell_type": "code",
   "execution_count": 4,
   "id": "965f801c-ec30-4e58-8621-31328f4d0d1c",
   "metadata": {},
   "outputs": [],
   "source": [
    "# merge the shape file with bank_tract\n",
    "shape_all['census_tract'] = shape_all['GEOID']\n",
    "bank_tract = bank_tract.merge(shape_all, how = 'left', on = ['census_tract'],\n",
    "                              indicator = True, validate= 'm:1') "
   ]
  },
  {
   "cell_type": "code",
   "execution_count": 5,
   "id": "c59cbdc8-059e-4cb8-80f8-11206a8f0c0f",
   "metadata": {
    "tags": []
   },
   "outputs": [],
   "source": [
    "# print(list(bank_tract.columns))"
   ]
  },
  {
   "cell_type": "code",
   "execution_count": 6,
   "id": "a73cadab-67b8-4280-85bf-e13afafc4c83",
   "metadata": {},
   "outputs": [],
   "source": [
    "cities = ['phx', 'tcs', 'sf', 'la']\n",
    "phx_zoom = {'x': [-2.5e6,-2.35e6], 'y' : [4.1e6,4.25e6]}\n",
    "tcs_zoom = {'x': [-1.17e7, -1.16e7], 'y': [3.63e6, 3.65e6]}\n",
    "sf_zoom = {'x': [-1.362e7, -1.355e7], 'y': [4.33e6, 4.37e6]}\n",
    "la_zoom = {'x': [-1.287e7, -1.275e7], 'y': [4.033e6, 4.086e6]}\n",
    "citieszoom = [phx_zoom, tcs_zoom, sf_zoom, la_zoom]"
   ]
  },
  {
   "cell_type": "code",
   "execution_count": 8,
   "id": "d9b185d6-0434-4f0c-853c-0ba42bad0cd0",
   "metadata": {},
   "outputs": [],
   "source": [
    "#denial_rate, credit_spread, np.log(# loans), np.log($ loans), avg LTV \n",
    "bank_tract [\"white_rate\"] = (bank_tract [\"WhitePop\"]) / bank_tract [\"Tot.Pop\"] * 100\n",
    "bank_tract ['majority-minority'] = bank_tract [\"white_rate\"] < 50\n",
    "bank_tract ['below_p10_income'] = bank_tract [\"Med.HousehIncome\"] < bank_tract[\"Med.HousehIncome\"].quantile(0.1)\n",
    "bank_tract ['high_hispanic'] = (bank_tract ['HispanicLatinoPop'] / bank_tract['Tot.Pop']) > 0.5\n",
    "bank_tract ['high_black'] = (bank_tract ['BlackPop'] / bank_tract['Tot.Pop']) > 0.5\n",
    "bank_tract ['high_asian'] = (bank_tract ['AsianPop'] / bank_tract['Tot.Pop']) > 0.5\n",
    "bank_tract ['high_white'] = (bank_tract ['WhitePop'] / bank_tract['Tot.Pop']) > 0.5\n",
    "\n",
    "bank_tract ['log(numloans)'] = np.log(bank_tract['num_approved_loans'])\n",
    "bank_tract ['log(dol_loans)'] = np.log(bank_tract['avg_approved_loan_size'])\n",
    "\n",
    "\n",
    "listofshading = ['denial_rate', 'mean_approved_rate_spread', 'log(numloans)', 'log(dol_loans)', 'mean_LTV']\n",
    "\n",
    "#majority_minority, income_below_p10, high hispanic, high Black, high Asian\n",
    "listofredlining = ['majority-minority', 'below_p10_income', 'high_hispanic', 'high_black', 'high_asian', 'high_white']"
   ]
  },
  {
   "cell_type": "code",
   "execution_count": 10,
   "id": "535e64c2-1b75-4b3a-a2bd-4fda2b5a35bf",
   "metadata": {},
   "outputs": [],
   "source": [
    "def red_line_map(df,shading_var:str,redline_var:str,optional_title= None,option_zoom_params=None):\n",
    "    fig, ax = plt.subplots(1, 1, figsize = (20, 10))\n",
    "\n",
    "    # Plot data\n",
    "    # Source: https://geopandas.readthedocs.io/en/latest/docs/user_guide/mapping.html\n",
    "    df.plot(column = shading_var,\n",
    "                           ax = ax,\n",
    "                           cmap = \"Greens\",\n",
    "                           legend = True)\n",
    "\n",
    "    # add the the majority minority tract lines in red\n",
    "    query = f'`{redline_var}`'\n",
    "    df.query(query).boundary.plot(color='red',ax=ax, linewidth=2)\n",
    "\n",
    "    # add the other tract lines in grey\n",
    "    query = f'`{redline_var}` == False'    \n",
    "    df.query(query).boundary.plot(color='gainsboro',ax=ax, linewidth=.2)\n",
    "\n",
    "    # Stylize plots\n",
    "    plt.style.use('bmh')\n",
    "\n",
    "    # Set title\n",
    "    if optional_title:\n",
    "        plt.title(f'{shading_var} in AZ \\n Red outlines are based on {redline_var}', fontdict = {'fontsize': 15})\n",
    "    # optionally, zoom in\n",
    "    if option_zoom_params:\n",
    "        ax.set_xlim(option_zoom_params['x'])\n",
    "        ax.set_ylim(option_zoom_params['y'])"
   ]
  },
  {
   "cell_type": "code",
   "execution_count": 9,
   "id": "9e7cbd91-b87e-47dc-91dc-2d58e8c92e4c",
   "metadata": {},
   "outputs": [
    {
     "ename": "NameError",
     "evalue": "name 'zoom_param' is not defined",
     "output_type": "error",
     "traceback": [
      "\u001b[0;31m---------------------------------------------------------------------------\u001b[0m",
      "\u001b[0;31mNameError\u001b[0m                                 Traceback (most recent call last)",
      "\u001b[0;32m/var/folders/29/vl12lkgs28xgjpc6t0_jg9040000gn/T/ipykernel_10244/868883201.py\u001b[0m in \u001b[0;36m<module>\u001b[0;34m\u001b[0m\n\u001b[1;32m      1\u001b[0m \u001b[0;32mfor\u001b[0m \u001b[0mcity\u001b[0m \u001b[0;32min\u001b[0m \u001b[0mcitieszoom\u001b[0m\u001b[0;34m:\u001b[0m\u001b[0;34m\u001b[0m\u001b[0;34m\u001b[0m\u001b[0m\n\u001b[0;32m----> 2\u001b[0;31m     \u001b[0mcity_zoom\u001b[0m \u001b[0;34m=\u001b[0m \u001b[0mzoom_param\u001b[0m\u001b[0;34m[\u001b[0m\u001b[0mcity\u001b[0m\u001b[0;34m]\u001b[0m\u001b[0;34m\u001b[0m\u001b[0;34m\u001b[0m\u001b[0m\n\u001b[0m\u001b[1;32m      3\u001b[0m     \u001b[0;32mfor\u001b[0m \u001b[0mshade\u001b[0m \u001b[0;32min\u001b[0m \u001b[0mlistofshading\u001b[0m\u001b[0;34m:\u001b[0m\u001b[0;34m\u001b[0m\u001b[0;34m\u001b[0m\u001b[0m\n\u001b[1;32m      4\u001b[0m         \u001b[0;32mfor\u001b[0m \u001b[0mredline\u001b[0m \u001b[0;32min\u001b[0m \u001b[0mlistofredlining\u001b[0m\u001b[0;34m:\u001b[0m\u001b[0;34m\u001b[0m\u001b[0;34m\u001b[0m\u001b[0m\n\u001b[1;32m      5\u001b[0m             \u001b[0mprint\u001b[0m\u001b[0;34m(\u001b[0m\u001b[0mcity\u001b[0m \u001b[0;34m+\u001b[0m \u001b[0mshade\u001b[0m \u001b[0;34m+\u001b[0m \u001b[0mredline\u001b[0m\u001b[0;34m)\u001b[0m\u001b[0;34m\u001b[0m\u001b[0;34m\u001b[0m\u001b[0m\n",
      "\u001b[0;31mNameError\u001b[0m: name 'zoom_param' is not defined"
     ]
    }
   ],
   "source": [
    "# for city in citieszoom: \n",
    "#     city_zoom = zoom_param[city]\n",
    "#     for shade in listofshading:\n",
    "#         for redline in listofredlining:\n",
    "#             red_line_map(bank_tract, shade, redline, True, city_zoom)\n",
    "            # clear plot\n",
    "            #f () ---> filename = f'plots/{city[0:3]}-{shade[0:10]}-{redline[0:10]}.csv\n",
    "            # save plot --> plots/"
   ]
  },
  {
   "cell_type": "code",
   "execution_count": null,
   "id": "90b89e6b-0d92-4e34-8dd5-9a0919bae1e8",
   "metadata": {},
   "outputs": [],
   "source": []
  },
  {
   "cell_type": "code",
   "execution_count": null,
   "id": "35278750-cbdc-4be8-a974-71a869db9ef0",
   "metadata": {},
   "outputs": [],
   "source": []
  },
  {
   "cell_type": "code",
   "execution_count": null,
   "id": "6ffb5805-2241-476f-a9f5-1865654894af",
   "metadata": {},
   "outputs": [],
   "source": []
  }
 ],
 "metadata": {
  "kernelspec": {
   "display_name": "Python 3 (ipykernel)",
   "language": "python",
   "name": "python3"
  },
  "language_info": {
   "codemirror_mode": {
    "name": "ipython",
    "version": 3
   },
   "file_extension": ".py",
   "mimetype": "text/x-python",
   "name": "python",
   "nbconvert_exporter": "python",
   "pygments_lexer": "ipython3",
   "version": "3.9.13"
  }
 },
 "nbformat": 4,
 "nbformat_minor": 5
}
