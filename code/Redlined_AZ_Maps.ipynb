{
 "cells": [
  {
   "cell_type": "code",
   "execution_count": null,
   "id": "1b36ee37-d490-4881-b2e9-410474432e71",
   "metadata": {},
   "outputs": [],
   "source": [
    "import matplotlib.pyplot as plt\n",
    "from matplotlib  import rc\n",
    "import pandas as pd\n",
    "import geopandas as gpd\n",
    "import numpy as np\n",
    "import os"
   ]
  },
  {
   "cell_type": "code",
   "execution_count": null,
   "id": "130dc6a7-2853-4688-b228-9450e3697600",
   "metadata": {},
   "outputs": [],
   "source": [
    "bank_tract = pd.read_csv('../input_data_clean/bank_tract_clean_WITH_CENSUS.csv')\n",
    "\n",
    "#denial_rate, credit_spread, np.log(# loans), np.log($ loans), avg LTV \n",
    "bank_tract [\"white_rate\"]        = (bank_tract [\"WhitePop\"]) / bank_tract [\"Tot.Pop\"] * 100\n",
    "bank_tract ['majority-minority'] = bank_tract [\"white_rate\"] < 50\n",
    "bank_tract ['below_p10_income']  = bank_tract [\"Med.HousehIncome\"] < bank_tract[\"Med.HousehIncome\"].quantile(0.1)\n",
    "bank_tract ['high_hispanic']     = (bank_tract ['HispanicLatinoPop'] / bank_tract['Tot.Pop']) > 0.25\n",
    "bank_tract ['high_black']        = (bank_tract ['BlackPop'] / bank_tract['Tot.Pop']) > 0.25\n",
    "bank_tract ['high_asian']        = (bank_tract ['AsianPop'] / bank_tract['Tot.Pop']) > 0.25\n",
    "bank_tract ['high_white']        = (bank_tract ['WhitePop'] / bank_tract['Tot.Pop']) > 0.25\n",
    "\n",
    "bank_tract ['log(numloans)'] = np.log(bank_tract['num_approved_loans'])\n",
    "bank_tract ['log(dol_loans)'] = np.log(bank_tract['avg_approved_loan_size'])\n"
   ]
  },
  {
   "cell_type": "code",
   "execution_count": null,
   "id": "4f26d30e-4bd6-4bca-ae01-8a191c7a3b78",
   "metadata": {},
   "outputs": [],
   "source": [
    "# Get the Arizona tract shapefile and convert to UTM Zone 17N coordinate system\n",
    "shape_az = gpd.read_file(\"https://www2.census.gov/geo/tiger/TIGER2020/TRACT/tl_2020_04_tract.zip\").to_crs(epsg=32617)\n",
    "shape_ca = gpd.read_file(\"https://www2.census.gov/geo/tiger/TIGER2020/TRACT/tl_2020_06_tract.zip\").to_crs(epsg=32617)\n",
    "shape_all = pd.concat([shape_az, shape_ca], ignore_index=True)\n",
    "shape_all['census_tract'] = shape_all['GEOID'].astype(np.int64)"
   ]
  },
  {
   "cell_type": "code",
   "execution_count": null,
   "id": "965f801c-ec30-4e58-8621-31328f4d0d1c",
   "metadata": {},
   "outputs": [],
   "source": [
    "# merge the shape file with bank_tract\n",
    "bank_tract_with_shape = shape_all.merge(bank_tract, how = 'right', on = ['census_tract'],\n",
    "                                        indicator = True, validate= '1:m') "
   ]
  },
  {
   "cell_type": "code",
   "execution_count": null,
   "id": "a73cadab-67b8-4280-85bf-e13afafc4c83",
   "metadata": {},
   "outputs": [],
   "source": [
    "# set up map zooms\n",
    "cities     = ['phx', 'tcs', 'sf', 'la']\n",
    "phx_zoom   = {'x': [-2.5e6,-2.35e6],     'y' : [4.1e6,4.25e6],    'city':'phx'}\n",
    "la_zoom    = {'x': [-3.06e6, -2.9e6], 'y': [4.35e6, 4.5e6], 'city':'LA'}\n",
    "sf_zoom    = {'x': [-3.25e6, -3.15e6], 'y': [4.975e6, 5.12e6], 'city':'LA'}\n",
    "tcs_zoom   = {'x': [-2.4e6, -2.35e6],   'y': [3.95e6, 4.025e6],   'city':'tuscon'}\n",
    "citieszoom = [phx_zoom, tcs_zoom, sf_zoom, la_zoom]"
   ]
  },
  {
   "cell_type": "code",
   "execution_count": null,
   "id": "d9b185d6-0434-4f0c-853c-0ba42bad0cd0",
   "metadata": {},
   "outputs": [],
   "source": [
    "# \n",
    "listofshading   = ['denial_rate', 'mean_approved_rate_spread', 'log(numloans)', 'log(dol_loans)', 'mean_LTV']\n",
    "listofredlining = ['majority-minority', 'below_p10_income', 'high_hispanic', 'high_black', 'high_asian', 'high_white']"
   ]
  },
  {
   "cell_type": "code",
   "execution_count": null,
   "id": "535e64c2-1b75-4b3a-a2bd-4fda2b5a35bf",
   "metadata": {},
   "outputs": [],
   "source": [
    "def red_line_map(df,shading_var:str,redline_var:str,optional_title= None,option_zoom_params=None):\n",
    "    fig, ax = plt.subplots(1, 1, figsize = (20, 10))\n",
    "\n",
    "    # Plot data\n",
    "    # Source: https://geopandas.readthedocs.io/en/latest/docs/user_guide/mapping.html\n",
    "    df.plot(column = shading_var,\n",
    "            ax = ax,\n",
    "            cmap = \"Greens\",\n",
    "            legend = True)\n",
    "\n",
    "    # add the the majority minority tract lines in red\n",
    "    query = f'`{redline_var}`'\n",
    "    df.query(query).boundary.plot(color='red',ax=ax, linewidth=2)\n",
    "\n",
    "    # add the other tract lines in grey\n",
    "    query = f'`{redline_var}` == False'    \n",
    "    df.query(query).boundary.plot(color='gainsboro',ax=ax, linewidth=.2)\n",
    "\n",
    "    # Stylize plots\n",
    "    plt.style.use('bmh')\n",
    "\n",
    "    # Set title\n",
    "    if optional_title:\n",
    "        plt.title(f'{optional_title}', fontdict = {'fontsize': 15})\n",
    "        \n",
    "    # optionally, zoom in\n",
    "    if option_zoom_params:\n",
    "        ax.set_xlim(option_zoom_params['x'])\n",
    "        ax.set_ylim(option_zoom_params['y'])\n",
    "        \n",
    "    return fig, ax"
   ]
  },
  {
   "cell_type": "markdown",
   "id": "bf764baa-4718-4f7c-902f-604851e09787",
   "metadata": {},
   "source": [
    "## Ideas to better graphs\n",
    "\n",
    "- log(1+numloans)\n",
    "- diff between BOW and Competitors\n",
    "- less granular \n",
    "- a new shading variable that is \"% of # of loans this bank makes in this tract\" should be defined in every tract (0 if missing!)\n",
    "- a new shading variable that is \"% of $ of loans this bank makes in this tract\" should be defined in every tract (0 if missing!)\n"
   ]
  },
  {
   "cell_type": "code",
   "execution_count": null,
   "id": "9e7cbd91-b87e-47dc-91dc-2d58e8c92e4c",
   "metadata": {},
   "outputs": [],
   "source": [
    "%%capture\n",
    "\n",
    "for bank in ['All Other Banks','Bank of West']:    \n",
    "    this_bank = bank_tract_with_shape.query('which_bank == @bank')\n",
    "    for city in citieszoom: \n",
    "        for shade in listofshading:\n",
    "            for redline in listofredlining:\n",
    "                \n",
    "                # where to put this beaut\n",
    "                pic_fname = f'''../images/{city['city']}/{bank}/SHADE {shade}/{redline}.png'''\n",
    "                \n",
    "                # make sure it has a home\n",
    "                os.makedirs(os.path.dirname(pic_fname),\n",
    "                                            exist_ok=True)\n",
    "                \n",
    "                # make and save!\n",
    "                fig = red_line_map(this_bank,\n",
    "                                   shade, redline, f\"\"\"{bank} ||| {city['city']} ||| {shade} ||| {redline}\"\"\", city)\n",
    "                                \n",
    "                fig.savefig(pic_fname)\n"
   ]
  }
 ],
 "metadata": {
  "kernelspec": {
   "display_name": "Python 3 (ipykernel)",
   "language": "python",
   "name": "python3"
  },
  "language_info": {
   "codemirror_mode": {
    "name": "ipython",
    "version": 3
   },
   "file_extension": ".py",
   "mimetype": "text/x-python",
   "name": "python",
   "nbconvert_exporter": "python",
   "pygments_lexer": "ipython3",
   "version": "3.9.7"
  }
 },
 "nbformat": 4,
 "nbformat_minor": 5
}
