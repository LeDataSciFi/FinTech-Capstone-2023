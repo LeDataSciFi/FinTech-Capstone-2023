{
 "cells": [
  {
   "cell_type": "code",
   "execution_count": 12,
   "metadata": {},
   "outputs": [],
   "source": [
    "import matplotlib.pyplot as plt\n",
    "from matplotlib  import rc\n",
    "import pandas as pd\n",
    "import geopandas as gpd\n",
    "from census import Census\n",
    "from us import states\n",
    "import numpy as np\n",
    "import os"
   ]
  },
  {
   "cell_type": "code",
   "execution_count": 13,
   "metadata": {},
   "outputs": [],
   "source": [
    "# Create a Census object with an API key\n",
    "if not os.path.exists('../input_data_clean/bank_tract_clean_WITH_CENSUS.csv'):\n",
    "        \n",
    "    (\n",
    "        pd.read_csv('../input_data_clean/census_clean.csv')\n",
    "        .merge(pd.read_csv('../input_data_clean/bank_tract_clean.csv'),\n",
    "               on = \"census_tract\", \n",
    "               how = \"inner\",\n",
    "               validate = \"1:m\")\n",
    "        .to_csv('../input_data_clean/bank_tract_clean_WITH_CENSUS.csv')\n",
    "    )\n",
    "bank_tract = pd.read_csv('../input_data_clean/bank_tract_clean_WITH_CENSUS.csv')"
   ]
  },
  {
   "cell_type": "code",
   "execution_count": 16,
   "metadata": {},
   "outputs": [],
   "source": [
    "c = Census(\"a82acbcf878654f6da6b3139274b90ff160b8120\")\n",
    "# Get census data for Arizona at the tract level for additional fields in 2020\n",
    "az_census = c.acs5.state_county_tract(fields=('NAME', 'C17002_001E', 'C17002_002E', 'C17002_003E', 'B01003_001E', 'B02001_002E', 'B06011_001E'),\n",
    "                                      state_fips=states.AZ.fips,\n",
    "                                      county_fips=\"*\",\n",
    "                                      tract=\"*\",\n",
    "                                      year=2020)\n",
    "ca_census = c.acs5.state_county_tract(fields=('NAME', 'C17002_001E', 'C17002_002E', 'C17002_003E', 'B01003_001E', 'B02001_002E', 'B06011_001E'),\n",
    "                                      state_fips=states.CA.fips,\n",
    "                                      county_fips=\"*\",\n",
    "                                      tract=\"*\",\n",
    "                                      year=2020)\n",
    "# Convert census data to a Pandas DataFrame\n",
    "\n",
    "az_df = pd.DataFrame(az_census)\n",
    "ca_df = pd.DataFrame(ca_census)\n",
    "\n",
    "# Concatenate the two DataFrames\n",
    "combined_df = pd.concat([az_df, ca_df])\n",
    "\n",
    "# Reset the index of the combined DataFrame\n",
    "combined_df.reset_index(drop=True, inplace=True)\n",
    "\n",
    "# Get the Arizona and California tract shapefile\n",
    "shape_az = gpd.read_file(\"https://www2.census.gov/geo/tiger/TIGER2020/TRACT/tl_2020_04_tract.zip\").to_crs(epsg=32617)\n",
    "shape_ca = gpd.read_file(\"https://www2.census.gov/geo/tiger/TIGER2020/TRACT/tl_2020_06_tract.zip\").to_crs(epsg=32617)\n",
    "shape_all = pd.concat([shape_az, shape_ca], ignore_index=True)\n",
    "# Combine the census data with the shapefile using the GEOID column\n",
    "combined_df[\"GEOID\"] = combined_df[\"state\"] + combined_df[\"county\"] + combined_df[\"tract\"]\n",
    "combined_df = combined_df.drop(columns=[\"state\", \"county\"])\n",
    "azca_merge = shape_all.merge(combined_df, on=\"GEOID\")\n",
    "\n",
    "# Select columns for poverty and minority analysis\n",
    "# az_minority_tract = az_merge[[\"STATEFP\", \"COUNTYFP\", \"TRACTCE\", \"GEOID\", \"geometry\", \"C17002_001E\", \"C17002_002E\", \"C17002_003E\", \"B01003_001E\", \"B02001_002E\",'B06011_001E']]\n",
    "\n",
    "# Aggregate data to the county level"
   ]
  },
  {
   "cell_type": "code",
   "execution_count": 10,
   "metadata": {},
   "outputs": [],
   "source": []
  },
  {
   "cell_type": "code",
   "execution_count": 10,
   "metadata": {},
   "outputs": [
    {
     "name": "stdout",
     "output_type": "stream",
     "text": [
      "<class 'geopandas.geodataframe.GeoDataFrame'>\n",
      "RangeIndex: 10894 entries, 0 to 10893\n",
      "Data columns (total 13 columns):\n",
      " #   Column    Non-Null Count  Dtype   \n",
      "---  ------    --------------  -----   \n",
      " 0   STATEFP   10894 non-null  object  \n",
      " 1   COUNTYFP  10894 non-null  object  \n",
      " 2   TRACTCE   10894 non-null  object  \n",
      " 3   GEOID     10894 non-null  object  \n",
      " 4   NAME      10894 non-null  object  \n",
      " 5   NAMELSAD  10894 non-null  object  \n",
      " 6   MTFCC     10894 non-null  object  \n",
      " 7   FUNCSTAT  10894 non-null  object  \n",
      " 8   ALAND     10894 non-null  int64   \n",
      " 9   AWATER    10894 non-null  int64   \n",
      " 10  INTPTLAT  10894 non-null  object  \n",
      " 11  INTPTLON  10894 non-null  object  \n",
      " 12  geometry  10894 non-null  geometry\n",
      "dtypes: geometry(1), int64(2), object(10)\n",
      "memory usage: 1.1+ MB\n"
     ]
    }
   ],
   "source": [
    "shape_all.info()"
   ]
  },
  {
   "cell_type": "code",
   "execution_count": 7,
   "metadata": {},
   "outputs": [],
   "source": [
    "#'Tot.Pop', 'Tot.WhitePop', 'Tot.BlackPop ', 'Tot.AmericIndianPop', 'Tot.AsianPop', '\n",
    "#Tot.NativeHawaiianPacificPop', 'Tot.OtherRaceAlonePop', 'Tot.TwoOrMoreRace', \n",
    "#'Tot.TwoOrMoreRace(Some other race)', 'Tot.Hispanic/Latino', 'Tot.NotHispanic/Latino' \n",
    "# and then without tot. it works for each tract\n",
    "# with open('census_token.txt') as f: \n",
    "#     c = Census(f.read())\n",
    "\n",
    "# create all shade vars list\n",
    "#create \n",
    "###\n",
    "#zoom params = DICT('sf':sldkfljaslk;djf)\n",
    "#for city in ['sf',la...]\n",
    "    # city_zoom = zoom_param[city]\n",
    "    #for shade in ['white_rate'...]\n",
    "        #for redline in ['majority-minority...]:\n",
    "            # clear plot\n",
    "            #f () ---> filename = f'plots/{city[0:3]}-{shade[0:10]}-{redline[0:10]}.csv\n",
    "            # save plot --> plots/"
   ]
  },
  {
   "cell_type": "code",
   "execution_count": null,
   "metadata": {},
   "outputs": [],
   "source": [
    "az_tract = az_tract.merge(shape_all, how: 'left', on:    # <--- how left, on, indicator, validate)"
   ]
  },
  {
   "cell_type": "code",
   "execution_count": null,
   "metadata": {},
   "outputs": [],
   "source": [
    "competitors_only = bank_tract.query('bank == \"Other\"')"
   ]
  },
  {
   "cell_type": "code",
   "execution_count": null,
   "metadata": {},
   "outputs": [],
   "source": []
  },
  {
   "cell_type": "code",
   "execution_count": null,
   "metadata": {},
   "outputs": [],
   "source": []
  },
  {
   "cell_type": "code",
   "execution_count": null,
   "metadata": {},
   "outputs": [],
   "source": []
  },
  {
   "cell_type": "code",
   "execution_count": null,
   "metadata": {},
   "outputs": [],
   "source": [
    "# az_minority_tract"
   ]
  },
  {
   "cell_type": "code",
   "execution_count": null,
   "metadata": {},
   "outputs": [],
   "source": [
    "az_minority_county = az_minority_tract #.dissolve(by='TRACTCE', aggfunc='sum')"
   ]
  },
  {
   "cell_type": "code",
   "execution_count": null,
   "metadata": {},
   "outputs": [],
   "source": [
    "# Calculate the percentage of the white population in each county\n",
    "az_minority_county[\"White_Rate\"] = (az_minority_county[\"B02001_002E\"]) / az_minority_county[\"B01003_001E\"] * 100\n",
    "\n",
    "az_minority_county['majority-minority'] = az_minority_county[\"White_Rate\"] < 50\n",
    "\n",
    "az_minority_county['below_p10_income'] = az_minority_county[\"B06011_001E\"] < az_minority_county[\"B06011_001E\"].quantile(0.1)"
   ]
  },
  {
   "cell_type": "code",
   "execution_count": null,
   "metadata": {},
   "outputs": [],
   "source": [
    "def red_line_map(df,shading_var:str,redline_var:str,optional_title= None,option_zoom_params=None):\n",
    "    fig, ax = plt.subplots(1, 1, figsize = (20, 10))\n",
    "\n",
    "    # Plot data\n",
    "    # Source: https://geopandas.readthedocs.io/en/latest/docs/user_guide/mapping.html\n",
    "    df.plot(column = shading_var,\n",
    "                           ax = ax,\n",
    "                           cmap = \"Greens\",\n",
    "                           legend = True)\n",
    "\n",
    "    # add the the majority minority tract lines in red\n",
    "    query = f'`{redline_var}`'\n",
    "    df.query(query).boundary.plot(color='red',ax=ax, linewidth=2)\n",
    "\n",
    "    # add the other tract lines in grey\n",
    "    query = f'`{redline_var}` == False'    \n",
    "    df.query(query).boundary.plot(color='gainsboro',ax=ax, linewidth=.2)\n",
    "\n",
    "    # Stylize plots\n",
    "    plt.style.use('bmh')\n",
    "\n",
    "    # Set title\n",
    "    plt.title(f'{shading_var} in AZ \\n Red outlines are based on {redline_var}', fontdict = {'fontsize': 15})\n",
    "\n",
    "    # optionally, zoom in\n",
    "    if option_zoom_params:\n",
    "        ax.set_xlim(option_zoom_params['x'])\n",
    "        ax.set_ylim(option_zoom_params['y'])"
   ]
  },
  {
   "cell_type": "markdown",
   "metadata": {},
   "source": [
    "# Some useful plots"
   ]
  },
  {
   "cell_type": "code",
   "execution_count": null,
   "metadata": {},
   "outputs": [],
   "source": [
    "phx_zoom = {'x': [-2.5e6,-2.35e6], 'y' : [4.1e6,4.25e6]}\n",
    "\n",
    "red_line_map(az_minority_county,'White_Rate','majority-minority',option_zoom_params=phx_zoom)"
   ]
  },
  {
   "cell_type": "code",
   "execution_count": null,
   "metadata": {},
   "outputs": [],
   "source": []
  }
 ],
 "metadata": {
  "kernelspec": {
   "display_name": "Python 3 (ipykernel)",
   "language": "python",
   "name": "python3"
  },
  "language_info": {
   "codemirror_mode": {
    "name": "ipython",
    "version": 3
   },
   "file_extension": ".py",
   "mimetype": "text/x-python",
   "name": "python",
   "nbconvert_exporter": "python",
   "pygments_lexer": "ipython3",
   "version": "3.9.13"
  }
 },
 "nbformat": 4,
 "nbformat_minor": 4
}
