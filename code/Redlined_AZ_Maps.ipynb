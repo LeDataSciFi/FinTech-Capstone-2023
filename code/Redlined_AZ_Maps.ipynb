{
 "cells": [
  {
   "cell_type": "code",
   "execution_count": 47,
   "id": "1b36ee37-d490-4881-b2e9-410474432e71",
   "metadata": {},
   "outputs": [],
   "source": [
    "import matplotlib.pyplot as plt\n",
    "from matplotlib  import rc\n",
    "import pandas as pd\n",
    "import geopandas as gpd\n",
    "# from census import Census\n",
    "# from us import states\n",
    "import numpy as np\n",
    "import os"
   ]
  },
  {
   "cell_type": "code",
   "execution_count": null,
   "id": "3ae8cafd-26f0-42f1-a1a7-ca786e4ce163",
   "metadata": {},
   "outputs": [],
   "source": []
  },
  {
   "cell_type": "code",
   "execution_count": 22,
   "id": "130dc6a7-2853-4688-b228-9450e3697600",
   "metadata": {},
   "outputs": [],
   "source": [
    "bank_tract = pd.read_csv('../input_data_clean/bank_tract_clean_WITH_CENSUS.csv')\n",
    "\n",
    "#denial_rate, credit_spread, np.log(# loans), np.log($ loans), avg LTV \n",
    "bank_tract [\"white_rate\"] = (bank_tract [\"WhitePop\"]) / bank_tract [\"Tot.Pop\"] * 100\n",
    "bank_tract ['majority-minority'] = bank_tract [\"white_rate\"] < 50\n",
    "bank_tract ['below_p10_income'] = bank_tract [\"Med.HousehIncome\"] < bank_tract[\"Med.HousehIncome\"].quantile(0.1)\n",
    "bank_tract ['high_hispanic'] = (bank_tract ['HispanicLatinoPop'] / bank_tract['Tot.Pop']) > 0.5\n",
    "bank_tract ['high_black'] = (bank_tract ['BlackPop'] / bank_tract['Tot.Pop']) > 0.5\n",
    "bank_tract ['high_asian'] = (bank_tract ['AsianPop'] / bank_tract['Tot.Pop']) > 0.5\n",
    "bank_tract ['high_white'] = (bank_tract ['WhitePop'] / bank_tract['Tot.Pop']) > 0.5\n",
    "\n",
    "bank_tract ['log(numloans)'] = np.log(bank_tract['num_approved_loans'])\n",
    "bank_tract ['log(dol_loans)'] = np.log(bank_tract['avg_approved_loan_size'])\n"
   ]
  },
  {
   "cell_type": "code",
   "execution_count": 24,
   "id": "4f26d30e-4bd6-4bca-ae01-8a191c7a3b78",
   "metadata": {},
   "outputs": [],
   "source": [
    "# Get the Arizona tract shapefile and convert to UTM Zone 17N coordinate system\n",
    "shape_az = gpd.read_file(\"https://www2.census.gov/geo/tiger/TIGER2020/TRACT/tl_2020_04_tract.zip\").to_crs(epsg=32617)\n",
    "shape_ca = gpd.read_file(\"https://www2.census.gov/geo/tiger/TIGER2020/TRACT/tl_2020_06_tract.zip\").to_crs(epsg=32617)\n",
    "shape_all = pd.concat([shape_az, shape_ca], ignore_index=True)\n",
    "shape_all['census_tract'] = shape_all['GEOID'].astype(np.int64)"
   ]
  },
  {
   "cell_type": "code",
   "execution_count": 26,
   "id": "965f801c-ec30-4e58-8621-31328f4d0d1c",
   "metadata": {},
   "outputs": [],
   "source": [
    "# merge the shape file with bank_tract\n",
    "bank_tract_with_shape = shape_all.merge(bank_tract, how = 'right', on = ['census_tract'],\n",
    "                              indicator = True, validate= '1:m') "
   ]
  },
  {
   "cell_type": "code",
   "execution_count": 28,
   "id": "a73cadab-67b8-4280-85bf-e13afafc4c83",
   "metadata": {},
   "outputs": [],
   "source": [
    "# set up map zooms\n",
    "cities     = ['phx', 'tcs', 'sf', 'la']\n",
    "phx_zoom   = {'x': [-2.5e6,-2.35e6],     'y' : [4.1e6,4.25e6],    'city':'phx'}\n",
    "tcs_zoom   = {'x': [-1.17e7, -1.16e7],   'y': [3.63e6, 3.65e6],   'city':'tuscon'}\n",
    "sf_zoom    = {'x': [-1.362e7, -1.355e7], 'y': [4.33e6, 4.37e6],   'city':'SF'}\n",
    "la_zoom    = {'x': [-1.287e7, -1.275e7], 'y': [4.033e6, 4.086e6], 'city':'LA'}\n",
    "citieszoom = [phx_zoom, tcs_zoom, sf_zoom, la_zoom]"
   ]
  },
  {
   "cell_type": "code",
   "execution_count": 29,
   "id": "d9b185d6-0434-4f0c-853c-0ba42bad0cd0",
   "metadata": {},
   "outputs": [],
   "source": [
    "\n",
    "listofshading = ['denial_rate', 'mean_approved_rate_spread', 'log(numloans)', 'log(dol_loans)', 'mean_LTV']\n",
    "\n",
    "listofredlining = ['majority-minority', 'below_p10_income', 'high_hispanic', 'high_black', 'high_asian', 'high_white']"
   ]
  },
  {
   "cell_type": "code",
   "execution_count": 36,
   "id": "535e64c2-1b75-4b3a-a2bd-4fda2b5a35bf",
   "metadata": {},
   "outputs": [],
   "source": [
    "def red_line_map(df,shading_var:str,redline_var:str,optional_title= None,option_zoom_params=None):\n",
    "    fig, ax = plt.subplots(1, 1, figsize = (20, 10))\n",
    "\n",
    "    # Plot data\n",
    "    # Source: https://geopandas.readthedocs.io/en/latest/docs/user_guide/mapping.html\n",
    "    df.plot(column = shading_var,\n",
    "                           ax = ax,\n",
    "                           cmap = \"Greens\",\n",
    "                           legend = True)\n",
    "\n",
    "    # add the the majority minority tract lines in red\n",
    "    query = f'`{redline_var}`'\n",
    "    df.query(query).boundary.plot(color='red',ax=ax, linewidth=2)\n",
    "\n",
    "    # add the other tract lines in grey\n",
    "    query = f'`{redline_var}` == False'    \n",
    "    df.query(query).boundary.plot(color='gainsboro',ax=ax, linewidth=.2)\n",
    "\n",
    "    # Stylize plots\n",
    "    plt.style.use('bmh')\n",
    "\n",
    "    # Set title\n",
    "    if optional_title:\n",
    "        plt.title(f'{optional_title}', fontdict = {'fontsize': 15})\n",
    "    # optionally, zoom in\n",
    "    if option_zoom_params:\n",
    "        ax.set_xlim(option_zoom_params['x'])\n",
    "        ax.set_ylim(option_zoom_params['y'])\n",
    "        \n",
    "    return fig"
   ]
  },
  {
   "cell_type": "markdown",
   "id": "bf764baa-4718-4f7c-902f-604851e09787",
   "metadata": {},
   "source": [
    "## Ideas to better graphs\n",
    "\n",
    "- log(1+numloans)\n",
    "- diff between BOW and Competitors\n",
    "- less granular \n",
    "- a new shading variable that is \"% of # of loans this bank makes in this tract\" should be defined in every tract (0 if missing!)\n",
    "- a new shading variable that is \"% of $ of loans this bank makes in this tract\" should be defined in every tract (0 if missing!)\n"
   ]
  },
  {
   "cell_type": "code",
   "execution_count": 41,
   "id": "9e7cbd91-b87e-47dc-91dc-2d58e8c92e4c",
   "metadata": {},
   "outputs": [
    {
     "ename": "KeyboardInterrupt",
     "evalue": "",
     "output_type": "error",
     "traceback": [
      "\u001b[1;31m---------------------------------------------------------------------------\u001b[0m",
      "\u001b[1;31mKeyboardInterrupt\u001b[0m                         Traceback (most recent call last)",
      "Cell \u001b[1;32mIn[41], line 18\u001b[0m\n\u001b[0;32m     14\u001b[0m os\u001b[38;5;241m.\u001b[39mmakedirs(os\u001b[38;5;241m.\u001b[39mpath\u001b[38;5;241m.\u001b[39mdirname(pic_fname),\n\u001b[0;32m     15\u001b[0m                             exist_ok\u001b[38;5;241m=\u001b[39m\u001b[38;5;28;01mTrue\u001b[39;00m)\n\u001b[0;32m     17\u001b[0m \u001b[38;5;66;03m# make and save!\u001b[39;00m\n\u001b[1;32m---> 18\u001b[0m fig \u001b[38;5;241m=\u001b[39m \u001b[43mred_line_map\u001b[49m\u001b[43m(\u001b[49m\u001b[43mthis_bank\u001b[49m\u001b[43m,\u001b[49m\n\u001b[0;32m     19\u001b[0m \u001b[43m                   \u001b[49m\u001b[43mshade\u001b[49m\u001b[43m,\u001b[49m\u001b[43m \u001b[49m\u001b[43mredline\u001b[49m\u001b[43m,\u001b[49m\u001b[43m \u001b[49m\u001b[38;5;124;43mf\u001b[39;49m\u001b[38;5;124;43m\"\"\"\u001b[39;49m\u001b[38;5;132;43;01m{\u001b[39;49;00m\u001b[43mbank\u001b[49m\u001b[38;5;132;43;01m}\u001b[39;49;00m\u001b[38;5;124;43m ||| \u001b[39;49m\u001b[38;5;132;43;01m{\u001b[39;49;00m\u001b[43mcity\u001b[49m\u001b[43m[\u001b[49m\u001b[38;5;124;43m'\u001b[39;49m\u001b[38;5;124;43mcity\u001b[39;49m\u001b[38;5;124;43m'\u001b[39;49m\u001b[43m]\u001b[49m\u001b[38;5;132;43;01m}\u001b[39;49;00m\u001b[38;5;124;43m ||| \u001b[39;49m\u001b[38;5;132;43;01m{\u001b[39;49;00m\u001b[43mshade\u001b[49m\u001b[38;5;132;43;01m}\u001b[39;49;00m\u001b[38;5;124;43m ||| \u001b[39;49m\u001b[38;5;132;43;01m{\u001b[39;49;00m\u001b[43mredline\u001b[49m\u001b[38;5;132;43;01m}\u001b[39;49;00m\u001b[38;5;124;43m\"\"\"\u001b[39;49m\u001b[43m,\u001b[49m\u001b[43m \u001b[49m\u001b[43mcity\u001b[49m\u001b[43m)\u001b[49m\n\u001b[0;32m     21\u001b[0m fig\u001b[38;5;241m.\u001b[39msavefig(pic_fname)\n",
      "Cell \u001b[1;32mIn[36], line 13\u001b[0m, in \u001b[0;36mred_line_map\u001b[1;34m(df, shading_var, redline_var, optional_title, option_zoom_params)\u001b[0m\n\u001b[0;32m     11\u001b[0m \u001b[38;5;66;03m# add the the majority minority tract lines in red\u001b[39;00m\n\u001b[0;32m     12\u001b[0m query \u001b[38;5;241m=\u001b[39m \u001b[38;5;124mf\u001b[39m\u001b[38;5;124m'\u001b[39m\u001b[38;5;124m`\u001b[39m\u001b[38;5;132;01m{\u001b[39;00mredline_var\u001b[38;5;132;01m}\u001b[39;00m\u001b[38;5;124m`\u001b[39m\u001b[38;5;124m'\u001b[39m\n\u001b[1;32m---> 13\u001b[0m \u001b[43mdf\u001b[49m\u001b[38;5;241;43m.\u001b[39;49m\u001b[43mquery\u001b[49m\u001b[43m(\u001b[49m\u001b[43mquery\u001b[49m\u001b[43m)\u001b[49m\u001b[38;5;241m.\u001b[39mboundary\u001b[38;5;241m.\u001b[39mplot(color\u001b[38;5;241m=\u001b[39m\u001b[38;5;124m'\u001b[39m\u001b[38;5;124mred\u001b[39m\u001b[38;5;124m'\u001b[39m,ax\u001b[38;5;241m=\u001b[39max, linewidth\u001b[38;5;241m=\u001b[39m\u001b[38;5;241m2\u001b[39m)\n\u001b[0;32m     15\u001b[0m \u001b[38;5;66;03m# add the other tract lines in grey\u001b[39;00m\n\u001b[0;32m     16\u001b[0m query \u001b[38;5;241m=\u001b[39m \u001b[38;5;124mf\u001b[39m\u001b[38;5;124m'\u001b[39m\u001b[38;5;124m`\u001b[39m\u001b[38;5;132;01m{\u001b[39;00mredline_var\u001b[38;5;132;01m}\u001b[39;00m\u001b[38;5;124m` == False\u001b[39m\u001b[38;5;124m'\u001b[39m    \n",
      "File \u001b[1;32m~\\anaconda3\\lib\\site-packages\\pandas\\util\\_decorators.py:331\u001b[0m, in \u001b[0;36mdeprecate_nonkeyword_arguments.<locals>.decorate.<locals>.wrapper\u001b[1;34m(*args, **kwargs)\u001b[0m\n\u001b[0;32m    325\u001b[0m \u001b[38;5;28;01mif\u001b[39;00m \u001b[38;5;28mlen\u001b[39m(args) \u001b[38;5;241m>\u001b[39m num_allow_args:\n\u001b[0;32m    326\u001b[0m     warnings\u001b[38;5;241m.\u001b[39mwarn(\n\u001b[0;32m    327\u001b[0m         msg\u001b[38;5;241m.\u001b[39mformat(arguments\u001b[38;5;241m=\u001b[39m_format_argument_list(allow_args)),\n\u001b[0;32m    328\u001b[0m         \u001b[38;5;167;01mFutureWarning\u001b[39;00m,\n\u001b[0;32m    329\u001b[0m         stacklevel\u001b[38;5;241m=\u001b[39mfind_stack_level(),\n\u001b[0;32m    330\u001b[0m     )\n\u001b[1;32m--> 331\u001b[0m \u001b[38;5;28;01mreturn\u001b[39;00m \u001b[43mfunc\u001b[49m\u001b[43m(\u001b[49m\u001b[38;5;241;43m*\u001b[39;49m\u001b[43margs\u001b[49m\u001b[43m,\u001b[49m\u001b[43m \u001b[49m\u001b[38;5;241;43m*\u001b[39;49m\u001b[38;5;241;43m*\u001b[39;49m\u001b[43mkwargs\u001b[49m\u001b[43m)\u001b[49m\n",
      "File \u001b[1;32m~\\anaconda3\\lib\\site-packages\\pandas\\core\\frame.py:4471\u001b[0m, in \u001b[0;36mDataFrame.query\u001b[1;34m(self, expr, inplace, **kwargs)\u001b[0m\n\u001b[0;32m   4469\u001b[0m kwargs[\u001b[38;5;124m\"\u001b[39m\u001b[38;5;124mlevel\u001b[39m\u001b[38;5;124m\"\u001b[39m] \u001b[38;5;241m=\u001b[39m kwargs\u001b[38;5;241m.\u001b[39mpop(\u001b[38;5;124m\"\u001b[39m\u001b[38;5;124mlevel\u001b[39m\u001b[38;5;124m\"\u001b[39m, \u001b[38;5;241m0\u001b[39m) \u001b[38;5;241m+\u001b[39m \u001b[38;5;241m2\u001b[39m\n\u001b[0;32m   4470\u001b[0m kwargs[\u001b[38;5;124m\"\u001b[39m\u001b[38;5;124mtarget\u001b[39m\u001b[38;5;124m\"\u001b[39m] \u001b[38;5;241m=\u001b[39m \u001b[38;5;28;01mNone\u001b[39;00m\n\u001b[1;32m-> 4471\u001b[0m res \u001b[38;5;241m=\u001b[39m \u001b[38;5;28;43mself\u001b[39;49m\u001b[38;5;241;43m.\u001b[39;49m\u001b[43meval\u001b[49m\u001b[43m(\u001b[49m\u001b[43mexpr\u001b[49m\u001b[43m,\u001b[49m\u001b[43m \u001b[49m\u001b[38;5;241;43m*\u001b[39;49m\u001b[38;5;241;43m*\u001b[39;49m\u001b[43mkwargs\u001b[49m\u001b[43m)\u001b[49m\n\u001b[0;32m   4473\u001b[0m \u001b[38;5;28;01mtry\u001b[39;00m:\n\u001b[0;32m   4474\u001b[0m     result \u001b[38;5;241m=\u001b[39m \u001b[38;5;28mself\u001b[39m\u001b[38;5;241m.\u001b[39mloc[res]\n",
      "File \u001b[1;32m~\\anaconda3\\lib\\site-packages\\pandas\\util\\_decorators.py:331\u001b[0m, in \u001b[0;36mdeprecate_nonkeyword_arguments.<locals>.decorate.<locals>.wrapper\u001b[1;34m(*args, **kwargs)\u001b[0m\n\u001b[0;32m    325\u001b[0m \u001b[38;5;28;01mif\u001b[39;00m \u001b[38;5;28mlen\u001b[39m(args) \u001b[38;5;241m>\u001b[39m num_allow_args:\n\u001b[0;32m    326\u001b[0m     warnings\u001b[38;5;241m.\u001b[39mwarn(\n\u001b[0;32m    327\u001b[0m         msg\u001b[38;5;241m.\u001b[39mformat(arguments\u001b[38;5;241m=\u001b[39m_format_argument_list(allow_args)),\n\u001b[0;32m    328\u001b[0m         \u001b[38;5;167;01mFutureWarning\u001b[39;00m,\n\u001b[0;32m    329\u001b[0m         stacklevel\u001b[38;5;241m=\u001b[39mfind_stack_level(),\n\u001b[0;32m    330\u001b[0m     )\n\u001b[1;32m--> 331\u001b[0m \u001b[38;5;28;01mreturn\u001b[39;00m \u001b[43mfunc\u001b[49m\u001b[43m(\u001b[49m\u001b[38;5;241;43m*\u001b[39;49m\u001b[43margs\u001b[49m\u001b[43m,\u001b[49m\u001b[43m \u001b[49m\u001b[38;5;241;43m*\u001b[39;49m\u001b[38;5;241;43m*\u001b[39;49m\u001b[43mkwargs\u001b[49m\u001b[43m)\u001b[49m\n",
      "File \u001b[1;32m~\\anaconda3\\lib\\site-packages\\pandas\\core\\frame.py:4603\u001b[0m, in \u001b[0;36mDataFrame.eval\u001b[1;34m(self, expr, inplace, **kwargs)\u001b[0m\n\u001b[0;32m   4601\u001b[0m kwargs[\u001b[38;5;124m\"\u001b[39m\u001b[38;5;124mlevel\u001b[39m\u001b[38;5;124m\"\u001b[39m] \u001b[38;5;241m=\u001b[39m kwargs\u001b[38;5;241m.\u001b[39mpop(\u001b[38;5;124m\"\u001b[39m\u001b[38;5;124mlevel\u001b[39m\u001b[38;5;124m\"\u001b[39m, \u001b[38;5;241m0\u001b[39m) \u001b[38;5;241m+\u001b[39m \u001b[38;5;241m2\u001b[39m\n\u001b[0;32m   4602\u001b[0m index_resolvers \u001b[38;5;241m=\u001b[39m \u001b[38;5;28mself\u001b[39m\u001b[38;5;241m.\u001b[39m_get_index_resolvers()\n\u001b[1;32m-> 4603\u001b[0m column_resolvers \u001b[38;5;241m=\u001b[39m \u001b[38;5;28;43mself\u001b[39;49m\u001b[38;5;241;43m.\u001b[39;49m\u001b[43m_get_cleaned_column_resolvers\u001b[49m\u001b[43m(\u001b[49m\u001b[43m)\u001b[49m\n\u001b[0;32m   4604\u001b[0m resolvers \u001b[38;5;241m=\u001b[39m column_resolvers, index_resolvers\n\u001b[0;32m   4605\u001b[0m \u001b[38;5;28;01mif\u001b[39;00m \u001b[38;5;124m\"\u001b[39m\u001b[38;5;124mtarget\u001b[39m\u001b[38;5;124m\"\u001b[39m \u001b[38;5;129;01mnot\u001b[39;00m \u001b[38;5;129;01min\u001b[39;00m kwargs:\n",
      "File \u001b[1;32m~\\anaconda3\\lib\\site-packages\\pandas\\core\\generic.py:636\u001b[0m, in \u001b[0;36mNDFrame._get_cleaned_column_resolvers\u001b[1;34m(self)\u001b[0m\n\u001b[0;32m    633\u001b[0m \u001b[38;5;28;01mif\u001b[39;00m \u001b[38;5;28misinstance\u001b[39m(\u001b[38;5;28mself\u001b[39m, ABCSeries):\n\u001b[0;32m    634\u001b[0m     \u001b[38;5;28;01mreturn\u001b[39;00m {clean_column_name(\u001b[38;5;28mself\u001b[39m\u001b[38;5;241m.\u001b[39mname): \u001b[38;5;28mself\u001b[39m}\n\u001b[1;32m--> 636\u001b[0m \u001b[38;5;28;01mreturn\u001b[39;00m {\n\u001b[0;32m    637\u001b[0m     clean_column_name(k): v \u001b[38;5;28;01mfor\u001b[39;00m k, v \u001b[38;5;129;01min\u001b[39;00m \u001b[38;5;28mself\u001b[39m\u001b[38;5;241m.\u001b[39mitems() \u001b[38;5;28;01mif\u001b[39;00m \u001b[38;5;129;01mnot\u001b[39;00m \u001b[38;5;28misinstance\u001b[39m(k, \u001b[38;5;28mint\u001b[39m)\n\u001b[0;32m    638\u001b[0m }\n",
      "File \u001b[1;32m~\\anaconda3\\lib\\site-packages\\pandas\\core\\generic.py:637\u001b[0m, in \u001b[0;36m<dictcomp>\u001b[1;34m(.0)\u001b[0m\n\u001b[0;32m    633\u001b[0m \u001b[38;5;28;01mif\u001b[39;00m \u001b[38;5;28misinstance\u001b[39m(\u001b[38;5;28mself\u001b[39m, ABCSeries):\n\u001b[0;32m    634\u001b[0m     \u001b[38;5;28;01mreturn\u001b[39;00m {clean_column_name(\u001b[38;5;28mself\u001b[39m\u001b[38;5;241m.\u001b[39mname): \u001b[38;5;28mself\u001b[39m}\n\u001b[0;32m    636\u001b[0m \u001b[38;5;28;01mreturn\u001b[39;00m {\n\u001b[1;32m--> 637\u001b[0m     \u001b[43mclean_column_name\u001b[49m\u001b[43m(\u001b[49m\u001b[43mk\u001b[49m\u001b[43m)\u001b[49m: v \u001b[38;5;28;01mfor\u001b[39;00m k, v \u001b[38;5;129;01min\u001b[39;00m \u001b[38;5;28mself\u001b[39m\u001b[38;5;241m.\u001b[39mitems() \u001b[38;5;28;01mif\u001b[39;00m \u001b[38;5;129;01mnot\u001b[39;00m \u001b[38;5;28misinstance\u001b[39m(k, \u001b[38;5;28mint\u001b[39m)\n\u001b[0;32m    638\u001b[0m }\n",
      "File \u001b[1;32m~\\anaconda3\\lib\\site-packages\\pandas\\core\\computation\\parsing.py:128\u001b[0m, in \u001b[0;36mclean_column_name\u001b[1;34m(name)\u001b[0m\n\u001b[0;32m    126\u001b[0m     tokenized \u001b[38;5;241m=\u001b[39m tokenize_string(\u001b[38;5;124mf\u001b[39m\u001b[38;5;124m\"\u001b[39m\u001b[38;5;124m`\u001b[39m\u001b[38;5;132;01m{\u001b[39;00mname\u001b[38;5;132;01m}\u001b[39;00m\u001b[38;5;124m`\u001b[39m\u001b[38;5;124m\"\u001b[39m)\n\u001b[0;32m    127\u001b[0m     tokval \u001b[38;5;241m=\u001b[39m \u001b[38;5;28mnext\u001b[39m(tokenized)[\u001b[38;5;241m1\u001b[39m]\n\u001b[1;32m--> 128\u001b[0m     \u001b[38;5;28;01mreturn\u001b[39;00m \u001b[43mcreate_valid_python_identifier\u001b[49m\u001b[43m(\u001b[49m\u001b[43mtokval\u001b[49m\u001b[43m)\u001b[49m\n\u001b[0;32m    129\u001b[0m \u001b[38;5;28;01mexcept\u001b[39;00m \u001b[38;5;167;01mSyntaxError\u001b[39;00m:\n\u001b[0;32m    130\u001b[0m     \u001b[38;5;28;01mreturn\u001b[39;00m name\n",
      "File \u001b[1;32m~\\anaconda3\\lib\\site-packages\\pandas\\core\\computation\\parsing.py:41\u001b[0m, in \u001b[0;36mcreate_valid_python_identifier\u001b[1;34m(name)\u001b[0m\n\u001b[0;32m     36\u001b[0m     \u001b[38;5;28;01mreturn\u001b[39;00m name\n\u001b[0;32m     38\u001b[0m \u001b[38;5;66;03m# Create a dict with the special characters and their replacement string.\u001b[39;00m\n\u001b[0;32m     39\u001b[0m \u001b[38;5;66;03m# EXACT_TOKEN_TYPES contains these special characters\u001b[39;00m\n\u001b[0;32m     40\u001b[0m \u001b[38;5;66;03m# token.tok_name contains a readable description of the replacement string.\u001b[39;00m\n\u001b[1;32m---> 41\u001b[0m special_characters_replacements \u001b[38;5;241m=\u001b[39m {\n\u001b[0;32m     42\u001b[0m     char: \u001b[38;5;124mf\u001b[39m\u001b[38;5;124m\"\u001b[39m\u001b[38;5;124m_\u001b[39m\u001b[38;5;132;01m{\u001b[39;00mtoken\u001b[38;5;241m.\u001b[39mtok_name[tokval]\u001b[38;5;132;01m}\u001b[39;00m\u001b[38;5;124m_\u001b[39m\u001b[38;5;124m\"\u001b[39m\n\u001b[0;32m     43\u001b[0m     \u001b[38;5;28;01mfor\u001b[39;00m char, tokval \u001b[38;5;129;01min\u001b[39;00m (tokenize\u001b[38;5;241m.\u001b[39mEXACT_TOKEN_TYPES\u001b[38;5;241m.\u001b[39mitems())\n\u001b[0;32m     44\u001b[0m }\n\u001b[0;32m     45\u001b[0m special_characters_replacements\u001b[38;5;241m.\u001b[39mupdate(\n\u001b[0;32m     46\u001b[0m     {\n\u001b[0;32m     47\u001b[0m         \u001b[38;5;124m\"\u001b[39m\u001b[38;5;124m \u001b[39m\u001b[38;5;124m\"\u001b[39m: \u001b[38;5;124m\"\u001b[39m\u001b[38;5;124m_\u001b[39m\u001b[38;5;124m\"\u001b[39m,\n\u001b[1;32m   (...)\u001b[0m\n\u001b[0;32m     58\u001b[0m     }\n\u001b[0;32m     59\u001b[0m )\n\u001b[0;32m     61\u001b[0m name \u001b[38;5;241m=\u001b[39m \u001b[38;5;124m\"\u001b[39m\u001b[38;5;124m\"\u001b[39m\u001b[38;5;241m.\u001b[39mjoin([special_characters_replacements\u001b[38;5;241m.\u001b[39mget(char, char) \u001b[38;5;28;01mfor\u001b[39;00m char \u001b[38;5;129;01min\u001b[39;00m name])\n",
      "File \u001b[1;32m~\\anaconda3\\lib\\site-packages\\pandas\\core\\computation\\parsing.py:41\u001b[0m, in \u001b[0;36m<dictcomp>\u001b[1;34m(.0)\u001b[0m\n\u001b[0;32m     36\u001b[0m     \u001b[38;5;28;01mreturn\u001b[39;00m name\n\u001b[0;32m     38\u001b[0m \u001b[38;5;66;03m# Create a dict with the special characters and their replacement string.\u001b[39;00m\n\u001b[0;32m     39\u001b[0m \u001b[38;5;66;03m# EXACT_TOKEN_TYPES contains these special characters\u001b[39;00m\n\u001b[0;32m     40\u001b[0m \u001b[38;5;66;03m# token.tok_name contains a readable description of the replacement string.\u001b[39;00m\n\u001b[1;32m---> 41\u001b[0m special_characters_replacements \u001b[38;5;241m=\u001b[39m {\n\u001b[0;32m     42\u001b[0m     char: \u001b[38;5;124mf\u001b[39m\u001b[38;5;124m\"\u001b[39m\u001b[38;5;124m_\u001b[39m\u001b[38;5;132;01m{\u001b[39;00mtoken\u001b[38;5;241m.\u001b[39mtok_name[tokval]\u001b[38;5;132;01m}\u001b[39;00m\u001b[38;5;124m_\u001b[39m\u001b[38;5;124m\"\u001b[39m\n\u001b[0;32m     43\u001b[0m     \u001b[38;5;28;01mfor\u001b[39;00m char, tokval \u001b[38;5;129;01min\u001b[39;00m (tokenize\u001b[38;5;241m.\u001b[39mEXACT_TOKEN_TYPES\u001b[38;5;241m.\u001b[39mitems())\n\u001b[0;32m     44\u001b[0m }\n\u001b[0;32m     45\u001b[0m special_characters_replacements\u001b[38;5;241m.\u001b[39mupdate(\n\u001b[0;32m     46\u001b[0m     {\n\u001b[0;32m     47\u001b[0m         \u001b[38;5;124m\"\u001b[39m\u001b[38;5;124m \u001b[39m\u001b[38;5;124m\"\u001b[39m: \u001b[38;5;124m\"\u001b[39m\u001b[38;5;124m_\u001b[39m\u001b[38;5;124m\"\u001b[39m,\n\u001b[1;32m   (...)\u001b[0m\n\u001b[0;32m     58\u001b[0m     }\n\u001b[0;32m     59\u001b[0m )\n\u001b[0;32m     61\u001b[0m name \u001b[38;5;241m=\u001b[39m \u001b[38;5;124m\"\u001b[39m\u001b[38;5;124m\"\u001b[39m\u001b[38;5;241m.\u001b[39mjoin([special_characters_replacements\u001b[38;5;241m.\u001b[39mget(char, char) \u001b[38;5;28;01mfor\u001b[39;00m char \u001b[38;5;129;01min\u001b[39;00m name])\n",
      "\u001b[1;31mKeyboardInterrupt\u001b[0m: "
     ]
    }
   ],
   "source": [
    "%%capture\n",
    "\n",
    "for bank in ['All Other Banks','Bank of West']:\n",
    "    print(bank)\n",
    "    \n",
    "    this_bank = bank_tract_with_shape.query('which_bank == @bank')\n",
    "    \n",
    "    for city in citieszoom: \n",
    "        for shade in listofshading:\n",
    "            for redline in listofredlining:\n",
    "                \n",
    "                # where to put this beaut\n",
    "                pic_fname = f'''../images/{city['city']}/{bank}/SHADE {shade}/{redline}.png'''\n",
    "                \n",
    "                # make sure it has a home\n",
    "                os.makedirs(os.path.dirname(pic_fname),\n",
    "                                            exist_ok=True)\n",
    "                \n",
    "                # make and save!\n",
    "                fig = red_line_map(this_bank,\n",
    "                                   shade, redline, f\"\"\"{bank} ||| {city['city']} ||| {shade} ||| {redline}\"\"\", city)\n",
    "                                \n",
    "                fig.savefig(pic_fname)\n"
   ]
  },
  {
   "cell_type": "code",
   "execution_count": null,
   "id": "504a91f7-8a81-4c0d-8dd5-21697e216e19",
   "metadata": {},
   "outputs": [],
   "source": []
  }
 ],
 "metadata": {
  "kernelspec": {
   "display_name": "Python 3 (ipykernel)",
   "language": "python",
   "name": "python3"
  },
  "language_info": {
   "codemirror_mode": {
    "name": "ipython",
    "version": 3
   },
   "file_extension": ".py",
   "mimetype": "text/x-python",
   "name": "python",
   "nbconvert_exporter": "python",
   "pygments_lexer": "ipython3",
   "version": "3.8.16"
  }
 },
 "nbformat": 4,
 "nbformat_minor": 5
}
