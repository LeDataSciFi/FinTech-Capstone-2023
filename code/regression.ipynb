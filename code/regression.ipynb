{
 "cells": [
  {
   "cell_type": "code",
   "execution_count": 1,
   "id": "79c4474e-1c5c-4203-a29f-6f94868b1624",
   "metadata": {},
   "outputs": [],
   "source": [
    "import pandas as pd\n",
    "import numpy as np\n"
   ]
  },
  {
   "cell_type": "code",
   "execution_count": 2,
   "id": "397556ef-6a97-4096-80ed-8a692c5b22cc",
   "metadata": {},
   "outputs": [],
   "source": [
    "bank_tract = pd.read_csv('../input_data_clean/bank_tract_clean_WITH_CENSUS.csv')\n"
   ]
  },
  {
   "cell_type": "code",
   "execution_count": 3,
   "id": "67c77766-9f1c-4688-a907-ce4f9fd53b79",
   "metadata": {},
   "outputs": [],
   "source": [
    "#denial_rate, credit_spread, np.log(# loans), np.log($ loans), avg LTV \n",
    "bank_tract [\"white_rate\"]        = (bank_tract [\"WhitePop\"]) / bank_tract [\"Tot.Pop\"] * 100\n",
    "bank_tract ['majority-minority'] = bank_tract [\"white_rate\"] < 50\n",
    "bank_tract ['below_p10_income']  = bank_tract [\"Med.HousehIncome\"] < bank_tract[\"Med.HousehIncome\"].quantile(0.1)\n",
    "bank_tract ['high_hispanic']     = (bank_tract ['HispanicLatinoPop'] / bank_tract['Tot.Pop']) > 0.25\n",
    "bank_tract ['high_black']        = (bank_tract ['BlackPop'] / bank_tract['Tot.Pop']) > 0.25\n",
    "bank_tract ['high_asian']        = (bank_tract ['AsianPop'] / bank_tract['Tot.Pop']) > 0.25\n",
    "bank_tract ['high_white']        = (bank_tract ['WhitePop'] / bank_tract['Tot.Pop']) > 0.25\n",
    "\n",
    "bank_tract ['log(numloans)'] = np.log(bank_tract['num_approved_loans'])\n",
    "bank_tract ['log(dol_loans)'] = np.log(bank_tract['avg_approved_loan_size'])\n",
    "bank_tract ['log(num_apps)'] = np.log(bank_tract['num_applications'])"
   ]
  },
  {
   "cell_type": "code",
   "execution_count": 4,
   "id": "7b4822ff-436d-4537-8bb1-bd44eb8faf05",
   "metadata": {},
   "outputs": [],
   "source": [
    "from statsmodels.formula.api import ols as sm_ols\n"
   ]
  },
  {
   "cell_type": "raw",
   "id": "fdaeef31-7727-4f71-ae34-656212c4bf1f",
   "metadata": {},
   "source": [
    "y = diamonds2['lprice']             # pick y\n",
    "X = diamonds2[['const','lcarat']]   # set up all your X vars as a matrix"
   ]
  },
  {
   "cell_type": "code",
   "execution_count": 5,
   "id": "ce16fb16-4c22-46a9-b273-399c43e041e4",
   "metadata": {},
   "outputs": [
    {
     "data": {
      "text/html": [
       "<table class=\"simpletable\">\n",
       "<caption>OLS Regression Results</caption>\n",
       "<tr>\n",
       "  <th>Dep. Variable:</th>       <td>denial_rate</td>   <th>  R-squared:         </th>  <td>   0.003</td> \n",
       "</tr>\n",
       "<tr>\n",
       "  <th>Model:</th>                   <td>OLS</td>       <th>  Adj. R-squared:    </th>  <td>   0.003</td> \n",
       "</tr>\n",
       "<tr>\n",
       "  <th>Method:</th>             <td>Least Squares</td>  <th>  F-statistic:       </th>  <td>   38.95</td> \n",
       "</tr>\n",
       "<tr>\n",
       "  <th>Date:</th>             <td>Mon, 27 Feb 2023</td> <th>  Prob (F-statistic):</th>  <td>4.48e-10</td> \n",
       "</tr>\n",
       "<tr>\n",
       "  <th>Time:</th>                 <td>18:12:21</td>     <th>  Log-Likelihood:    </th>  <td>  6071.9</td> \n",
       "</tr>\n",
       "<tr>\n",
       "  <th>No. Observations:</th>      <td> 13837</td>      <th>  AIC:               </th> <td>-1.214e+04</td>\n",
       "</tr>\n",
       "<tr>\n",
       "  <th>Df Residuals:</th>          <td> 13835</td>      <th>  BIC:               </th> <td>-1.212e+04</td>\n",
       "</tr>\n",
       "<tr>\n",
       "  <th>Df Model:</th>              <td>     1</td>      <th>                     </th>      <td> </td>    \n",
       "</tr>\n",
       "<tr>\n",
       "  <th>Covariance Type:</th>      <td>nonrobust</td>    <th>                     </th>      <td> </td>    \n",
       "</tr>\n",
       "</table>\n",
       "<table class=\"simpletable\">\n",
       "<tr>\n",
       "            <td></td>               <th>coef</th>     <th>std err</th>      <th>t</th>      <th>P>|t|</th>  <th>[0.025</th>    <th>0.975]</th>  \n",
       "</tr>\n",
       "<tr>\n",
       "  <th>Intercept</th>             <td>    0.8284</td> <td>    0.002</td> <td>  425.672</td> <td> 0.000</td> <td>    0.825</td> <td>    0.832</td>\n",
       "</tr>\n",
       "<tr>\n",
       "  <th>high_hispanic[T.True]</th> <td>   -0.0166</td> <td>    0.003</td> <td>   -6.241</td> <td> 0.000</td> <td>   -0.022</td> <td>   -0.011</td>\n",
       "</tr>\n",
       "</table>\n",
       "<table class=\"simpletable\">\n",
       "<tr>\n",
       "  <th>Omnibus:</th>       <td>2897.965</td> <th>  Durbin-Watson:     </th> <td>   2.007</td>\n",
       "</tr>\n",
       "<tr>\n",
       "  <th>Prob(Omnibus):</th>  <td> 0.000</td>  <th>  Jarque-Bera (JB):  </th> <td>5697.787</td>\n",
       "</tr>\n",
       "<tr>\n",
       "  <th>Skew:</th>           <td>-1.268</td>  <th>  Prob(JB):          </th> <td>    0.00</td>\n",
       "</tr>\n",
       "<tr>\n",
       "  <th>Kurtosis:</th>       <td> 4.857</td>  <th>  Cond. No.          </th> <td>    2.71</td>\n",
       "</tr>\n",
       "</table><br/><br/>Notes:<br/>[1] Standard Errors assume that the covariance matrix of the errors is correctly specified."
      ],
      "text/plain": [
       "<class 'statsmodels.iolib.summary.Summary'>\n",
       "\"\"\"\n",
       "                            OLS Regression Results                            \n",
       "==============================================================================\n",
       "Dep. Variable:            denial_rate   R-squared:                       0.003\n",
       "Model:                            OLS   Adj. R-squared:                  0.003\n",
       "Method:                 Least Squares   F-statistic:                     38.95\n",
       "Date:                Mon, 27 Feb 2023   Prob (F-statistic):           4.48e-10\n",
       "Time:                        18:12:21   Log-Likelihood:                 6071.9\n",
       "No. Observations:               13837   AIC:                        -1.214e+04\n",
       "Df Residuals:                   13835   BIC:                        -1.212e+04\n",
       "Df Model:                           1                                         \n",
       "Covariance Type:            nonrobust                                         \n",
       "=========================================================================================\n",
       "                            coef    std err          t      P>|t|      [0.025      0.975]\n",
       "-----------------------------------------------------------------------------------------\n",
       "Intercept                 0.8284      0.002    425.672      0.000       0.825       0.832\n",
       "high_hispanic[T.True]    -0.0166      0.003     -6.241      0.000      -0.022      -0.011\n",
       "==============================================================================\n",
       "Omnibus:                     2897.965   Durbin-Watson:                   2.007\n",
       "Prob(Omnibus):                  0.000   Jarque-Bera (JB):             5697.787\n",
       "Skew:                          -1.268   Prob(JB):                         0.00\n",
       "Kurtosis:                       4.857   Cond. No.                         2.71\n",
       "==============================================================================\n",
       "\n",
       "Notes:\n",
       "[1] Standard Errors assume that the covariance matrix of the errors is correctly specified.\n",
       "\"\"\""
      ]
     },
     "execution_count": 5,
     "metadata": {},
     "output_type": "execute_result"
    }
   ],
   "source": [
    "# y =  'denial_rate'\n",
    "# x = 'high_hispanic'\n",
    "\n",
    "bank_of_west = bank_tract[bank_tract['which_bank'] == 'All Other Banks']\n",
    "\n",
    "\n",
    "sm_ols('denial_rate ~ high_hispanic', data = bank_tract).fit().summary()"
   ]
  },
  {
   "cell_type": "code",
   "execution_count": 6,
   "id": "e03a4691-2de1-43ef-99c3-211f9d17066e",
   "metadata": {},
   "outputs": [
    {
     "data": {
      "text/html": [
       "<table class=\"simpletable\">\n",
       "<caption>OLS Regression Results</caption>\n",
       "<tr>\n",
       "  <th>Dep. Variable:</th>       <td>denial_rate</td>   <th>  R-squared:         </th> <td>   0.007</td>\n",
       "</tr>\n",
       "<tr>\n",
       "  <th>Model:</th>                   <td>OLS</td>       <th>  Adj. R-squared:    </th> <td>   0.006</td>\n",
       "</tr>\n",
       "<tr>\n",
       "  <th>Method:</th>             <td>Least Squares</td>  <th>  F-statistic:       </th> <td>   29.85</td>\n",
       "</tr>\n",
       "<tr>\n",
       "  <th>Date:</th>             <td>Mon, 27 Feb 2023</td> <th>  Prob (F-statistic):</th> <td>4.92e-08</td>\n",
       "</tr>\n",
       "<tr>\n",
       "  <th>Time:</th>                 <td>18:12:21</td>     <th>  Log-Likelihood:    </th> <td>  58.405</td>\n",
       "</tr>\n",
       "<tr>\n",
       "  <th>No. Observations:</th>      <td>  4500</td>      <th>  AIC:               </th> <td>  -112.8</td>\n",
       "</tr>\n",
       "<tr>\n",
       "  <th>Df Residuals:</th>          <td>  4498</td>      <th>  BIC:               </th> <td>  -99.99</td>\n",
       "</tr>\n",
       "<tr>\n",
       "  <th>Df Model:</th>              <td>     1</td>      <th>                     </th>     <td> </td>   \n",
       "</tr>\n",
       "<tr>\n",
       "  <th>Covariance Type:</th>      <td>nonrobust</td>    <th>                     </th>     <td> </td>   \n",
       "</tr>\n",
       "</table>\n",
       "<table class=\"simpletable\">\n",
       "<tr>\n",
       "            <td></td>               <th>coef</th>     <th>std err</th>      <th>t</th>      <th>P>|t|</th>  <th>[0.025</th>    <th>0.975]</th>  \n",
       "</tr>\n",
       "<tr>\n",
       "  <th>Intercept</th>             <td>    0.7767</td> <td>    0.005</td> <td>  158.699</td> <td> 0.000</td> <td>    0.767</td> <td>    0.786</td>\n",
       "</tr>\n",
       "<tr>\n",
       "  <th>high_hispanic[T.True]</th> <td>    0.0390</td> <td>    0.007</td> <td>    5.463</td> <td> 0.000</td> <td>    0.025</td> <td>    0.053</td>\n",
       "</tr>\n",
       "</table>\n",
       "<table class=\"simpletable\">\n",
       "<tr>\n",
       "  <th>Omnibus:</th>       <td>867.375</td> <th>  Durbin-Watson:     </th> <td>   1.841</td> \n",
       "</tr>\n",
       "<tr>\n",
       "  <th>Prob(Omnibus):</th> <td> 0.000</td>  <th>  Jarque-Bera (JB):  </th> <td> 504.749</td> \n",
       "</tr>\n",
       "<tr>\n",
       "  <th>Skew:</th>          <td>-0.690</td>  <th>  Prob(JB):          </th> <td>2.48e-110</td>\n",
       "</tr>\n",
       "<tr>\n",
       "  <th>Kurtosis:</th>      <td> 2.114</td>  <th>  Cond. No.          </th> <td>    2.55</td> \n",
       "</tr>\n",
       "</table><br/><br/>Notes:<br/>[1] Standard Errors assume that the covariance matrix of the errors is correctly specified."
      ],
      "text/plain": [
       "<class 'statsmodels.iolib.summary.Summary'>\n",
       "\"\"\"\n",
       "                            OLS Regression Results                            \n",
       "==============================================================================\n",
       "Dep. Variable:            denial_rate   R-squared:                       0.007\n",
       "Model:                            OLS   Adj. R-squared:                  0.006\n",
       "Method:                 Least Squares   F-statistic:                     29.85\n",
       "Date:                Mon, 27 Feb 2023   Prob (F-statistic):           4.92e-08\n",
       "Time:                        18:12:21   Log-Likelihood:                 58.405\n",
       "No. Observations:                4500   AIC:                            -112.8\n",
       "Df Residuals:                    4498   BIC:                            -99.99\n",
       "Df Model:                           1                                         \n",
       "Covariance Type:            nonrobust                                         \n",
       "=========================================================================================\n",
       "                            coef    std err          t      P>|t|      [0.025      0.975]\n",
       "-----------------------------------------------------------------------------------------\n",
       "Intercept                 0.7767      0.005    158.699      0.000       0.767       0.786\n",
       "high_hispanic[T.True]     0.0390      0.007      5.463      0.000       0.025       0.053\n",
       "==============================================================================\n",
       "Omnibus:                      867.375   Durbin-Watson:                   1.841\n",
       "Prob(Omnibus):                  0.000   Jarque-Bera (JB):              504.749\n",
       "Skew:                          -0.690   Prob(JB):                    2.48e-110\n",
       "Kurtosis:                       2.114   Cond. No.                         2.55\n",
       "==============================================================================\n",
       "\n",
       "Notes:\n",
       "[1] Standard Errors assume that the covariance matrix of the errors is correctly specified.\n",
       "\"\"\""
      ]
     },
     "execution_count": 6,
     "metadata": {},
     "output_type": "execute_result"
    }
   ],
   "source": [
    "bank_of_west = bank_tract[bank_tract['which_bank'] == 'Bank of West']\n",
    "\n",
    "sm_ols('denial_rate ~ high_hispanic', data=bank_of_west).fit().summary()"
   ]
  },
  {
   "cell_type": "raw",
   "id": "29ff091a-bb25-42d2-9e99-78cd6df11f5e",
   "metadata": {},
   "source": [
    "# y =  'log(# apps)'\n",
    "# x = 'high_hispanic'\n",
    "\n",
    "bank_of_west = bank_tract[bank_tract['which_bank'] == 'All Other Banks']\n",
    "\n",
    "\n",
    "sm_ols('log(num_apps) ~ high_hispanic', data = bank_tract).fit().summary()"
   ]
  },
  {
   "cell_type": "code",
   "execution_count": null,
   "id": "2953bc6f-d1d6-4939-ab03-1d97410fa6f8",
   "metadata": {},
   "outputs": [],
   "source": []
  }
 ],
 "metadata": {
  "kernelspec": {
   "display_name": "Python 3 (ipykernel)",
   "language": "python",
   "name": "python3"
  },
  "language_info": {
   "codemirror_mode": {
    "name": "ipython",
    "version": 3
   },
   "file_extension": ".py",
   "mimetype": "text/x-python",
   "name": "python",
   "nbconvert_exporter": "python",
   "pygments_lexer": "ipython3",
   "version": "3.9.7"
  }
 },
 "nbformat": 4,
 "nbformat_minor": 5
}
