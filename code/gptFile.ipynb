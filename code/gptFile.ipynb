{
 "cells": [
  {
   "cell_type": "code",
   "execution_count": 1,
   "id": "c07a5bb5-cf6f-4be6-a240-63fd6ae47423",
   "metadata": {},
   "outputs": [],
   "source": [
    "import os\n",
    "import csv\n",
    "import pandas as pd\n",
    "import numpy as np"
   ]
  },
  {
   "cell_type": "code",
   "execution_count": 15,
   "id": "521b6ba4-4a35-438f-8fb1-b80cf69f1976",
   "metadata": {},
   "outputs": [
    {
     "name": "stderr",
     "output_type": "stream",
     "text": [
      "/var/folders/nm/zm_7bqnx4cj64v6s_7wxf8f40000gn/T/ipykernel_74470/3860382191.py:1: DtypeWarning: Columns (51,55,56,65,69,70) have mixed types. Specify dtype option on import or set low_memory=False.\n",
      "  data = pd.read_csv(\"../input_data_clean/state_AZ-CA_clean_MINI.csv\")\n"
     ]
    }
   ],
   "source": [
    "data = pd.read_csv(\"../input_data_clean/state_AZ-CA_clean_MINI.csv\")"
   ]
  },
  {
   "cell_type": "code",
   "execution_count": 16,
   "id": "a7a1ffca-09aa-484f-b318-306d0aa7b17d",
   "metadata": {},
   "outputs": [],
   "source": [
    "data = data[['conforming_loan_limit',\n",
    "'derived_loan_product_type',\n",
    "'derived_dwelling_category',\n",
    "'preapproval',\n",
    "'loant_type',\n",
    "'loan_purpose',\n",
    "'lien_status',\n",
    "'reverse_mortgage',\n",
    "'open-end_line_of_credit',\n",
    "'business_or_commercial_purpose',\n",
    "'loan_amount',\n",
    "'loan_to_value_ratio',\n",
    "'interest_rate',\n",
    "'discount_points',\n",
    "'lender_credits',\n",
    "'loan_term',\n",
    "'intro_rate_period',\n",
    "'negative_amortization',\n",
    "'interest_only_payment',\n",
    "'balloon_payment',\n",
    "'other_nonamortizing_features',\n",
    "'property_value',\n",
    "'construction_method',\n",
    "'occupancy_type',\n",
    "'manufactured_home_secured_property_type',\n",
    "'manufactured_home_land_property_interest',\n",
    "'total_units',\n",
    "'income',\n",
    "'debt_to_income_ratio',\n",
    "'applicant_credit_score_type']]"
   ]
  },
  {
   "cell_type": "code",
   "execution_count": 17,
   "id": "b7226407-9ded-4276-9b3a-acf0537f29bf",
   "metadata": {},
   "outputs": [],
   "source": [
    "data_sample = data.sample(n=30)"
   ]
  },
  {
   "cell_type": "code",
   "execution_count": 18,
   "id": "badd9e35-27a4-4c88-9077-cf868b5f1a7a",
   "metadata": {},
   "outputs": [],
   "source": [
    "data_sample.to_csv('../input_data_clean/data_sample.csv',index=False)"
   ]
  },
  {
   "cell_type": "code",
   "execution_count": 19,
   "id": "d91c0110-d878-4099-b53a-c16e7361dda8",
   "metadata": {},
   "outputs": [],
   "source": [
    "data_sample[\"Ethnicity\"] = \"black\""
   ]
  },
  {
   "cell_type": "code",
   "execution_count": 20,
   "id": "f9b31f12-e01b-4c6d-a4bf-f2b77936c6bd",
   "metadata": {
    "tags": []
   },
   "outputs": [],
   "source": [
    "data_sample.to_csv('../input_data_clean/data_sample_black.csv',index=False)"
   ]
  },
  {
   "cell_type": "code",
   "execution_count": 21,
   "id": "5a66fd82-0d7e-421f-a1b5-d941738c9748",
   "metadata": {},
   "outputs": [],
   "source": [
    "data_sample[\"Ethnicity\"] = \"white\""
   ]
  },
  {
   "cell_type": "code",
   "execution_count": 22,
   "id": "514dc5b3-66c1-4e46-b5bf-10e3234509e4",
   "metadata": {},
   "outputs": [],
   "source": [
    "data_sample.to_csv('../input_data_clean/data_sample_white.csv',index=False)"
   ]
  },
  {
   "cell_type": "code",
   "execution_count": null,
   "id": "3d0a81bc-1ab6-4eb4-a23f-dabbc8c9e47d",
   "metadata": {},
   "outputs": [],
   "source": []
  }
 ],
 "metadata": {
  "kernelspec": {
   "display_name": "Python 3 (ipykernel)",
   "language": "python",
   "name": "python3"
  },
  "language_info": {
   "codemirror_mode": {
    "name": "ipython",
    "version": 3
   },
   "file_extension": ".py",
   "mimetype": "text/x-python",
   "name": "python",
   "nbconvert_exporter": "python",
   "pygments_lexer": "ipython3",
   "version": "3.9.15"
  }
 },
 "nbformat": 4,
 "nbformat_minor": 5
}
