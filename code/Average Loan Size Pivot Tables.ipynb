{
 "cells": [
  {
   "cell_type": "code",
   "execution_count": 1,
   "metadata": {},
   "outputs": [],
   "source": [
    "import os\n",
    "import csv\n",
    "import pandas as pd"
   ]
  },
  {
   "cell_type": "code",
   "execution_count": 2,
   "metadata": {},
   "outputs": [],
   "source": [
    "import pandas as pd \n",
    "import pandas_profiling\n",
    "from pandas_profiling import ProfileReport"
   ]
  },
  {
   "cell_type": "code",
   "execution_count": 4,
   "metadata": {},
   "outputs": [],
   "source": [
    "hmda = pd.read_csv('../input_data/state_AZ-CA_mini.csv')"
   ]
  },
  {
   "cell_type": "code",
   "execution_count": 5,
   "metadata": {},
   "outputs": [],
   "source": [
    "hmda['denial'] = hmda['action_taken'] == 3"
   ]
  },
  {
   "cell_type": "code",
   "execution_count": 6,
   "metadata": {},
   "outputs": [],
   "source": [
    "def hmda_bank(row):\n",
    "  if row['lei'] == 'QOT5WN9RBKQTFRVKEV31':\n",
    "    hmda_bank = 'Bank of West'\n",
    "  elif row['lei'] == '3Y4U8VZURTYWI1W2K376':\n",
    "    hmda_bank = 'BMO Harris'\n",
    "  else: \n",
    "    hmda_bank = 'All Other Banks'\n",
    "  return hmda_bank"
   ]
  },
  {
   "cell_type": "code",
   "execution_count": 7,
   "metadata": {},
   "outputs": [
    {
     "data": {
      "text/plain": [
       "All Other Banks    49721\n",
       "Bank of West         235\n",
       "BMO Harris            44\n",
       "Name: which_bank, dtype: int64"
      ]
     },
     "execution_count": 7,
     "metadata": {},
     "output_type": "execute_result"
    }
   ],
   "source": [
    "hmda['which_bank'] = hmda.apply(hmda_bank,axis=1)\n",
    "hmda['which_bank'].value_counts()\n"
   ]
  },
  {
   "cell_type": "code",
   "execution_count": 8,
   "metadata": {},
   "outputs": [
    {
     "data": {
      "text/plain": [
       "which_bank       loan_type  loan_purpose\n",
       "All Other Banks  1          1               0.069421\n",
       "                            2               0.320124\n",
       "                            4               0.307929\n",
       "                            5               0.000000\n",
       "                            31              0.085192\n",
       "                            32              0.090909\n",
       "                 2          1               0.069640\n",
       "                            2               0.214286\n",
       "                            4               0.137931\n",
       "                            5               0.000000\n",
       "                            31              0.109897\n",
       "                            32              0.184483\n",
       "                 3          1               0.036316\n",
       "                            2               0.100000\n",
       "                            4               0.250000\n",
       "                            5               0.000000\n",
       "                            31              0.082820\n",
       "                            32              0.157835\n",
       "                 4          1               0.000000\n",
       "                            5               0.000000\n",
       "                            31              0.272727\n",
       "                            32              0.000000\n",
       "BMO Harris       1          1               0.142857\n",
       "                            2               0.454545\n",
       "                            4               0.400000\n",
       "                            31              0.000000\n",
       "                            32              0.666667\n",
       "Bank of West     1          1               0.093750\n",
       "                            2               0.343750\n",
       "                            4               0.274510\n",
       "                            31              0.214286\n",
       "                            32              0.228571\n",
       "                 3          31              0.000000\n",
       "Name: denial, dtype: float64"
      ]
     },
     "execution_count": 8,
     "metadata": {},
     "output_type": "execute_result"
    }
   ],
   "source": [
    "hmda.groupby(['which_bank', 'loan_type', 'loan_purpose'])['denial'].mean()"
   ]
  },
  {
   "cell_type": "code",
   "execution_count": 9,
   "metadata": {},
   "outputs": [
    {
     "name": "stdout",
     "output_type": "stream",
     "text": [
      "which_bank              All Other Banks  BMO Harris  Bank of West\n",
      "loan_type loan_purpose                                           \n",
      "1         1                    0.069421    0.142857      0.093750\n",
      "          2                    0.320124    0.454545      0.343750\n",
      "          4                    0.307929    0.400000      0.274510\n",
      "          5                    0.000000         NaN           NaN\n",
      "          31                   0.085192    0.000000      0.214286\n",
      "          32                   0.090909    0.666667      0.228571\n",
      "2         1                    0.069640         NaN           NaN\n",
      "          2                    0.214286         NaN           NaN\n",
      "          4                    0.137931         NaN           NaN\n",
      "          5                    0.000000         NaN           NaN\n",
      "          31                   0.109897         NaN           NaN\n",
      "          32                   0.184483         NaN           NaN\n",
      "3         1                    0.036316         NaN           NaN\n",
      "          2                    0.100000         NaN           NaN\n",
      "          4                    0.250000         NaN           NaN\n",
      "          5                    0.000000         NaN           NaN\n",
      "          31                   0.082820         NaN      0.000000\n",
      "          32                   0.157835         NaN           NaN\n",
      "4         1                    0.000000         NaN           NaN\n",
      "          5                    0.000000         NaN           NaN\n",
      "          31                   0.272727         NaN           NaN\n",
      "          32                   0.000000         NaN           NaN\n"
     ]
    }
   ],
   "source": [
    "pivot = hmda.pivot_table(index=['loan_type', 'loan_purpose'], columns = ['which_bank'], values='denial', aggfunc='mean')\n",
    "\n",
    "# The pivot table shows the mean denial rate for each combination of bank, loan type, and loan purpose\n",
    "print(pivot)"
   ]
  },
  {
   "cell_type": "code",
   "execution_count": 10,
   "metadata": {},
   "outputs": [],
   "source": [
    "pivot_Mean_Loan = hmda.pivot_table(index=['loan_type', 'loan_purpose'], columns = ['which_bank'], values='loan_amount', aggfunc='mean')"
   ]
  },
  {
   "cell_type": "code",
   "execution_count": 11,
   "metadata": {},
   "outputs": [
    {
     "name": "stdout",
     "output_type": "stream",
     "text": [
      "which_bank              All Other Banks    BMO Harris   Bank of West\n",
      "loan_type loan_purpose                                              \n",
      "1         1               588662.190083  6.764286e+05  741250.000000\n",
      "          2               197458.204334  1.031818e+05  201250.000000\n",
      "          4               295169.361047  1.470000e+05  290490.196078\n",
      "          5               356315.789474           NaN            NaN\n",
      "          31              459362.146617  1.115000e+06  498333.333333\n",
      "          32              436638.146168  4.016667e+05  626142.857143\n",
      "2         1               361017.104459           NaN            NaN\n",
      "          2               262142.857143           NaN            NaN\n",
      "          4               322931.034483           NaN            NaN\n",
      "          5               201029.411765           NaN            NaN\n",
      "          31              310077.120823           NaN            NaN\n",
      "          32              313517.241379           NaN            NaN\n",
      "3         1               486595.330739           NaN            NaN\n",
      "          2               517000.000000           NaN            NaN\n",
      "          4               406250.000000           NaN            NaN\n",
      "          5               225000.000000           NaN            NaN\n",
      "          31              374110.240627           NaN  485000.000000\n",
      "          32              411629.086809           NaN            NaN\n",
      "4         1               284402.985075           NaN            NaN\n",
      "          5                95000.000000           NaN            NaN\n",
      "          31              465909.090909           NaN            NaN\n",
      "          32              329285.714286           NaN            NaN\n"
     ]
    }
   ],
   "source": [
    "print(pivot_Mean_Loan)\n",
    "#The pivot table shows the mean loan amount for all loan applications, approved or denied, for each combination of bank, loan type, and loan purpose"
   ]
  },
  {
   "cell_type": "code",
   "execution_count": 15,
   "metadata": {},
   "outputs": [],
   "source": [
    "hmda['approved'] = hmda['action_taken'] == 1"
   ]
  },
  {
   "cell_type": "code",
   "execution_count": 16,
   "metadata": {},
   "outputs": [
    {
     "name": "stdout",
     "output_type": "stream",
     "text": [
      "       activity_year                   lei  derived_msa-md state_code  \\\n",
      "0               2021  254900D8UVDBN0LNLV64           47300         CA   \n",
      "1               2021  7H6GLXDRUGQFU57RNE97           46060         AZ   \n",
      "2               2021  549300XQVJ1XBNFA5536           41740         CA   \n",
      "3               2021  549300YIQ7S7Z8PIHE53           99999         CA   \n",
      "4               2021  549300MGPZBLQDIL7538           40900         CA   \n",
      "...              ...                   ...             ...        ...   \n",
      "49995           2021  254900VHUBSJJKOMBF27           40140         CA   \n",
      "49996           2021  549300SK2GVCQXPD4S58           38060         AZ   \n",
      "49997           2021  549300O6Z0I6KYMESL47           31084         CA   \n",
      "49998           2021  254900HA4DQWAE0W3342           46060         AZ   \n",
      "49999           2021  KB1H1DSPRFMYMCUFXT09           36084         CA   \n",
      "\n",
      "       county_code  census_tract conforming_loan_limit  \\\n",
      "0           6107.0  6.107004e+09                     C   \n",
      "1           4019.0  4.019004e+09                     C   \n",
      "2           6073.0  6.073020e+09                     C   \n",
      "3           6109.0  6.109005e+09                     C   \n",
      "4           6067.0  6.067002e+09                     C   \n",
      "...            ...           ...                   ...   \n",
      "49995       6065.0  6.065043e+09                     C   \n",
      "49996       4013.0  4.013818e+09                     C   \n",
      "49997       6037.0  6.037910e+09                    NC   \n",
      "49998       4019.0  4.019003e+09                     C   \n",
      "49999       6001.0  6.001432e+09                     C   \n",
      "\n",
      "      derived_loan_product_type               derived_dwelling_category  \\\n",
      "0                FHA:First Lien    Single Family (1-4 Units):Site-Built   \n",
      "1       Conventional:First Lien    Single Family (1-4 Units):Site-Built   \n",
      "2       Conventional:First Lien  Single Family (1-4 Units):Manufactured   \n",
      "3       Conventional:First Lien    Single Family (1-4 Units):Site-Built   \n",
      "4       Conventional:First Lien    Single Family (1-4 Units):Site-Built   \n",
      "...                         ...                                     ...   \n",
      "49995   Conventional:First Lien    Single Family (1-4 Units):Site-Built   \n",
      "49996   Conventional:First Lien    Single Family (1-4 Units):Site-Built   \n",
      "49997   Conventional:First Lien    Single Family (1-4 Units):Site-Built   \n",
      "49998   Conventional:First Lien    Single Family (1-4 Units):Site-Built   \n",
      "49999   Conventional:First Lien    Single Family (1-4 Units):Site-Built   \n",
      "\n",
      "             derived_ethnicity  ... tract_population  \\\n",
      "0           Hispanic or Latino  ...             3339   \n",
      "1       Not Hispanic or Latino  ...             3533   \n",
      "2           Hispanic or Latino  ...             4543   \n",
      "3       Not Hispanic or Latino  ...             8124   \n",
      "4                        Joint  ...             2582   \n",
      "...                        ...  ...              ...   \n",
      "49995   Not Hispanic or Latino  ...            10075   \n",
      "49996  Ethnicity Not Available  ...             1240   \n",
      "49997   Not Hispanic or Latino  ...             5508   \n",
      "49998  Ethnicity Not Available  ...             6432   \n",
      "49999   Not Hispanic or Latino  ...             3789   \n",
      "\n",
      "      tract_minority_population_percent  ffiec_msa_md_median_family_income  \\\n",
      "0                                 69.63                              57900   \n",
      "1                                  0.79                              68600   \n",
      "2                                 38.76                              95100   \n",
      "3                                 11.89                              69700   \n",
      "4                                 63.01                              90900   \n",
      "...                                 ...                                ...   \n",
      "49995                             46.06                              77500   \n",
      "49996                             54.11                              79000   \n",
      "49997                             45.44                              80000   \n",
      "49998                             39.01                              68600   \n",
      "49999                             59.44                             125600   \n",
      "\n",
      "       tract_to_msa_income_percentage  tract_owner_occupied_units  \\\n",
      "0                                  92                         298   \n",
      "1                                 109                        1851   \n",
      "2                                 102                         871   \n",
      "3                                  91                        2597   \n",
      "4                                  58                         146   \n",
      "...                               ...                         ...   \n",
      "49995                             139                        2081   \n",
      "49996                             116                         221   \n",
      "49997                             154                        1504   \n",
      "49998                              89                        1221   \n",
      "49999                             119                        1095   \n",
      "\n",
      "       tract_one_to_four_family_homes  tract_median_age_of_housing_units  \\\n",
      "0                                 769                                 44   \n",
      "1                                3048                                 29   \n",
      "2                                1374                                 35   \n",
      "3                                3593                                 35   \n",
      "4                                 937                                 68   \n",
      "...                               ...                                ...   \n",
      "49995                            2584                                 10   \n",
      "49996                             365                                 20   \n",
      "49997                            1748                                 30   \n",
      "49998                            2396                                 58   \n",
      "49999                            1344                                 76   \n",
      "\n",
      "       denial       which_bank  approved  \n",
      "0       False  All Other Banks     False  \n",
      "1       False  All Other Banks      True  \n",
      "2       False  All Other Banks     False  \n",
      "3        True  All Other Banks     False  \n",
      "4       False  All Other Banks      True  \n",
      "...       ...              ...       ...  \n",
      "49995   False  All Other Banks      True  \n",
      "49996   False  All Other Banks      True  \n",
      "49997   False  All Other Banks      True  \n",
      "49998   False  All Other Banks     False  \n",
      "49999   False  All Other Banks      True  \n",
      "\n",
      "[50000 rows x 102 columns]\n"
     ]
    }
   ],
   "source": [
    "print(hmda)"
   ]
  },
  {
   "cell_type": "code",
   "execution_count": 17,
   "metadata": {},
   "outputs": [],
   "source": [
    "hmda_approved = hmda[hmda['approved'] == True]"
   ]
  },
  {
   "cell_type": "code",
   "execution_count": 18,
   "metadata": {},
   "outputs": [],
   "source": [
    "pivot_Mean_Loan = hmda_approved.pivot_table(index=['loan_type', 'loan_purpose'], columns = ['which_bank'], values='loan_amount', aggfunc='mean')"
   ]
  },
  {
   "cell_type": "code",
   "execution_count": 19,
   "metadata": {},
   "outputs": [
    {
     "name": "stdout",
     "output_type": "stream",
     "text": [
      "which_bank              All Other Banks     BMO Harris   Bank of West\n",
      "loan_type loan_purpose                                               \n",
      "1         1               613220.325070  305000.000000  799347.826087\n",
      "          2               233899.082569  105000.000000  203947.368421\n",
      "          4               346509.740260  176666.666667  280757.575758\n",
      "          5               715909.090909            NaN            NaN\n",
      "          31              464485.887097            NaN  588333.333333\n",
      "          32              453644.141531  465000.000000  803500.000000\n",
      "2         1               369032.258065            NaN            NaN\n",
      "          2               380000.000000            NaN            NaN\n",
      "          4               362142.857143            NaN            NaN\n",
      "          31              323344.370861            NaN            NaN\n",
      "          32              320129.310345            NaN            NaN\n",
      "3         1               497132.196162            NaN            NaN\n",
      "          2               642142.857143            NaN            NaN\n",
      "          4               645000.000000            NaN            NaN\n",
      "          31              380058.479532            NaN            NaN\n",
      "          32              420260.545906            NaN            NaN\n",
      "4         1               320862.068966            NaN            NaN\n",
      "          31              228333.333333            NaN            NaN\n",
      "          32              316666.666667            NaN            NaN\n"
     ]
    }
   ],
   "source": [
    "print(pivot_Mean_Loan)"
   ]
  },
  {
   "cell_type": "code",
   "execution_count": null,
   "metadata": {},
   "outputs": [],
   "source": []
  }
 ],
 "metadata": {
  "kernelspec": {
   "display_name": "Python 3",
   "language": "python",
   "name": "python3"
  },
  "language_info": {
   "codemirror_mode": {
    "name": "ipython",
    "version": 3
   },
   "file_extension": ".py",
   "mimetype": "text/x-python",
   "name": "python",
   "nbconvert_exporter": "python",
   "pygments_lexer": "ipython3",
   "version": "3.8.5"
  }
 },
 "nbformat": 4,
 "nbformat_minor": 4
}
