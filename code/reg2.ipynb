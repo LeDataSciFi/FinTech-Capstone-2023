{
 "cells": [
  {
   "cell_type": "code",
   "execution_count": 1,
   "id": "330fca3d-f8c0-49fb-aee0-8fbaf2fe55dc",
   "metadata": {},
   "outputs": [],
   "source": [
    "import pandas as pd\n",
    "import numpy as np\n",
    "import statsmodels.formula.api as smf\n",
    "pd.set_option('display.max_colwidth', None)\n",
    "from statsmodels.iolib.summary2 import summary_col \n"
   ]
  },
  {
   "cell_type": "code",
   "execution_count": 2,
   "id": "5a47dc9c-1011-4f85-8d5c-fa7875c21eb9",
   "metadata": {},
   "outputs": [],
   "source": [
    "import warnings\n",
    "# Ignore warnings by category\n",
    "warnings.filterwarnings(\"ignore\", category=DeprecationWarning)\n",
    "# Ignore warnings by message\n",
    "warnings.filterwarnings(\"ignore\", message=\".*\")"
   ]
  },
  {
   "cell_type": "code",
   "execution_count": 3,
   "id": "41f17aab-1bf5-4319-bd2c-eabf08b38333",
   "metadata": {},
   "outputs": [],
   "source": [
    "bank_tract = pd.read_csv(\"../input_data_clean/bank_tract_clean_WITH_CENSUS.csv\")\n",
    "CA_df = bank_tract[bank_tract[\"state\"] == 6]\n",
    "AZ_df = bank_tract[bank_tract[\"state\"] == 4]\n",
    "CA_df['which_bank'] = CA_df['which_bank'].str.replace(' ', '')\n",
    "AZ_df['which_bank'] = AZ_df['which_bank'].str.replace(' ', '')"
   ]
  },
  {
   "cell_type": "code",
   "execution_count": 4,
   "id": "3ff524a4-96d8-48f4-8a65-46936058d821",
   "metadata": {},
   "outputs": [],
   "source": [
    "# Calculate the hispanic rate and whether it's above the median\n",
    "CA_df['hisp_rate'] = (CA_df['HispanicLatinoPop'] / CA_df['Tot.Pop']) * 100\n",
    "CA_df['hisp_over_med'] = CA_df['hisp_rate'] > np.median(CA_df['hisp_rate'].dropna())\n",
    "CA_df['hisp_over_med'] = CA_df['hisp_over_med'].astype(int)\n",
    "\n",
    "# Calculate the log of number of applications\n",
    "CA_df['log_num_apps'] = np.log(CA_df['num_applications'])"
   ]
  },
  {
   "cell_type": "markdown",
   "id": "b018ef48-fb77-47de-adac-c6a144c19d4a",
   "metadata": {},
   "source": [
    "## Linear Regression - CA"
   ]
  },
  {
   "cell_type": "code",
   "execution_count": 5,
   "id": "fd423330-5627-4db1-a6f0-8c396f6f84c5",
   "metadata": {},
   "outputs": [
    {
     "name": "stdout",
     "output_type": "stream",
     "text": [
      "\n",
      "=======================================================================\n",
      "                             Model 1    Model 2    Model 3    Model 4  \n",
      "-----------------------------------------------------------------------\n",
      "Intercept                   0.8498***  0.8427***  4.2854***  4.0568*** \n",
      "                            (0.0028)   (0.0024)   (0.0136)   (0.0119)  \n",
      "hisp_rate                   -0.0005***            -0.0125***           \n",
      "                            (0.0001)              (0.0003)             \n",
      "hisp_over_med                          -0.0213***            -0.4600***\n",
      "                                       (0.0029)              (0.0146)  \n",
      "C(which_bank)[T.BankofWest] -0.0466*** -0.0453*** -2.9654*** -2.9225***\n",
      "                            (0.0031)   (0.0031)   (0.0148)   (0.0154)  \n",
      "R-squared                   0.0221     0.0206     0.7705     0.7512    \n",
      "R-squared Adj.              0.0220     0.0204     0.7704     0.7512    \n",
      "=======================================================================\n",
      "Standard errors in parentheses.\n",
      "* p<.1, ** p<.05, ***p<.01\n"
     ]
    }
   ],
   "source": [
    "# Calculate the hispanic rate and whether it's above the median\n",
    "CA_df['hisp_rate'] = (CA_df['HispanicLatinoPop'] / CA_df['Tot.Pop']) * 100\n",
    "CA_df['hisp_over_med'] = CA_df['hisp_rate'] > np.median(CA_df['hisp_rate'].dropna())\n",
    "CA_df['hisp_over_med'] = CA_df['hisp_over_med'].astype(int)\n",
    "\n",
    "# Calculate the log of number of applications\n",
    "CA_df['log_num_apps'] = np.log(CA_df['num_applications'])\n",
    "\n",
    "# Build initial models\n",
    "# Fit the linear regression models\n",
    "model1 = smf.ols('denial_rate ~ hisp_rate + C(which_bank)', data=CA_df).fit()\n",
    "model2 = smf.ols('denial_rate ~ hisp_over_med + C(which_bank)', data=CA_df).fit()\n",
    "model3 = smf.ols('log_num_apps ~ hisp_rate + C(which_bank)', data=CA_df).fit()\n",
    "model4 = smf.ols('log_num_apps ~ hisp_over_med + C(which_bank)', data=CA_df).fit()\n",
    "\n",
    "# Create a list of model results\n",
    "models = [model1, model2, model3, model4]\n",
    "\n",
    "# Generate the table of regression results\n",
    "table = summary_col(models, \n",
    "                    model_names=['Model 1', 'Model 2', 'Model 3', 'Model 4'], \n",
    "                    regressor_order=['Intercept', 'hisp_rate', 'hisp_over_med', 'C(which_bank)[T.BankofWest]'], \n",
    "                    float_format='%0.4f', \n",
    "                    stars=True)\n",
    "\n",
    "# Display the table\n",
    "print(table)\n"
   ]
  },
  {
   "cell_type": "markdown",
   "id": "bcfbb5b1-03a2-489b-a61f-1fabc93d6e1b",
   "metadata": {},
   "source": [
    "## Linear Regression - AZ"
   ]
  },
  {
   "cell_type": "code",
   "execution_count": 6,
   "id": "cfae0221-655e-4ba3-9deb-e73022b3d188",
   "metadata": {},
   "outputs": [
    {
     "name": "stdout",
     "output_type": "stream",
     "text": [
      "\n",
      "===========================================================================\n",
      "                              Model 1     Model 2     Model 3     Model 4  \n",
      "---------------------------------------------------------------------------\n",
      "Intercept                   0.85239***  0.84733***  4.41751***  4.26027*** \n",
      "                            (0.00501)   (0.00434)   (0.03390)   (0.03007)  \n",
      "hisp_rate                   -0.00064***             -0.01104***            \n",
      "                            (0.00012)               (0.00084)              \n",
      "hisp_over_med                           -0.02891***             -0.36179***\n",
      "                                        (0.00572)               (0.03966)  \n",
      "C(which_bank)[T.BankofWest] 0.04171***  0.04256***  -3.69478*** -3.66678***\n",
      "                            (0.00732)   (0.00731)   (0.04955)   (0.05063)  \n",
      "R-squared                   0.03539     0.03474     0.75766     0.74612    \n",
      "R-squared Adj.              0.03431     0.03367     0.75739     0.74584    \n",
      "===========================================================================\n",
      "Standard errors in parentheses.\n",
      "* p<.1, ** p<.05, ***p<.01\n"
     ]
    }
   ],
   "source": [
    "import statsmodels.formula.api as smf\n",
    "from statsmodels.iolib.summary2 import summary_col\n",
    "import numpy as np\n",
    "import pandas as pd\n",
    "\n",
    "# Calculate the hispanic rate and whether it's above the median\n",
    "AZ_df['hisp_rate'] = (AZ_df['HispanicLatinoPop'] / AZ_df['Tot.Pop']) * 100\n",
    "AZ_df['hisp_over_med'] = AZ_df['hisp_rate'] > np.median(AZ_df['hisp_rate'].dropna())\n",
    "AZ_df['hisp_over_med'] = AZ_df['hisp_over_med'].astype(int)\n",
    "\n",
    "# Calculate the log of number of applications\n",
    "AZ_df['log_num_apps'] = np.log(AZ_df['num_applications'])\n",
    "\n",
    "# Fit the linear regression models\n",
    "model1 = smf.ols('denial_rate ~ hisp_rate + C(which_bank)', data=AZ_df).fit()\n",
    "model2 = smf.ols('denial_rate ~ hisp_over_med + C(which_bank)', data=AZ_df).fit()\n",
    "model3 = smf.ols('log_num_apps ~ hisp_rate + C(which_bank)', data=AZ_df).fit()\n",
    "model4 = smf.ols('log_num_apps ~ hisp_over_med + C(which_bank)', data=AZ_df).fit()\n",
    "\n",
    "# Combine the regression results into a single table\n",
    "results_table = summary_col([model1, model2, model3, model4], \n",
    "                            model_names=['Model 1', 'Model 2', 'Model 3', 'Model 4'],\n",
    "                            regressor_order=['Intercept', 'hisp_rate', 'hisp_over_med', 'C(which_bank)[T.BankofWest]'],\n",
    "                            float_format='%0.5f',\n",
    "                            stars=True,\n",
    "                            drop_omitted=True)\n",
    "\n",
    "# Display the table\n",
    "print(results_table)\n",
    "\n"
   ]
  },
  {
   "cell_type": "markdown",
   "id": "6e5fb3f4-9eb5-4a32-afb1-01bfd158a1cb",
   "metadata": {},
   "source": [
    "## Linear Regression With Interaction Terms - CA"
   ]
  },
  {
   "cell_type": "code",
   "execution_count": 7,
   "id": "6411a2bd-66e2-4c96-8937-287b9fa885f8",
   "metadata": {},
   "outputs": [
    {
     "name": "stdout",
     "output_type": "stream",
     "text": [
      "\n",
      "======================================================================================\n",
      "                                         Model 1     Model 2     Model 3     Model 4  \n",
      "--------------------------------------------------------------------------------------\n",
      "Intercept                              0.87515***  0.86009***  4.30888***  4.06668*** \n",
      "                                       (0.00309)   (0.00261)   (0.01510)   (0.01321)  \n",
      "R-squared                              0.04997     0.03993     0.77070     0.75130    \n",
      "R-squared Adj.                         0.04974     0.03969     0.77065     0.75124    \n",
      "hisp_over_med                                      -0.05366***             -0.47836***\n",
      "                                                   (0.00355)               (0.01800)  \n",
      "hisp_over_med:which_bank[T.BankofWest]             0.09464***              0.05368*   \n",
      "                                                   (0.00607)               (0.03078)  \n",
      "hisp_rate                              -0.00115***             -0.01309***            \n",
      "                                       (0.00007)               (0.00033)              \n",
      "hisp_rate:which_bank[T.BankofWest]     0.00235***              0.00217***             \n",
      "                                       (0.00012)               (0.00061)              \n",
      "which_bank[T.BankofWest]               -0.12342*** -0.08930*** -3.03644*** -2.94744***\n",
      "                                       (0.00509)   (0.00414)   (0.02489)   (0.02098)  \n",
      "N                                      12043       12045       12043       12045      \n",
      "R2                                     0.05        0.04        0.77        0.75       \n",
      "======================================================================================\n",
      "Standard errors in parentheses.\n",
      "* p<.1, ** p<.05, ***p<.01\n"
     ]
    }
   ],
   "source": [
    "# Build initial models\n",
    "# Fit the linear regression models\n",
    "model1 = smf.ols('denial_rate ~ hisp_rate * which_bank', data=CA_df).fit()\n",
    "model2 = smf.ols('denial_rate ~ hisp_over_med * which_bank', data=CA_df).fit()\n",
    "model3 = smf.ols('log_num_apps ~ hisp_rate * which_bank', data=CA_df).fit()\n",
    "model4 = smf.ols('log_num_apps ~ hisp_over_med * which_bank', data=CA_df).fit()\n",
    "\n",
    "# Create a summary table of the regression models\n",
    "table = summary_col([model1, model2, model3, model4],\n",
    "                    model_names=['Model 1', 'Model 2', 'Model 3', 'Model 4'],\n",
    "                    float_format='%.5f',\n",
    "                    stars=True,\n",
    "                    info_dict={'N': lambda x: \"{0:d}\".format(int(x.nobs)),\n",
    "                               'R2': lambda x: \"{:.2f}\".format(x.rsquared)})\n",
    "\n",
    "# Rename the table columns\n",
    "table.columns = ['Dep. Variable', 'Model 1', 'Model 2', 'Model 3', 'Model 4']\n",
    "\n",
    "# Display the table\n",
    "print(table)"
   ]
  },
  {
   "cell_type": "markdown",
   "id": "3909d18a-c167-4304-a803-ebbaab6ac6e4",
   "metadata": {},
   "source": [
    "## Linear Regression with Interaction Terms - AZ"
   ]
  },
  {
   "cell_type": "code",
   "execution_count": 8,
   "id": "374bda66-6244-415b-9b35-e502c74c637a",
   "metadata": {},
   "outputs": [
    {
     "name": "stdout",
     "output_type": "stream",
     "text": [
      "\n",
      "======================================================================================\n",
      "                                         Model 1     Model 2     Model 3     Model 4  \n",
      "--------------------------------------------------------------------------------------\n",
      "Intercept                              0.85588***  0.84835***  4.46175***  4.30203*** \n",
      "                                       (0.00524)   (0.00457)   (0.03538)   (0.03148)  \n",
      "hisp_rate                              -0.00075***             -0.01245***            \n",
      "                                       (0.00013)               (0.00090)              \n",
      "hisp_over_med                                      -0.03088***             -0.44237***\n",
      "                                                   (0.00634)               (0.04373)  \n",
      "which_bank[T.BankofWest]               0.02098*    0.03791***  -3.95744*** -3.85692***\n",
      "                                       (0.01186)   (0.00974)   (0.08003)   (0.06717)  \n",
      "hisp_rate:which_bank[T.BankofWest]     0.00079**               0.01000***             \n",
      "                                       (0.00036)               (0.00240)              \n",
      "hisp_over_med:which_bank[T.BankofWest]             0.01064                 0.43483*** \n",
      "                                                   (0.01473)               (0.10157)  \n",
      "R-squared                              0.03804     0.03503     0.75999     0.74870    \n",
      "R-squared Adj.                         0.03643     0.03341     0.75959     0.74827    \n",
      "R-squared                              0.04        0.04        0.76        0.75       \n",
      "======================================================================================\n",
      "Standard errors in parentheses.\n",
      "* p<.1, ** p<.05, ***p<.01\n"
     ]
    }
   ],
   "source": [
    "# Build initial models\n",
    "# Fit the linear regression models\n",
    "model1 = smf.ols('denial_rate ~ hisp_rate * which_bank', data=AZ_df).fit()\n",
    "model2 = smf.ols('denial_rate ~ hisp_over_med * which_bank', data=AZ_df).fit()\n",
    "model3 = smf.ols('log_num_apps ~ hisp_rate * which_bank', data=AZ_df).fit()\n",
    "model4 = smf.ols('log_num_apps ~ hisp_over_med * which_bank', data=AZ_df).fit()\n",
    "\n",
    "# Generate the summary table\n",
    "table = summary_col([model1, model2, model3, model4],\n",
    "                    model_names=['Model 1', 'Model 2', 'Model 3', 'Model 4'],\n",
    "                    regressor_order=['Intercept', 'hisp_rate', 'hisp_over_med', 'which_bank[T.BankofWest]', 'hisp_rate:which_bank[T.BankofWest]', 'hisp_over_med:which_bank[T.BankofWest]'],\n",
    "                    float_format='%.5f',\n",
    "                    stars=True,\n",
    "                    info_dict={'R-squared': lambda x: \"{:.2f}\".format(x.rsquared)}\n",
    "                   )\n",
    "\n",
    "# Display the summary table\n",
    "print(table)"
   ]
  },
  {
   "cell_type": "code",
   "execution_count": null,
   "id": "6c7716ee-a9cd-4fc0-a318-f71d13f09582",
   "metadata": {},
   "outputs": [],
   "source": []
  },
  {
   "cell_type": "code",
   "execution_count": null,
   "id": "ff9b9045-cbd2-4d79-a5c1-c3e6fdea8f03",
   "metadata": {},
   "outputs": [],
   "source": []
  }
 ],
 "metadata": {
  "kernelspec": {
   "display_name": "Python 3 (ipykernel)",
   "language": "python",
   "name": "python3"
  },
  "language_info": {
   "codemirror_mode": {
    "name": "ipython",
    "version": 3
   },
   "file_extension": ".py",
   "mimetype": "text/x-python",
   "name": "python",
   "nbconvert_exporter": "python",
   "pygments_lexer": "ipython3",
   "version": "3.9.13"
  }
 },
 "nbformat": 4,
 "nbformat_minor": 5
}
