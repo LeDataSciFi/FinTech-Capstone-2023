{
 "cells": [
  {
   "cell_type": "code",
   "execution_count": 2,
   "id": "330fca3d-f8c0-49fb-aee0-8fbaf2fe55dc",
   "metadata": {},
   "outputs": [],
   "source": [
    "import pandas as pd\n",
    "import numpy as np\n",
    "import statsmodels.formula.api as smf\n",
    "pd.set_option('display.max_colwidth', None)\n",
    "from statsmodels.iolib.summary2 import summary_col \n"
   ]
  },
  {
   "cell_type": "code",
   "execution_count": 3,
   "id": "5a47dc9c-1011-4f85-8d5c-fa7875c21eb9",
   "metadata": {},
   "outputs": [],
   "source": [
    "import warnings\n",
    "# Ignore warnings by category\n",
    "warnings.filterwarnings(\"ignore\", category=DeprecationWarning)\n",
    "# Ignore warnings by message\n",
    "warnings.filterwarnings(\"ignore\", message=\".*\")"
   ]
  },
  {
   "cell_type": "code",
   "execution_count": 4,
   "id": "3b0ef7b4-42b0-45c1-97ae-70d59b86a7fe",
   "metadata": {},
   "outputs": [],
   "source": [
    "df = pd.read_csv(\"../input_data_clean/bank_tract_clean_WITH_CENSUS.csv\")\n",
    "df['which_bank'] = df['which_bank'].str.replace(' ', '')"
   ]
  },
  {
   "cell_type": "code",
   "execution_count": 5,
   "id": "3ff524a4-96d8-48f4-8a65-46936058d821",
   "metadata": {},
   "outputs": [],
   "source": [
    "# Calculate the hispanic rate and whether it's above the median\n",
    "df['hisp_rate'] = (df['HispanicLatinoPop'] / df['Tot.Pop']) * 100\n",
    "df['hisp_over_med'] = df['hisp_rate'] > np.median(df['hisp_rate'].dropna())\n",
    "df['hisp_over_med'] = df['hisp_over_med'].astype(int)\n",
    "\n",
    "# Calculate the log of number of applications\n",
    "df['log_num_apps'] = np.log(df['num_applications'])"
   ]
  },
  {
   "cell_type": "markdown",
   "id": "6e5fb3f4-9eb5-4a32-afb1-01bfd158a1cb",
   "metadata": {},
   "source": [
    "## Linear Regression With Interaction Terms - CA & AZ"
   ]
  },
  {
   "cell_type": "code",
   "execution_count": 13,
   "id": "6411a2bd-66e2-4c96-8937-287b9fa885f8",
   "metadata": {},
   "outputs": [
    {
     "name": "stdout",
     "output_type": "stream",
     "text": [
      "\n",
      "======================================================================================\n",
      "                                         Model 1     Model 2     Model 3     Model 4  \n",
      "--------------------------------------------------------------------------------------\n",
      "Intercept                              0.87010***  0.85632***  4.35621***  4.11517*** \n",
      "                                       (0.00280)   (0.00238)   (0.01426)   (0.01260)  \n",
      "R-squared                              0.05296     0.04529     0.75889     0.73870    \n",
      "R-squared Adj.                         0.05267     0.04500     0.75882     0.73862    \n",
      "hisp_over_med                                      -0.04963***             -0.48278***\n",
      "                                                   (0.00316)               (0.01669)  \n",
      "hisp_over_med:which_bank[T.BankofWest]             0.07198***              0.13091*** \n",
      "                                                   (0.00574)               (0.03039)  \n",
      "hisp_rate                              -0.00109***             -0.01331***            \n",
      "                                       (0.00006)               (0.00031)              \n",
      "hisp_rate:which_bank[T.BankofWest]     0.00185***              0.00367***             \n",
      "                                       (0.00012)               (0.00062)              \n",
      "median_all_income                      0.00001**   0.00001**   -0.00006*** -0.00002   \n",
      "                                       (0.00000)   (0.00000)   (0.00002)   (0.00002)  \n",
      "which_bank[T.BankofWest]               -0.11679*** -0.09015*** -3.09337*** -2.99485***\n",
      "                                       (0.00475)   (0.00387)   (0.02425)   (0.02046)  \n",
      "N                                      13433       13435       13433       13435      \n",
      "R2                                     0.05        0.05        0.76        0.74       \n",
      "======================================================================================\n",
      "Standard errors in parentheses.\n",
      "* p<.1, ** p<.05, ***p<.01\n"
     ]
    }
   ],
   "source": [
    "# Build initial models\n",
    "# Fit the linear regression models\n",
    "model1 = smf.ols('denial_rate ~ hisp_rate * which_bank + median_all_income', data=df).fit()\n",
    "model2 = smf.ols('denial_rate ~ hisp_over_med * which_bank + median_all_income', data=df).fit()\n",
    "model3 = smf.ols('log_num_apps ~ hisp_rate * which_bank + median_all_income', data=df).fit()\n",
    "model4 = smf.ols('log_num_apps ~ hisp_over_med * which_bank + median_all_income', data=df).fit()\n",
    "\n",
    "\n",
    "# Create a summary table of the regression models\n",
    "table = summary_col([model1, model2, model3, model4],\n",
    "                    model_names=['Model 1', 'Model 2', 'Model 3', 'Model 4'],\n",
    "                    float_format='%.5f',\n",
    "                    stars=True,\n",
    "                    info_dict={'N': lambda x: \"{0:d}\".format(int(x.nobs)),\n",
    "                               'R2': lambda x: \"{:.2f}\".format(x.rsquared)})\n",
    "\n",
    "# Rename the table columns\n",
    "table.columns = ['Dep. Variable', 'Model 1', 'Model 2', 'Model 3', 'Model 4']\n",
    "\n",
    "# Display the table\n",
    "print(table)"
   ]
  },
  {
   "cell_type": "code",
   "execution_count": 14,
   "id": "968ea929-8806-4a6f-b5c0-8bf8b93cd2e2",
   "metadata": {},
   "outputs": [
    {
     "name": "stdout",
     "output_type": "stream",
     "text": [
      "\n",
      "======================================================================================\n",
      "                                         Model 1     Model 2     Model 3     Model 4  \n",
      "--------------------------------------------------------------------------------------\n",
      "Intercept                              0.88560***  0.87371***  4.25579***  4.05566*** \n",
      "                                       (0.00492)   (0.00479)   (0.02512)   (0.02535)  \n",
      "R-squared                              0.05392     0.04655     0.75938     0.73895    \n",
      "R-squared Adj.                         0.05357     0.04620     0.75929     0.73885    \n",
      "hisp_over_med                                      -0.04756***             -0.48907***\n",
      "                                                   (0.00319)               (0.01687)  \n",
      "hisp_over_med:which_bank[T.BankofWest]             0.07024***              0.13601*** \n",
      "                                                   (0.00575)               (0.03045)  \n",
      "hisp_rate                              -0.00105***             -0.01352***            \n",
      "                                       (0.00006)               (0.00031)              \n",
      "hisp_rate:which_bank[T.BankofWest]     0.00181***              0.00385***             \n",
      "                                       (0.00012)               (0.00062)              \n",
      "mean_LTV                               -0.00026*** -0.00028*** 0.00166***  0.00097*** \n",
      "                                       (0.00007)   (0.00007)   (0.00034)   (0.00036)  \n",
      "median_all_income                      0.00001**   0.00001**   -0.00005*** -0.00002   \n",
      "                                       (0.00000)   (0.00000)   (0.00002)   (0.00002)  \n",
      "which_bank[T.BankofWest]               -0.11691*** -0.09071*** -3.09169*** -2.99291***\n",
      "                                       (0.00475)   (0.00387)   (0.02423)   (0.02047)  \n",
      "N                                      13432       13434       13432       13434      \n",
      "R2                                     0.05        0.05        0.76        0.74       \n",
      "======================================================================================\n",
      "Standard errors in parentheses.\n",
      "* p<.1, ** p<.05, ***p<.01\n"
     ]
    }
   ],
   "source": [
    "# Build initial models\n",
    "# Fit the linear regression models\n",
    "model1 = smf.ols('denial_rate ~ hisp_rate * which_bank + median_all_income + mean_LTV', data=df).fit()\n",
    "model2 = smf.ols('denial_rate ~ hisp_over_med * which_bank + median_all_income + mean_LTV', data=df).fit()\n",
    "model3 = smf.ols('log_num_apps ~ hisp_rate * which_bank + median_all_income + mean_LTV', data=df).fit()\n",
    "model4 = smf.ols('log_num_apps ~ hisp_over_med * which_bank + median_all_income + mean_LTV', data=df).fit()\n",
    "\n",
    "\n",
    "# Create a summary table of the regression models\n",
    "table = summary_col([model1, model2, model3, model4],\n",
    "                    model_names=['Model 1', 'Model 2', 'Model 3', 'Model 4'],\n",
    "                    float_format='%.5f',\n",
    "                    stars=True,\n",
    "                    info_dict={'N': lambda x: \"{0:d}\".format(int(x.nobs)),\n",
    "                               'R2': lambda x: \"{:.2f}\".format(x.rsquared)})\n",
    "\n",
    "# Rename the table columns\n",
    "table.columns = ['Dep. Variable', 'Model 1', 'Model 2', 'Model 3', 'Model 4']\n",
    "\n",
    "# Display the table\n",
    "print(table)"
   ]
  },
  {
   "cell_type": "code",
   "execution_count": null,
   "id": "6c7716ee-a9cd-4fc0-a318-f71d13f09582",
   "metadata": {},
   "outputs": [],
   "source": [
    "# Build initial models\n",
    "# Fit the linear regression models\n",
    "model1 = smf.ols('denial_rate ~ hisp_rate * which_bank + median_all_income + mean_LTV', data=df).fit()\n",
    "model2 = smf.ols('denial_rate ~ hisp_over_med * which_bank + median_all_income + mean_LTV', data=df).fit()\n",
    "model3 = smf.ols('log_num_apps ~ hisp_rate * which_bank + median_all_income + mean_LTV', data=df).fit()\n",
    "model4 = smf.ols('log_num_apps ~ hisp_over_med * which_bank + median_all_income + mean_LTV', data=df).fit()\n",
    "\n",
    "\n",
    "# Create a summary table of the regression models\n",
    "table = summary_col([model1, model2, model3, model4],\n",
    "                    model_names=['Model 1', 'Model 2', 'Model 3', 'Model 4'],\n",
    "                    float_format='%.5f',\n",
    "                    stars=True,\n",
    "                    info_dict={'N': lambda x: \"{0:d}\".format(int(x.nobs)),\n",
    "                               'R2': lambda x: \"{:.2f}\".format(x.rsquared)})\n",
    "\n",
    "# Rename the table columns\n",
    "table.columns = ['Dep. Variable', 'Model 1', 'Model 2', 'Model 3', 'Model 4']\n",
    "\n",
    "# Display the table\n",
    "print(table)"
   ]
  },
  {
   "cell_type": "code",
   "execution_count": 15,
   "id": "ff9b9045-cbd2-4d79-a5c1-c3e6fdea8f03",
   "metadata": {},
   "outputs": [],
   "source": [
    "# Calculate the black rate and whether it's above the median\n",
    "df['black_rate'] = (df['BlackPop'] / df['Tot.Pop']) * 100\n",
    "df['black_over_med'] = df['black_rate'] > np.median(df['black_rate'].dropna())\n",
    "df['black_over_med'] = df['black_over_med'].astype(int)\n"
   ]
  },
  {
   "cell_type": "code",
   "execution_count": 16,
   "id": "2c533e0f-6d28-4fb9-ad51-b72b98c696a6",
   "metadata": {},
   "outputs": [
    {
     "name": "stdout",
     "output_type": "stream",
     "text": [
      "\n",
      "=======================================================================================\n",
      "                                          Model 1     Model 2     Model 3     Model 4  \n",
      "---------------------------------------------------------------------------------------\n",
      "Intercept                               0.86441***  0.86299***  3.93252***  3.91428*** \n",
      "                                        (0.00478)   (0.00487)   (0.02590)   (0.02645)  \n",
      "R-squared                               0.03365     0.03070     0.72236     0.72059    \n",
      "R-squared Adj.                          0.03329     0.03034     0.72225     0.72048    \n",
      "black_over_med                                      -0.01365***             -0.07036***\n",
      "                                                    (0.00318)               (0.01726)  \n",
      "black_over_med:which_bank[T.BankofWest]             0.02340***              -0.12820***\n",
      "                                                    (0.00574)               (0.03117)  \n",
      "black_rate                              -0.00154***             -0.00966***            \n",
      "                                        (0.00019)               (0.00106)              \n",
      "black_rate:which_bank[T.BankofWest]     0.00187***              -0.00218               \n",
      "                                        (0.00037)               (0.00203)              \n",
      "mean_LTV                                -0.00040*** -0.00040*** -0.00043    -0.00042   \n",
      "                                        (0.00007)   (0.00007)   (0.00037)   (0.00037)  \n",
      "median_all_income                       0.00001***  0.00001***  0.00004*    0.00004*   \n",
      "                                        (0.00000)   (0.00000)   (0.00002)   (0.00002)  \n",
      "which_bank[T.BankofWest]                -0.06682*** -0.06836*** -2.89033*** -2.83755***\n",
      "                                        (0.00342)   (0.00397)   (0.01857)   (0.02156)  \n",
      "N                                       13432       13434       13432       13434      \n",
      "R2                                      0.03        0.03        0.72        0.72       \n",
      "=======================================================================================\n",
      "Standard errors in parentheses.\n",
      "* p<.1, ** p<.05, ***p<.01\n"
     ]
    }
   ],
   "source": [
    "model1 = smf.ols('denial_rate ~ black_rate * which_bank + median_all_income + mean_LTV', data=df).fit()\n",
    "model2 = smf.ols('denial_rate ~ black_over_med * which_bank + median_all_income + mean_LTV', data=df).fit()\n",
    "model3 = smf.ols('log_num_apps ~ black_rate * which_bank + median_all_income + mean_LTV', data=df).fit()\n",
    "model4 = smf.ols('log_num_apps ~ black_over_med * which_bank + median_all_income + mean_LTV', data=df).fit()\n",
    "\n",
    "\n",
    "# Create a summary table of the regression models\n",
    "table = summary_col([model1, model2, model3, model4],\n",
    "                    model_names=['Model 1', 'Model 2', 'Model 3', 'Model 4'],\n",
    "                    float_format='%.5f',\n",
    "                    stars=True,\n",
    "                    info_dict={'N': lambda x: \"{0:d}\".format(int(x.nobs)),\n",
    "                               'R2': lambda x: \"{:.2f}\".format(x.rsquared)})\n",
    "\n",
    "# Rename the table columns\n",
    "table.columns = ['Dep. Variable', 'Model 1', 'Model 2', 'Model 3', 'Model 4']\n",
    "\n",
    "# Display the table\n",
    "print(table)"
   ]
  },
  {
   "cell_type": "code",
   "execution_count": 19,
   "id": "2024ca80-6e54-4f1d-b7f5-dd43e3e1c9c5",
   "metadata": {},
   "outputs": [],
   "source": [
    "# Calculate the white rate and whether it's above the median\n",
    "df['white_rate'] = (df['WhitePop'] / df['Tot.Pop']) * 100\n",
    "df['white_over_med'] = df['white_rate'] > np.median(df['white_rate'].dropna())\n",
    "df['white_over_med'] = df['white_over_med'].astype(int)\n"
   ]
  },
  {
   "cell_type": "code",
   "execution_count": 18,
   "id": "0ffd0c81-b24d-4241-9acf-c4c18421df70",
   "metadata": {},
   "outputs": [
    {
     "name": "stdout",
     "output_type": "stream",
     "text": [
      "\n",
      "=======================================================================================\n",
      "                                          Model 1     Model 2     Model 3     Model 4  \n",
      "---------------------------------------------------------------------------------------\n",
      "Intercept                               0.85096***  0.85561***  3.32782***  3.75213*** \n",
      "                                        (0.00645)   (0.00488)   (0.03434)   (0.02619)  \n",
      "R-squared                               0.02952     0.02920     0.73132     0.72733    \n",
      "R-squared Adj.                          0.02916     0.02883     0.73122     0.72723    \n",
      "mean_LTV                                -0.00044*** -0.00043*** -0.00134*** -0.00109***\n",
      "                                        (0.00007)   (0.00007)   (0.00036)   (0.00036)  \n",
      "median_all_income                       0.00001***  0.00001***  0.00004*    0.00004**  \n",
      "                                        (0.00000)   (0.00000)   (0.00002)   (0.00002)  \n",
      "which_bank[T.BankofWest]                -0.06490*** -0.05484*** -2.37853*** -2.77143***\n",
      "                                        (0.00894)   (0.00406)   (0.04758)   (0.02177)  \n",
      "white_over_med                                      0.00421                 0.33826*** \n",
      "                                                    (0.00317)               (0.01700)  \n",
      "white_over_med:which_bank[T.BankofWest]             -0.00449                -0.24697***\n",
      "                                                    (0.00572)               (0.03068)  \n",
      "white_rate                              0.00011                 0.00960***             \n",
      "                                        (0.00008)               (0.00040)              \n",
      "white_rate:which_bank[T.BankofWest]     0.00013                 -0.00814***            \n",
      "                                        (0.00013)               (0.00071)              \n",
      "N                                       13432       13434       13432       13434      \n",
      "R2                                      0.03        0.03        0.73        0.73       \n",
      "=======================================================================================\n",
      "Standard errors in parentheses.\n",
      "* p<.1, ** p<.05, ***p<.01\n"
     ]
    }
   ],
   "source": [
    "model1 = smf.ols('denial_rate ~ white_rate * which_bank + median_all_income + mean_LTV', data=df).fit()\n",
    "model2 = smf.ols('denial_rate ~ white_over_med * which_bank + median_all_income + mean_LTV', data=df).fit()\n",
    "model3 = smf.ols('log_num_apps ~ white_rate * which_bank + median_all_income + mean_LTV', data=df).fit()\n",
    "model4 = smf.ols('log_num_apps ~ white_over_med * which_bank + median_all_income + mean_LTV', data=df).fit()\n",
    "\n",
    "\n",
    "# Create a summary table of the regression models\n",
    "table = summary_col([model1, model2, model3, model4],\n",
    "                    model_names=['Model 1', 'Model 2', 'Model 3', 'Model 4'],\n",
    "                    float_format='%.5f',\n",
    "                    stars=True,\n",
    "                    info_dict={'N': lambda x: \"{0:d}\".format(int(x.nobs)),\n",
    "                               'R2': lambda x: \"{:.2f}\".format(x.rsquared)})\n",
    "\n",
    "# Rename the table columns\n",
    "table.columns = ['Dep. Variable', 'Model 1', 'Model 2', 'Model 3', 'Model 4']\n",
    "\n",
    "# Display the table\n",
    "print(table)"
   ]
  },
  {
   "cell_type": "code",
   "execution_count": null,
   "id": "e41cf131-d95f-4c72-aef7-92a251e303ab",
   "metadata": {},
   "outputs": [],
   "source": []
  }
 ],
 "metadata": {
  "kernelspec": {
   "display_name": "Python 3 (ipykernel)",
   "language": "python",
   "name": "python3"
  },
  "language_info": {
   "codemirror_mode": {
    "name": "ipython",
    "version": 3
   },
   "file_extension": ".py",
   "mimetype": "text/x-python",
   "name": "python",
   "nbconvert_exporter": "python",
   "pygments_lexer": "ipython3",
   "version": "3.9.13"
  }
 },
 "nbformat": 4,
 "nbformat_minor": 5
}
