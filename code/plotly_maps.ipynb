{
 "cells": [
  {
   "cell_type": "code",
   "execution_count": 1,
   "id": "54b60560-14f4-4603-97b3-565ccf7b5310",
   "metadata": {},
   "outputs": [],
   "source": [
    "import matplotlib.pyplot as plt\n",
    "from matplotlib  import rc\n",
    "import pandas as pd\n",
    "import geopandas as gpd\n",
    "import numpy as np\n",
    "import os\n",
    "import plotly.express as px\n",
    "from plotly import graph_objs as go\n"
   ]
  },
  {
   "cell_type": "markdown",
   "id": "e70cd8d6-d466-48b3-b455-bea06ee0a2b4",
   "metadata": {},
   "source": [
    "## Load bank-tract + census data"
   ]
  },
  {
   "cell_type": "code",
   "execution_count": 2,
   "id": "d0a466ca-5be8-484c-999b-3b346ba92174",
   "metadata": {},
   "outputs": [],
   "source": [
    "bank_tract = pd.read_csv('../input_data_clean/bank_tract_clean_WITH_CENSUS.csv')\n",
    "\n",
    "#denial_rate, credit_spread, np.log(# loans), np.log($ loans), avg LTV \n",
    "bank_tract [\"white_rate\"]        = (bank_tract [\"WhitePop\"]) / bank_tract [\"Tot.Pop\"] * 100\n",
    "bank_tract ['majority-minority'] = bank_tract [\"white_rate\"] < 50\n",
    "bank_tract ['below_p10_income']  = bank_tract [\"Med.HousehIncome\"] < bank_tract[\"Med.HousehIncome\"].quantile(0.1)\n",
    "bank_tract ['high_hispanic']     = (bank_tract ['HispanicLatinoPop'] / bank_tract['Tot.Pop']) > 0.25\n",
    "bank_tract ['high_black']        = (bank_tract ['BlackPop'] / bank_tract['Tot.Pop']) > 0.25\n",
    "bank_tract ['high_asian']        = (bank_tract ['AsianPop'] / bank_tract['Tot.Pop']) > 0.25\n",
    "bank_tract ['high_white']        = (bank_tract ['WhitePop'] / bank_tract['Tot.Pop']) > 0.25\n",
    "\n",
    "bank_tract ['log(numloans)']     = np.log(bank_tract['num_approved_loans'])\n",
    "bank_tract ['log(dol_loans)']    = np.log(bank_tract['avg_approved_loan_size'])"
   ]
  },
  {
   "cell_type": "code",
   "execution_count": 3,
   "id": "16f606b4-ca3d-4cc3-8533-5100eea5734a",
   "metadata": {},
   "outputs": [],
   "source": [
    "# reduce to focal counties (hopefully makes the maps smaller files)\n",
    "bank_tract = bank_tract.query('(state == 4 & county in [13,19]) | (state == 6 & county in [37,75, 81, 1,85]) ')"
   ]
  },
  {
   "cell_type": "markdown",
   "id": "d41448ad-cc6b-44ab-add6-f4647b0897e6",
   "metadata": {},
   "source": [
    "## Need to reduce to tract level data. \n",
    "\n",
    "Choice here: Just plot competitors. \n",
    "\n",
    "Better options avail. Suggestion:\n",
    "- Piece 1: Reduce bank_tract to the listofshading variables. Then set_index([which_bank, census_tract]), then \"unstack\" to move which_bank up. \n",
    "- Piece 2: Reduce bank_tract to the listofredlining variables. Then drop_duplicates() based on census_tract.\n",
    "- Merge those two things together. \n",
    "- Now it's easy to define more of the variables we've discussed. \n",
    "    - log(1+numloans)\n",
    "    - diff between BOW and Competitors\n",
    "    - less granular \n",
    "    - a new shading variable that is \"% of # of loans this bank makes in this tract\" should be defined in every tract (0 if missing!)\n",
    "    - a new shading variable that is \"% of $ of loans this bank makes in this tract\" should be defined in every tract (0 if missing!)\n"
   ]
  },
  {
   "cell_type": "code",
   "execution_count": 4,
   "id": "9dbae8a1-3d0d-4242-b698-8b869b19858a",
   "metadata": {},
   "outputs": [],
   "source": [
    "tract_level = bank_tract.query('which_bank == \"All Other Banks\"')"
   ]
  },
  {
   "cell_type": "markdown",
   "id": "51a7ff9b-0c3e-4e62-90b2-b9eab430f181",
   "metadata": {},
   "source": [
    "## Get the shapefiles"
   ]
  },
  {
   "cell_type": "code",
   "execution_count": 5,
   "id": "436332f5-69e3-46a2-9258-756938a1f54c",
   "metadata": {},
   "outputs": [],
   "source": [
    "# Get the Arizona tract shapefile and convert to UTM Zone 17N coordinate system\n",
    "shape_az = gpd.read_file(\"https://www2.census.gov/geo/tiger/TIGER2020/TRACT/tl_2020_04_tract.zip\") #.to_crs(epsg=32617)\n",
    "shape_ca = gpd.read_file(\"https://www2.census.gov/geo/tiger/TIGER2020/TRACT/tl_2020_06_tract.zip\") #.to_crs(epsg=32617)\n",
    "shape_all = pd.concat([shape_az, shape_ca], ignore_index=True)\n",
    "shape_all['census_tract'] = shape_all['GEOID'].astype(np.int64)"
   ]
  },
  {
   "cell_type": "code",
   "execution_count": 6,
   "id": "b1dfba7c-a2d1-48d2-b86f-b9946bc54685",
   "metadata": {},
   "outputs": [],
   "source": [
    "tract_with_shape = shape_all.merge(tract_level, how = 'inner', on = ['census_tract'],\n",
    "                                   indicator = True, validate= '1:m') "
   ]
  },
  {
   "cell_type": "markdown",
   "id": "30758cb6-bc2d-40c0-8f48-f2eac506c15c",
   "metadata": {},
   "source": [
    "## Plot\n",
    "\n",
    "- color for the shapes\n",
    "- red dots for areas of concern (defined by...)"
   ]
  },
  {
   "cell_type": "code",
   "execution_count": 7,
   "id": "81196d43-321a-40bc-8f1e-bad635f39657",
   "metadata": {},
   "outputs": [],
   "source": [
    "concerns = tract_with_shape.query('`majority-minority`').copy()\n",
    "# we need this for the \"area of concern\" red marks\n",
    "concerns['lon'] = concerns['INTPTLON'].astype(float)\n",
    "concerns['lat'] = concerns['INTPTLAT'].astype(float)"
   ]
  },
  {
   "cell_type": "code",
   "execution_count": null,
   "id": "de610870-83e5-44f3-8075-d4a47c346620",
   "metadata": {},
   "outputs": [],
   "source": [
    "listofshading   = ['denial_rate', 'mean_approved_rate_spread', 'log(numloans)', 'log(dol_loans)', 'mean_LTV']\n",
    "\n",
    "for v in listofshading:\n",
    "\n",
    "    fig = px.choropleth_mapbox(tract_with_shape.set_index('GEOID'),\n",
    "                               geojson=tract_with_shape.geometry,\n",
    "                               locations=tract_with_shape.index,\n",
    "                               opacity=.7,\n",
    "                               color=v, color_continuous_scale=px.colors.sequential.Greens,\n",
    "                               center={\"lat\": 33.44, \"lon\": -112.074036},\n",
    "                               mapbox_style=\"open-street-map\",\n",
    "                               zoom=5)\n",
    "\n",
    "    fig.add_scattermapbox(\n",
    "        lat = concerns['lat'],\n",
    "        lon = concerns['lon'],\n",
    "        mode = 'markers',\n",
    "        marker_size=12,\n",
    "        marker_color='red'\n",
    "    )\n",
    "\n",
    "    fig.update_layout(\n",
    "        title=v,\n",
    "        autosize=False,\n",
    "        width=1000,\n",
    "        height=1000,\n",
    "        margin={\"r\":0,\"t\":0,\"l\":0,\"b\":0}\n",
    "    )\n",
    "    fig.write_html(f\"../images/plotly/{v}.html\")"
   ]
  },
  {
   "cell_type": "code",
   "execution_count": null,
   "id": "c5208d38-c161-4610-a596-6a17e3004725",
   "metadata": {},
   "outputs": [],
   "source": []
  }
 ],
 "metadata": {
  "kernelspec": {
   "display_name": "Python 3 (ipykernel)",
   "language": "python",
   "name": "python3"
  },
  "language_info": {
   "codemirror_mode": {
    "name": "ipython",
    "version": 3
   },
   "file_extension": ".py",
   "mimetype": "text/x-python",
   "name": "python",
   "nbconvert_exporter": "python",
   "pygments_lexer": "ipython3",
   "version": "3.9.13"
  }
 },
 "nbformat": 4,
 "nbformat_minor": 5
}
