{
 "cells": [
  {
   "cell_type": "code",
   "execution_count": null,
   "id": "b6bcdc00-ba4b-4cab-816a-f584404f0680",
   "metadata": {},
   "outputs": [],
   "source": [
    "import pandas as pd"
   ]
  },
  {
   "cell_type": "code",
   "execution_count": null,
   "id": "8f822225-5bc7-4a1f-b7d0-2c066a8042c8",
   "metadata": {},
   "outputs": [],
   "source": [
    "url="
   ]
  },
  {
   "cell_type": "code",
   "execution_count": null,
   "id": "177538f5-c3a6-4cc1-9016-4b0f24f1bf91",
   "metadata": {},
   "outputs": [],
   "source": []
  },
  {
   "cell_type": "code",
   "execution_count": null,
   "id": "99e166ab-d312-404c-a37e-47c838b626db",
   "metadata": {},
   "outputs": [],
   "source": [
    "hmda_df = pd.read_csv(url) "
   ]
  },
  {
   "cell_type": "code",
   "execution_count": null,
   "id": "96c99dff-e64d-4ed2-a0a5-e5d4045bc714",
   "metadata": {},
   "outputs": [],
   "source": [
    "hmda_bank_tract = hmda_df.groupby(['lei','census_tract'])"
   ]
  },
  {
   "cell_type": "code",
   "execution_count": null,
   "id": "5e71197b-dae2-48b3-8484-e82b65f470de",
   "metadata": {},
   "outputs": [],
   "source": [
    "hmda_sample= hmda_bank_tract(100000)"
   ]
  }
 ],
 "metadata": {
  "kernelspec": {
   "display_name": "Python 3",
   "language": "python",
   "name": "python3"
  },
  "language_info": {
   "codemirror_mode": {
    "name": "ipython",
    "version": 3
   },
   "file_extension": ".py",
   "mimetype": "text/x-python",
   "name": "python",
   "nbconvert_exporter": "python",
   "pygments_lexer": "ipython3",
   "version": "3.8.8"
  }
 },
 "nbformat": 4,
 "nbformat_minor": 5
}
