{
 "cells": [
  {
   "cell_type": "code",
   "execution_count": null,
   "id": "2ed4e213-229d-484d-bb96-f74c583ac9ab",
   "metadata": {},
   "outputs": [],
   "source": [
    "import pandas as pd \n",
    "import pandas_profiling\n",
    "from pandas_profiling import ProfileReport"
   ]
  },
  {
   "cell_type": "code",
   "execution_count": null,
   "id": "0d8da329-37bb-4dc2-bba2-4535aab5331a",
   "metadata": {},
   "outputs": [],
   "source": [
    "url = \"https://github.com/SebastianStoneham/seb/raw/main/lei_3Y4U8VZURTYWI1W2K376-QOT5WN9RBKQTFRVKEV31_state_CA.csv\""
   ]
  },
  {
   "cell_type": "code",
   "execution_count": null,
   "id": "5631463d-168b-41f7-a985-2ecc07446813",
   "metadata": {},
   "outputs": [],
   "source": [
    "hmda_df = pd.read_csv(url)  "
   ]
  },
  {
   "cell_type": "raw",
   "id": "f65037dd-b435-46d0-9287-3851bdbaee21",
   "metadata": {},
   "source": [
    "#Leave as raw code\n",
    "profile = pandas_profiling.ProfileReport(hmda_df)\n",
    "profile.to_notebook_iframe()\n",
    "profile.to_file(\"hmda_data_profile.html\")"
   ]
  },
  {
   "cell_type": "code",
   "execution_count": null,
   "id": "4a843bd5-c44e-47d5-b9be-a885b29bec28",
   "metadata": {},
   "outputs": [],
   "source": []
  },
  {
   "cell_type": "code",
   "execution_count": null,
   "id": "cb92f87c-d868-4ead-bbcf-65b4b6eb29dc",
   "metadata": {},
   "outputs": [],
   "source": []
  }
 ],
 "metadata": {
  "kernelspec": {
   "display_name": "Python 3",
   "language": "python",
   "name": "python3"
  },
  "language_info": {
   "codemirror_mode": {
    "name": "ipython",
    "version": 3
   },
   "file_extension": ".py",
   "mimetype": "text/x-python",
   "name": "python",
   "nbconvert_exporter": "python",
   "pygments_lexer": "ipython3",
   "version": "3.8.8"
  }
 },
 "nbformat": 4,
 "nbformat_minor": 5
}
