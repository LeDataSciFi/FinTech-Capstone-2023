{
 "cells": [
  {
   "cell_type": "code",
<<<<<<< Updated upstream
   "execution_count": 23,
=======
   "execution_count": 1,
>>>>>>> Stashed changes
   "id": "2ed4e213-229d-484d-bb96-f74c583ac9ab",
   "metadata": {},
   "outputs": [],
   "source": [
    "import pandas as pd \n",
    "import pandas_profiling\n",
    "from pandas_profiling import ProfileReport\n",
    "import numpy as np"
   ]
  },
  {
   "cell_type": "code",
   "execution_count": 2,
   "id": "0d8da329-37bb-4dc2-bba2-4535aab5331a",
   "metadata": {},
   "outputs": [],
   "source": [
    "url = \"https://github.com/SebastianStoneham/seb/raw/main/lei_3Y4U8VZURTYWI1W2K376-QOT5WN9RBKQTFRVKEV31_state_CA.csv\""
   ]
  },
  {
   "cell_type": "code",
   "execution_count": 3,
   "id": "e29d017f-bda4-4abc-b96c-115204e061ee",
   "metadata": {},
   "outputs": [],
   "source": [
    "#for when i figure out how to import file using file path not link\n",
    "#hmda_df = pd.read_csv('Documents/FIN 377/FinTech-Capstone-2023/inputs/state_CA-AZ.csv') "
   ]
  },
  {
   "cell_type": "code",
<<<<<<< Updated upstream
   "execution_count": 24,
=======
   "execution_count": 4,
>>>>>>> Stashed changes
   "id": "5631463d-168b-41f7-a985-2ecc07446813",
   "metadata": {},
   "outputs": [],
   "source": [
    "hmda_df = pd.read_csv(url)  "
   ]
  },
  {
   "cell_type": "code",
<<<<<<< Updated upstream
   "execution_count": 25,
=======
   "execution_count": null,
>>>>>>> Stashed changes
   "id": "ba11575a-37fe-421f-bbd5-10411272950b",
   "metadata": {},
   "outputs": [],
   "source": [
<<<<<<< Updated upstream
    "hmda_df['income'].replace('NA', np.nan, inplace=True)"
=======
    "#Method of trying to take out NA values, if it works can apply to prop value as well\n",
    "#hmda_df['income'].replace('NA', np.nan, inplace=True)"
>>>>>>> Stashed changes
   ]
  },
  {
   "cell_type": "raw",
   "id": "f65037dd-b435-46d0-9287-3851bdbaee21",
   "metadata": {},
   "source": [
    "#Leave as raw code\n",
    "profile = pandas_profiling.ProfileReport(hmda_df)\n",
    "profile.to_notebook_iframe()\n",
    "profile.to_file(\"hmda_data_profile.html\")"
   ]
  },
  {
   "cell_type": "code",
<<<<<<< Updated upstream
   "execution_count": 26,
   "id": "11e390dd-9fe1-4e0b-bf06-828dd04fd5cf",
   "metadata": {},
   "outputs": [
    {
     "ename": "TypeError",
     "evalue": "func is expected but received bool in **kwargs.",
     "output_type": "error",
     "traceback": [
      "\u001b[0;31m---------------------------------------------------------------------------\u001b[0m",
      "\u001b[0;31mTypeError\u001b[0m                                 Traceback (most recent call last)",
      "\u001b[0;32m<ipython-input-26-005b36bc5f20>\u001b[0m in \u001b[0;36m<module>\u001b[0;34m\u001b[0m\n\u001b[1;32m     63\u001b[0m )\n\u001b[1;32m     64\u001b[0m \u001b[0;31m# Aggregate income\u001b[0m\u001b[0;34m\u001b[0m\u001b[0;34m\u001b[0m\u001b[0;34m\u001b[0m\u001b[0m\n\u001b[0;32m---> 65\u001b[0;31m income_agg = hmda_df.groupby(['lei', 'census_tract'])['income'].agg(\n\u001b[0m\u001b[1;32m     66\u001b[0m     \u001b[0mincome_mean\u001b[0m\u001b[0;34m=\u001b[0m\u001b[0;34m'mean'\u001b[0m\u001b[0;34m,\u001b[0m \u001b[0mskipna\u001b[0m\u001b[0;34m=\u001b[0m\u001b[0;32mTrue\u001b[0m\u001b[0;34m\u001b[0m\u001b[0;34m\u001b[0m\u001b[0m\n\u001b[1;32m     67\u001b[0m )    \n",
      "\u001b[0;32m~/opt/anaconda3/lib/python3.8/site-packages/pandas/core/groupby/generic.py\u001b[0m in \u001b[0;36maggregate\u001b[0;34m(self, func, engine, engine_kwargs, *args, **kwargs)\u001b[0m\n\u001b[1;32m    235\u001b[0m         \u001b[0mcolumns\u001b[0m \u001b[0;34m=\u001b[0m \u001b[0;32mNone\u001b[0m\u001b[0;34m\u001b[0m\u001b[0;34m\u001b[0m\u001b[0m\n\u001b[1;32m    236\u001b[0m         \u001b[0;32mif\u001b[0m \u001b[0mrelabeling\u001b[0m\u001b[0;34m:\u001b[0m\u001b[0;34m\u001b[0m\u001b[0;34m\u001b[0m\u001b[0m\n\u001b[0;32m--> 237\u001b[0;31m             \u001b[0mcolumns\u001b[0m\u001b[0;34m,\u001b[0m \u001b[0mfunc\u001b[0m \u001b[0;34m=\u001b[0m \u001b[0mvalidate_func_kwargs\u001b[0m\u001b[0;34m(\u001b[0m\u001b[0mkwargs\u001b[0m\u001b[0;34m)\u001b[0m\u001b[0;34m\u001b[0m\u001b[0;34m\u001b[0m\u001b[0m\n\u001b[0m\u001b[1;32m    238\u001b[0m             \u001b[0mkwargs\u001b[0m \u001b[0;34m=\u001b[0m \u001b[0;34m{\u001b[0m\u001b[0;34m}\u001b[0m\u001b[0;34m\u001b[0m\u001b[0;34m\u001b[0m\u001b[0m\n\u001b[1;32m    239\u001b[0m \u001b[0;34m\u001b[0m\u001b[0m\n",
      "\u001b[0;32m~/opt/anaconda3/lib/python3.8/site-packages/pandas/core/aggregation.py\u001b[0m in \u001b[0;36mvalidate_func_kwargs\u001b[0;34m(kwargs)\u001b[0m\n\u001b[1;32m    394\u001b[0m     \u001b[0;32mfor\u001b[0m \u001b[0mcol_func\u001b[0m \u001b[0;32min\u001b[0m \u001b[0mkwargs\u001b[0m\u001b[0;34m.\u001b[0m\u001b[0mvalues\u001b[0m\u001b[0;34m(\u001b[0m\u001b[0;34m)\u001b[0m\u001b[0;34m:\u001b[0m\u001b[0;34m\u001b[0m\u001b[0;34m\u001b[0m\u001b[0m\n\u001b[1;32m    395\u001b[0m         \u001b[0;32mif\u001b[0m \u001b[0;32mnot\u001b[0m \u001b[0;34m(\u001b[0m\u001b[0misinstance\u001b[0m\u001b[0;34m(\u001b[0m\u001b[0mcol_func\u001b[0m\u001b[0;34m,\u001b[0m \u001b[0mstr\u001b[0m\u001b[0;34m)\u001b[0m \u001b[0;32mor\u001b[0m \u001b[0mcallable\u001b[0m\u001b[0;34m(\u001b[0m\u001b[0mcol_func\u001b[0m\u001b[0;34m)\u001b[0m\u001b[0;34m)\u001b[0m\u001b[0;34m:\u001b[0m\u001b[0;34m\u001b[0m\u001b[0;34m\u001b[0m\u001b[0m\n\u001b[0;32m--> 396\u001b[0;31m             \u001b[0;32mraise\u001b[0m \u001b[0mTypeError\u001b[0m\u001b[0;34m(\u001b[0m\u001b[0mtuple_given_message\u001b[0m\u001b[0;34m.\u001b[0m\u001b[0mformat\u001b[0m\u001b[0;34m(\u001b[0m\u001b[0mtype\u001b[0m\u001b[0;34m(\u001b[0m\u001b[0mcol_func\u001b[0m\u001b[0;34m)\u001b[0m\u001b[0;34m.\u001b[0m\u001b[0m__name__\u001b[0m\u001b[0;34m)\u001b[0m\u001b[0;34m)\u001b[0m\u001b[0;34m\u001b[0m\u001b[0;34m\u001b[0m\u001b[0m\n\u001b[0m\u001b[1;32m    397\u001b[0m         \u001b[0mfunc\u001b[0m\u001b[0;34m.\u001b[0m\u001b[0mappend\u001b[0m\u001b[0;34m(\u001b[0m\u001b[0mcol_func\u001b[0m\u001b[0;34m)\u001b[0m\u001b[0;34m\u001b[0m\u001b[0;34m\u001b[0m\u001b[0m\n\u001b[1;32m    398\u001b[0m     \u001b[0;32mif\u001b[0m \u001b[0;32mnot\u001b[0m \u001b[0mcolumns\u001b[0m\u001b[0;34m:\u001b[0m\u001b[0;34m\u001b[0m\u001b[0;34m\u001b[0m\u001b[0m\n",
      "\u001b[0;31mTypeError\u001b[0m: func is expected but received bool in **kwargs."
     ]
    }
   ],
=======
   "execution_count": null,
   "id": "11e390dd-9fe1-4e0b-bf06-828dd04fd5cf",
   "metadata": {},
   "outputs": [],
>>>>>>> Stashed changes
   "source": [
    "#hmda_df.groupby(['lei','census_tract'])['derived_ethnicity'].count()\n",
    "#for Categorical variables do rate \n",
    "# Aggregate loan_amount #Chatgpt\n",
    "loan_agg = hmda_df.groupby(['lei', 'census_tract'])['loan_amount'].agg(\n",
    "    loan_count='count',\n",
    "    loan_amount_sum='sum',\n",
    "    loan_amount_mean='mean'\n",
    ")\n",
    "\n",
    "# Aggregate applicant_race-1\n",
    "#here x includes every race but 5 which is White\n",
    "#does not include multiple entries\n",
    "#not sure what to do about not provided or not applicable \n",
    "minority_agg = hmda_df.groupby(['lei', 'census_tract'])['applicant_race-1'].agg(\n",
    "    minority_percent=lambda x: (x != 5).mean() * 100\n",
    ")\n",
    "\n",
    "# Aggregate action_taken\n",
    "#3 is application denied\n",
    "denial_agg = hmda_df.groupby(['lei', 'census_tract'])['action_taken'].agg(\n",
    "    denial_rate=lambda x: (x == 3).mean() * 100\n",
    ")\n",
    "\n",
    "# Aggregate applicant_credit_score_type\n",
    "fico_agg = hmda_df.groupby(['lei', 'census_tract'])['applicant_credit_score_type'].agg(\n",
    "    fico_mean='mean'\n",
    ")\n",
    "# Aggregate applicant_ethnicity_observed\n",
    "#Visually is 1\n",
    "eth_obs_agg = hmda_df.groupby(['lei', 'census_tract'])['applicant_ethnicity_observed'].agg(\n",
    "    race_eth_rate=lambda x: (x == 1).mean() * 100\n",
    ")\n",
    "# Aggregate co-applicant_ethnicity_observed\n",
    "#Visually is 1\n",
    "# 3 is NA and 4 is not co-applicant\n",
    "coeth_obs_agg = hmda_df.groupby(['lei', 'census_tract'])['co-applicant_ethnicity_observed'].agg(\n",
    "    coeth_obs_rate=lambda x: (x == 1).mean() * 100\n",
    ")\n",
    "# Aggregate applicant_race_observed\n",
    "#Visually is 1\n",
    "race_obs_agg = hmda_df.groupby(['lei', 'census_tract'])['applicant_race_observed'].agg(\n",
    "    race_obs_rate=lambda x: (x == 1).mean() * 100\n",
    ")\n",
    "# Aggregate co-applicant_ethnicity_observed\n",
    "#Visually is 1\n",
    "# 3 is NA and 4 is not co-applicant\n",
    "corace_obs_agg = hmda_df.groupby(['lei', 'census_tract'])['co-applicant_race_observed'].agg(\n",
    "    corace_obs_rate=lambda x: (x == 1).mean() * 100\n",
    ")\n",
    "# Aggregate applicant_sex\n",
    "#1 male\n",
    "#not sure if i should take out info not provided, or na\n",
    "#rate for loans that are not male\n",
    "sex_agg = hmda_df.groupby(['lei', 'census_tract'])['applicant_sex'].agg(\n",
    "    sex_rate=lambda x: (x != 1).mean() * 100\n",
    ")\n",
    "# Aggregate co-applicant_sex\n",
    "#1 male\n",
    "#not sure if i should take out info not provided, or na\n",
    "#rate for loans that are not male\n",
    "cosex_agg = hmda_df.groupby(['lei', 'census_tract'])['co-applicant_sex'].agg(\n",
    "    cosex_rate=lambda x: (x != 1).mean() * 100\n",
    ")\n",
<<<<<<< Updated upstream
    "# Aggregate income\n",
    "income_agg = hmda_df.groupby(['lei', 'census_tract'])['income'].agg(\n",
    "    income_mean='mean', skipna=True\n",
    ")    \n",
=======
    "#ARE NA VALUES MESSING UP MEAN\n",
    "# Aggregate income\n",
    "income_agg = hmda_df.groupby(['lei', 'census_tract'])['income'].agg(\n",
    "    income_mean='mean'#, skipna=True\n",
    ")    \n",
    "\n",
    "# Aggregate interest_rate \n",
    "interest_rate_agg = hmda_df.groupby(['lei', 'census_tract'])['interest_rate'].agg(\n",
    "    interest_rate_mean='mean'\n",
    ")\n",
    "# tract_minority_population_percent I WANT TO INCLUDE THIS.\n",
    "#tract_minority_population_percent = hmda_df.groupby(['lei', 'census_tract'])['tract_minority_population_percent']\n",
>>>>>>> Stashed changes
    "# Combine aggregated dataframes\n",
    "\n",
    "result = loan_agg.merge(minority_agg, left_index=True, right_index=True) \\\n",
    "    .merge(denial_agg, left_index=True, right_index=True) \\\n",
    "    .merge(fico_agg, left_index=True, right_index=True) \\\n",
    "    .merge(eth_obs_agg, left_index=True, right_index=True) \\\n",
    "    .merge(coeth_obs_agg, left_index=True, right_index=True) \\\n",
    "    .merge(race_obs_agg, left_index=True, right_index=True) \\\n",
    "    .merge(corace_obs_agg, left_index=True, right_index=True) \\\n",
    "    .merge(sex_agg, left_index=True, right_index=True) \\\n",
    "    .merge(cosex_agg, left_index=True, right_index=True)\n",
    "\n",
<<<<<<< Updated upstream
    "result = result.merge(income_agg, left_index=True, right_index=True)\n"
=======
    "result = result.merge(income_agg, left_index=True, right_index=True) \\\n",
    "    .merge(property_value_agg, left_index=True, right_index=True) \\\n",
    "    .merge(interest_rate_agg, left_index=True, right_index=True) #\\\n",
    "    #.merge(tract_minority_population_percent, left_index=True, right_index=True) \n"
>>>>>>> Stashed changes
   ]
  },
  {
   "cell_type": "raw",
   "id": "d29b2245-4c8e-4f9b-bf86-e62c3e78b80d",
   "metadata": {},
   "source": [
    "hmda_df.groupby(['lei','census_tract']).agg({\n",
    "    'loan_amount': {\n",
    "        'loan_count': 'count',\n",
    "        'loan_amount_sum': 'sum',\n",
    "        'loan_amount_mean': 'mean'\n",
    "    },\n",
    "    'applicant_race-1': {\n",
    "        'race_counts': 'value_counts'\n",
    "    },\n",
    "    'action_taken': {\n",
    "        'denial_count': lambda x: x[x==3].count(),\n",
    "        'denial_rate': lambda x: x[x==3].count() / x.count()\n",
    "    },\n",
    "    'applicant_credit_score_type': {\n",
    "        'credit_counts': 'value_counts'\n",
    "    }\n",
    "})"
   ]
  },
  {
   "cell_type": "code",
<<<<<<< Updated upstream
   "execution_count": 20,
=======
   "execution_count": 11,
>>>>>>> Stashed changes
   "id": "cb92f87c-d868-4ead-bbcf-65b4b6eb29dc",
   "metadata": {},
   "outputs": [
    {
     "data": {
      "text/html": [
       "<div>\n",
       "<style scoped>\n",
       "    .dataframe tbody tr th:only-of-type {\n",
       "        vertical-align: middle;\n",
       "    }\n",
       "\n",
       "    .dataframe tbody tr th {\n",
       "        vertical-align: top;\n",
       "    }\n",
       "\n",
       "    .dataframe thead th {\n",
       "        text-align: right;\n",
       "    }\n",
       "</style>\n",
       "<table border=\"1\" class=\"dataframe\">\n",
       "  <thead>\n",
       "    <tr style=\"text-align: right;\">\n",
       "      <th></th>\n",
       "      <th></th>\n",
       "      <th>loan_count</th>\n",
       "      <th>loan_amount_sum</th>\n",
       "      <th>loan_amount_mean</th>\n",
       "      <th>minority_percent</th>\n",
       "      <th>denial_rate</th>\n",
       "      <th>fico_mean</th>\n",
       "      <th>race_eth_rate</th>\n",
       "      <th>coeth_obs_rate</th>\n",
       "      <th>race_obs_rate</th>\n",
       "      <th>corace_obs_rate</th>\n",
       "      <th>sex_rate</th>\n",
       "      <th>cosex_rate</th>\n",
       "      <th>income_mean</th>\n",
<<<<<<< Updated upstream
=======
       "      <th>property_value_mean</th>\n",
       "      <th>interest_rate_mean</th>\n",
>>>>>>> Stashed changes
       "    </tr>\n",
       "    <tr>\n",
       "      <th>lei</th>\n",
       "      <th>census_tract</th>\n",
       "      <th></th>\n",
       "      <th></th>\n",
       "      <th></th>\n",
       "      <th></th>\n",
       "      <th></th>\n",
       "      <th></th>\n",
       "      <th></th>\n",
       "      <th></th>\n",
       "      <th></th>\n",
       "      <th></th>\n",
       "      <th></th>\n",
       "      <th></th>\n",
       "      <th></th>\n",
<<<<<<< Updated upstream
=======
       "      <th></th>\n",
       "      <th></th>\n",
>>>>>>> Stashed changes
       "    </tr>\n",
       "  </thead>\n",
       "  <tbody>\n",
       "    <tr>\n",
       "      <th rowspan=\"5\" valign=\"top\">3Y4U8VZURTYWI1W2K376</th>\n",
       "      <th>6001400100</th>\n",
       "      <td>1</td>\n",
       "      <td>1065000.0</td>\n",
       "      <td>1065000.0</td>\n",
       "      <td>100.0</td>\n",
       "      <td>0.0</td>\n",
       "      <td>9.0</td>\n",
       "      <td>0.0</td>\n",
       "      <td>0.0</td>\n",
       "      <td>0.0</td>\n",
       "      <td>0.0</td>\n",
       "      <td>100.0</td>\n",
       "      <td>100.0</td>\n",
       "      <td>NaN</td>\n",
<<<<<<< Updated upstream
=======
       "      <td>1335000.0</td>\n",
       "      <td>2.875</td>\n",
>>>>>>> Stashed changes
       "    </tr>\n",
       "    <tr>\n",
       "      <th>6001400700</th>\n",
       "      <td>1</td>\n",
       "      <td>825000.0</td>\n",
       "      <td>825000.0</td>\n",
       "      <td>100.0</td>\n",
       "      <td>0.0</td>\n",
       "      <td>9.0</td>\n",
       "      <td>0.0</td>\n",
       "      <td>0.0</td>\n",
       "      <td>0.0</td>\n",
       "      <td>0.0</td>\n",
       "      <td>100.0</td>\n",
       "      <td>100.0</td>\n",
       "      <td>NaN</td>\n",
<<<<<<< Updated upstream
=======
       "      <td>1285000.0</td>\n",
       "      <td>2.750</td>\n",
>>>>>>> Stashed changes
       "    </tr>\n",
       "    <tr>\n",
       "      <th>6001401000</th>\n",
       "      <td>1</td>\n",
       "      <td>885000.0</td>\n",
       "      <td>885000.0</td>\n",
       "      <td>100.0</td>\n",
       "      <td>0.0</td>\n",
       "      <td>9.0</td>\n",
       "      <td>0.0</td>\n",
       "      <td>0.0</td>\n",
       "      <td>0.0</td>\n",
       "      <td>0.0</td>\n",
       "      <td>100.0</td>\n",
       "      <td>100.0</td>\n",
       "      <td>NaN</td>\n",
<<<<<<< Updated upstream
=======
       "      <td>1115000.0</td>\n",
       "      <td>2.500</td>\n",
>>>>>>> Stashed changes
       "    </tr>\n",
       "    <tr>\n",
       "      <th>6001403800</th>\n",
       "      <td>1</td>\n",
       "      <td>1075000.0</td>\n",
       "      <td>1075000.0</td>\n",
       "      <td>100.0</td>\n",
       "      <td>0.0</td>\n",
       "      <td>9.0</td>\n",
       "      <td>0.0</td>\n",
       "      <td>0.0</td>\n",
       "      <td>0.0</td>\n",
       "      <td>0.0</td>\n",
       "      <td>100.0</td>\n",
       "      <td>100.0</td>\n",
       "      <td>NaN</td>\n",
<<<<<<< Updated upstream
=======
       "      <td>2105000.0</td>\n",
       "      <td>2.625</td>\n",
>>>>>>> Stashed changes
       "    </tr>\n",
       "    <tr>\n",
       "      <th>6001403900</th>\n",
       "      <td>1</td>\n",
       "      <td>285000.0</td>\n",
       "      <td>285000.0</td>\n",
       "      <td>0.0</td>\n",
       "      <td>0.0</td>\n",
       "      <td>8.0</td>\n",
       "      <td>0.0</td>\n",
       "      <td>0.0</td>\n",
       "      <td>0.0</td>\n",
       "      <td>0.0</td>\n",
       "      <td>0.0</td>\n",
       "      <td>100.0</td>\n",
       "      <td>295.0</td>\n",
<<<<<<< Updated upstream
=======
       "      <td>1725000.0</td>\n",
       "      <td>4.250</td>\n",
>>>>>>> Stashed changes
       "    </tr>\n",
       "  </tbody>\n",
       "</table>\n",
       "</div>"
      ],
      "text/plain": [
       "                                   loan_count  loan_amount_sum  \\\n",
       "lei                  census_tract                                \n",
       "3Y4U8VZURTYWI1W2K376 6001400100             1        1065000.0   \n",
       "                     6001400700             1         825000.0   \n",
       "                     6001401000             1         885000.0   \n",
       "                     6001403800             1        1075000.0   \n",
       "                     6001403900             1         285000.0   \n",
       "\n",
       "                                   loan_amount_mean  minority_percent  \\\n",
       "lei                  census_tract                                       \n",
       "3Y4U8VZURTYWI1W2K376 6001400100           1065000.0             100.0   \n",
       "                     6001400700            825000.0             100.0   \n",
       "                     6001401000            885000.0             100.0   \n",
       "                     6001403800           1075000.0             100.0   \n",
       "                     6001403900            285000.0               0.0   \n",
       "\n",
       "                                   denial_rate  fico_mean  race_eth_rate  \\\n",
       "lei                  census_tract                                          \n",
       "3Y4U8VZURTYWI1W2K376 6001400100            0.0        9.0            0.0   \n",
       "                     6001400700            0.0        9.0            0.0   \n",
       "                     6001401000            0.0        9.0            0.0   \n",
       "                     6001403800            0.0        9.0            0.0   \n",
       "                     6001403900            0.0        8.0            0.0   \n",
       "\n",
       "                                   coeth_obs_rate  race_obs_rate  \\\n",
       "lei                  census_tract                                  \n",
       "3Y4U8VZURTYWI1W2K376 6001400100               0.0            0.0   \n",
       "                     6001400700               0.0            0.0   \n",
       "                     6001401000               0.0            0.0   \n",
       "                     6001403800               0.0            0.0   \n",
       "                     6001403900               0.0            0.0   \n",
       "\n",
       "                                   corace_obs_rate  sex_rate  cosex_rate  \\\n",
       "lei                  census_tract                                          \n",
       "3Y4U8VZURTYWI1W2K376 6001400100                0.0     100.0       100.0   \n",
       "                     6001400700                0.0     100.0       100.0   \n",
       "                     6001401000                0.0     100.0       100.0   \n",
       "                     6001403800                0.0     100.0       100.0   \n",
       "                     6001403900                0.0       0.0       100.0   \n",
       "\n",
<<<<<<< Updated upstream
       "                                   income_mean  \n",
       "lei                  census_tract               \n",
       "3Y4U8VZURTYWI1W2K376 6001400100            NaN  \n",
       "                     6001400700            NaN  \n",
       "                     6001401000            NaN  \n",
       "                     6001403800            NaN  \n",
       "                     6001403900          295.0  "
      ]
     },
     "execution_count": 20,
=======
       "                                   income_mean  property_value_mean  \\\n",
       "lei                  census_tract                                     \n",
       "3Y4U8VZURTYWI1W2K376 6001400100            NaN            1335000.0   \n",
       "                     6001400700            NaN            1285000.0   \n",
       "                     6001401000            NaN            1115000.0   \n",
       "                     6001403800            NaN            2105000.0   \n",
       "                     6001403900          295.0            1725000.0   \n",
       "\n",
       "                                   interest_rate_mean  \n",
       "lei                  census_tract                      \n",
       "3Y4U8VZURTYWI1W2K376 6001400100                 2.875  \n",
       "                     6001400700                 2.750  \n",
       "                     6001401000                 2.500  \n",
       "                     6001403800                 2.625  \n",
       "                     6001403900                 4.250  "
      ]
     },
     "execution_count": 11,
>>>>>>> Stashed changes
     "metadata": {},
     "output_type": "execute_result"
    }
   ],
   "source": [
    "result.head()"
   ]
  },
  {
   "cell_type": "code",
<<<<<<< Updated upstream
   "execution_count": 8,
=======
   "execution_count": 12,
>>>>>>> Stashed changes
   "id": "bee93e0f-f4b7-4d0c-8316-1405336c16c4",
   "metadata": {},
   "outputs": [
    {
     "data": {
      "text/html": [
       "<div>\n",
       "<style scoped>\n",
       "    .dataframe tbody tr th:only-of-type {\n",
       "        vertical-align: middle;\n",
       "    }\n",
       "\n",
       "    .dataframe tbody tr th {\n",
       "        vertical-align: top;\n",
       "    }\n",
       "\n",
       "    .dataframe thead th {\n",
       "        text-align: right;\n",
       "    }\n",
       "</style>\n",
       "<table border=\"1\" class=\"dataframe\">\n",
       "  <thead>\n",
       "    <tr style=\"text-align: right;\">\n",
       "      <th></th>\n",
       "      <th>loan_count</th>\n",
       "      <th>loan_amount_sum</th>\n",
       "      <th>loan_amount_mean</th>\n",
       "      <th>minority_percent</th>\n",
       "      <th>denial_rate</th>\n",
       "      <th>fico_mean</th>\n",
       "      <th>race_eth_rate</th>\n",
       "      <th>coeth_obs_rate</th>\n",
       "      <th>race_obs_rate</th>\n",
       "      <th>corace_obs_rate</th>\n",
       "      <th>sex_rate</th>\n",
       "      <th>cosex_rate</th>\n",
<<<<<<< Updated upstream
=======
       "      <th>income_mean</th>\n",
       "      <th>property_value_mean</th>\n",
       "      <th>interest_rate_mean</th>\n",
>>>>>>> Stashed changes
       "    </tr>\n",
       "  </thead>\n",
       "  <tbody>\n",
       "    <tr>\n",
       "      <th>count</th>\n",
       "      <td>5839.000000</td>\n",
       "      <td>5.839000e+03</td>\n",
       "      <td>5.839000e+03</td>\n",
       "      <td>5839.000000</td>\n",
       "      <td>5839.000000</td>\n",
       "      <td>5839.000000</td>\n",
       "      <td>5839.000000</td>\n",
       "      <td>5839.000000</td>\n",
       "      <td>5839.000000</td>\n",
       "      <td>5839.000000</td>\n",
       "      <td>5839.000000</td>\n",
       "      <td>5839.000000</td>\n",
<<<<<<< Updated upstream
=======
       "      <td>5.234000e+03</td>\n",
       "      <td>5.392000e+03</td>\n",
       "      <td>4897.000000</td>\n",
>>>>>>> Stashed changes
       "    </tr>\n",
       "    <tr>\n",
       "      <th>mean</th>\n",
       "      <td>3.289604</td>\n",
       "      <td>1.778503e+06</td>\n",
       "      <td>4.856810e+05</td>\n",
       "      <td>56.236427</td>\n",
       "      <td>25.140460</td>\n",
       "      <td>6.676132</td>\n",
       "      <td>0.385033</td>\n",
       "      <td>0.215154</td>\n",
       "      <td>0.402159</td>\n",
       "      <td>0.232280</td>\n",
       "      <td>47.068471</td>\n",
       "      <td>91.274974</td>\n",
<<<<<<< Updated upstream
=======
       "      <td>5.364645e+02</td>\n",
       "      <td>1.202103e+06</td>\n",
       "      <td>3.321353</td>\n",
>>>>>>> Stashed changes
       "    </tr>\n",
       "    <tr>\n",
       "      <th>std</th>\n",
       "      <td>3.403223</td>\n",
       "      <td>3.426860e+06</td>\n",
       "      <td>7.188427e+05</td>\n",
       "      <td>40.851443</td>\n",
       "      <td>32.387484</td>\n",
       "      <td>2.312374</td>\n",
       "      <td>4.279456</td>\n",
       "      <td>3.284348</td>\n",
       "      <td>4.473609</td>\n",
       "      <td>3.534429</td>\n",
       "      <td>40.200418</td>\n",
       "      <td>21.170048</td>\n",
<<<<<<< Updated upstream
=======
       "      <td>2.212091e+04</td>\n",
       "      <td>1.784408e+06</td>\n",
       "      <td>0.647472</td>\n",
>>>>>>> Stashed changes
       "    </tr>\n",
       "    <tr>\n",
       "      <th>min</th>\n",
       "      <td>1.000000</td>\n",
       "      <td>1.500000e+04</td>\n",
       "      <td>1.500000e+04</td>\n",
       "      <td>0.000000</td>\n",
       "      <td>0.000000</td>\n",
       "      <td>1.000000</td>\n",
       "      <td>0.000000</td>\n",
       "      <td>0.000000</td>\n",
       "      <td>0.000000</td>\n",
       "      <td>0.000000</td>\n",
       "      <td>0.000000</td>\n",
       "      <td>0.000000</td>\n",
<<<<<<< Updated upstream
=======
       "      <td>-1.541100e+04</td>\n",
       "      <td>6.500000e+04</td>\n",
       "      <td>1.583000</td>\n",
>>>>>>> Stashed changes
       "    </tr>\n",
       "    <tr>\n",
       "      <th>25%</th>\n",
       "      <td>1.000000</td>\n",
       "      <td>3.250000e+05</td>\n",
       "      <td>2.050000e+05</td>\n",
       "      <td>11.111111</td>\n",
       "      <td>0.000000</td>\n",
       "      <td>5.285714</td>\n",
       "      <td>0.000000</td>\n",
       "      <td>0.000000</td>\n",
       "      <td>0.000000</td>\n",
       "      <td>0.000000</td>\n",
       "      <td>0.000000</td>\n",
       "      <td>100.000000</td>\n",
<<<<<<< Updated upstream
=======
       "      <td>9.356944e+01</td>\n",
       "      <td>5.650000e+05</td>\n",
       "      <td>2.875000</td>\n",
>>>>>>> Stashed changes
       "    </tr>\n",
       "    <tr>\n",
       "      <th>50%</th>\n",
       "      <td>2.000000</td>\n",
       "      <td>7.900000e+05</td>\n",
       "      <td>3.270000e+05</td>\n",
       "      <td>58.823529</td>\n",
       "      <td>0.000000</td>\n",
       "      <td>7.400000</td>\n",
       "      <td>0.000000</td>\n",
       "      <td>0.000000</td>\n",
       "      <td>0.000000</td>\n",
       "      <td>0.000000</td>\n",
       "      <td>50.000000</td>\n",
       "      <td>100.000000</td>\n",
<<<<<<< Updated upstream
=======
       "      <td>1.540000e+02</td>\n",
       "      <td>8.930000e+05</td>\n",
       "      <td>3.125000</td>\n",
>>>>>>> Stashed changes
       "    </tr>\n",
       "    <tr>\n",
       "      <th>75%</th>\n",
       "      <td>4.000000</td>\n",
       "      <td>1.772500e+06</td>\n",
       "      <td>5.950000e+05</td>\n",
       "      <td>100.000000</td>\n",
       "      <td>50.000000</td>\n",
       "      <td>8.666667</td>\n",
       "      <td>0.000000</td>\n",
       "      <td>0.000000</td>\n",
       "      <td>0.000000</td>\n",
       "      <td>0.000000</td>\n",
       "      <td>100.000000</td>\n",
       "      <td>100.000000</td>\n",
<<<<<<< Updated upstream
=======
       "      <td>2.574821e+02</td>\n",
       "      <td>1.423750e+06</td>\n",
       "      <td>3.605000</td>\n",
>>>>>>> Stashed changes
       "    </tr>\n",
       "    <tr>\n",
       "      <th>max</th>\n",
       "      <td>46.000000</td>\n",
       "      <td>7.017000e+07</td>\n",
       "      <td>2.746500e+07</td>\n",
       "      <td>100.000000</td>\n",
       "      <td>100.000000</td>\n",
       "      <td>9.000000</td>\n",
       "      <td>100.000000</td>\n",
       "      <td>100.000000</td>\n",
       "      <td>100.000000</td>\n",
       "      <td>100.000000</td>\n",
       "      <td>100.000000</td>\n",
       "      <td>100.000000</td>\n",
<<<<<<< Updated upstream
=======
       "      <td>1.600000e+06</td>\n",
       "      <td>8.045500e+07</td>\n",
       "      <td>6.740000</td>\n",
>>>>>>> Stashed changes
       "    </tr>\n",
       "  </tbody>\n",
       "</table>\n",
       "</div>"
      ],
      "text/plain": [
       "        loan_count  loan_amount_sum  loan_amount_mean  minority_percent  \\\n",
       "count  5839.000000     5.839000e+03      5.839000e+03       5839.000000   \n",
       "mean      3.289604     1.778503e+06      4.856810e+05         56.236427   \n",
       "std       3.403223     3.426860e+06      7.188427e+05         40.851443   \n",
       "min       1.000000     1.500000e+04      1.500000e+04          0.000000   \n",
       "25%       1.000000     3.250000e+05      2.050000e+05         11.111111   \n",
       "50%       2.000000     7.900000e+05      3.270000e+05         58.823529   \n",
       "75%       4.000000     1.772500e+06      5.950000e+05        100.000000   \n",
       "max      46.000000     7.017000e+07      2.746500e+07        100.000000   \n",
       "\n",
       "       denial_rate    fico_mean  race_eth_rate  coeth_obs_rate  race_obs_rate  \\\n",
       "count  5839.000000  5839.000000    5839.000000     5839.000000    5839.000000   \n",
       "mean     25.140460     6.676132       0.385033        0.215154       0.402159   \n",
       "std      32.387484     2.312374       4.279456        3.284348       4.473609   \n",
       "min       0.000000     1.000000       0.000000        0.000000       0.000000   \n",
       "25%       0.000000     5.285714       0.000000        0.000000       0.000000   \n",
       "50%       0.000000     7.400000       0.000000        0.000000       0.000000   \n",
       "75%      50.000000     8.666667       0.000000        0.000000       0.000000   \n",
       "max     100.000000     9.000000     100.000000      100.000000     100.000000   \n",
       "\n",
<<<<<<< Updated upstream
       "       corace_obs_rate     sex_rate   cosex_rate  \n",
       "count      5839.000000  5839.000000  5839.000000  \n",
       "mean          0.232280    47.068471    91.274974  \n",
       "std           3.534429    40.200418    21.170048  \n",
       "min           0.000000     0.000000     0.000000  \n",
       "25%           0.000000     0.000000   100.000000  \n",
       "50%           0.000000    50.000000   100.000000  \n",
       "75%           0.000000   100.000000   100.000000  \n",
       "max         100.000000   100.000000   100.000000  "
      ]
     },
     "execution_count": 8,
=======
       "       corace_obs_rate     sex_rate   cosex_rate   income_mean  \\\n",
       "count      5839.000000  5839.000000  5839.000000  5.234000e+03   \n",
       "mean          0.232280    47.068471    91.274974  5.364645e+02   \n",
       "std           3.534429    40.200418    21.170048  2.212091e+04   \n",
       "min           0.000000     0.000000     0.000000 -1.541100e+04   \n",
       "25%           0.000000     0.000000   100.000000  9.356944e+01   \n",
       "50%           0.000000    50.000000   100.000000  1.540000e+02   \n",
       "75%           0.000000   100.000000   100.000000  2.574821e+02   \n",
       "max         100.000000   100.000000   100.000000  1.600000e+06   \n",
       "\n",
       "       property_value_mean  interest_rate_mean  \n",
       "count         5.392000e+03         4897.000000  \n",
       "mean          1.202103e+06            3.321353  \n",
       "std           1.784408e+06            0.647472  \n",
       "min           6.500000e+04            1.583000  \n",
       "25%           5.650000e+05            2.875000  \n",
       "50%           8.930000e+05            3.125000  \n",
       "75%           1.423750e+06            3.605000  \n",
       "max           8.045500e+07            6.740000  "
      ]
     },
     "execution_count": 12,
>>>>>>> Stashed changes
     "metadata": {},
     "output_type": "execute_result"
    }
   ],
   "source": [
    "result.describe()"
   ]
  },
  {
   "cell_type": "code",
   "execution_count": null,
   "id": "70a6b811-eba9-4e01-af82-49e20a1d9d33",
   "metadata": {},
   "outputs": [],
   "source": []
  }
 ],
 "metadata": {
  "kernelspec": {
   "display_name": "Python 3",
   "language": "python",
   "name": "python3"
  },
  "language_info": {
   "codemirror_mode": {
    "name": "ipython",
    "version": 3
   },
   "file_extension": ".py",
   "mimetype": "text/x-python",
   "name": "python",
   "nbconvert_exporter": "python",
   "pygments_lexer": "ipython3",
   "version": "3.8.8"
  }
 },
 "nbformat": 4,
 "nbformat_minor": 5
}
