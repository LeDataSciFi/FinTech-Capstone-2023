{
 "cells": [
  {
   "cell_type": "markdown",
   "id": "22b9abbd-5687-4333-81d7-1c30d3b13a74",
   "metadata": {},
   "source": [
    "### Prep Datasets (cleaning census data and merge with hmda)"
   ]
  },
  {
   "cell_type": "code",
   "execution_count": null,
   "id": "19c84e2f-1238-48a6-bf24-c7373feb095d",
   "metadata": {},
   "outputs": [],
   "source": [
    "census = pd.read_csv('../input_data/census.csv')\n",
    "census[\"GEOID\"] = census[\"state\"] + census[\"county\"] + census[\"tract\"]\n",
    "census = census.drop(columns = [\"state\", \"county\", \"tract\"])\n",
    "census_clean = census.rename(columns = colNames)\n",
    "census_clean.to_csv('../input_data_clean/census_clean.csv')"
   ]
  },
  {
   "cell_type": "code",
   "execution_count": null,
   "id": "4c6a2dd5-1c5b-4fbe-9d29-c2734bbd1e80",
   "metadata": {},
   "outputs": [],
   "source": [
    "census_clean =  pd.read_csv('../input_data_clean/census_clean.csv')\n",
    "hmda_clean = pd.read_csv('../input_data_clean/hmda_clean.csv')\n",
    "census_clean.rename(columns={'GEOID':'census_tract'}, inplace=True)\n",
    "census_clean[\"census_tract\"] = census_clean[\"census_tract\"].astype(str)\n",
    "census_clean[\"census_tract\"] = census_clean[\"census_tract\"].str.lstrip('0')\n",
    "census_clean[\"census_tract\"] = census_clean[\"census_tract\"].astype(int)\n",
    "bank_tract_clean_WITH_CENSUS = census_clean.merge(hmda_clean, on = \"census_tract\", how = \"inner\")\n",
    "bank_tract_clean_WITH_CENSUS.to_csv('../input_data_clean/bank_tract_clean_WITH_CENSUS.csv')"
   ]
  }
 ],
 "metadata": {
  "kernelspec": {
   "display_name": "Python 3 (ipykernel)",
   "language": "python",
   "name": "python3"
  },
  "language_info": {
   "codemirror_mode": {
    "name": "ipython",
    "version": 3
   },
   "file_extension": ".py",
   "mimetype": "text/x-python",
   "name": "python",
   "nbconvert_exporter": "python",
   "pygments_lexer": "ipython3",
   "version": "3.9.15"
  }
 },
 "nbformat": 4,
 "nbformat_minor": 5
}
