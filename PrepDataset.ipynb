{
 "cells": [
  {
   "cell_type": "code",
   "execution_count": null,
   "id": "3d69809b-cfda-452b-8f9b-0031f4c81d2f",
   "metadata": {},
   "outputs": [],
   "source": [
    "import pandas as pd \n",
    "import pandas_profiling\n",
    "from pandas_profiling import ProfileReport\n",
    "import numpy as np"
   ]
  },
  {
   "cell_type": "code",
   "execution_count": null,
   "id": "ea389514-7912-471a-8e2e-99353304a6c1",
   "metadata": {},
   "outputs": [],
   "source": [
    "url = \"https://ffiec.cfpb.gov/file/modifiedLar/year/2021/institution/QOT5WN9RBKQTFRVKEV31/txt/header\"\n",
    "# reading HMDA's 2021 Modified Loan/Application Register (LAR) \n",
    "# Bank of the Wesk (LEI: QOT5WN9RBKQTFRVKEV31)\n",
    "\n",
    "# Read CSV file and keep the header\n",
    "df = pd.read_csv(url, sep='|', low_memory=False, header=0)\n",
    "\n",
    "# filter out rows where state_code is CA\n",
    "df = df[df['state_code'] == 'AZ']\n",
    "\n",
    "# Selecting a smaller dataset\n",
    "df1 = df[[\"census_tract\", \"loan_amount\"]]"
   ]
  },
  {
   "cell_type": "code",
   "execution_count": null,
   "id": "28000712-a23b-4657-877a-0e0c865dcb75",
   "metadata": {},
   "outputs": [],
   "source": [
    "import cenpy\n",
    "acs = cenpy.products.ACS(2019)\n",
    "az = acs.from_state('AZ',level='tract',variables=['B01002H_001E'])\n",
    "az.shape # of tracts\n",
    "\n",
    "#renaming the census variable for merging purposes\n",
    "az.rename(columns={'GEOID':'census_tract'}, inplace=True)\n",
    "az"
   ]
  },
  {
   "cell_type": "code",
   "execution_count": null,
   "id": "a1e97b01-5ee8-4f5a-a363-7084b1f82406",
   "metadata": {},
   "outputs": [],
   "source": [
    "# Making both census tract codes match by removing the leading '0' from ACS dataset\n",
    "az[\"census_tract\"] = az[\"census_tract\"].astype(str)\n",
    "az[\"census_tract\"] = az[\"census_tract\"].str.lstrip('0')\n",
    "az"
   ]
  },
  {
   "cell_type": "code",
   "execution_count": null,
   "id": "91bf038f-269b-41d7-bf68-5e99eb9e4c52",
   "metadata": {},
   "outputs": [],
   "source": [
    "# Converting the variable back to an int (it was a string above)\n",
    "az[\"census_tract\"] = az[\"census_tract\"].astype(int)"
   ]
  },
  {
   "cell_type": "code",
   "execution_count": null,
   "id": "17bc9e88-46b5-4b90-bbb3-0b0c913f9832",
   "metadata": {},
   "outputs": [],
   "source": [
    "#merging the dataset\n",
    "merge = az.merge(df1, on = \"census_tract\", how = \"inner\")"
   ]
  },
  {
   "cell_type": "code",
   "execution_count": null,
   "id": "77ffe3a6-572f-424b-aa95-bc461716316e",
   "metadata": {},
   "outputs": [],
   "source": [
    "#CLEAN DATA\n"
   ]
  },
  {
   "cell_type": "code",
   "execution_count": null,
   "id": "8eb1de12-fd9d-4b7d-84b1-c3bc1a638885",
   "metadata": {},
   "outputs": [],
   "source": [
    "bank_tract = merge.groupby(['lei', 'census_tract'])"
   ]
  },
  {
   "cell_type": "code",
   "execution_count": null,
   "id": "b2b006c7-b433-4461-a193-6c3b96364d76",
   "metadata": {},
   "outputs": [],
   "source": [
    "df = pd.DataFrame(bank_tract)\n",
    "df.to_csv('data_outputs/bank_tract.csv', index=False)"
   ]
  }
 ],
 "metadata": {
  "kernelspec": {
   "display_name": "Python 3 (ipykernel)",
   "language": "python",
   "name": "python3"
  },
  "language_info": {
   "codemirror_mode": {
    "name": "ipython",
    "version": 3
   },
   "file_extension": ".py",
   "mimetype": "text/x-python",
   "name": "python",
   "nbconvert_exporter": "python",
   "pygments_lexer": "ipython3",
   "version": "3.9.13"
  }
 },
 "nbformat": 4,
 "nbformat_minor": 5
}
