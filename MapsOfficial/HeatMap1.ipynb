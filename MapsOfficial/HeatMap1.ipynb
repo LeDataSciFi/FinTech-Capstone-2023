{
 "cells": [
  {
   "cell_type": "code",
   "execution_count": 1,
   "id": "ec63984f-eca9-4263-ae72-b3df4edb1b9c",
   "metadata": {},
   "outputs": [],
   "source": [
    "import matplotlib.pyplot as plt\n",
    "from matplotlib  import rc\n",
    "import pandas as pd\n",
    "import geopandas as gpd\n",
    "import numpy as np\n",
    "import os\n",
    "import plotly.express as px\n",
    "from plotly import graph_objs as go\n"
   ]
  },
  {
   "cell_type": "code",
   "execution_count": 2,
   "id": "582ff350-2060-45a6-b30f-63ce90cbd775",
   "metadata": {},
   "outputs": [],
   "source": [
    "bank_tract = pd.read_csv('../input_data_clean/bank_tract_clean_WITH_CENSUS.csv')\n",
    "bank_tract['which_bank'] = bank_tract['which_bank'].str.replace(' ', '')\n",
    "\n",
    " # | (state == 18 & county in [97])"
   ]
  },
  {
   "cell_type": "code",
   "execution_count": 3,
   "id": "c96cb2a6-16f5-4892-8e2a-8a30d0645e2a",
   "metadata": {},
   "outputs": [
    {
     "name": "stderr",
     "output_type": "stream",
     "text": [
      "/var/folders/29/vl12lkgs28xgjpc6t0_jg9040000gn/T/ipykernel_8056/661397007.py:8: SettingWithCopyWarning: \n",
      "A value is trying to be set on a copy of a slice from a DataFrame.\n",
      "Try using .loc[row_indexer,col_indexer] = value instead\n",
      "\n",
      "See the caveats in the documentation: https://pandas.pydata.org/pandas-docs/stable/user_guide/indexing.html#returning-a-view-versus-a-copy\n",
      "  missing_tracts['which_bank'] = 'BankofWest'\n",
      "/var/folders/29/vl12lkgs28xgjpc6t0_jg9040000gn/T/ipykernel_8056/661397007.py:13: SettingWithCopyWarning: \n",
      "A value is trying to be set on a copy of a slice from a DataFrame.\n",
      "Try using .loc[row_indexer,col_indexer] = value instead\n",
      "\n",
      "See the caveats in the documentation: https://pandas.pydata.org/pandas-docs/stable/user_guide/indexing.html#returning-a-view-versus-a-copy\n",
      "  missing_tracts[bank_specific_vars] = np.NaN\n",
      "/var/folders/29/vl12lkgs28xgjpc6t0_jg9040000gn/T/ipykernel_8056/661397007.py:14: SettingWithCopyWarning: \n",
      "A value is trying to be set on a copy of a slice from a DataFrame.\n",
      "Try using .loc[row_indexer,col_indexer] = value instead\n",
      "\n",
      "See the caveats in the documentation: https://pandas.pydata.org/pandas-docs/stable/user_guide/indexing.html#returning-a-view-versus-a-copy\n",
      "  missing_tracts['log_num_apps'] = 0\n"
     ]
    },
    {
     "data": {
      "text/plain": [
       "BankofWest       9340\n",
       "AllOtherBanks    9337\n",
       "Name: which_bank, dtype: int64"
      ]
     },
     "execution_count": 3,
     "metadata": {},
     "output_type": "execute_result"
    }
   ],
   "source": [
    "# Create a copy of the original dataframe\n",
    "bank_tract_new = bank_tract.copy()\n",
    "\n",
    "# Find the census tracts that have AllOtherBanks but not BankofWest\n",
    "missing_tracts = bank_tract_new[(bank_tract_new['which_bank'] == 'AllOtherBanks') & ~(bank_tract_new['census_tract'].isin(bank_tract_new[bank_tract_new['which_bank'] == 'BankofWest']['census_tract']))]\n",
    "\n",
    "# Update which_bank column to BankofWest\n",
    "missing_tracts['which_bank'] = 'BankofWest'\n",
    "\n",
    "# Set bank specific variables to 0\n",
    "start_col = bank_tract.columns.get_loc('sum_approved_loans')\n",
    "bank_specific_vars = bank_tract.columns[start_col:]\n",
    "missing_tracts[bank_specific_vars] = np.NaN\n",
    "missing_tracts['log_num_apps'] = 0\n",
    "\n",
    "# Append the missing rows to the new dataframe\n",
    "bank_tract_new = pd.concat([bank_tract_new, missing_tracts], ignore_index=True)\n",
    "\n",
    "# Verify that there are now equal numbers of rows for each which_bank value\n",
    "bank_tract_new[\"which_bank\"].value_counts()"
   ]
  },
  {
   "cell_type": "code",
   "execution_count": 4,
   "id": "c0ca6d41-b5f1-4760-aa34-0005c24fabc9",
   "metadata": {},
   "outputs": [],
   "source": [
    "bank_tract = bank_tract_new\n"
   ]
  },
  {
   "cell_type": "code",
   "execution_count": 5,
   "id": "66ac0040-b4ff-4e77-9c00-291085446f01",
   "metadata": {},
   "outputs": [
    {
     "data": {
      "text/plain": [
       "BankofWest       9340\n",
       "AllOtherBanks    9337\n",
       "Name: which_bank, dtype: int64"
      ]
     },
     "execution_count": 5,
     "metadata": {},
     "output_type": "execute_result"
    }
   ],
   "source": [
    "bank_tract ['white_rate']        = (bank_tract ['WhitePop']) / bank_tract ['Tot.Pop'] * 100\n",
    "bank_tract ['majorityminority'] = bank_tract ['white_rate'] < 50\n",
    "\n",
    "# bank_tract = bank_tract.query('(state == 4 & county in [13,19]) | (state == 6 & county in [37,75, 81, 1,85])') # | (state == 18 & county in [97])\n",
    "bank_tract[\"which_bank\"].value_counts()"
   ]
  },
  {
   "cell_type": "code",
   "execution_count": 6,
   "id": "d018dfb9-4dbd-4d43-a7a9-391bd41fbbea",
   "metadata": {},
   "outputs": [],
   "source": [
    "grouped = bank_tract.groupby(['census_tract', 'which_bank']) \n",
    "denial_rates = grouped['denial_rate'].mean()\n",
    "\n",
    "bank_of_west = denial_rates.loc[(slice(None), 'BankofWest')]\n",
    "all_other_banks = denial_rates.loc[(slice(None), 'AllOtherBanks')]\n",
    "percent_difference = bank_of_west - all_other_banks\n",
    "\n",
    "df_percent_difference = pd.DataFrame({'census_tract': percent_difference.index.get_level_values(0), 'percent_difference': percent_difference.values})\n",
    "\n",
    "bank_tract = pd.merge(bank_tract, df_percent_difference, on='census_tract', how='left')\n"
   ]
  },
  {
   "cell_type": "code",
   "execution_count": 7,
   "id": "62d0d6e4-4bdf-4266-9c83-8ecd1ba8243b",
   "metadata": {},
   "outputs": [],
   "source": [
    "shape_az = gpd.read_file(\"https://www2.census.gov/geo/tiger/TIGER2020/TRACT/tl_2020_04_tract.zip\") #.to_crs(epsg=32617)\n",
    "shape_ca = gpd.read_file(\"https://www2.census.gov/geo/tiger/TIGER2020/TRACT/tl_2020_06_tract.zip\") #.to_crs(epsg=32617)\n",
    "# shape_in = gpd.read_file(\"https://www2.census.gov/geo/tiger/TIGER2020/TRACT/tl_2020_18_tract.zip\") #.to_crs(epsg=32617)\n",
    "\n",
    "shape_all = pd.concat([shape_az, shape_ca], ignore_index=True)\n",
    "shape_all['census_tract'] = shape_all['GEOID'].astype(np.int64)"
   ]
  },
  {
   "cell_type": "code",
   "execution_count": 8,
   "id": "c7f0df6c-fdf5-4171-81d9-12f6df635314",
   "metadata": {},
   "outputs": [],
   "source": [
    "tract_with_shape = shape_all.merge(bank_tract, how = 'inner', on = ['census_tract'],\n",
    "                                   indicator = True, validate= '1:m') "
   ]
  },
  {
   "cell_type": "code",
   "execution_count": null,
   "id": "5909b6db-c9c6-440c-9f4b-202cd06e6df7",
   "metadata": {},
   "outputs": [],
   "source": []
  },
  {
   "cell_type": "code",
   "execution_count": 9,
   "id": "59239b2d-800a-4d0f-96c7-ff88f54ec32a",
   "metadata": {},
   "outputs": [],
   "source": [
    "concerns = tract_with_shape.query('majorityminority').copy()\n",
    "# we need this for the \"area of concern\" red marks\n",
    "concerns['lon'] = concerns['INTPTLON'].astype(float)\n",
    "concerns['lat'] = concerns['INTPTLAT'].astype(float)"
   ]
  },
  {
   "cell_type": "code",
   "execution_count": 10,
   "id": "3be5a05b-305c-4996-86af-8b45757d2759",
   "metadata": {
    "tags": []
   },
   "outputs": [],
   "source": [
    "listofshading = ['percent_difference']"
   ]
  },
  {
   "cell_type": "code",
   "execution_count": 11,
   "id": "3c3770ee-59f1-402a-983b-5a9a13db36a9",
   "metadata": {},
   "outputs": [],
   "source": [
    "import plotly.colors as colors\n",
    "colorscale = colors.sequential.Greens[::-1] + colors.sequential.Reds\n",
    "\n",
    "for v in listofshading:\n",
    "\n",
    "    fig = px.choropleth_mapbox(tract_with_shape.set_index('GEOID'),\n",
    "                               geojson=tract_with_shape.geometry,\n",
    "                               locations=tract_with_shape.index,\n",
    "                               opacity=.7,\n",
    "                               color=v, color_continuous_scale=colorscale,\n",
    "                               center={\"lat\": 33.44, \"lon\": -112.074036},\n",
    "                               mapbox_style=\"open-street-map\",\n",
    "                               zoom=5)\n",
    "\n",
    "    fig.add_scattermapbox(\n",
    "        lat = concerns['lat'],\n",
    "        lon = concerns['lon'],\n",
    "        mode = 'markers',\n",
    "        marker_size=12,\n",
    "        marker_color='red'\n",
    "    )\n",
    "\n",
    "    fig.update_layout(\n",
    "        title=v,\n",
    "        autosize=False,\n",
    "        width=1000,\n",
    "        height=1000,\n",
    "        margin={\"r\":0,\"t\":0,\"l\":0,\"b\":0}\n",
    "    )\n",
    "    fig.write_html(f\"../images/plotly/{v}.html\")"
   ]
  },
  {
   "cell_type": "code",
   "execution_count": 12,
   "id": "fbbf098d-8fa0-495c-9609-04b7b994f521",
   "metadata": {},
   "outputs": [
    {
     "data": {
      "text/plain": [
       "BankofWest       9340\n",
       "AllOtherBanks    9337\n",
       "Name: which_bank, dtype: int64"
      ]
     },
     "execution_count": 12,
     "metadata": {},
     "output_type": "execute_result"
    }
   ],
   "source": [
    "bank_tract[\"which_bank\"].value_counts()"
   ]
  },
  {
   "cell_type": "code",
   "execution_count": null,
   "id": "6625551c-36c6-4369-ae3d-6075a9a9d6a6",
   "metadata": {},
   "outputs": [],
   "source": []
  },
  {
   "cell_type": "code",
   "execution_count": null,
   "id": "81db3998-e6b7-42b3-826c-0689b9e43730",
   "metadata": {},
   "outputs": [],
   "source": []
  }
 ],
 "metadata": {
  "kernelspec": {
   "display_name": "Python 3 (ipykernel)",
   "language": "python",
   "name": "python3"
  },
  "language_info": {
   "codemirror_mode": {
    "name": "ipython",
    "version": 3
   },
   "file_extension": ".py",
   "mimetype": "text/x-python",
   "name": "python",
   "nbconvert_exporter": "python",
   "pygments_lexer": "ipython3",
   "version": "3.9.13"
  }
 },
 "nbformat": 4,
 "nbformat_minor": 5
}
